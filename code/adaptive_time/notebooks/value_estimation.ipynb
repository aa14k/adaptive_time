{
 "cells": [
  {
   "cell_type": "markdown",
   "metadata": {},
   "source": [
    "# Value Estimation -- quadrature vs uniform"
   ]
  },
  {
   "cell_type": "code",
   "execution_count": 114,
   "metadata": {},
   "outputs": [
    {
     "name": "stderr",
     "output_type": "stream",
     "text": [
      "/Users/szepi1991/Code/adaptive_time/.venv/lib/python3.11/site-packages/gymnasium/envs/registration.py:694: UserWarning: \u001b[33mWARN: Overriding environment CartPole-OURS-v2 already in registry.\u001b[0m\n",
      "  logger.warn(f\"Overriding environment {new_spec.id} already in registry.\")\n"
     ]
    }
   ],
   "source": [
    "import math\n",
    "from importlib import reload\n",
    "\n",
    "import gc\n",
    "import matplotlib.pyplot as plt\n",
    "import pickle\n",
    "import numpy as np\n",
    "\n",
    "from tqdm.notebook import tqdm\n",
    "\n",
    "from adaptive_time import plot_utils\n",
    "from adaptive_time import utils\n",
    "from adaptive_time import run_lib\n",
    "from adaptive_time.environments import cartpole2\n",
    "from adaptive_time import value_est\n",
    "from adaptive_time.value_est import approx_integrators\n",
    "\n",
    "from pprint import pprint\n",
    "\n",
    "approx_integrators = reload(approx_integrators)\n",
    "run_lib = reload(run_lib)\n",
    "cartpole2 = reload(cartpole2)\n",
    "value_est = reload(value_est)\n",
    "plot_utils = reload(plot_utils)\n",
    "utils = reload(utils)"
   ]
  },
  {
   "cell_type": "markdown",
   "metadata": {},
   "source": [
    "Make this notebook configurable so we can quickly generate plots for multiple variants."
   ]
  },
  {
   "cell_type": "code",
   "execution_count": 2,
   "metadata": {},
   "outputs": [
    {
     "name": "stdout",
     "output_type": "stream",
     "text": [
      "Changed working directory to /Users/szepi1991/Code/adaptive_time\n"
     ]
    },
    {
     "data": {
      "text/plain": [
       "'/Users/szepi1991/Code/adaptive_time'"
      ]
     },
     "execution_count": 2,
     "metadata": {},
     "output_type": "execute_result"
    }
   ],
   "source": [
    "utils.set_directory_in_project()"
   ]
  },
  {
   "cell_type": "code",
   "execution_count": 3,
   "metadata": {},
   "outputs": [
    {
     "name": "stdout",
     "output_type": "stream",
     "text": [
      "False\n"
     ]
    }
   ],
   "source": [
    "# Execute the notebook with arguments; from\n",
    "# https://stackoverflow.com/a/48414195\n",
    "\n",
    "import sys,os,argparse\n",
    "from IPython.display import HTML\n",
    "CONFIG_FILE = '.tmp_config_ipynb'\n",
    "if os.path.isfile(CONFIG_FILE):\n",
    "    with open(CONFIG_FILE) as f:\n",
    "        sys.argv = f.read().split()\n",
    "else:\n",
    "    sys.argv = ['test_args.py', '--discrete_reward', 'True']\n",
    "    # sys.argv = ['test_args.py', 'input_file', '--int_param', '12']\n",
    "\n",
    "\n",
    "def str2bool(v):\n",
    "    \"\"\"From: https://stackoverflow.com/a/43357954 .\"\"\"\n",
    "    if isinstance(v, bool):\n",
    "        return v\n",
    "    if v.lower() in ('yes', 'true', 't', 'y', '1'):\n",
    "        return True\n",
    "    elif v.lower() in ('no', 'false', 'f', 'n', '0'):\n",
    "        return False\n",
    "    else:\n",
    "        raise argparse.ArgumentTypeError('Boolean value expected.')\n",
    "\n",
    "\n",
    "parser = argparse.ArgumentParser()\n",
    "parser.add_argument(\n",
    "    \"--generate_new_data\", type=str2bool, nargs='?', default=False,\n",
    "    help=\"If true, generate new trajectory data, else load from file.\")\n",
    "parser.add_argument(\n",
    "    \"--save_new_data\", type=str2bool, nargs='?', default=True,\n",
    "    help=\"If true, save the newly generated data a file.\")\n",
    "parser.add_argument(\n",
    "    \"--grab_detailed_data\", type=str2bool, nargs='?', default=False,\n",
    "    help=\"If true, save not just the reward sequences but states, actions, etc.\")\n",
    "\n",
    "\n",
    "parser.add_argument(\n",
    "    \"--discrete_reward\", type=str2bool, nargs='?', default=True,\n",
    "    help=\"Use the step function reward.\")\n",
    "parser.add_argument(\n",
    "    \"--terminate_env\", type=str2bool, nargs='?', default=False,\n",
    "    help=\"Whether to terminate the environment when the pole falls.\")\n",
    "\n",
    "\n",
    "parser.add_argument(\n",
    "    \"--num_runs\", type=int, default=30,\n",
    "    help=\"The number of independent runs per method.\")\n",
    "parser.add_argument(\n",
    "    \"--sample_budget\", type=int, default=1_000_000,\n",
    "    help=\"The number of total samples accessible to all methods.\")\n",
    "\n",
    "\n",
    "# parser.add_argument(\"input_file\",  help=\"Input image, directory, or npy.\")\n",
    "# parser.add_argument(\"--int_param\", type=int, default=4, help=\"an optional integer parameter.\")\n",
    "args = parser.parse_args()\n",
    "\n",
    "print(args.discrete_reward)\n"
   ]
  },
  {
   "cell_type": "markdown",
   "metadata": {},
   "source": [
    "## Use goodish policy, generate data to process\n",
    "\n",
    "Recall, we want:\n",
    "\n",
    "1. The policy to stay up for ~10k steps, while we interact for 20k steps.\n",
    "2. To generate trajectories from 100 different initial states.\n",
    "\n",
    "We just need to store the fine grained rewards for each of these trajectories, all processing will happen on this after. "
   ]
  },
  {
   "cell_type": "code",
   "execution_count": 48,
   "metadata": {},
   "outputs": [],
   "source": [
    "\n",
    "GENERATE_NEW_DATA = args.generate_new_data\n",
    "# GENERATE_NEW_DATA = False\n",
    "GENERATE_NEW_DATA = True\n",
    "\n",
    "SAVE_TRAJECTORIES = args.save_new_data\n",
    "# SAVE_TRAJECTORIES = False\n",
    "SAVE_TRAJECTORIES = True\n",
    "\n",
    "SHOULD_TERMINATE = args.terminate_env\n",
    "# SHOULD_TERMINATE = False\n",
    "SHOULD_TERMINATE = True\n",
    "\n",
    "discrete_reward = args.discrete_reward\n",
    "# discrete_reward = False\n",
    "discrete_reward = True\n",
    "\n",
    "\n",
    "GRAB_DETAILED_DATA = args.grab_detailed_data\n",
    "GRAB_DETAILED_DATA = False\n",
    "\n",
    "NUM_RUNS = args.num_runs\n",
    "SAMPLE_BUDGET = args.sample_budget\n",
    "\n",
    "NUM_RUNS = 100\n",
    "SAMPLE_BUDGET = 1_000_000\n",
    "\n",
    "BUDGET_INTERP_STEP = 1_000\n"
   ]
  },
  {
   "cell_type": "code",
   "execution_count": 49,
   "metadata": {},
   "outputs": [],
   "source": [
    "\n",
    "if discrete_reward:\n",
    "    reward_type = \"discrete\"\n",
    "else:\n",
    "    reward_type = \"continuous\"\n",
    "\n",
    "\n",
    "BASE_DIR = f\"results/cartpole2/rew_{reward_type}_term{SHOULD_TERMINATE}\"\n",
    "traj_data_file = f\"many_good_trajs.pkl\"\n",
    "procesed_data_file = f\"processed_data.pkl\"\n",
    "\n"
   ]
  },
  {
   "cell_type": "code",
   "execution_count": 194,
   "metadata": {},
   "outputs": [
    {
     "name": "stdout",
     "output_type": "stream",
     "text": [
      "Changed working directory to /Users/szepi1991/Code/adaptive_time/results/cartpole2/rew_discrete_termTrue\n",
      "Changed working directory to /Users/szepi1991/Code/adaptive_time\n",
      "shape (100, 4)\n",
      "max [0.01849613 0.03401106 0.01296042 0.00477349]\n"
     ]
    },
    {
     "data": {
      "application/vnd.jupyter.widget-view+json": {
       "model_id": "497b74e0d3f7474da4dfa6200e848f95",
       "version_major": 2,
       "version_minor": 0
      },
      "text/plain": [
       "  0%|          | 0/100 [00:00<?, ?it/s]"
      ]
     },
     "metadata": {},
     "output_type": "display_data"
    },
    {
     "name": "stderr",
     "output_type": "stream",
     "text": [
      "/Users/szepi1991/Code/adaptive_time/.venv/lib/python3.11/site-packages/gymnasium/utils/passive_env_checker.py:181: DeprecationWarning: \u001b[33mWARN: Current gymnasium version requires that `Env.reset` can be passed `options` to allow the environment initialisation to be passed additional information.\u001b[0m\n",
      "  logger.deprecation(\n",
      "/Users/szepi1991/Code/adaptive_time/.venv/lib/python3.11/site-packages/gymnasium/spaces/box.py:240: UserWarning: \u001b[33mWARN: Casting input x to numpy array.\u001b[0m\n",
      "  gym.logger.warn(\"Casting input x to numpy array.\")\n"
     ]
    },
    {
     "name": "stdout",
     "output_type": "stream",
     "text": [
      "Saved data to results/cartpole2/rew_discrete_termTrue/many_good_trajs.pkl\n",
      "0.0001\n",
      "total_rewards for each traj: [10723. 10708. 10726. 10715. 10713. 10716. 10736. 10717. 10724. 10731.\n",
      " 10725. 10725. 10718. 10713. 10719. 10742. 10723. 10726. 10731. 10727.\n",
      " 10728. 10738. 10738. 10707. 10733. 10734. 10735. 10729. 10718. 10723.\n",
      " 10718. 10724. 10724. 10723. 10718. 10727. 10724. 10717. 10726. 10724.\n",
      " 10731. 10725. 10728. 10716. 10725. 10728. 10719. 10719. 10734. 10722.\n",
      " 10725. 10715. 10732. 10732. 10736. 10719. 10715. 10721. 10730. 10730.\n",
      " 10731. 10720. 10723. 10730. 10721. 10716. 10729. 10720. 10741. 10709.\n",
      " 10727. 10708. 10723. 10722. 10716. 10714. 10728. 10723. 10707. 10728.\n",
      " 10708. 10718. 10728. 10716. 10713. 10715. 10725. 10730. 10729. 10720.\n",
      " 10718. 10722. 10724. 10731. 10723. 10730. 10735. 10722. 10713. 10706.]\n"
     ]
    },
    {
     "name": "stderr",
     "output_type": "stream",
     "text": [
      "/Users/szepi1991/Code/adaptive_time/.venv/lib/python3.11/site-packages/gymnasium/core.py:311: UserWarning: \u001b[33mWARN: env.tau to get variables from other wrappers is deprecated and will be removed in v1.0, to get this variable you can do `env.unwrapped.tau` for environment variables or `env.get_wrapper_attr('tau')` that will search the reminding wrappers.\u001b[0m\n",
      "  logger.warn(\n"
     ]
    }
   ],
   "source": [
    "utils.set_directory_in_project(BASE_DIR, create_dirs=True)  # Just to make the dir.\n",
    "utils.set_directory_in_project()\n",
    "traj_data_path = os.path.join(BASE_DIR, traj_data_file)\n",
    "\n",
    "gc.collect()\n",
    "\n",
    "if GENERATE_NEW_DATA:\n",
    "    seed = 13\n",
    "    dt_scaler = 200.\n",
    "    new_dt = 0.02 / dt_scaler\n",
    "    STEPS_MAX = 20_000\n",
    "    STEPS_BREAK_FROM = 9_000\n",
    "\n",
    "    # NUM_TRAJS = 2\n",
    "    NUM_TRAJS = 100\n",
    "\n",
    "    from adaptive_time import mc2\n",
    "    import adaptive_time.utils\n",
    "    import gymnasium as gym\n",
    "    import random\n",
    "\n",
    "    env = gym.make(\n",
    "        'CartPole-OURS-v2',\n",
    "        discrete_reward=discrete_reward,\n",
    "        should_terminate=SHOULD_TERMINATE,\n",
    "        step_time=new_dt)\n",
    "    _NUM_ACTIONS = 2\n",
    "\n",
    "    phi = run_lib.make_features()\n",
    "\n",
    "    weights_good_policy = np.load(\"cartpole_weights_20240227-102913_ret92516.44719752521.npy\")\n",
    "    # weights_good_policy = np.load(\"cartpole_weights_20240227-102913_ret50756.37604280466.npy\")\n",
    "\n",
    "    def policy(state, num_step, weights, epsilon):\n",
    "        if num_step >= STEPS_BREAK_FROM:\n",
    "            # if random.random() < 0.95:  # spread of 60 at 100 trajs\n",
    "            # if random.random() < 0.55:  # a nice spread\n",
    "            return 0   # Alway push in one direction.\n",
    "\n",
    "        if random.random() < epsilon:\n",
    "            action = env.action_space.sample()\n",
    "            return action\n",
    "\n",
    "        # Otherwise calculate the best action.\n",
    "        x = phi.get_fourier_feature(state)\n",
    "        qs = np.zeros(_NUM_ACTIONS)\n",
    "        for action in range(_NUM_ACTIONS):\n",
    "            x_sa = mc2.phi_sa(x, action)\n",
    "            qs[action] = np.inner(x_sa.flatten(), weights)\n",
    "        # adaptive_time.utils.softmax(qs, 1)\n",
    "        \n",
    "        return adaptive_time.utils.argmax(qs)\n",
    "\n",
    "    run_lib.reset_randomness(seed, env)\n",
    "\n",
    "    def _random_start_state(num):\n",
    "        rand = np.random.standard_normal((num, 4))\n",
    "        # rand *= np.array([[0.01, 0.01, 0.005, 0.002]])\n",
    "        rand *= np.array([[0.01, 0.01, 0.005, 0.002]])\n",
    "        return rand\n",
    "\n",
    "    start_states = _random_start_state(NUM_TRAJS)\n",
    "    print(\"shape\", start_states.shape)\n",
    "    print(\"max\", np.max(start_states, axis=0))\n",
    "\n",
    "    total_rewards = []\n",
    "    reward_sequences = []\n",
    "    traj_lengths = []\n",
    "    angles = []\n",
    "    xs = []\n",
    "    d_angles = []\n",
    "    actions = []\n",
    "    dxs = []\n",
    "    for idx in tqdm(range(NUM_TRAJS)):\n",
    "        start_state = tuple(start_states[idx])\n",
    "        # Tuple[float, float, float, float]\n",
    "        trajectory, early_term = value_est.generate_trajectory(\n",
    "                env, start_state=start_state,\n",
    "                policy=lambda st, sn: policy(st, sn, weights_good_policy, 0.0),\n",
    "                # policy=policy,\n",
    "                termination_prob=0.0, max_steps=STEPS_MAX)\n",
    "\n",
    "        traj_lengths.append(len(trajectory))\n",
    "        rewards = [r for _, _, r, _ in trajectory]\n",
    "        if GRAB_DETAILED_DATA:\n",
    "            actions.append([a for _, a, _, _ in trajectory])\n",
    "            xs.append([s[0] for s, _, _, _ in trajectory])\n",
    "            angles.append([s[2] for s, _, _, _ in trajectory])\n",
    "            d_angles.append([s[3] for s, _, _, _ in trajectory])\n",
    "            dxs.append([s[1] for s, _, _, _ in trajectory])\n",
    "        reward_sequences.append(rewards)\n",
    "        total_rewards.append(sum(rewards))\n",
    "\n",
    "    total_rewards = np.array(total_rewards)\n",
    "    # Reward sequences may be different lengths in the terminating\n",
    "    # case, so we can't make a 2D array.\n",
    "    if not SHOULD_TERMINATE:\n",
    "        reward_sequences = np.array(reward_sequences)\n",
    "        traj_lengths = np.array(traj_lengths)\n",
    "        angles = np.array(angles)\n",
    "        xs = np.array(xs)\n",
    "        d_angles = np.array(d_angles)\n",
    "        actions = np.array(actions)\n",
    "        dxs = np.array(dxs)\n",
    "\n",
    "    if SAVE_TRAJECTORIES:\n",
    "        if GRAB_DETAILED_DATA:\n",
    "            details = (angles, xs, d_angles, actions, dxs)\n",
    "        else:\n",
    "            details = None\n",
    "        all_traj_data = (\n",
    "            total_rewards, reward_sequences, traj_lengths,\n",
    "            details\n",
    "        )\n",
    "        with open(traj_data_path, \"wb\") as f:\n",
    "            pickle.dump(all_traj_data, f)\n",
    "        print(\"Saved data to\", traj_data_path)\n",
    "\n",
    "    print(env.tau)\n",
    "\n",
    "else:\n",
    "    with open(traj_data_path, \"rb\") as f:\n",
    "        all_traj_data = pickle.load(f)\n",
    "    total_rewards, reward_sequences, traj_lengths = all_traj_data[:3]\n",
    "    if GRAB_DETAILED_DATA:\n",
    "        rest = all_traj_data[3:]\n",
    "        if len(rest) == 1:\n",
    "            angles, xs, d_angles, actions, dxs = rest[0]\n",
    "        else:\n",
    "            angles, xs, d_angles, actions, dxs = rest\n",
    "\n",
    "    print(\"Loaded data from\", traj_data_path)\n",
    "\n",
    "del all_traj_data   # Clear up memory.\n",
    "\n",
    "print(\"total_rewards for each traj:\", total_rewards)\n",
    "if hasattr(reward_sequences, \"shape\"):\n",
    "    print(\"all rewards shape if array:\", reward_sequences.shape)\n",
    "num_trajs = len(total_rewards)"
   ]
  },
  {
   "cell_type": "code",
   "execution_count": 195,
   "metadata": {},
   "outputs": [
    {
     "name": "stdout",
     "output_type": "stream",
     "text": [
      "Changed working directory to /Users/szepi1991/Code/adaptive_time/results/cartpole2/rew_discrete_termTrue\n"
     ]
    },
    {
     "data": {
      "text/plain": [
       "17"
      ]
     },
     "execution_count": 195,
     "metadata": {},
     "output_type": "execute_result"
    }
   ],
   "source": [
    "utils.set_directory_in_project(BASE_DIR, create_dirs=True)\n",
    "gc.collect()\n"
   ]
  },
  {
   "cell_type": "markdown",
   "metadata": {},
   "source": [
    "### Test trajectories"
   ]
  },
  {
   "cell_type": "code",
   "execution_count": 196,
   "metadata": {},
   "outputs": [],
   "source": [
    "# desired_length1 = 10722\n",
    "# desired_length2 = 10723\n",
    "# total_rewards = np.array([desired_length1, desired_length2])\n",
    "# reward_sequences = [[1.0] * desired_length1, [1.0] * desired_length2]\n",
    "# traj_lengths = np.array([desired_length1, desired_length2])\n",
    "\n"
   ]
  },
  {
   "cell_type": "markdown",
   "metadata": {},
   "source": [
    "### Analyze trajectories"
   ]
  },
  {
   "cell_type": "code",
   "execution_count": 197,
   "metadata": {},
   "outputs": [
    {
     "data": {
      "image/png": "[encoded data removed]",
      "text/plain": [
       "<Figure size 640x480 with 1 Axes>"
      ]
     },
     "metadata": {},
     "output_type": "display_data"
    }
   ],
   "source": [
    "plt.hist(total_rewards)\n",
    "plt.savefig('reward_total_distr.png')"
   ]
  },
  {
   "cell_type": "code",
   "execution_count": 198,
   "metadata": {},
   "outputs": [
    {
     "name": "stdout",
     "output_type": "stream",
     "text": [
      "10723.0\n"
     ]
    },
    {
     "data": {
      "image/png": "[encoded data removed]",
      "text/plain": [
       "<Figure size 640x480 with 1 Axes>"
      ]
     },
     "metadata": {},
     "output_type": "display_data"
    }
   ],
   "source": [
    "traj_idx = 0\n",
    "print(total_rewards[traj_idx])\n",
    "plt.plot(reward_sequences[traj_idx])\n",
    "plt.savefig('reward_sample_curve.png')"
   ]
  },
  {
   "cell_type": "markdown",
   "metadata": {},
   "source": [
    "### Deep Traj Analysis"
   ]
  },
  {
   "cell_type": "code",
   "execution_count": 199,
   "metadata": {},
   "outputs": [],
   "source": [
    "# fig, ax = plt.subplots(5, 1, figsize=(10, 15))\n",
    "\n",
    "# # Actions -- bin them:\n",
    "# binsize = 100\n",
    "# binned_actions = []\n",
    "# for i in range(0, len(actions[traj_idx]), binsize):\n",
    "#     binned_actions.append(np.mean(actions[traj_idx][i:i+binsize]))\n",
    "# axs = np.arange(0, len(actions[traj_idx]), step=binsize)\n",
    "\n",
    "# ax[0].plot(axs, binned_actions, linestyle=\"none\", marker=\"o\")\n",
    "# ax[0].set_title(\"Actions\")\n",
    "\n",
    "# # ax[0].plot(np.abs(actions[traj_idx]), linestyle=\"none\", marker=\"o\")\n",
    "# ax[1].plot(np.abs(angles[traj_idx]))\n",
    "# ax[1].set_title(\"Angles\")\n",
    "\n",
    "# ax[2].plot(d_angles[traj_idx])\n",
    "# ax[2].set_title(\"Angular velocity\")\n",
    "\n",
    "# ax[3].plot(xs[traj_idx])\n",
    "# ax[3].set_title(\"X position\")\n",
    "\n",
    "# ax[4].plot(dxs[traj_idx])\n",
    "# ax[4].set_title(\"Velocity\")\n",
    "\n",
    "# # for a in ax:\n",
    "# #     a.set_xlim(1000, 1500)\n"
   ]
  },
  {
   "cell_type": "markdown",
   "metadata": {},
   "source": [
    "## Data setup 2: the weights across initial states\n"
   ]
  },
  {
   "cell_type": "code",
   "execution_count": 200,
   "metadata": {},
   "outputs": [
    {
     "name": "stdout",
     "output_type": "stream",
     "text": [
      "weights: [0.01 0.01 0.01 0.01 0.01 0.01 0.01 0.01 0.01 0.01 0.01 0.01 0.01 0.01\n",
      " 0.01 0.01 0.01 0.01 0.01 0.01 0.01 0.01 0.01 0.01 0.01 0.01 0.01 0.01\n",
      " 0.01 0.01 0.01 0.01 0.01 0.01 0.01 0.01 0.01 0.01 0.01 0.01 0.01 0.01\n",
      " 0.01 0.01 0.01 0.01 0.01 0.01 0.01 0.01 0.01 0.01 0.01 0.01 0.01 0.01\n",
      " 0.01 0.01 0.01 0.01 0.01 0.01 0.01 0.01 0.01 0.01 0.01 0.01 0.01 0.01\n",
      " 0.01 0.01 0.01 0.01 0.01 0.01 0.01 0.01 0.01 0.01 0.01 0.01 0.01 0.01\n",
      " 0.01 0.01 0.01 0.01 0.01 0.01 0.01 0.01 0.01 0.01 0.01 0.01 0.01 0.01\n",
      " 0.01 0.01]\n",
      "sum: 0.9999999999999999\n"
     ]
    }
   ],
   "source": [
    "seed = 43\n",
    "run_lib.reset_randomness(seed, env=None)\n",
    "\n",
    "weights = np.ones((num_trajs,)) / num_trajs\n",
    "# weights = np.random.random((num_trajs,))\n",
    "# weights /= np.sum(weights)\n",
    "\n",
    "print(\"weights:\", weights)\n",
    "print(\"sum:\", np.sum(weights))"
   ]
  },
  {
   "cell_type": "markdown",
   "metadata": {},
   "source": [
    "## Learning"
   ]
  },
  {
   "cell_type": "markdown",
   "metadata": {},
   "source": [
    "Constants"
   ]
  },
  {
   "cell_type": "code",
   "execution_count": 201,
   "metadata": {},
   "outputs": [
    {
     "name": "stdout",
     "output_type": "stream",
     "text": [
      "num_runs: 100\n",
      "sample_budget: 1000000\n"
     ]
    }
   ],
   "source": [
    "print(\"num_runs:\", NUM_RUNS)\n",
    "print(\"sample_budget:\", SAMPLE_BUDGET)"
   ]
  },
  {
   "cell_type": "markdown",
   "metadata": {},
   "source": [
    "### Ground truth value"
   ]
  },
  {
   "cell_type": "code",
   "execution_count": 202,
   "metadata": {},
   "outputs": [
    {
     "name": "stdout",
     "output_type": "stream",
     "text": [
      "true value: 10723.3\n"
     ]
    }
   ],
   "source": [
    "true_value = total_rewards @ weights\n",
    "print(\"true value:\", true_value)"
   ]
  },
  {
   "cell_type": "markdown",
   "metadata": {},
   "source": [
    "### Learn from samples; with diff samplers"
   ]
  },
  {
   "cell_type": "code",
   "execution_count": 203,
   "metadata": {},
   "outputs": [
    {
     "name": "stdout",
     "output_type": "stream",
     "text": [
      "unif_sampler_params: [   1    4   16   64  256 1024]\n",
      "quad_sampler_params: [0.00e+00 1.25e-01 5.00e-01 2.00e+00 8.00e+00 3.20e+01 1.28e+02 5.12e+02]\n"
     ]
    }
   ],
   "source": [
    "unif_sampler_params = np.power(2, np.arange(0, 11, 2))\n",
    "quad_sampler_params = np.concatenate(\n",
    "    (np.array([0]), np.power(2, np.arange(-3.0, 10, 2))), axis=0\n",
    ")\n",
    "\n",
    "print('unif_sampler_params:', unif_sampler_params)\n",
    "print('quad_sampler_params:', quad_sampler_params)\n"
   ]
  },
  {
   "cell_type": "code",
   "execution_count": 204,
   "metadata": {},
   "outputs": [],
   "source": [
    "samplers_tried = {\n",
    "    f'q{p}': approx_integrators.AdaptiveQuadratureIntegrator(tolerance=p)\n",
    "    for p in quad_sampler_params\n",
    "}\n",
    "samplers_tried.update({\n",
    "    f'u{p}': approx_integrators.UniformlySpacedIntegrator(p)\n",
    "    for p in unif_sampler_params\n",
    "})\n"
   ]
  },
  {
   "cell_type": "code",
   "execution_count": 205,
   "metadata": {},
   "outputs": [],
   "source": [
    "def name_to_param(name):\n",
    "    num = float(name[1:])\n",
    "    if name[0] == 'q':\n",
    "        return num\n",
    "    else:\n",
    "        return int(num)\n",
    "\n",
    "def name_to_type(name):\n",
    "    return name[0]\n",
    "\n",
    "def param_to_name(sampler_char, param):\n",
    "    return f\"{sampler_char}{param}\""
   ]
  },
  {
   "cell_type": "markdown",
   "metadata": {},
   "source": [
    "Since everything other than the start state is deterministic, we can just calculate the approximate integrals for each trajectory with each integrator and store these."
   ]
  },
  {
   "cell_type": "code",
   "execution_count": 206,
   "metadata": {},
   "outputs": [
    {
     "data": {
      "application/vnd.jupyter.widget-view+json": {
       "model_id": "0e725e6bd7fa40ecb07164e06089d6b5",
       "version_major": 2,
       "version_minor": 0
      },
      "text/plain": [
       "  0%|          | 0/14 [00:00<?, ?it/s]"
      ]
     },
     "metadata": {},
     "output_type": "display_data"
    },
    {
     "name": "stdout",
     "output_type": "stream",
     "text": [
      "sampler_name: q0.0\n",
      "sampler_name: q0.125\n",
      "sampler_name: q0.5\n",
      "sampler_name: q2.0\n",
      "sampler_name: q8.0\n",
      "sampler_name: q32.0\n",
      "sampler_name: q128.0\n",
      "sampler_name: q512.0\n",
      "sampler_name: u1\n",
      "sampler_name: u4\n",
      "sampler_name: u16\n",
      "sampler_name: u64\n",
      "sampler_name: u256\n",
      "sampler_name: u1024\n"
     ]
    }
   ],
   "source": [
    "approx_integrals = {}\n",
    "num_pivots = {}\n",
    "\n",
    "for sampler_name, sampler in tqdm(samplers_tried.items()):\n",
    "    print(\"sampler_name:\", sampler_name)\n",
    "    approx_integrals[sampler_name] = []\n",
    "    num_pivots[sampler_name] = []\n",
    "    for idx, reward_seq in enumerate(reward_sequences):\n",
    "        integral, all_pivots = sampler.integrate(reward_seq)\n",
    "        approx_integrals[sampler_name].append(integral)\n",
    "        num_pivots[sampler_name].append(len(all_pivots))\n",
    "    approx_integrals[sampler_name] = np.array(approx_integrals[sampler_name])\n",
    "    num_pivots[sampler_name] = np.array(num_pivots[sampler_name])\n",
    "\n"
   ]
  },
  {
   "cell_type": "code",
   "execution_count": 207,
   "metadata": {},
   "outputs": [
    {
     "name": "stdout",
     "output_type": "stream",
     "text": [
      "Sample data for trajectory 0:\n",
      "* True return: 10723.0\n",
      "* Approx integrals:\n"
     ]
    },
    {
     "data": {
      "text/plain": [
       "{'q0.0': 10723.0,\n",
       " 'q0.125': 10723.0,\n",
       " 'q0.5': 10723.0,\n",
       " 'q2.0': 10723.0,\n",
       " 'q8.0': 10723.0,\n",
       " 'q32.0': 10723.0,\n",
       " 'q128.0': 10723.0,\n",
       " 'q512.0': 10723.0,\n",
       " 'u1': 10723.0,\n",
       " 'u4': 10723.0,\n",
       " 'u16': 10723.0,\n",
       " 'u64': 10723.0,\n",
       " 'u256': 10723.0,\n",
       " 'u1024': 10723.0}"
      ]
     },
     "execution_count": 207,
     "metadata": {},
     "output_type": "execute_result"
    }
   ],
   "source": [
    "traj_id = 0\n",
    "\n",
    "print(\"Sample data for trajectory 0:\")\n",
    "print(\"* True return:\", total_rewards[traj_id])\n",
    "print(\"* Approx integrals:\")\n",
    "{k: v[traj_id] for k, v in approx_integrals.items()}\n"
   ]
  },
  {
   "cell_type": "code",
   "execution_count": 208,
   "metadata": {},
   "outputs": [
    {
     "data": {
      "text/plain": [
       "{'q0.0': 3,\n",
       " 'q0.125': 3,\n",
       " 'q0.5': 3,\n",
       " 'q2.0': 3,\n",
       " 'q8.0': 3,\n",
       " 'q32.0': 3,\n",
       " 'q128.0': 3,\n",
       " 'q512.0': 3,\n",
       " 'u1': 10723,\n",
       " 'u4': 2682,\n",
       " 'u16': 672,\n",
       " 'u64': 169,\n",
       " 'u256': 43,\n",
       " 'u1024': 12}"
      ]
     },
     "execution_count": 208,
     "metadata": {},
     "output_type": "execute_result"
    }
   ],
   "source": [
    "traj_id = 0\n",
    "\n",
    "{k: v[traj_id] for k, v in num_pivots.items()}\n"
   ]
  },
  {
   "cell_type": "markdown",
   "metadata": {},
   "source": [
    "Now we just keep sampling the start state and integrate accordingly."
   ]
  },
  {
   "cell_type": "code",
   "execution_count": 209,
   "metadata": {},
   "outputs": [
    {
     "data": {
      "text/plain": [
       "2872"
      ]
     },
     "execution_count": 209,
     "metadata": {},
     "output_type": "execute_result"
    }
   ],
   "source": [
    "gc.collect()"
   ]
  },
  {
   "cell_type": "code",
   "execution_count": 210,
   "metadata": {},
   "outputs": [
    {
     "data": {
      "application/vnd.jupyter.widget-view+json": {
       "model_id": "73f5b3e91062404eb10f75a612ae348c",
       "version_major": 2,
       "version_minor": 0
      },
      "text/plain": [
       "  0%|          | 0/14 [00:00<?, ?it/s]"
      ]
     },
     "metadata": {},
     "output_type": "display_data"
    },
    {
     "name": "stdout",
     "output_type": "stream",
     "text": [
      "sampler_name: q0.0\n"
     ]
    },
    {
     "data": {
      "application/vnd.jupyter.widget-view+json": {
       "model_id": "06c6425f2f034a46b85f0dca19164390",
       "version_major": 2,
       "version_minor": 0
      },
      "text/plain": [
       "  0%|          | 0/100 [00:00<?, ?it/s]"
      ]
     },
     "metadata": {},
     "output_type": "display_data"
    },
    {
     "name": "stdout",
     "output_type": "stream",
     "text": [
      "sampler_name: q0.125\n"
     ]
    },
    {
     "data": {
      "application/vnd.jupyter.widget-view+json": {
       "model_id": "3faa6deaee244fd086b7c6333b564b38",
       "version_major": 2,
       "version_minor": 0
      },
      "text/plain": [
       "  0%|          | 0/100 [00:00<?, ?it/s]"
      ]
     },
     "metadata": {},
     "output_type": "display_data"
    },
    {
     "name": "stdout",
     "output_type": "stream",
     "text": [
      "sampler_name: q0.5\n"
     ]
    },
    {
     "data": {
      "application/vnd.jupyter.widget-view+json": {
       "model_id": "2a063b6cd5134d668a8e906615b5f0f5",
       "version_major": 2,
       "version_minor": 0
      },
      "text/plain": [
       "  0%|          | 0/100 [00:00<?, ?it/s]"
      ]
     },
     "metadata": {},
     "output_type": "display_data"
    },
    {
     "name": "stdout",
     "output_type": "stream",
     "text": [
      "sampler_name: q2.0\n"
     ]
    },
    {
     "data": {
      "application/vnd.jupyter.widget-view+json": {
       "model_id": "c1f20c80da56446fa48e5ae3d61632b2",
       "version_major": 2,
       "version_minor": 0
      },
      "text/plain": [
       "  0%|          | 0/100 [00:00<?, ?it/s]"
      ]
     },
     "metadata": {},
     "output_type": "display_data"
    },
    {
     "name": "stdout",
     "output_type": "stream",
     "text": [
      "sampler_name: q8.0\n"
     ]
    },
    {
     "data": {
      "application/vnd.jupyter.widget-view+json": {
       "model_id": "b04a13c403794ca7bb8fee695464e000",
       "version_major": 2,
       "version_minor": 0
      },
      "text/plain": [
       "  0%|          | 0/100 [00:00<?, ?it/s]"
      ]
     },
     "metadata": {},
     "output_type": "display_data"
    },
    {
     "name": "stdout",
     "output_type": "stream",
     "text": [
      "sampler_name: q32.0\n"
     ]
    },
    {
     "data": {
      "application/vnd.jupyter.widget-view+json": {
       "model_id": "ed317149f273478daa1e068839d5a7ee",
       "version_major": 2,
       "version_minor": 0
      },
      "text/plain": [
       "  0%|          | 0/100 [00:00<?, ?it/s]"
      ]
     },
     "metadata": {},
     "output_type": "display_data"
    },
    {
     "name": "stdout",
     "output_type": "stream",
     "text": [
      "sampler_name: q128.0\n"
     ]
    },
    {
     "data": {
      "application/vnd.jupyter.widget-view+json": {
       "model_id": "bbe78ed07c804a8c922e1f1e3d60d096",
       "version_major": 2,
       "version_minor": 0
      },
      "text/plain": [
       "  0%|          | 0/100 [00:00<?, ?it/s]"
      ]
     },
     "metadata": {},
     "output_type": "display_data"
    },
    {
     "name": "stdout",
     "output_type": "stream",
     "text": [
      "sampler_name: q512.0\n"
     ]
    },
    {
     "data": {
      "application/vnd.jupyter.widget-view+json": {
       "model_id": "ab1ca3796c564b7188feea7509a53ba3",
       "version_major": 2,
       "version_minor": 0
      },
      "text/plain": [
       "  0%|          | 0/100 [00:00<?, ?it/s]"
      ]
     },
     "metadata": {},
     "output_type": "display_data"
    },
    {
     "name": "stdout",
     "output_type": "stream",
     "text": [
      "sampler_name: u1\n"
     ]
    },
    {
     "data": {
      "application/vnd.jupyter.widget-view+json": {
       "model_id": "2dd0f7464d384240888341f110d27369",
       "version_major": 2,
       "version_minor": 0
      },
      "text/plain": [
       "  0%|          | 0/100 [00:00<?, ?it/s]"
      ]
     },
     "metadata": {},
     "output_type": "display_data"
    },
    {
     "name": "stdout",
     "output_type": "stream",
     "text": [
      "sampler_name: u4\n"
     ]
    },
    {
     "data": {
      "application/vnd.jupyter.widget-view+json": {
       "model_id": "5684846903354cf4890074283dfdffc8",
       "version_major": 2,
       "version_minor": 0
      },
      "text/plain": [
       "  0%|          | 0/100 [00:00<?, ?it/s]"
      ]
     },
     "metadata": {},
     "output_type": "display_data"
    },
    {
     "name": "stdout",
     "output_type": "stream",
     "text": [
      "sampler_name: u16\n"
     ]
    },
    {
     "data": {
      "application/vnd.jupyter.widget-view+json": {
       "model_id": "7d8ec0040ea4403caec09d53f87175c3",
       "version_major": 2,
       "version_minor": 0
      },
      "text/plain": [
       "  0%|          | 0/100 [00:00<?, ?it/s]"
      ]
     },
     "metadata": {},
     "output_type": "display_data"
    },
    {
     "name": "stdout",
     "output_type": "stream",
     "text": [
      "sampler_name: u64\n"
     ]
    },
    {
     "data": {
      "application/vnd.jupyter.widget-view+json": {
       "model_id": "6e0ee25042304efea112f1f98eaf0095",
       "version_major": 2,
       "version_minor": 0
      },
      "text/plain": [
       "  0%|          | 0/100 [00:00<?, ?it/s]"
      ]
     },
     "metadata": {},
     "output_type": "display_data"
    },
    {
     "name": "stdout",
     "output_type": "stream",
     "text": [
      "sampler_name: u256\n"
     ]
    },
    {
     "data": {
      "application/vnd.jupyter.widget-view+json": {
       "model_id": "937a4ddaba3945608aa5106782d81e88",
       "version_major": 2,
       "version_minor": 0
      },
      "text/plain": [
       "  0%|          | 0/100 [00:00<?, ?it/s]"
      ]
     },
     "metadata": {},
     "output_type": "display_data"
    },
    {
     "name": "stdout",
     "output_type": "stream",
     "text": [
      "sampler_name: u1024\n"
     ]
    },
    {
     "data": {
      "application/vnd.jupyter.widget-view+json": {
       "model_id": "577dbf8b2bdc44fc8bc9b7e7ca6a80f1",
       "version_major": 2,
       "version_minor": 0
      },
      "text/plain": [
       "  0%|          | 0/100 [00:00<?, ?it/s]"
      ]
     },
     "metadata": {},
     "output_type": "display_data"
    },
    {
     "data": {
      "text/plain": [
       "120"
      ]
     },
     "execution_count": 210,
     "metadata": {},
     "output_type": "execute_result"
    }
   ],
   "source": [
    "\n",
    "seed = 43\n",
    "\n",
    "samplers_to_learn_with = samplers_tried\n",
    "# samplers_to_learn_with = {\n",
    "#     'u1024': samplers_tried['u1024'],\n",
    "# }\n",
    "\n",
    "data = value_est.simulate_learning(\n",
    "        seed, samplers_to_learn_with, SAMPLE_BUDGET, num_runs=NUM_RUNS,\n",
    "        start_state_weights=weights,\n",
    "        approx_integrals=approx_integrals, num_pivots=num_pivots,\n",
    "        tqdm=tqdm)\n",
    "\n",
    "\n",
    "gc.collect()\n",
    "# with open(procesed_data_file, \"wb\") as f:\n",
    "#     pickle.dump(data, f)\n"
   ]
  },
  {
   "cell_type": "code",
   "execution_count": null,
   "metadata": {},
   "outputs": [],
   "source": []
  },
  {
   "cell_type": "code",
   "execution_count": 211,
   "metadata": {},
   "outputs": [
    {
     "data": {
      "text/plain": [
       "dict_keys(['running_v_estimate', 'total_pivots'])"
      ]
     },
     "execution_count": 211,
     "metadata": {},
     "output_type": "execute_result"
    }
   ],
   "source": [
    "list(data.values())[0][0].keys()"
   ]
  },
  {
   "cell_type": "code",
   "execution_count": 212,
   "metadata": {},
   "outputs": [],
   "source": [
    "# # Verify final means.\n",
    "# for sampler_name, all_runs_data in data.items():\n",
    "#     for run_idx, run_data in enumerate(all_runs_data):\n",
    "#         mean_of_indiv = np.mean(run_data[\"values_of_trajs\"])\n",
    "#         mean_updated = run_data[\"running_v_estimate\"][-1]\n",
    "#         if run_idx == 0:\n",
    "#             print(\"mean_total:\", mean_of_indiv, \"mean_updated:\", mean_updated)\n",
    "#         if abs(mean_of_indiv - mean_updated) > 0.01:\n",
    "#             assert False, (\n",
    "#                 f\"Means don't match for {sampler_name}, run {run_idx}: \"\n",
    "#                 f\"{mean_of_indiv} vs {mean_updated}\")\n"
   ]
  },
  {
   "cell_type": "code",
   "execution_count": 213,
   "metadata": {},
   "outputs": [
    {
     "data": {
      "text/plain": [
       "array([10723.29751215, 10723.31104736, 10723.28934051, 10723.31178473,\n",
       "       10723.25575499, 10723.33749154, 10723.31217866, 10723.35617822,\n",
       "       10723.32028969, 10723.25311866, 10723.34129958, 10723.2958455 ,\n",
       "       10723.29656266, 10723.27845173, 10723.29879496, 10723.29097686,\n",
       "       10723.27093666, 10723.33444107, 10723.29748184, 10723.32188564,\n",
       "       10723.33154211, 10723.27951233, 10723.26737104, 10723.25795699,\n",
       "       10723.25938122, 10723.30166362, 10723.28199715, 10723.304805  ,\n",
       "       10723.28885567, 10723.32783507, 10723.29816871, 10723.33413804,\n",
       "       10723.33512793, 10723.31984525, 10723.27497702, 10723.3091888 ,\n",
       "       10723.27946182, 10723.27643155, 10723.27160332, 10723.29337077,\n",
       "       10723.32754215, 10723.30081514, 10723.29788588, 10723.32874415,\n",
       "       10723.29068393, 10723.29622933, 10723.29315865, 10723.28952233,\n",
       "       10723.33614812, 10723.328128  , 10723.27292654, 10723.29828992,\n",
       "       10723.26218927, 10723.28610822, 10723.31942102, 10723.30341108,\n",
       "       10723.32660276, 10723.30943122, 10723.28487591, 10723.25950243,\n",
       "       10723.30862315, 10723.30799689, 10723.31717861, 10723.34059252,\n",
       "       10723.29000717, 10723.28351229, 10723.30663327, 10723.31494631,\n",
       "       10723.27498712, 10723.31096656, 10723.26893668, 10723.26682559,\n",
       "       10723.30026969, 10723.30270401, 10723.30379491, 10723.28075474,\n",
       "       10723.30420905, 10723.32347148, 10723.29237078, 10723.25793679,\n",
       "       10723.31169382, 10723.31199685, 10723.30325956, 10723.3003202 ,\n",
       "       10723.2836638 , 10723.31126958, 10723.30484541, 10723.32753205,\n",
       "       10723.29062333, 10723.24234099, 10723.29277482, 10723.28221937,\n",
       "       10723.31177463, 10723.30217877, 10723.27446187, 10723.33601681,\n",
       "       10723.32881486, 10723.29736063, 10723.35290553, 10723.33765316])"
      ]
     },
     "execution_count": 213,
     "metadata": {},
     "output_type": "execute_result"
    }
   ],
   "source": [
    "estimates_across_runs = np.array([ data[\"u256\"][i][\"running_v_estimate\"][-1000] for i in range(NUM_RUNS) ])\n",
    "estimates_across_runs"
   ]
  },
  {
   "cell_type": "code",
   "execution_count": 214,
   "metadata": {},
   "outputs": [
    {
     "name": "stdout",
     "output_type": "stream",
     "text": [
      "stderr: 0.0023873740839418264\n",
      "err in est: 0.00036646094667958096 +- 0.0023873740839418264\n"
     ]
    }
   ],
   "source": [
    "# print(\"mean:\", estimates_across_runs.mean())\n",
    "# print(\"std:\", estimates_across_runs.std())\n",
    "stderr = estimates_across_runs.std() / np.sqrt(NUM_RUNS)\n",
    "print(\"stderr:\", stderr)\n",
    "print(\"err in est:\", abs(estimates_across_runs.mean() - true_value), \"+-\", stderr)"
   ]
  },
  {
   "cell_type": "code",
   "execution_count": 215,
   "metadata": {},
   "outputs": [
    {
     "name": "stdout",
     "output_type": "stream",
     "text": [
      "interpolating\n"
     ]
    },
    {
     "data": {
      "application/vnd.jupyter.widget-view+json": {
       "model_id": "8ad88c2f1cc64057b590c0960c3b06bd",
       "version_major": 2,
       "version_minor": 0
      },
      "text/plain": [
       "  0%|          | 0/14 [00:00<?, ?it/s]"
      ]
     },
     "metadata": {},
     "output_type": "display_data"
    },
    {
     "name": "stdout",
     "output_type": "stream",
     "text": [
      "finding means and stderrs\n"
     ]
    },
    {
     "data": {
      "application/vnd.jupyter.widget-view+json": {
       "model_id": "f4cf4a96019c48b0a2ec9a8e9aedce9c",
       "version_major": 2,
       "version_minor": 0
      },
      "text/plain": [
       "  0%|          | 0/14 [00:00<?, ?it/s]"
      ]
     },
     "metadata": {},
     "output_type": "display_data"
    },
    {
     "name": "stderr",
     "output_type": "stream",
     "text": [
      "/Users/szepi1991/Code/adaptive_time/code/adaptive_time/plot_utils.py:70: RuntimeWarning: Mean of empty slice\n",
      "  \n",
      "/Users/szepi1991/Code/adaptive_time/.venv/lib/python3.11/site-packages/numpy/lib/nanfunctions.py:1879: RuntimeWarning: Degrees of freedom <= 0 for slice.\n",
      "  var = nanvar(a, axis=axis, dtype=dtype, out=out, ddof=ddof,\n"
     ]
    }
   ],
   "source": [
    "gc.collect()\n",
    "\n",
    "_values_data = plot_utils.process_across_runs(\n",
    "        data, \"total_pivots\", \"running_v_estimate\", right=np.nan, interp_step=BUDGET_INTERP_STEP, tqdm=tqdm)\n",
    "\n",
    "gc.collect()\n",
    "\n",
    "_means = {\n",
    "    k: np.abs(val - true_value)\n",
    "    for k, val in _values_data.means.items()\n",
    "}\n",
    "error_data = _values_data._replace(means=_means)\n",
    "\n",
    "error_y_label = \"$|\\hat{V}(S_0) - v_\\pi(S_0)|$\""
   ]
  },
  {
   "cell_type": "code",
   "execution_count": 216,
   "metadata": {},
   "outputs": [
    {
     "name": "stdout",
     "output_type": "stream",
     "text": [
      "step reward, term if falls\n"
     ]
    }
   ],
   "source": [
    "setting_name = \"step reward\" if discrete_reward else \"smooth reward\"\n",
    "setting_name += \", \"\n",
    "setting_name += \"term if falls\" if SHOULD_TERMINATE else \"(20k steps)\"\n",
    "print(setting_name)\n",
    "\n",
    "title = f\"setting: {setting_name}\""
   ]
  },
  {
   "cell_type": "markdown",
   "metadata": {},
   "source": [
    "## Plots: Error vs Samples [commented out]"
   ]
  },
  {
   "cell_type": "code",
   "execution_count": 217,
   "metadata": {},
   "outputs": [],
   "source": [
    "plot_space = SAMPLE_BUDGET / 20."
   ]
  },
  {
   "cell_type": "markdown",
   "metadata": {},
   "source": [
    "#### Uniforms"
   ]
  },
  {
   "cell_type": "code",
   "execution_count": 218,
   "metadata": {},
   "outputs": [],
   "source": [
    "# ax = plot_utils.default_plot_mean_from_proc_data(\n",
    "#     error_data, \"Number of Samples\", error_y_label,\n",
    "#     title=title, show=False, key_filter=lambda x: \"u\" in x,\n",
    "#     add_stderr=True)\n",
    "\n",
    "# ax.set_xlim(-plot_space, SAMPLE_BUDGET + plot_space)\n",
    "# plt.savefig('unif_lin.png')\n",
    "\n"
   ]
  },
  {
   "cell_type": "code",
   "execution_count": 219,
   "metadata": {},
   "outputs": [],
   "source": [
    "# ax = plot_utils.default_plot_mean_from_proc_data(\n",
    "#     error_data, \"Number of Samples\", error_y_label,\n",
    "#     title=title, show=False, key_filter=lambda x: \"u\" in x,\n",
    "#     add_stderr=True)\n",
    "\n",
    "# ax.set_xlim(-plot_space, SAMPLE_BUDGET + plot_space)\n",
    "# ax.set_ylim(-0.001, 0.005)\n",
    "\n",
    "# plt.savefig('unif_lin_zoom.png')\n",
    "\n"
   ]
  },
  {
   "cell_type": "code",
   "execution_count": 220,
   "metadata": {},
   "outputs": [],
   "source": [
    "# ax = plot_utils.default_plot_mean_from_proc_data(\n",
    "#     error_data, \"Number of Samples\", error_y_label,\n",
    "#     title=title, show=False, key_filter=lambda x: \"u\" in x,\n",
    "#     add_stderr=True)\n",
    "\n",
    "# ax.set_yscale('log')\n",
    "# ax.set_xscale('log')\n",
    "\n",
    "# ax.set_xlim(-plot_space, SAMPLE_BUDGET + plot_space)\n",
    "\n",
    "# plt.savefig('unif_loglog.png')\n",
    "\n"
   ]
  },
  {
   "cell_type": "code",
   "execution_count": 221,
   "metadata": {},
   "outputs": [],
   "source": [
    "# ax = plot_utils.default_plot_mean_from_proc_data(\n",
    "#     error_data, \"Number of Samples\", error_y_label,\n",
    "#     title=title, show=False, key_filter=lambda x: \"u\" in x,\n",
    "#     add_stderr=True)\n",
    "\n",
    "# ax.set_yscale('log')\n",
    "# # ax.set_xscale('log')\n",
    "# ax.set_xlim(-plot_space, SAMPLE_BUDGET + plot_space)\n",
    "\n",
    "# plt.savefig('unif_ylog.png')\n",
    "\n"
   ]
  },
  {
   "cell_type": "code",
   "execution_count": 222,
   "metadata": {},
   "outputs": [],
   "source": [
    "\n",
    "# ax = plot_utils.default_plot_mean_from_proc_data(\n",
    "#     error_data, \"Number of Samples\", error_y_label,\n",
    "#     title=title, show=False, key_filter=lambda x: \"q\" in x,\n",
    "#     add_stderr=True)\n",
    "\n",
    "# ax.set_ylim(-1, 15)\n",
    "# # ax.set_yscale('log')\n",
    "# ax.set_xlim(-plot_space, SAMPLE_BUDGET + plot_space)\n",
    "\n",
    "\n",
    "# plt.savefig('quad_lin_zoom.png')\n",
    "\n",
    "# plt.show()\n",
    "\n"
   ]
  },
  {
   "cell_type": "code",
   "execution_count": 223,
   "metadata": {},
   "outputs": [],
   "source": [
    "\n",
    "# ax = plot_utils.default_plot_mean_from_proc_data(\n",
    "#     error_data, \"Number of Samples\", error_y_label,\n",
    "#     title=title, show=False, key_filter=lambda x: \"q\" in x,\n",
    "#     add_stderr=True)\n",
    "\n",
    "# # ax.set_ylim(-2, 15)\n",
    "# ax.set_yscale('log')\n",
    "# ax.set_xlim(-plot_space, SAMPLE_BUDGET + plot_space)\n",
    "\n",
    "\n",
    "# plt.savefig('quad_ylog.png')\n",
    "\n",
    "# plt.show()\n",
    "\n"
   ]
  },
  {
   "cell_type": "code",
   "execution_count": 224,
   "metadata": {},
   "outputs": [],
   "source": [
    "\n",
    "# ax = plot_utils.default_plot_mean_from_proc_data(\n",
    "#     error_data, \"Number of Samples\", error_y_label,\n",
    "#     title=title, show=False, key_filter=lambda x: \"q\" in x,\n",
    "#     add_stderr=True)\n",
    "\n",
    "# ax.set_yscale('log')\n",
    "# ax.set_xscale('log')\n",
    "# # ax.set_xlim(-plot_space, SAMPLE_BUDGET + plot_space)\n",
    "\n",
    "# plt.savefig('quad_loglog.png')\n",
    "\n",
    "# plt.show()\n",
    "\n"
   ]
  },
  {
   "cell_type": "code",
   "execution_count": 225,
   "metadata": {},
   "outputs": [],
   "source": [
    "# good = [\"u1\", \"u50\", \"u500\", \"q0\", \"q1\", \"q100\"]\n",
    "\n",
    "# ax = plot_utils.default_plot_mean_from_proc_data(\n",
    "#     error_data, \"Number of Samples\", error_y_label,\n",
    "#     title=title, show=False, key_filter=lambda x: x in good,\n",
    "#     add_stderr=True)\n",
    "\n",
    "# # ax.set_ylim(-2, 40)\n",
    "# ax.set_xscale('log')\n",
    "# ax.set_yscale('log')\n",
    "# ax.set_xlim(-plot_space, SAMPLE_BUDGET + plot_space)\n",
    "\n",
    "\n",
    "# plt.savefig('select_loglog.png')\n",
    "\n",
    "# plt.show()\n",
    "\n"
   ]
  },
  {
   "cell_type": "markdown",
   "metadata": {},
   "source": [
    "## Error vs Param (Tolerance/Interval) Plots"
   ]
  },
  {
   "cell_type": "code",
   "execution_count": 226,
   "metadata": {},
   "outputs": [],
   "source": [
    "# assert False"
   ]
  },
  {
   "cell_type": "code",
   "execution_count": 227,
   "metadata": {},
   "outputs": [
    {
     "data": {
      "text/plain": [
       "dict_keys(['q0.0', 'q0.125', 'q0.5', 'q2.0', 'q8.0', 'q32.0', 'q128.0', 'q512.0', 'u1', 'u4', 'u16', 'u64', 'u256', 'u1024'])"
      ]
     },
     "execution_count": 227,
     "metadata": {},
     "output_type": "execute_result"
    }
   ],
   "source": [
    "error_data.means.keys()"
   ]
  },
  {
   "cell_type": "code",
   "execution_count": 228,
   "metadata": {},
   "outputs": [
    {
     "name": "stdout",
     "output_type": "stream",
     "text": [
      "\n",
      "Method: uniform\n"
     ]
    },
    {
     "data": {
      "application/vnd.jupyter.widget-view+json": {
       "model_id": "1ef92f7103884d06a71fbb7008e63880",
       "version_major": 2,
       "version_minor": 0
      },
      "text/plain": [
       "  0%|          | 0/4 [00:00<?, ?it/s]"
      ]
     },
     "metadata": {},
     "output_type": "display_data"
    },
    {
     "name": "stdout",
     "output_type": "stream",
     "text": [
      "\n",
      "Budget:  1000\n",
      "xs [1, 4, 16, 64, 256, 1024]\n",
      "y_means: [1.43       0.21       0.51950336 0.0105503  0.10429011 0.05376793]\n",
      "y_stderrs: [0.71563329 0.71723009 0.54382417 0.31508314 0.17397075 0.08969081]\n",
      "\n",
      "Budget:  10000\n",
      "xs [1, 4, 16, 64, 256, 1024]\n",
      "y_means: [1.43       0.1210724  0.22284806 0.03548614 0.01802101 0.00623618]\n",
      "y_stderrs: [0.71563329 0.38473111 0.20485539 0.08978475 0.04624806 0.02583615]\n",
      "\n",
      "Budget:  100000\n",
      "xs [1, 4, 16, 64, 256, 1024]\n",
      "y_means: [0.18676564 0.33690303 0.11498131 0.02346803 0.0061776  0.0034064 ]\n",
      "y_stderrs: [0.27650564 0.12956171 0.06537852 0.03036767 0.01712307 0.00828719]\n",
      "\n",
      "Budget:  1000000\n",
      "xs [1, 4, 16, 64, 256, 1024]\n",
      "y_means: [0.07407221 0.07290503 0.00393797 0.00078188 0.00735711 0.0027778 ]\n",
      "y_stderrs: [0.08095591 0.03882886 0.02081583 0.00933613 0.00523037 0.0025575 ]\n",
      "\n",
      "Method: quadrature\n"
     ]
    },
    {
     "data": {
      "application/vnd.jupyter.widget-view+json": {
       "model_id": "6042eb2b36e14bda8444baf36240a104",
       "version_major": 2,
       "version_minor": 0
      },
      "text/plain": [
       "  0%|          | 0/4 [00:00<?, ?it/s]"
      ]
     },
     "metadata": {},
     "output_type": "display_data"
    },
    {
     "name": "stderr",
     "output_type": "stream",
     "text": [
      "No artists with labels found to put in legend.  Note that artists whose label start with an underscore are ignored when legend() is called with no argument.\n",
      "No artists with labels found to put in legend.  Note that artists whose label start with an underscore are ignored when legend() is called with no argument.\n"
     ]
    },
    {
     "name": "stdout",
     "output_type": "stream",
     "text": [
      "\n",
      "Budget:  1000\n",
      "xs [0.0, 0.125, 0.5, 2.0, 8.0, 32.0, 128.0, 512.0]\n",
      "y_means: [0.03860942 0.03177992 0.03531909 0.02971876 0.00646919 0.00119026\n",
      " 0.0807726  0.03376781]\n",
      "y_stderrs: [0.04455961 0.04251701 0.03836917 0.03960078 0.04192437 0.04309183\n",
      " 0.04250048 0.04428879]\n",
      "\n",
      "Budget:  10000\n",
      "xs [0.0, 0.125, 0.5, 2.0, 8.0, 32.0, 128.0, 512.0]\n",
      "y_means: [0.003874   0.00701802 0.022194   0.00090199 0.00824102 0.01403898\n",
      " 0.00117601 0.01951498]\n",
      "y_stderrs: [0.01425902 0.01276578 0.01313434 0.01402821 0.01369387 0.01481225\n",
      " 0.01240597 0.01420368]\n",
      "\n",
      "Budget:  100000\n",
      "xs [0.0, 0.125, 0.5, 2.0, 8.0, 32.0, 128.0, 512.0]\n",
      "y_means: [0.0036314 0.0064922 0.0024085 0.0016829 0.0061459 0.0044582 0.0043361\n",
      " 0.0063837]\n",
      "y_stderrs: [0.00456257 0.00431043 0.00449844 0.00385227 0.00492874 0.00436896\n",
      " 0.00419746 0.00447925]\n",
      "\n",
      "Budget:  1000000\n",
      "xs [0.0, 0.125, 0.5, 2.0, 8.0, 32.0, 128.0, 512.0]\n",
      "y_means: [0.00087067 0.00069519 0.00145776 0.00044608 0.00095364 0.00031159\n",
      " 0.00030604 0.00164528]\n",
      "y_stderrs: [0.00129827 0.0012174  0.00162234 0.00128117 0.00139267 0.00144096\n",
      " 0.0014957  0.00120743]\n"
     ]
    },
    {
     "data": {
      "image/png": "[encoded data removed]",
      "text/plain": [
       "<Figure size 1000x500 with 2 Axes>"
      ]
     },
     "metadata": {},
     "output_type": "display_data"
    }
   ],
   "source": [
    "\n",
    "# These must be multiples of BUDGET_INTERP_STEP (usually 1000).\n",
    "budgets_to_check = np.power(10, np.arange(3, 7, 1))\n",
    "if SAMPLE_BUDGET >= 2_000_000:\n",
    "    budgets_to_check *= 2\n",
    "\n",
    "\n",
    "# budgets_to_check = np.power(10, np.arange(2, 7, 1))\n",
    "\n",
    "# ax = plot_utils.default_plot_mean_from_proc_data(\n",
    "#     error_data, \"Number of Samples\", error_y_label,\n",
    "#     title=title, show=False, key_filter=lambda x: x in good,\n",
    "#     add_stderr=True)\n",
    "\n",
    "fig, axes = plt.subplots(\n",
    "    nrows=1, ncols=2, figsize=(10, 5), layout=\"constrained\", sharey=True)\n",
    "\n",
    "# axes[0] will get the uniform results, axes[1] the quadrature results.\n",
    "\n",
    "# Gather the data for the points on the x-axis.\n",
    "all_methods = error_data.means.keys()\n",
    "unif_methods = {\n",
    "    k: name_to_param(k) for k in all_methods if name_to_type(k) == \"u\"}\n",
    "quad_methods = {\n",
    "    k: name_to_param(k) for k in all_methods if name_to_type(k) == \"q\"}\n",
    "\n",
    "unif_xs = sorted(unif_methods.values())\n",
    "quad_xs = sorted(quad_methods.values())\n",
    "\n",
    "for ax_idx, ax, xs, method_char in zip(range(2), axes, (unif_xs, quad_xs), (\"u\", \"q\")):\n",
    "    print()\n",
    "    print(\"Method:\", \"uniform\" if method_char == \"u\" else \"quadrature\")\n",
    "    for budget_for_curve in tqdm(budgets_to_check):\n",
    "        print()\n",
    "        print(\"Budget: \", budget_for_curve)\n",
    "        budget_idx = int(budget_for_curve / BUDGET_INTERP_STEP)\n",
    "        y_means = []\n",
    "        y_stderrs = []\n",
    "        try:\n",
    "            for x in xs:\n",
    "                y_means.append(error_data.means[param_to_name(method_char, x)][budget_idx])\n",
    "                y_stderrs.append(error_data.stderrs[param_to_name(method_char, x)][budget_idx])\n",
    "                # y_means.append(np.nanmean(env_result[x][:, budget_idx]))\n",
    "                # y_stderrs.append(np.nanstd(env_result[x][:, budget_idx]) / np.sqrt(num_seeds))\n",
    "            # y_means = np.log2(np.array(y_means))\n",
    "            # y_stderrs = np.log2(np.array(y_stderrs))\n",
    "                \n",
    "            y_means = np.array(y_means)\n",
    "            y_stderrs = np.array(y_stderrs)\n",
    "\n",
    "            ax.plot(\n",
    "                xs,\n",
    "                y_means,\n",
    "                label=\"budget {:.0e}\".format(budget_for_curve) if ax_idx == 0 else \"\"\n",
    "            )\n",
    "            # ax.fill_between(\n",
    "            #     xs,\n",
    "            #     (y_means - y_stderrs),\n",
    "            #     (y_means + y_stderrs),\n",
    "            #     alpha=0.1\n",
    "            # )\n",
    "\n",
    "            print(\"xs\", xs)\n",
    "            print(\"y_means:\", y_means)\n",
    "            print(\"y_stderrs:\", y_stderrs)\n",
    "        except IndexError:\n",
    "            pass\n",
    "\n",
    "    if method_char == \"u\":\n",
    "        ax.set_ylabel(error_y_label)\n",
    "        ax.set_xlabel(\"Sampling Interval\")\n",
    "        ax.set_title(\"Method: Uniform\")\n",
    "    else:\n",
    "        ax.set_xlabel(\"Tolerance\")\n",
    "        ax.set_title(\"Method: Adaptive\")\n",
    "\n",
    "    ax.set_xscale('log')\n",
    "    # ax.set_yscale('log')\n",
    "    ax.legend()\n",
    "\n",
    "fig.suptitle(title)\n",
    "plt.legend()\n",
    "\n",
    "plt.savefig('u_shaped.png')\n",
    "\n",
    "# def name_to_param(name):\n",
    "#     return int(name[1:])\n",
    "\n",
    "# def name_to_type(name):\n",
    "#     return name[0]\n",
    "\n",
    "# def param_to_name(param, sampler_char):\n",
    "#     return f\"{sampler_char}{param}\"\n"
   ]
  },
  {
   "cell_type": "code",
   "execution_count": null,
   "metadata": {},
   "outputs": [],
   "source": []
  },
  {
   "cell_type": "code",
   "execution_count": 229,
   "metadata": {},
   "outputs": [],
   "source": [
    "\n",
    "\n",
    "# if prefix == \"uniform\":\n",
    "#     fig, axes = plt.subplots(nrows=len(est_results) // ncols, ncols=ncols, figsize=(15, 8), layout=\"constrained\")\n",
    "\n",
    "#     print(s_to_plot)\n",
    "#     sorted_spacing = sorted(int(key[1:]) for key in list(s_to_plot))\n",
    "#     sorted_keys = [\"u{}\".format(item) for item in sorted_spacing]\n",
    "#     # budgets_to_check = 1e5 * np.arange(1, 10, 2)\n",
    "\n",
    "\n",
    "#     budgets_to_check = budgets_to_check_per_env[env_name]\n",
    "#     for budget_to_check in tqdm(budgets_to_check):\n",
    "#         idx = int(budget_to_check)\n",
    "#         y_means = []\n",
    "#         y_stderrs = []\n",
    "#         for s in sorted_keys:\n",
    "#             y_means.append(np.nanmean(env_result[s][:, idx]))\n",
    "#             y_stderrs.append(np.nanstd(env_result[s][:, idx]) / np.sqrt(num_seeds))\n",
    "#         # y_means = np.log2(np.array(y_means))\n",
    "#         # y_stderrs = np.log2(np.array(y_stderrs))\n",
    "            \n",
    "#         y_means = np.array(y_means)\n",
    "#         y_stderrs = np.array(y_stderrs)\n",
    "\n",
    "#         ax.plot(\n",
    "#             sorted_spacing,\n",
    "#             y_means,\n",
    "#             label=\"{:.0e}\".format(idx) if env_i == 0 else \"\"\n",
    "#         )\n",
    "#         ax.fill_between(\n",
    "#             sorted_spacing,\n",
    "#             (y_means - y_stderrs),\n",
    "#             (y_means + y_stderrs),\n",
    "#             alpha=0.1\n",
    "#         )\n",
    "#         ax.set_title(\"Env: {}\".format(env_name))\n",
    "\n",
    "#     fig.supylabel(\"Error in value estimate\")\n",
    "#     fig.supxlabel(\"Uniform Discretization\")\n",
    "#     fig.legend()\n",
    "#     plt.show()\n",
    "\n",
    "\n"
   ]
  },
  {
   "cell_type": "code",
   "execution_count": null,
   "metadata": {},
   "outputs": [],
   "source": []
  },
  {
   "cell_type": "markdown",
   "metadata": {},
   "source": [
    "# Testing Random Things"
   ]
  },
  {
   "cell_type": "code",
   "execution_count": 230,
   "metadata": {},
   "outputs": [
    {
     "data": {
      "text/plain": [
       "-2.7831853071795862"
      ]
     },
     "execution_count": 230,
     "metadata": {},
     "output_type": "execute_result"
    }
   ],
   "source": [
    "(math.pi + 3.5) % (2*math.pi) - math.pi"
   ]
  },
  {
   "cell_type": "code",
   "execution_count": null,
   "metadata": {},
   "outputs": [],
   "source": []
  }
 ],
 "metadata": {
  "kernelspec": {
   "display_name": ".venv",
   "language": "python",
   "name": "python3"
  },
  "language_info": {
   "codemirror_mode": {
    "name": "ipython",
    "version": 3
   },
   "file_extension": ".py",
   "mimetype": "text/x-python",
   "name": "python",
   "nbconvert_exporter": "python",
   "pygments_lexer": "ipython3",
   "version": "3.11.7"
  }
 },
 "nbformat": 4,
 "nbformat_minor": 2
}
