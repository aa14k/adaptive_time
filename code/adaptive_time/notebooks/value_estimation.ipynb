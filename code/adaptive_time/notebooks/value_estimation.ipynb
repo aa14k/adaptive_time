{
 "cells": [
  {
   "cell_type": "markdown",
   "metadata": {},
   "source": [
    "# Value Estimation -- quadrature vs uniform"
   ]
  },
  {
   "cell_type": "code",
   "execution_count": 114,
   "metadata": {},
   "outputs": [
    {
     "name": "stderr",
     "output_type": "stream",
     "text": [
      "/Users/szepi1991/Code/adaptive_time/.venv/lib/python3.11/site-packages/gymnasium/envs/registration.py:694: UserWarning: \u001b[33mWARN: Overriding environment CartPole-OURS-v2 already in registry.\u001b[0m\n",
      "  logger.warn(f\"Overriding environment {new_spec.id} already in registry.\")\n"
     ]
    }
   ],
   "source": [
    "import math\n",
    "from importlib import reload\n",
    "\n",
    "import gc\n",
    "import matplotlib.pyplot as plt\n",
    "import pickle\n",
    "import numpy as np\n",
    "\n",
    "from tqdm.notebook import tqdm\n",
    "\n",
    "from adaptive_time import plot_utils\n",
    "from adaptive_time import utils\n",
    "from adaptive_time import run_lib\n",
    "from adaptive_time.environments import cartpole2\n",
    "from adaptive_time import value_est\n",
    "from adaptive_time.value_est import approx_integrators\n",
    "\n",
    "from pprint import pprint\n",
    "\n",
    "approx_integrators = reload(approx_integrators)\n",
    "run_lib = reload(run_lib)\n",
    "cartpole2 = reload(cartpole2)\n",
    "value_est = reload(value_est)\n",
    "plot_utils = reload(plot_utils)\n",
    "utils = reload(utils)"
   ]
  },
  {
   "cell_type": "markdown",
   "metadata": {},
   "source": [
    "Make this notebook configurable so we can quickly generate plots for multiple variants."
   ]
  },
  {
   "cell_type": "code",
   "execution_count": 2,
   "metadata": {},
   "outputs": [
    {
     "name": "stdout",
     "output_type": "stream",
     "text": [
      "Changed working directory to /Users/szepi1991/Code/adaptive_time\n"
     ]
    },
    {
     "data": {
      "text/plain": [
       "'/Users/szepi1991/Code/adaptive_time'"
      ]
     },
     "execution_count": 2,
     "metadata": {},
     "output_type": "execute_result"
    }
   ],
   "source": [
    "utils.set_directory_in_project()"
   ]
  },
  {
   "cell_type": "code",
   "execution_count": 3,
   "metadata": {},
   "outputs": [
    {
     "name": "stdout",
     "output_type": "stream",
     "text": [
      "False\n"
     ]
    }
   ],
   "source": [
    "# Execute the notebook with arguments; from\n",
    "# https://stackoverflow.com/a/48414195\n",
    "\n",
    "import sys,os,argparse\n",
    "from IPython.display import HTML\n",
    "CONFIG_FILE = '.tmp_config_ipynb'\n",
    "if os.path.isfile(CONFIG_FILE):\n",
    "    with open(CONFIG_FILE) as f:\n",
    "        sys.argv = f.read().split()\n",
    "else:\n",
    "    sys.argv = ['test_args.py', '--discrete_reward', 'True']\n",
    "    # sys.argv = ['test_args.py', 'input_file', '--int_param', '12']\n",
    "\n",
    "\n",
    "def str2bool(v):\n",
    "    \"\"\"From: https://stackoverflow.com/a/43357954 .\"\"\"\n",
    "    if isinstance(v, bool):\n",
    "        return v\n",
    "    if v.lower() in ('yes', 'true', 't', 'y', '1'):\n",
    "        return True\n",
    "    elif v.lower() in ('no', 'false', 'f', 'n', '0'):\n",
    "        return False\n",
    "    else:\n",
    "        raise argparse.ArgumentTypeError('Boolean value expected.')\n",
    "\n",
    "\n",
    "parser = argparse.ArgumentParser()\n",
    "parser.add_argument(\n",
    "    \"--generate_new_data\", type=str2bool, nargs='?', default=False,\n",
    "    help=\"If true, generate new trajectory data, else load from file.\")\n",
    "parser.add_argument(\n",
    "    \"--save_new_data\", type=str2bool, nargs='?', default=True,\n",
    "    help=\"If true, save the newly generated data a file.\")\n",
    "parser.add_argument(\n",
    "    \"--grab_detailed_data\", type=str2bool, nargs='?', default=False,\n",
    "    help=\"If true, save not just the reward sequences but states, actions, etc.\")\n",
    "\n",
    "\n",
    "parser.add_argument(\n",
    "    \"--discrete_reward\", type=str2bool, nargs='?', default=True,\n",
    "    help=\"Use the step function reward.\")\n",
    "parser.add_argument(\n",
    "    \"--terminate_env\", type=str2bool, nargs='?', default=False,\n",
    "    help=\"Whether to terminate the environment when the pole falls.\")\n",
    "\n",
    "\n",
    "parser.add_argument(\n",
    "    \"--num_runs\", type=int, default=30,\n",
    "    help=\"The number of independent runs per method.\")\n",
    "parser.add_argument(\n",
    "    \"--sample_budget\", type=int, default=1_000_000,\n",
    "    help=\"The number of total samples accessible to all methods.\")\n",
    "\n",
    "\n",
    "# parser.add_argument(\"input_file\",  help=\"Input image, directory, or npy.\")\n",
    "# parser.add_argument(\"--int_param\", type=int, default=4, help=\"an optional integer parameter.\")\n",
    "args = parser.parse_args()\n",
    "\n",
    "print(args.discrete_reward)\n"
   ]
  },
  {
   "cell_type": "markdown",
   "metadata": {},
   "source": [
    "## Use goodish policy, generate data to process\n",
    "\n",
    "Recall, we want:\n",
    "\n",
    "1. The policy to stay up for ~10k steps, while we interact for 20k steps.\n",
    "2. To generate trajectories from 100 different initial states.\n",
    "\n",
    "We just need to store the fine grained rewards for each of these trajectories, all processing will happen on this after. "
   ]
  },
  {
   "cell_type": "code",
   "execution_count": 48,
   "metadata": {},
   "outputs": [],
   "source": [
    "\n",
    "GENERATE_NEW_DATA = args.generate_new_data\n",
    "# GENERATE_NEW_DATA = False\n",
    "GENERATE_NEW_DATA = True\n",
    "\n",
    "SAVE_TRAJECTORIES = args.save_new_data\n",
    "# SAVE_TRAJECTORIES = False\n",
    "SAVE_TRAJECTORIES = True\n",
    "\n",
    "SHOULD_TERMINATE = args.terminate_env\n",
    "# SHOULD_TERMINATE = False\n",
    "SHOULD_TERMINATE = True\n",
    "\n",
    "discrete_reward = args.discrete_reward\n",
    "# discrete_reward = False\n",
    "discrete_reward = True\n",
    "\n",
    "\n",
    "GRAB_DETAILED_DATA = args.grab_detailed_data\n",
    "GRAB_DETAILED_DATA = False\n",
    "\n",
    "NUM_RUNS = args.num_runs\n",
    "SAMPLE_BUDGET = args.sample_budget\n",
    "\n",
    "NUM_RUNS = 100\n",
    "SAMPLE_BUDGET = 1_000_000\n",
    "\n",
    "BUDGET_INTERP_STEP = 1_000\n"
   ]
  },
  {
   "cell_type": "code",
   "execution_count": 49,
   "metadata": {},
   "outputs": [],
   "source": [
    "\n",
    "if discrete_reward:\n",
    "    reward_type = \"discrete\"\n",
    "else:\n",
    "    reward_type = \"continuous\"\n",
    "\n",
    "\n",
    "BASE_DIR = f\"results/cartpole2/rew_{reward_type}_term{SHOULD_TERMINATE}\"\n",
    "traj_data_file = f\"many_good_trajs.pkl\"\n",
    "procesed_data_file = f\"processed_data.pkl\"\n",
    "\n"
   ]
  },
  {
   "cell_type": "code",
   "execution_count": 54,
   "metadata": {},
   "outputs": [
    {
     "name": "stdout",
     "output_type": "stream",
     "text": [
      "Changed working directory to /Users/szepi1991/Code/adaptive_time/results/cartpole2/rew_discrete_termTrue\n",
      "Changed working directory to /Users/szepi1991/Code/adaptive_time\n",
      "shape (2, 4)\n",
      "max [0.01345102 0.00753766 0.00675094 0.00172242]\n"
     ]
    },
    {
     "data": {
      "application/vnd.jupyter.widget-view+json": {
       "model_id": "ddc44691c0b6423fabc2296d3f71696a",
       "version_major": 2,
       "version_minor": 0
      },
      "text/plain": [
       "  0%|          | 0/2 [00:00<?, ?it/s]"
      ]
     },
     "metadata": {},
     "output_type": "display_data"
    },
    {
     "name": "stdout",
     "output_type": "stream",
     "text": [
      "Saved data to results/cartpole2/rew_discrete_termTrue/many_good_trajs.pkl\n",
      "0.0001\n",
      "total_rewards for each traj: [10723. 10708.]\n"
     ]
    }
   ],
   "source": [
    "utils.set_directory_in_project(BASE_DIR, create_dirs=True)  # Just to make the dir.\n",
    "utils.set_directory_in_project()\n",
    "traj_data_path = os.path.join(BASE_DIR, traj_data_file)\n",
    "\n",
    "gc.collect()\n",
    "\n",
    "if GENERATE_NEW_DATA:\n",
    "    seed = 13\n",
    "    dt_scaler = 200.\n",
    "    new_dt = 0.02 / dt_scaler\n",
    "    STEPS_MAX = 20_000\n",
    "    STEPS_BREAK_FROM = 9_000\n",
    "\n",
    "    NUM_TRAJS = 2\n",
    "    # NUM_TRAJS = 20\n",
    "\n",
    "    from adaptive_time import mc2\n",
    "    import adaptive_time.utils\n",
    "    import gymnasium as gym\n",
    "    import random\n",
    "\n",
    "    env = gym.make(\n",
    "        'CartPole-OURS-v2',\n",
    "        discrete_reward=discrete_reward,\n",
    "        should_terminate=SHOULD_TERMINATE,\n",
    "        step_time=new_dt)\n",
    "    _NUM_ACTIONS = 2\n",
    "\n",
    "    phi = run_lib.make_features()\n",
    "\n",
    "    weights_good_policy = np.load(\"cartpole_weights_20240227-102913_ret92516.44719752521.npy\")\n",
    "    # weights_good_policy = np.load(\"cartpole_weights_20240227-102913_ret50756.37604280466.npy\")\n",
    "\n",
    "    def policy(state, num_step, weights, epsilon):\n",
    "        if num_step >= STEPS_BREAK_FROM:\n",
    "            # if random.random() < 0.95:  # spread of 60 at 100 trajs\n",
    "            # if random.random() < 0.55:  # a nice spread\n",
    "            return 0   # Alway push in one direction.\n",
    "\n",
    "        if random.random() < epsilon:\n",
    "            action = env.action_space.sample()\n",
    "            return action\n",
    "\n",
    "        # Otherwise calculate the best action.\n",
    "        x = phi.get_fourier_feature(state)\n",
    "        qs = np.zeros(_NUM_ACTIONS)\n",
    "        for action in range(_NUM_ACTIONS):\n",
    "            x_sa = mc2.phi_sa(x, action)\n",
    "            qs[action] = np.inner(x_sa.flatten(), weights)\n",
    "        # adaptive_time.utils.softmax(qs, 1)\n",
    "        \n",
    "        return adaptive_time.utils.argmax(qs)\n",
    "\n",
    "    run_lib.reset_randomness(seed, env)\n",
    "\n",
    "    def _random_start_state(num):\n",
    "        rand = np.random.standard_normal((num, 4))\n",
    "        # rand *= np.array([[0.01, 0.01, 0.005, 0.002]])\n",
    "        rand *= np.array([[0.01, 0.01, 0.005, 0.002]])\n",
    "        return rand\n",
    "\n",
    "    start_states = _random_start_state(NUM_TRAJS)\n",
    "    print(\"shape\", start_states.shape)\n",
    "    print(\"max\", np.max(start_states, axis=0))\n",
    "\n",
    "    total_rewards = []\n",
    "    reward_sequences = []\n",
    "    traj_lengths = []\n",
    "    angles = []\n",
    "    xs = []\n",
    "    d_angles = []\n",
    "    actions = []\n",
    "    dxs = []\n",
    "    for idx in tqdm(range(NUM_TRAJS)):\n",
    "        start_state = tuple(start_states[idx])\n",
    "        # Tuple[float, float, float, float]\n",
    "        trajectory, early_term = value_est.generate_trajectory(\n",
    "                env, start_state=start_state,\n",
    "                policy=lambda st, sn: policy(st, sn, weights_good_policy, 0.0),\n",
    "                # policy=policy,\n",
    "                termination_prob=0.0, max_steps=STEPS_MAX)\n",
    "\n",
    "        traj_lengths.append(len(trajectory))\n",
    "        rewards = [r for _, _, r, _ in trajectory]\n",
    "        if GRAB_DETAILED_DATA:\n",
    "            actions.append([a for _, a, _, _ in trajectory])\n",
    "            xs.append([s[0] for s, _, _, _ in trajectory])\n",
    "            angles.append([s[2] for s, _, _, _ in trajectory])\n",
    "            d_angles.append([s[3] for s, _, _, _ in trajectory])\n",
    "            dxs.append([s[1] for s, _, _, _ in trajectory])\n",
    "        reward_sequences.append(rewards)\n",
    "        total_rewards.append(sum(rewards))\n",
    "\n",
    "    total_rewards = np.array(total_rewards)\n",
    "    # Reward sequences may be different lengths in the terminating\n",
    "    # case, so we can't make a 2D array.\n",
    "    if not SHOULD_TERMINATE:\n",
    "        reward_sequences = np.array(reward_sequences)\n",
    "        traj_lengths = np.array(traj_lengths)\n",
    "        angles = np.array(angles)\n",
    "        xs = np.array(xs)\n",
    "        d_angles = np.array(d_angles)\n",
    "        actions = np.array(actions)\n",
    "        dxs = np.array(dxs)\n",
    "\n",
    "    if SAVE_TRAJECTORIES:\n",
    "        if GRAB_DETAILED_DATA:\n",
    "            details = (angles, xs, d_angles, actions, dxs)\n",
    "        else:\n",
    "            details = None\n",
    "        all_traj_data = (\n",
    "            total_rewards, reward_sequences, traj_lengths,\n",
    "            details\n",
    "        )\n",
    "        with open(traj_data_path, \"wb\") as f:\n",
    "            pickle.dump(all_traj_data, f)\n",
    "        print(\"Saved data to\", traj_data_path)\n",
    "\n",
    "    print(env.tau)\n",
    "\n",
    "else:\n",
    "    with open(traj_data_path, \"rb\") as f:\n",
    "        all_traj_data = pickle.load(f)\n",
    "    total_rewards, reward_sequences, traj_lengths = all_traj_data[:3]\n",
    "    if GRAB_DETAILED_DATA:\n",
    "        rest = all_traj_data[3:]\n",
    "        if len(rest) == 1:\n",
    "            angles, xs, d_angles, actions, dxs = rest[0]\n",
    "        else:\n",
    "            angles, xs, d_angles, actions, dxs = rest\n",
    "\n",
    "    print(\"Loaded data from\", traj_data_path)\n",
    "\n",
    "del all_traj_data   # Clear up memory.\n",
    "\n",
    "print(\"total_rewards for each traj:\", total_rewards)\n",
    "if hasattr(reward_sequences, \"shape\"):\n",
    "    print(\"all rewards shape if array:\", reward_sequences.shape)\n",
    "num_trajs = len(total_rewards)"
   ]
  },
  {
   "cell_type": "code",
   "execution_count": 55,
   "metadata": {},
   "outputs": [
    {
     "name": "stdout",
     "output_type": "stream",
     "text": [
      "Changed working directory to /Users/szepi1991/Code/adaptive_time/results/cartpole2/rew_discrete_termTrue\n"
     ]
    },
    {
     "data": {
      "text/plain": [
       "26"
      ]
     },
     "execution_count": 55,
     "metadata": {},
     "output_type": "execute_result"
    }
   ],
   "source": [
    "utils.set_directory_in_project(BASE_DIR, create_dirs=True)\n",
    "gc.collect()\n"
   ]
  },
  {
   "cell_type": "markdown",
   "metadata": {},
   "source": [
    "### Test trajectories"
   ]
  },
  {
   "cell_type": "code",
   "execution_count": 145,
   "metadata": {},
   "outputs": [
    {
     "ename": "ValueError",
     "evalue": "setting an array element with a sequence. The requested array has an inhomogeneous shape after 1 dimensions. The detected shape was (2,) + inhomogeneous part.",
     "output_type": "error",
     "traceback": [
      "\u001b[0;31m---------------------------------------------------------------------------\u001b[0m",
      "\u001b[0;31mValueError\u001b[0m                                Traceback (most recent call last)",
      "Cell \u001b[0;32mIn[145], line 4\u001b[0m\n\u001b[1;32m      2\u001b[0m desired_length2 \u001b[38;5;241m=\u001b[39m \u001b[38;5;241m10723\u001b[39m\n\u001b[1;32m      3\u001b[0m total_rewards \u001b[38;5;241m=\u001b[39m np\u001b[38;5;241m.\u001b[39marray([desired_length1, desired_length2])\n\u001b[0;32m----> 4\u001b[0m reward_sequences \u001b[38;5;241m=\u001b[39m \u001b[43mnp\u001b[49m\u001b[38;5;241;43m.\u001b[39;49m\u001b[43marray\u001b[49m\u001b[43m(\u001b[49m\u001b[43m[\u001b[49m\u001b[43m[\u001b[49m\u001b[38;5;241;43m1.0\u001b[39;49m\u001b[43m]\u001b[49m\u001b[43m \u001b[49m\u001b[38;5;241;43m*\u001b[39;49m\u001b[43m \u001b[49m\u001b[43mdesired_length1\u001b[49m\u001b[43m,\u001b[49m\u001b[43m \u001b[49m\u001b[43m[\u001b[49m\u001b[38;5;241;43m1.0\u001b[39;49m\u001b[43m]\u001b[49m\u001b[43m \u001b[49m\u001b[38;5;241;43m*\u001b[39;49m\u001b[43m \u001b[49m\u001b[43mdesired_length2\u001b[49m\u001b[43m]\u001b[49m\u001b[43m)\u001b[49m\n\u001b[1;32m      5\u001b[0m traj_lengths \u001b[38;5;241m=\u001b[39m np\u001b[38;5;241m.\u001b[39marray([desired_length1, desired_length2])\n",
      "\u001b[0;31mValueError\u001b[0m: setting an array element with a sequence. The requested array has an inhomogeneous shape after 1 dimensions. The detected shape was (2,) + inhomogeneous part."
     ]
    }
   ],
   "source": [
    "desired_length1 = 10722\n",
    "desired_length2 = 10723\n",
    "total_rewards = np.array([desired_length1, desired_length2])\n",
    "reward_sequences = np.array([[1.0] * desired_length1 + [1.0] * desired_length2])\n",
    "traj_lengths = np.array([desired_length1, desired_length2])\n",
    "\n"
   ]
  },
  {
   "cell_type": "markdown",
   "metadata": {},
   "source": [
    "### Analyze trajectories"
   ]
  },
  {
   "cell_type": "code",
   "execution_count": null,
   "metadata": {},
   "outputs": [
    {
     "data": {
      "image/png": "[encoded data removed]",
      "text/plain": [
       "<Figure size 640x480 with 1 Axes>"
      ]
     },
     "metadata": {},
     "output_type": "display_data"
    }
   ],
   "source": [
    "plt.hist(total_rewards)\n",
    "plt.savefig('reward_total_distr.png')"
   ]
  },
  {
   "cell_type": "code",
   "execution_count": null,
   "metadata": {},
   "outputs": [
    {
     "name": "stdout",
     "output_type": "stream",
     "text": [
      "10722\n"
     ]
    },
    {
     "data": {
      "image/png": "[encoded data removed]",
      "text/plain": [
       "<Figure size 640x480 with 1 Axes>"
      ]
     },
     "metadata": {},
     "output_type": "display_data"
    }
   ],
   "source": [
    "traj_idx = 0\n",
    "print(total_rewards[traj_idx])\n",
    "plt.plot(reward_sequences[traj_idx])\n",
    "plt.savefig('reward_sample_curve.png')"
   ]
  },
  {
   "cell_type": "markdown",
   "metadata": {},
   "source": [
    "### Deep Traj Analysis"
   ]
  },
  {
   "cell_type": "code",
   "execution_count": null,
   "metadata": {},
   "outputs": [],
   "source": [
    "# fig, ax = plt.subplots(5, 1, figsize=(10, 15))\n",
    "\n",
    "# # Actions -- bin them:\n",
    "# binsize = 100\n",
    "# binned_actions = []\n",
    "# for i in range(0, len(actions[traj_idx]), binsize):\n",
    "#     binned_actions.append(np.mean(actions[traj_idx][i:i+binsize]))\n",
    "# axs = np.arange(0, len(actions[traj_idx]), step=binsize)\n",
    "\n",
    "# ax[0].plot(axs, binned_actions, linestyle=\"none\", marker=\"o\")\n",
    "# ax[0].set_title(\"Actions\")\n",
    "\n",
    "# # ax[0].plot(np.abs(actions[traj_idx]), linestyle=\"none\", marker=\"o\")\n",
    "# ax[1].plot(np.abs(angles[traj_idx]))\n",
    "# ax[1].set_title(\"Angles\")\n",
    "\n",
    "# ax[2].plot(d_angles[traj_idx])\n",
    "# ax[2].set_title(\"Angular velocity\")\n",
    "\n",
    "# ax[3].plot(xs[traj_idx])\n",
    "# ax[3].set_title(\"X position\")\n",
    "\n",
    "# ax[4].plot(dxs[traj_idx])\n",
    "# ax[4].set_title(\"Velocity\")\n",
    "\n",
    "# # for a in ax:\n",
    "# #     a.set_xlim(1000, 1500)\n"
   ]
  },
  {
   "cell_type": "markdown",
   "metadata": {},
   "source": [
    "## Data setup 2: the weights across initial states\n"
   ]
  },
  {
   "cell_type": "code",
   "execution_count": null,
   "metadata": {},
   "outputs": [
    {
     "name": "stdout",
     "output_type": "stream",
     "text": [
      "weights: [0.5 0.5]\n",
      "sum: 1.0\n"
     ]
    }
   ],
   "source": [
    "seed = 43\n",
    "run_lib.reset_randomness(seed, env=None)\n",
    "\n",
    "weights = np.ones((num_trajs,)) / num_trajs\n",
    "# weights = np.random.random((num_trajs,))\n",
    "# weights /= np.sum(weights)\n",
    "\n",
    "print(\"weights:\", weights)\n",
    "print(\"sum:\", np.sum(weights))"
   ]
  },
  {
   "cell_type": "markdown",
   "metadata": {},
   "source": [
    "## Learning"
   ]
  },
  {
   "cell_type": "markdown",
   "metadata": {},
   "source": [
    "Constants"
   ]
  },
  {
   "cell_type": "code",
   "execution_count": null,
   "metadata": {},
   "outputs": [
    {
     "name": "stdout",
     "output_type": "stream",
     "text": [
      "num_runs: 100\n",
      "sample_budget: 1000000\n"
     ]
    }
   ],
   "source": [
    "print(\"num_runs:\", NUM_RUNS)\n",
    "print(\"sample_budget:\", SAMPLE_BUDGET)"
   ]
  },
  {
   "cell_type": "markdown",
   "metadata": {},
   "source": [
    "### Ground truth value"
   ]
  },
  {
   "cell_type": "code",
   "execution_count": null,
   "metadata": {},
   "outputs": [
    {
     "name": "stdout",
     "output_type": "stream",
     "text": [
      "true value: 10722.0\n"
     ]
    }
   ],
   "source": [
    "true_value = total_rewards @ weights\n",
    "print(\"true value:\", true_value)"
   ]
  },
  {
   "cell_type": "markdown",
   "metadata": {},
   "source": [
    "### Learn from samples; with diff samplers"
   ]
  },
  {
   "cell_type": "code",
   "execution_count": null,
   "metadata": {},
   "outputs": [
    {
     "name": "stdout",
     "output_type": "stream",
     "text": [
      "unif_sampler_params: [   1    4   16   64  256 1024]\n",
      "quad_sampler_params: [0.00e+00 1.25e-01 5.00e-01 2.00e+00 8.00e+00 3.20e+01 1.28e+02 5.12e+02]\n"
     ]
    }
   ],
   "source": [
    "unif_sampler_params = np.power(2, np.arange(0, 11, 2))\n",
    "quad_sampler_params = np.concatenate(\n",
    "    (np.array([0]), np.power(2, np.arange(-3.0, 10, 2))), axis=0\n",
    ")\n",
    "\n",
    "print('unif_sampler_params:', unif_sampler_params)\n",
    "print('quad_sampler_params:', quad_sampler_params)\n"
   ]
  },
  {
   "cell_type": "code",
   "execution_count": null,
   "metadata": {},
   "outputs": [],
   "source": [
    "samplers_tried = {\n",
    "    f'q{p}': approx_integrators.AdaptiveQuadratureIntegrator(tolerance=p)\n",
    "    for p in quad_sampler_params\n",
    "}\n",
    "samplers_tried.update({\n",
    "    f'u{p}': approx_integrators.UniformlySpacedIntegrator(p)\n",
    "    for p in unif_sampler_params\n",
    "})\n"
   ]
  },
  {
   "cell_type": "code",
   "execution_count": null,
   "metadata": {},
   "outputs": [],
   "source": [
    "def name_to_param(name):\n",
    "    num = float(name[1:])\n",
    "    if name[0] == 'q':\n",
    "        return num\n",
    "    else:\n",
    "        return int(num)\n",
    "\n",
    "def name_to_type(name):\n",
    "    return name[0]\n",
    "\n",
    "def param_to_name(sampler_char, param):\n",
    "    return f\"{sampler_char}{param}\""
   ]
  },
  {
   "cell_type": "markdown",
   "metadata": {},
   "source": [
    "Since everything other than the start state is deterministic, we can just calculate the approximate integrals for each trajectory with each integrator and store these."
   ]
  },
  {
   "cell_type": "code",
   "execution_count": null,
   "metadata": {},
   "outputs": [
    {
     "data": {
      "application/vnd.jupyter.widget-view+json": {
       "model_id": "d1885b3728b941349b60afab8db344b2",
       "version_major": 2,
       "version_minor": 0
      },
      "text/plain": [
       "  0%|          | 0/14 [00:00<?, ?it/s]"
      ]
     },
     "metadata": {},
     "output_type": "display_data"
    },
    {
     "name": "stdout",
     "output_type": "stream",
     "text": [
      "sampler_name: q0.0\n",
      "sampler_name: q0.125\n",
      "sampler_name: q0.5\n",
      "sampler_name: q2.0\n",
      "sampler_name: q8.0\n",
      "sampler_name: q32.0\n",
      "sampler_name: q128.0\n",
      "sampler_name: q512.0\n",
      "sampler_name: u1\n",
      "sampler_name: u4\n",
      "sampler_name: u16\n",
      "sampler_name: u64\n",
      "sampler_name: u256\n",
      "sampler_name: u1024\n"
     ]
    }
   ],
   "source": [
    "approx_integrals = {}\n",
    "num_pivots = {}\n",
    "\n",
    "for sampler_name, sampler in tqdm(samplers_tried.items()):\n",
    "    print(\"sampler_name:\", sampler_name)\n",
    "    approx_integrals[sampler_name] = []\n",
    "    num_pivots[sampler_name] = []\n",
    "    for idx, reward_seq in enumerate(reward_sequences):\n",
    "        integral, all_pivots = sampler.integrate(reward_seq)\n",
    "        approx_integrals[sampler_name].append(integral)\n",
    "        num_pivots[sampler_name].append(len(all_pivots))\n",
    "    approx_integrals[sampler_name] = np.array(approx_integrals[sampler_name])\n",
    "    num_pivots[sampler_name] = np.array(num_pivots[sampler_name])\n",
    "\n"
   ]
  },
  {
   "cell_type": "code",
   "execution_count": null,
   "metadata": {},
   "outputs": [
    {
     "name": "stdout",
     "output_type": "stream",
     "text": [
      "Sample data for trajectory 0:\n",
      "* True return: 10722\n",
      "* Approx integrals:\n"
     ]
    },
    {
     "data": {
      "text/plain": [
       "{'q0.0': 10722.0,\n",
       " 'q0.125': 10722.0,\n",
       " 'q0.5': 10722.0,\n",
       " 'q2.0': 10722.0,\n",
       " 'q8.0': 10722.0,\n",
       " 'q32.0': 10722.0,\n",
       " 'q128.0': 10722.0,\n",
       " 'q512.0': 10722.0,\n",
       " 'u1': 10722.0,\n",
       " 'u4': 10722.0,\n",
       " 'u16': 10722.0,\n",
       " 'u64': 10722.0,\n",
       " 'u256': 10722.0,\n",
       " 'u1024': 10722.0}"
      ]
     },
     "execution_count": 126,
     "metadata": {},
     "output_type": "execute_result"
    }
   ],
   "source": [
    "traj_id = 0\n",
    "\n",
    "print(\"Sample data for trajectory 0:\")\n",
    "print(\"* True return:\", total_rewards[traj_id])\n",
    "print(\"* Approx integrals:\")\n",
    "{k: v[traj_id] for k, v in approx_integrals.items()}\n"
   ]
  },
  {
   "cell_type": "code",
   "execution_count": null,
   "metadata": {},
   "outputs": [
    {
     "data": {
      "text/plain": [
       "{'q0.0': 3,\n",
       " 'q0.125': 3,\n",
       " 'q0.5': 3,\n",
       " 'q2.0': 3,\n",
       " 'q8.0': 3,\n",
       " 'q32.0': 3,\n",
       " 'q128.0': 3,\n",
       " 'q512.0': 3,\n",
       " 'u1': 10722,\n",
       " 'u4': 2682,\n",
       " 'u16': 672,\n",
       " 'u64': 169,\n",
       " 'u256': 43,\n",
       " 'u1024': 12}"
      ]
     },
     "execution_count": 127,
     "metadata": {},
     "output_type": "execute_result"
    }
   ],
   "source": [
    "traj_id = 0\n",
    "\n",
    "{k: v[traj_id] for k, v in num_pivots.items()}\n"
   ]
  },
  {
   "cell_type": "markdown",
   "metadata": {},
   "source": [
    "Now we just keep sampling the start state and integrate accordingly."
   ]
  },
  {
   "cell_type": "code",
   "execution_count": null,
   "metadata": {},
   "outputs": [
    {
     "data": {
      "text/plain": [
       "46839"
      ]
     },
     "execution_count": 128,
     "metadata": {},
     "output_type": "execute_result"
    }
   ],
   "source": [
    "gc.collect()"
   ]
  },
  {
   "cell_type": "code",
   "execution_count": null,
   "metadata": {},
   "outputs": [
    {
     "data": {
      "application/vnd.jupyter.widget-view+json": {
       "model_id": "2554f5bad6804ad2bfe39297960bce73",
       "version_major": 2,
       "version_minor": 0
      },
      "text/plain": [
       "  0%|          | 0/14 [00:00<?, ?it/s]"
      ]
     },
     "metadata": {},
     "output_type": "display_data"
    },
    {
     "name": "stdout",
     "output_type": "stream",
     "text": [
      "sampler_name: q0.0\n"
     ]
    },
    {
     "data": {
      "application/vnd.jupyter.widget-view+json": {
       "model_id": "6d65c8534ab747c0ab92bf54fd8cfac1",
       "version_major": 2,
       "version_minor": 0
      },
      "text/plain": [
       "  0%|          | 0/100 [00:00<?, ?it/s]"
      ]
     },
     "metadata": {},
     "output_type": "display_data"
    },
    {
     "name": "stdout",
     "output_type": "stream",
     "text": [
      "sampler_name: q0.125\n"
     ]
    },
    {
     "data": {
      "application/vnd.jupyter.widget-view+json": {
       "model_id": "388162d37b57465198d9ec641f8f48d7",
       "version_major": 2,
       "version_minor": 0
      },
      "text/plain": [
       "  0%|          | 0/100 [00:00<?, ?it/s]"
      ]
     },
     "metadata": {},
     "output_type": "display_data"
    },
    {
     "name": "stdout",
     "output_type": "stream",
     "text": [
      "sampler_name: q0.5\n"
     ]
    },
    {
     "data": {
      "application/vnd.jupyter.widget-view+json": {
       "model_id": "fa9239d1845f4578862718ea4d6927db",
       "version_major": 2,
       "version_minor": 0
      },
      "text/plain": [
       "  0%|          | 0/100 [00:00<?, ?it/s]"
      ]
     },
     "metadata": {},
     "output_type": "display_data"
    },
    {
     "name": "stdout",
     "output_type": "stream",
     "text": [
      "sampler_name: q2.0\n"
     ]
    },
    {
     "data": {
      "application/vnd.jupyter.widget-view+json": {
       "model_id": "6b97e3712f524865a53edfa19b2dc88c",
       "version_major": 2,
       "version_minor": 0
      },
      "text/plain": [
       "  0%|          | 0/100 [00:00<?, ?it/s]"
      ]
     },
     "metadata": {},
     "output_type": "display_data"
    },
    {
     "name": "stdout",
     "output_type": "stream",
     "text": [
      "sampler_name: q8.0\n"
     ]
    },
    {
     "data": {
      "application/vnd.jupyter.widget-view+json": {
       "model_id": "8ae6f2bfb5e142ba999befe541f9710c",
       "version_major": 2,
       "version_minor": 0
      },
      "text/plain": [
       "  0%|          | 0/100 [00:00<?, ?it/s]"
      ]
     },
     "metadata": {},
     "output_type": "display_data"
    },
    {
     "name": "stdout",
     "output_type": "stream",
     "text": [
      "sampler_name: q32.0\n"
     ]
    },
    {
     "data": {
      "application/vnd.jupyter.widget-view+json": {
       "model_id": "9f3a46d422a646c5894c9d03e6618e2d",
       "version_major": 2,
       "version_minor": 0
      },
      "text/plain": [
       "  0%|          | 0/100 [00:00<?, ?it/s]"
      ]
     },
     "metadata": {},
     "output_type": "display_data"
    },
    {
     "name": "stdout",
     "output_type": "stream",
     "text": [
      "sampler_name: q128.0\n"
     ]
    },
    {
     "data": {
      "application/vnd.jupyter.widget-view+json": {
       "model_id": "3e54a49e8a734992a69a4048dad399e9",
       "version_major": 2,
       "version_minor": 0
      },
      "text/plain": [
       "  0%|          | 0/100 [00:00<?, ?it/s]"
      ]
     },
     "metadata": {},
     "output_type": "display_data"
    },
    {
     "name": "stdout",
     "output_type": "stream",
     "text": [
      "sampler_name: q512.0\n"
     ]
    },
    {
     "data": {
      "application/vnd.jupyter.widget-view+json": {
       "model_id": "8f8c3e64a659453c862d05c5887bab34",
       "version_major": 2,
       "version_minor": 0
      },
      "text/plain": [
       "  0%|          | 0/100 [00:00<?, ?it/s]"
      ]
     },
     "metadata": {},
     "output_type": "display_data"
    },
    {
     "name": "stdout",
     "output_type": "stream",
     "text": [
      "sampler_name: u1\n"
     ]
    },
    {
     "data": {
      "application/vnd.jupyter.widget-view+json": {
       "model_id": "1f010ed5cb4c4cda862a89f3b60f3183",
       "version_major": 2,
       "version_minor": 0
      },
      "text/plain": [
       "  0%|          | 0/100 [00:00<?, ?it/s]"
      ]
     },
     "metadata": {},
     "output_type": "display_data"
    },
    {
     "name": "stdout",
     "output_type": "stream",
     "text": [
      "sampler_name: u4\n"
     ]
    },
    {
     "data": {
      "application/vnd.jupyter.widget-view+json": {
       "model_id": "b7939d7e8fb1433ca0a4ab7139700fdb",
       "version_major": 2,
       "version_minor": 0
      },
      "text/plain": [
       "  0%|          | 0/100 [00:00<?, ?it/s]"
      ]
     },
     "metadata": {},
     "output_type": "display_data"
    },
    {
     "name": "stdout",
     "output_type": "stream",
     "text": [
      "sampler_name: u16\n"
     ]
    },
    {
     "data": {
      "application/vnd.jupyter.widget-view+json": {
       "model_id": "b3e378ec4645427887abce8e7b68f1e0",
       "version_major": 2,
       "version_minor": 0
      },
      "text/plain": [
       "  0%|          | 0/100 [00:00<?, ?it/s]"
      ]
     },
     "metadata": {},
     "output_type": "display_data"
    },
    {
     "name": "stdout",
     "output_type": "stream",
     "text": [
      "sampler_name: u64\n"
     ]
    },
    {
     "data": {
      "application/vnd.jupyter.widget-view+json": {
       "model_id": "08c2319bb4b645918f68d5d1ced9ee72",
       "version_major": 2,
       "version_minor": 0
      },
      "text/plain": [
       "  0%|          | 0/100 [00:00<?, ?it/s]"
      ]
     },
     "metadata": {},
     "output_type": "display_data"
    },
    {
     "name": "stdout",
     "output_type": "stream",
     "text": [
      "sampler_name: u256\n"
     ]
    },
    {
     "data": {
      "application/vnd.jupyter.widget-view+json": {
       "model_id": "2ea1d077b9cc4180bb8e7856c5679b29",
       "version_major": 2,
       "version_minor": 0
      },
      "text/plain": [
       "  0%|          | 0/100 [00:00<?, ?it/s]"
      ]
     },
     "metadata": {},
     "output_type": "display_data"
    },
    {
     "name": "stdout",
     "output_type": "stream",
     "text": [
      "sampler_name: u1024\n"
     ]
    },
    {
     "data": {
      "application/vnd.jupyter.widget-view+json": {
       "model_id": "850c69ceac474d64ba744cb9f8536381",
       "version_major": 2,
       "version_minor": 0
      },
      "text/plain": [
       "  0%|          | 0/100 [00:00<?, ?it/s]"
      ]
     },
     "metadata": {},
     "output_type": "display_data"
    },
    {
     "data": {
      "text/plain": [
       "152"
      ]
     },
     "execution_count": 129,
     "metadata": {},
     "output_type": "execute_result"
    }
   ],
   "source": [
    "\n",
    "seed = 43\n",
    "\n",
    "samplers_to_learn_with = samplers_tried\n",
    "# samplers_to_learn_with = {\n",
    "#     'u1024': samplers_tried['u1024'],\n",
    "# }\n",
    "\n",
    "data = value_est.simulate_learning(\n",
    "        seed, samplers_to_learn_with, SAMPLE_BUDGET, num_runs=NUM_RUNS,\n",
    "        start_state_weights=weights,\n",
    "        approx_integrals=approx_integrals, num_pivots=num_pivots,\n",
    "        tqdm=tqdm)\n",
    "\n",
    "\n",
    "gc.collect()\n",
    "# with open(procesed_data_file, \"wb\") as f:\n",
    "#     pickle.dump(data, f)\n"
   ]
  },
  {
   "cell_type": "code",
   "execution_count": null,
   "metadata": {},
   "outputs": [],
   "source": []
  },
  {
   "cell_type": "code",
   "execution_count": null,
   "metadata": {},
   "outputs": [
    {
     "data": {
      "text/plain": [
       "dict_keys(['running_v_estimate', 'total_pivots'])"
      ]
     },
     "execution_count": 130,
     "metadata": {},
     "output_type": "execute_result"
    }
   ],
   "source": [
    "list(data.values())[0][0].keys()"
   ]
  },
  {
   "cell_type": "code",
   "execution_count": null,
   "metadata": {},
   "outputs": [],
   "source": [
    "# # Verify final means.\n",
    "# for sampler_name, all_runs_data in data.items():\n",
    "#     for run_idx, run_data in enumerate(all_runs_data):\n",
    "#         mean_of_indiv = np.mean(run_data[\"values_of_trajs\"])\n",
    "#         mean_updated = run_data[\"running_v_estimate\"][-1]\n",
    "#         if run_idx == 0:\n",
    "#             print(\"mean_total:\", mean_of_indiv, \"mean_updated:\", mean_updated)\n",
    "#         if abs(mean_of_indiv - mean_updated) > 0.01:\n",
    "#             assert False, (\n",
    "#                 f\"Means don't match for {sampler_name}, run {run_idx}: \"\n",
    "#                 f\"{mean_of_indiv} vs {mean_updated}\")\n"
   ]
  },
  {
   "cell_type": "code",
   "execution_count": null,
   "metadata": {},
   "outputs": [
    {
     "name": "stdout",
     "output_type": "stream",
     "text": [
      "interpolating\n"
     ]
    },
    {
     "data": {
      "application/vnd.jupyter.widget-view+json": {
       "model_id": "9faca1bafbc445c88e396aca6ed7a4f5",
       "version_major": 2,
       "version_minor": 0
      },
      "text/plain": [
       "  0%|          | 0/14 [00:00<?, ?it/s]"
      ]
     },
     "metadata": {},
     "output_type": "display_data"
    },
    {
     "name": "stdout",
     "output_type": "stream",
     "text": [
      "finding means and stderrs\n"
     ]
    },
    {
     "data": {
      "application/vnd.jupyter.widget-view+json": {
       "model_id": "72efae03faaa413b871e337c339dc51f",
       "version_major": 2,
       "version_minor": 0
      },
      "text/plain": [
       "  0%|          | 0/14 [00:00<?, ?it/s]"
      ]
     },
     "metadata": {},
     "output_type": "display_data"
    },
    {
     "name": "stderr",
     "output_type": "stream",
     "text": [
      "/Users/szepi1991/Code/adaptive_time/code/adaptive_time/plot_utils.py:70: RuntimeWarning: Mean of empty slice\n",
      "  \n",
      "/Users/szepi1991/Code/adaptive_time/.venv/lib/python3.11/site-packages/numpy/lib/nanfunctions.py:1879: RuntimeWarning: Degrees of freedom <= 0 for slice.\n",
      "  var = nanvar(a, axis=axis, dtype=dtype, out=out, ddof=ddof,\n"
     ]
    }
   ],
   "source": [
    "gc.collect()\n",
    "\n",
    "_values_data = plot_utils.process_across_runs(\n",
    "        data, \"total_pivots\", \"running_v_estimate\", right=np.nan, interp_step=BUDGET_INTERP_STEP, tqdm=tqdm)\n",
    "\n",
    "gc.collect()\n",
    "\n",
    "_means = {\n",
    "    k: np.abs(val - true_value)\n",
    "    for k, val in _values_data.means.items()\n",
    "}\n",
    "error_data = _values_data._replace(means=_means)\n",
    "\n",
    "error_y_label = \"$|\\hat{V}(S_0) - v_\\pi(S_0)|$\""
   ]
  },
  {
   "cell_type": "code",
   "execution_count": null,
   "metadata": {},
   "outputs": [
    {
     "data": {
      "text/plain": [
       "{'q0.0': array([10722., 10722., 10722., ...,    nan,    nan,    nan]),\n",
       " 'q0.125': array([10722., 10722., 10722., ...,    nan,    nan,    nan]),\n",
       " 'q0.5': array([10722., 10722., 10722., ...,    nan,    nan,    nan]),\n",
       " 'q2.0': array([10722., 10722., 10722., ...,    nan,    nan,    nan]),\n",
       " 'q8.0': array([10722., 10722., 10722., ...,    nan,    nan,    nan]),\n",
       " 'q32.0': array([10722., 10722., 10722., ...,    nan,    nan,    nan]),\n",
       " 'q128.0': array([10722., 10722., 10722., ...,    nan,    nan,    nan]),\n",
       " 'q512.0': array([10722., 10722., 10722., ...,    nan,    nan,    nan]),\n",
       " 'u1': array([10722., 10722., 10722., ..., 10722., 10722., 10722.]),\n",
       " 'u4': array([10722., 10722., 10722., ...,    nan,    nan,    nan]),\n",
       " 'u16': array([10722., 10722., 10722., ...,    nan,    nan,    nan]),\n",
       " 'u64': array([10722., 10722., 10722., ...,    nan,    nan,    nan]),\n",
       " 'u256': array([10722., 10722., 10722., ...,    nan,    nan,    nan]),\n",
       " 'u1024': array([10722., 10722., 10722., ...,    nan,    nan,    nan])}"
      ]
     },
     "execution_count": 133,
     "metadata": {},
     "output_type": "execute_result"
    }
   ],
   "source": [
    "_values_data.means"
   ]
  },
  {
   "cell_type": "code",
   "execution_count": null,
   "metadata": {},
   "outputs": [
    {
     "name": "stdout",
     "output_type": "stream",
     "text": [
      "step reward, term if falls\n"
     ]
    }
   ],
   "source": [
    "setting_name = \"step reward\" if discrete_reward else \"smooth reward\"\n",
    "setting_name += \", \"\n",
    "setting_name += \"term if falls\" if SHOULD_TERMINATE else \"(20k steps)\"\n",
    "print(setting_name)\n",
    "\n",
    "title = f\"setting: {setting_name}\""
   ]
  },
  {
   "cell_type": "markdown",
   "metadata": {},
   "source": [
    "## Plots: Error vs Samples [commented out]"
   ]
  },
  {
   "cell_type": "code",
   "execution_count": null,
   "metadata": {},
   "outputs": [],
   "source": [
    "plot_space = SAMPLE_BUDGET / 20."
   ]
  },
  {
   "cell_type": "markdown",
   "metadata": {},
   "source": [
    "#### Uniforms"
   ]
  },
  {
   "cell_type": "code",
   "execution_count": null,
   "metadata": {},
   "outputs": [
    {
     "data": {
      "image/png": "[encoded data removed]",
      "text/plain": [
       "<Figure size 640x480 with 1 Axes>"
      ]
     },
     "metadata": {},
     "output_type": "display_data"
    }
   ],
   "source": [
    "ax = plot_utils.default_plot_mean_from_proc_data(\n",
    "    error_data, \"Number of Samples\", error_y_label,\n",
    "    title=title, show=False, key_filter=lambda x: \"u\" in x,\n",
    "    add_stderr=True)\n",
    "\n",
    "ax.set_xlim(-plot_space, SAMPLE_BUDGET + plot_space)\n",
    "plt.savefig('unif_lin.png')\n",
    "\n"
   ]
  },
  {
   "cell_type": "code",
   "execution_count": null,
   "metadata": {},
   "outputs": [
    {
     "data": {
      "image/png": "[encoded data removed]",
      "text/plain": [
       "<Figure size 640x480 with 1 Axes>"
      ]
     },
     "metadata": {},
     "output_type": "display_data"
    }
   ],
   "source": [
    "ax = plot_utils.default_plot_mean_from_proc_data(\n",
    "    error_data, \"Number of Samples\", error_y_label,\n",
    "    title=title, show=False, key_filter=lambda x: \"u\" in x,\n",
    "    add_stderr=True)\n",
    "\n",
    "ax.set_xlim(-plot_space, SAMPLE_BUDGET + plot_space)\n",
    "ax.set_ylim(-0.001, 0.5)\n",
    "\n",
    "plt.savefig('unif_lin_zoom.png')\n",
    "\n"
   ]
  },
  {
   "cell_type": "code",
   "execution_count": null,
   "metadata": {},
   "outputs": [
    {
     "name": "stderr",
     "output_type": "stream",
     "text": [
      "/var/folders/xt/69nn93l959l31g_3b686nmsr0000gn/T/ipykernel_99752/1463412043.py:6: UserWarning: Data has no positive values, and therefore cannot be log-scaled.\n",
      "  ax.set_yscale('log')\n",
      "/var/folders/xt/69nn93l959l31g_3b686nmsr0000gn/T/ipykernel_99752/1463412043.py:9: UserWarning: Attempt to set non-positive xlim on a log-scaled axis will be ignored.\n",
      "  ax.set_xlim(-plot_space, SAMPLE_BUDGET + plot_space)\n"
     ]
    },
    {
     "data": {
      "image/png": "[encoded data removed]",
      "text/plain": [
       "<Figure size 640x480 with 1 Axes>"
      ]
     },
     "metadata": {},
     "output_type": "display_data"
    }
   ],
   "source": [
    "ax = plot_utils.default_plot_mean_from_proc_data(\n",
    "    error_data, \"Number of Samples\", error_y_label,\n",
    "    title=title, show=False, key_filter=lambda x: \"u\" in x,\n",
    "    add_stderr=True)\n",
    "\n",
    "ax.set_yscale('log')\n",
    "ax.set_xscale('log')\n",
    "\n",
    "ax.set_xlim(-plot_space, SAMPLE_BUDGET + plot_space)\n",
    "\n",
    "plt.savefig('unif_loglog.png')\n",
    "\n"
   ]
  },
  {
   "cell_type": "code",
   "execution_count": null,
   "metadata": {},
   "outputs": [],
   "source": [
    "# ax = plot_utils.default_plot_mean_from_proc_data(\n",
    "#     error_data, \"Number of Samples\", error_y_label,\n",
    "#     title=title, show=False, key_filter=lambda x: \"u\" in x,\n",
    "#     add_stderr=True)\n",
    "\n",
    "# ax.set_yscale('log')\n",
    "# # ax.set_xscale('log')\n",
    "# ax.set_xlim(-plot_space, SAMPLE_BUDGET + plot_space)\n",
    "\n",
    "# plt.savefig('unif_ylog.png')\n",
    "\n"
   ]
  },
  {
   "cell_type": "code",
   "execution_count": null,
   "metadata": {},
   "outputs": [],
   "source": [
    "\n",
    "# ax = plot_utils.default_plot_mean_from_proc_data(\n",
    "#     error_data, \"Number of Samples\", error_y_label,\n",
    "#     title=title, show=False, key_filter=lambda x: \"q\" in x,\n",
    "#     add_stderr=True)\n",
    "\n",
    "# ax.set_ylim(-1, 15)\n",
    "# # ax.set_yscale('log')\n",
    "# ax.set_xlim(-plot_space, SAMPLE_BUDGET + plot_space)\n",
    "\n",
    "\n",
    "# plt.savefig('quad_lin_zoom.png')\n",
    "\n",
    "# plt.show()\n",
    "\n"
   ]
  },
  {
   "cell_type": "code",
   "execution_count": null,
   "metadata": {},
   "outputs": [],
   "source": [
    "\n",
    "# ax = plot_utils.default_plot_mean_from_proc_data(\n",
    "#     error_data, \"Number of Samples\", error_y_label,\n",
    "#     title=title, show=False, key_filter=lambda x: \"q\" in x,\n",
    "#     add_stderr=True)\n",
    "\n",
    "# # ax.set_ylim(-2, 15)\n",
    "# ax.set_yscale('log')\n",
    "# ax.set_xlim(-plot_space, SAMPLE_BUDGET + plot_space)\n",
    "\n",
    "\n",
    "# plt.savefig('quad_ylog.png')\n",
    "\n",
    "# plt.show()\n",
    "\n"
   ]
  },
  {
   "cell_type": "code",
   "execution_count": null,
   "metadata": {},
   "outputs": [
    {
     "name": "stderr",
     "output_type": "stream",
     "text": [
      "/var/folders/xt/69nn93l959l31g_3b686nmsr0000gn/T/ipykernel_99752/3271312997.py:6: UserWarning: Data has no positive values, and therefore cannot be log-scaled.\n",
      "  ax.set_yscale('log')\n"
     ]
    },
    {
     "data": {
      "image/png": "[encoded data removed]",
      "text/plain": [
       "<Figure size 640x480 with 1 Axes>"
      ]
     },
     "metadata": {},
     "output_type": "display_data"
    }
   ],
   "source": [
    "\n",
    "ax = plot_utils.default_plot_mean_from_proc_data(\n",
    "    error_data, \"Number of Samples\", error_y_label,\n",
    "    title=title, show=False, key_filter=lambda x: \"q\" in x,\n",
    "    add_stderr=True)\n",
    "\n",
    "ax.set_yscale('log')\n",
    "ax.set_xscale('log')\n",
    "# ax.set_xlim(-plot_space, SAMPLE_BUDGET + plot_space)\n",
    "\n",
    "plt.savefig('quad_loglog.png')\n",
    "\n",
    "plt.show()\n",
    "\n"
   ]
  },
  {
   "cell_type": "code",
   "execution_count": null,
   "metadata": {},
   "outputs": [],
   "source": [
    "# good = [\"u1\", \"u50\", \"u500\", \"q0\", \"q1\", \"q100\"]\n",
    "\n",
    "# ax = plot_utils.default_plot_mean_from_proc_data(\n",
    "#     error_data, \"Number of Samples\", error_y_label,\n",
    "#     title=title, show=False, key_filter=lambda x: x in good,\n",
    "#     add_stderr=True)\n",
    "\n",
    "# # ax.set_ylim(-2, 40)\n",
    "# ax.set_xscale('log')\n",
    "# ax.set_yscale('log')\n",
    "# ax.set_xlim(-plot_space, SAMPLE_BUDGET + plot_space)\n",
    "\n",
    "\n",
    "# plt.savefig('select_loglog.png')\n",
    "\n",
    "# plt.show()\n",
    "\n"
   ]
  },
  {
   "cell_type": "markdown",
   "metadata": {},
   "source": [
    "## Error vs Param (Tolerance/Interval) Plots"
   ]
  },
  {
   "cell_type": "code",
   "execution_count": null,
   "metadata": {},
   "outputs": [
    {
     "ename": "AssertionError",
     "evalue": "",
     "output_type": "error",
     "traceback": [
      "\u001b[0;31m---------------------------------------------------------------------------\u001b[0m",
      "\u001b[0;31mAssertionError\u001b[0m                            Traceback (most recent call last)",
      "Cell \u001b[0;32mIn[144], line 1\u001b[0m\n\u001b[0;32m----> 1\u001b[0m \u001b[38;5;28;01massert\u001b[39;00m \u001b[38;5;28;01mFalse\u001b[39;00m\n",
      "\u001b[0;31mAssertionError\u001b[0m: "
     ]
    }
   ],
   "source": [
    "assert False"
   ]
  },
  {
   "cell_type": "code",
   "execution_count": null,
   "metadata": {},
   "outputs": [
    {
     "data": {
      "text/plain": [
       "dict_keys(['q0.0', 'q0.125', 'q0.5', 'q2.0', 'q8.0', 'q32.0', 'q128.0', 'q512.0', 'u1', 'u4', 'u16', 'u64', 'u256', 'u1024'])"
      ]
     },
     "execution_count": 35,
     "metadata": {},
     "output_type": "execute_result"
    }
   ],
   "source": [
    "error_data.means.keys()"
   ]
  },
  {
   "cell_type": "code",
   "execution_count": null,
   "metadata": {},
   "outputs": [
    {
     "name": "stdout",
     "output_type": "stream",
     "text": [
      "\n",
      "Method: uniform\n"
     ]
    },
    {
     "data": {
      "application/vnd.jupyter.widget-view+json": {
       "model_id": "d550011f2d6d466394db2893cf71031c",
       "version_major": 2,
       "version_minor": 0
      },
      "text/plain": [
       "  0%|          | 0/4 [00:00<?, ?it/s]"
      ]
     },
     "metadata": {},
     "output_type": "display_data"
    },
    {
     "name": "stdout",
     "output_type": "stream",
     "text": [
      "\n",
      "Budget:  1000\n",
      "xs [1, 4, 16, 64, 256, 1024]\n",
      "y_means: [0.18       0.22       0.88325421 0.1730971  0.38376752 0.06792934]\n",
      "y_stderrs: [1.31086079 1.18835853 0.92388678 0.49523179 0.2794966  0.11905897]\n",
      "\n",
      "Budget:  10000\n",
      "xs [1, 4, 16, 64, 256, 1024]\n",
      "y_means: [0.18       1.13354049 0.39923393 0.06596277 0.06358109 0.01332044]\n",
      "y_stderrs: [1.31086079 0.65865304 0.28154451 0.15987929 0.07938586 0.04496184]\n",
      "\n",
      "Budget:  100000\n",
      "xs [1, 4, 16, 64, 256, 1024]\n",
      "y_means: [0.40152358 0.1692885  0.16684964 0.03551327 0.01893035 0.0117664 ]\n",
      "y_stderrs: [0.44297972 0.18589826 0.10845457 0.05037754 0.02404123 0.01134396]\n",
      "\n",
      "Budget:  1000000\n",
      "xs [1, 4, 16, 64, 256, 1024]\n",
      "y_means: [0.21298698 0.12000248 0.06896397 0.00501472 0.00646616 0.0020374 ]\n",
      "y_stderrs: [0.13071169 0.05872932 0.03252049 0.01555451 0.0074991  0.0042287 ]\n",
      "\n",
      "Method: quadrature\n"
     ]
    },
    {
     "data": {
      "application/vnd.jupyter.widget-view+json": {
       "model_id": "ef6870c3f4a4432e98e604d6a3edb3b6",
       "version_major": 2,
       "version_minor": 0
      },
      "text/plain": [
       "  0%|          | 0/4 [00:00<?, ?it/s]"
      ]
     },
     "metadata": {},
     "output_type": "display_data"
    },
    {
     "name": "stderr",
     "output_type": "stream",
     "text": [
      "No artists with labels found to put in legend.  Note that artists whose label start with an underscore are ignored when legend() is called with no argument.\n",
      "No artists with labels found to put in legend.  Note that artists whose label start with an underscore are ignored when legend() is called with no argument.\n"
     ]
    },
    {
     "name": "stdout",
     "output_type": "stream",
     "text": [
      "\n",
      "Budget:  1000\n",
      "xs [0.0, 0.125, 0.5, 2.0, 8.0, 32.0, 128.0, 512.0]\n",
      "y_means: [0.0490851  0.03831068 0.09795952 0.0531025  0.06262208 0.00746081\n",
      " 0.05963158 0.0992179 ]\n",
      "y_stderrs: [0.07240773 0.07132644 0.05997242 0.06777608 0.06071153 0.06679261\n",
      " 0.07403673 0.0604116 ]\n",
      "\n",
      "Budget:  10000\n",
      "xs [0.0, 0.125, 0.5, 2.0, 8.0, 32.0, 128.0, 512.0]\n",
      "y_means: [0.00488299 0.00525297 0.028792   0.02652099 0.05233903 0.01653197\n",
      " 0.018245   0.01704298]\n",
      "y_stderrs: [0.01914987 0.02051932 0.02054567 0.02160251 0.01985077 0.02227956\n",
      " 0.02080877 0.01856587]\n",
      "\n",
      "Budget:  100000\n",
      "xs [0.0, 0.125, 0.5, 2.0, 8.0, 32.0, 128.0, 512.0]\n",
      "y_means: [0.0018569 0.0098289 0.002266  0.0078539 0.0004813 0.0048266 0.0083505\n",
      " 0.0014367]\n",
      "y_stderrs: [0.00650108 0.00672801 0.00641264 0.00635447 0.00660173 0.00685755\n",
      " 0.00747021 0.00637717]\n",
      "\n",
      "Budget:  1000000\n",
      "xs [0.0, 0.125, 0.5, 2.0, 8.0, 32.0, 128.0, 512.0]\n",
      "y_means: [0.00133015 0.00047616 0.00205226 0.00061714 0.00107873 0.00147522\n",
      " 0.00153765 0.00088651]\n",
      "y_stderrs: [0.00215981 0.00222572 0.00218435 0.00200119 0.00209725 0.00213739\n",
      " 0.00212715 0.00197084]\n"
     ]
    },
    {
     "data": {
      "image/png": "[encoded data removed]",
      "text/plain": [
       "<Figure size 1000x500 with 2 Axes>"
      ]
     },
     "metadata": {},
     "output_type": "display_data"
    }
   ],
   "source": [
    "\n",
    "# These must be multiples of BUDGET_INTERP_STEP (usually 1000).\n",
    "budgets_to_check = np.power(10, np.arange(3, 7, 1))\n",
    "if SAMPLE_BUDGET >= 2_000_000:\n",
    "    budgets_to_check *= 2\n",
    "\n",
    "\n",
    "# budgets_to_check = np.power(10, np.arange(2, 7, 1))\n",
    "\n",
    "# ax = plot_utils.default_plot_mean_from_proc_data(\n",
    "#     error_data, \"Number of Samples\", error_y_label,\n",
    "#     title=title, show=False, key_filter=lambda x: x in good,\n",
    "#     add_stderr=True)\n",
    "\n",
    "fig, axes = plt.subplots(\n",
    "    nrows=1, ncols=2, figsize=(10, 5), layout=\"constrained\", sharey=True)\n",
    "\n",
    "# axes[0] will get the uniform results, axes[1] the quadrature results.\n",
    "\n",
    "# Gather the data for the points on the x-axis.\n",
    "all_methods = error_data.means.keys()\n",
    "unif_methods = {\n",
    "    k: name_to_param(k) for k in all_methods if name_to_type(k) == \"u\"}\n",
    "quad_methods = {\n",
    "    k: name_to_param(k) for k in all_methods if name_to_type(k) == \"q\"}\n",
    "\n",
    "unif_xs = sorted(unif_methods.values())\n",
    "quad_xs = sorted(quad_methods.values())\n",
    "\n",
    "for ax_idx, ax, xs, method_char in zip(range(2), axes, (unif_xs, quad_xs), (\"u\", \"q\")):\n",
    "    print()\n",
    "    print(\"Method:\", \"uniform\" if method_char == \"u\" else \"quadrature\")\n",
    "    for budget_for_curve in tqdm(budgets_to_check):\n",
    "        print()\n",
    "        print(\"Budget: \", budget_for_curve)\n",
    "        budget_idx = int(budget_for_curve / BUDGET_INTERP_STEP)\n",
    "        y_means = []\n",
    "        y_stderrs = []\n",
    "        try:\n",
    "            for x in xs:\n",
    "                y_means.append(error_data.means[param_to_name(method_char, x)][budget_idx])\n",
    "                y_stderrs.append(error_data.stderrs[param_to_name(method_char, x)][budget_idx])\n",
    "                # y_means.append(np.nanmean(env_result[x][:, budget_idx]))\n",
    "                # y_stderrs.append(np.nanstd(env_result[x][:, budget_idx]) / np.sqrt(num_seeds))\n",
    "            # y_means = np.log2(np.array(y_means))\n",
    "            # y_stderrs = np.log2(np.array(y_stderrs))\n",
    "                \n",
    "            y_means = np.array(y_means)\n",
    "            y_stderrs = np.array(y_stderrs)\n",
    "\n",
    "            ax.plot(\n",
    "                xs,\n",
    "                y_means,\n",
    "                label=\"budget {:.0e}\".format(budget_for_curve) if ax_idx == 0 else \"\"\n",
    "            )\n",
    "            ax.fill_between(\n",
    "                xs,\n",
    "                (y_means - y_stderrs),\n",
    "                (y_means + y_stderrs),\n",
    "                alpha=0.1\n",
    "            )\n",
    "\n",
    "            print(\"xs\", xs)\n",
    "            print(\"y_means:\", y_means)\n",
    "            print(\"y_stderrs:\", y_stderrs)\n",
    "        except IndexError:\n",
    "            pass\n",
    "\n",
    "    if method_char == \"u\":\n",
    "        ax.set_ylabel(error_y_label)\n",
    "        ax.set_xlabel(\"Sampling Interval\")\n",
    "        ax.set_title(\"Method: Uniform\")\n",
    "    else:\n",
    "        ax.set_xlabel(\"Tolerance\")\n",
    "        ax.set_title(\"Method: Adaptive\")\n",
    "\n",
    "    ax.set_xscale('log')\n",
    "    ax.set_yscale('log')\n",
    "    ax.legend()\n",
    "\n",
    "fig.suptitle(title)\n",
    "plt.legend()\n",
    "\n",
    "plt.savefig('u_shaped.png')\n",
    "\n",
    "# def name_to_param(name):\n",
    "#     return int(name[1:])\n",
    "\n",
    "# def name_to_type(name):\n",
    "#     return name[0]\n",
    "\n",
    "# def param_to_name(param, sampler_char):\n",
    "#     return f\"{sampler_char}{param}\"\n"
   ]
  },
  {
   "cell_type": "code",
   "execution_count": null,
   "metadata": {},
   "outputs": [],
   "source": [
    "\n",
    "\n",
    "# if prefix == \"uniform\":\n",
    "#     fig, axes = plt.subplots(nrows=len(est_results) // ncols, ncols=ncols, figsize=(15, 8), layout=\"constrained\")\n",
    "\n",
    "#     print(s_to_plot)\n",
    "#     sorted_spacing = sorted(int(key[1:]) for key in list(s_to_plot))\n",
    "#     sorted_keys = [\"u{}\".format(item) for item in sorted_spacing]\n",
    "#     # budgets_to_check = 1e5 * np.arange(1, 10, 2)\n",
    "\n",
    "\n",
    "#     budgets_to_check = budgets_to_check_per_env[env_name]\n",
    "#     for budget_to_check in tqdm(budgets_to_check):\n",
    "#         idx = int(budget_to_check)\n",
    "#         y_means = []\n",
    "#         y_stderrs = []\n",
    "#         for s in sorted_keys:\n",
    "#             y_means.append(np.nanmean(env_result[s][:, idx]))\n",
    "#             y_stderrs.append(np.nanstd(env_result[s][:, idx]) / np.sqrt(num_seeds))\n",
    "#         # y_means = np.log2(np.array(y_means))\n",
    "#         # y_stderrs = np.log2(np.array(y_stderrs))\n",
    "            \n",
    "#         y_means = np.array(y_means)\n",
    "#         y_stderrs = np.array(y_stderrs)\n",
    "\n",
    "#         ax.plot(\n",
    "#             sorted_spacing,\n",
    "#             y_means,\n",
    "#             label=\"{:.0e}\".format(idx) if env_i == 0 else \"\"\n",
    "#         )\n",
    "#         ax.fill_between(\n",
    "#             sorted_spacing,\n",
    "#             (y_means - y_stderrs),\n",
    "#             (y_means + y_stderrs),\n",
    "#             alpha=0.1\n",
    "#         )\n",
    "#         ax.set_title(\"Env: {}\".format(env_name))\n",
    "\n",
    "#     fig.supylabel(\"Error in value estimate\")\n",
    "#     fig.supxlabel(\"Uniform Discretization\")\n",
    "#     fig.legend()\n",
    "#     plt.show()\n",
    "\n",
    "\n"
   ]
  },
  {
   "cell_type": "code",
   "execution_count": null,
   "metadata": {},
   "outputs": [],
   "source": []
  },
  {
   "cell_type": "markdown",
   "metadata": {},
   "source": [
    "# Testing Random Things"
   ]
  },
  {
   "cell_type": "code",
   "execution_count": null,
   "metadata": {},
   "outputs": [
    {
     "data": {
      "text/plain": [
       "-2.7831853071795862"
      ]
     },
     "execution_count": 38,
     "metadata": {},
     "output_type": "execute_result"
    }
   ],
   "source": [
    "(math.pi + 3.5) % (2*math.pi) - math.pi"
   ]
  },
  {
   "cell_type": "code",
   "execution_count": null,
   "metadata": {},
   "outputs": [],
   "source": []
  }
 ],
 "metadata": {
  "kernelspec": {
   "display_name": ".venv",
   "language": "python",
   "name": "python3"
  },
  "language_info": {
   "codemirror_mode": {
    "name": "ipython",
    "version": 3
   },
   "file_extension": ".py",
   "mimetype": "text/x-python",
   "name": "python",
   "nbconvert_exporter": "python",
   "pygments_lexer": "ipython3",
   "version": "3.11.7"
  }
 },
 "nbformat": 4,
 "nbformat_minor": 2
}
