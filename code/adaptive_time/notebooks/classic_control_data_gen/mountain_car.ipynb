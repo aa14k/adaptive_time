{
 "cells": [
  {
   "cell_type": "code",
   "execution_count": 10,
   "metadata": {},
   "outputs": [],
   "source": [
    "import gymnasium as gym\n",
    "from adaptive_time import value_est\n",
    "\n",
    "import matplotlib.pyplot as plt\n",
    "import pickle\n",
    "import numpy as np\n",
    "\n",
    "# import d3rlpy\n",
    "\n"
   ]
  },
  {
   "cell_type": "code",
   "execution_count": 11,
   "metadata": {},
   "outputs": [],
   "source": [
    "seed = 3241"
   ]
  },
  {
   "cell_type": "code",
   "execution_count": 15,
   "metadata": {},
   "outputs": [
    {
     "name": "stdout",
     "output_type": "stream",
     "text": [
      "\u001b[2m2024-03-08 19:21.02\u001b[0m [\u001b[32m\u001b[1minfo     \u001b[0m] \u001b[1mSignatures have been automatically determined.\u001b[0m \u001b[36maction_signature\u001b[0m=\u001b[35mSignature(dtype=[dtype('int64')], shape=[()])\u001b[0m \u001b[36mobservation_signature\u001b[0m=\u001b[35mSignature(dtype=[dtype('float32')], shape=[(2,)])\u001b[0m \u001b[36mreward_signature\u001b[0m=\u001b[35mSignature(dtype=[dtype('float32')], shape=[[1]])\u001b[0m\n",
      "\u001b[2m2024-03-08 19:21.02\u001b[0m [\u001b[32m\u001b[1minfo     \u001b[0m] \u001b[1mAction-space has been automatically determined.\u001b[0m \u001b[36maction_space\u001b[0m=\u001b[35m<ActionSpace.DISCRETE: 2>\u001b[0m\n",
      "\u001b[2m2024-03-08 19:21.02\u001b[0m [\u001b[32m\u001b[1minfo     \u001b[0m] \u001b[1mAction size has been automatically determined.\u001b[0m \u001b[36maction_size\u001b[0m=\u001b[35m3\u001b[0m\n",
      "\u001b[2m2024-03-08 19:21.02\u001b[0m [\u001b[32m\u001b[1minfo     \u001b[0m] \u001b[1mDirectory is created at d3rlpy_logs/DiscreteCQL_online_20240308192102\u001b[0m\n",
      "\u001b[2m2024-03-08 19:21.02\u001b[0m [\u001b[32m\u001b[1mdebug    \u001b[0m] \u001b[1mBuilding model...             \u001b[0m\n",
      "\u001b[2m2024-03-08 19:21.02\u001b[0m [\u001b[32m\u001b[1mdebug    \u001b[0m] \u001b[1mModel has been built.         \u001b[0m\n",
      "\u001b[2m2024-03-08 19:21.03\u001b[0m [\u001b[32m\u001b[1minfo     \u001b[0m] \u001b[1mParameters                    \u001b[0m \u001b[36mparams\u001b[0m=\u001b[35m{'observation_shape': [2], 'action_size': 3, 'config': {'type': 'discrete_cql', 'params': {'batch_size': 32, 'gamma': 0.99, 'observation_scaler': {'type': 'none', 'params': {}}, 'action_scaler': {'type': 'none', 'params': {}}, 'reward_scaler': {'type': 'none', 'params': {}}, 'learning_rate': 6.25e-05, 'optim_factory': {'type': 'adam', 'params': {'betas': [0.9, 0.999], 'eps': 1e-08, 'weight_decay': 0, 'amsgrad': False}}, 'encoder_factory': {'type': 'default', 'params': {'activation': 'relu', 'use_batch_norm': False, 'dropout_rate': None}}, 'q_func_factory': {'type': 'mean', 'params': {'share_encoder': False}}, 'n_critics': 1, 'target_update_interval': 8000, 'alpha': 1.0}}}\u001b[0m\n"
     ]
    },
    {
     "data": {
      "application/vnd.jupyter.widget-view+json": {
       "model_id": "6c33c3b2f5774078bdc62216b15e9f8d",
       "version_major": 2,
       "version_minor": 0
      },
      "text/plain": [
       "  0%|          | 0/100000 [00:00<?, ?it/s]"
      ]
     },
     "metadata": {},
     "output_type": "display_data"
    },
    {
     "name": "stdout",
     "output_type": "stream",
     "text": [
      "\u001b[2m2024-03-08 19:21.18\u001b[0m [\u001b[32m\u001b[1minfo     \u001b[0m] \u001b[1mModel parameters are saved to d3rlpy_logs/DiscreteCQL_online_20240308192102/model_10000.d3\u001b[0m\n",
      "\u001b[2m2024-03-08 19:21.18\u001b[0m [\u001b[32m\u001b[1minfo     \u001b[0m] \u001b[1mDiscreteCQL_online_20240308192102: epoch=1 step=10000\u001b[0m \u001b[36mepoch\u001b[0m=\u001b[35m1\u001b[0m \u001b[36mmetrics\u001b[0m=\u001b[35m{'time_inference': 9.097466468811035e-05, 'time_environment_step': 1.7396044731140135e-05, 'time_step': 0.001488829255104065, 'time_sample_batch': 0.00040926219970421435, 'time_algorithm_update': 0.0009623694302648937, 'loss': 0.021394413747812244, 'td_loss': 0.004047725103055241, 'conservative_loss': 0.017346688665937752, 'rollout_return': -200.0, 'evaluation': -200.0}\u001b[0m \u001b[36mstep\u001b[0m=\u001b[35m10000\u001b[0m\n",
      "\u001b[2m2024-03-08 19:21.33\u001b[0m [\u001b[32m\u001b[1minfo     \u001b[0m] \u001b[1mModel parameters are saved to d3rlpy_logs/DiscreteCQL_online_20240308192102/model_20000.d3\u001b[0m\n",
      "\u001b[2m2024-03-08 19:21.33\u001b[0m [\u001b[32m\u001b[1minfo     \u001b[0m] \u001b[1mDiscreteCQL_online_20240308192102: epoch=2 step=20000\u001b[0m \u001b[36mepoch\u001b[0m=\u001b[35m2\u001b[0m \u001b[36mmetrics\u001b[0m=\u001b[35m{'time_inference': 9.418694972991943e-05, 'time_environment_step': 1.7815327644348143e-05, 'time_sample_batch': 0.00042609844207763673, 'time_algorithm_update': 0.0009893907308578492, 'loss': 0.000264955077164146, 'td_loss': 0.0002646186737640817, 'conservative_loss': 3.364037722349167e-07, 'time_step': 0.0015410543441772462, 'rollout_return': -200.0, 'evaluation': -200.0}\u001b[0m \u001b[36mstep\u001b[0m=\u001b[35m20000\u001b[0m\n",
      "\u001b[2m2024-03-08 19:21.49\u001b[0m [\u001b[32m\u001b[1minfo     \u001b[0m] \u001b[1mModel parameters are saved to d3rlpy_logs/DiscreteCQL_online_20240308192102/model_30000.d3\u001b[0m\n",
      "\u001b[2m2024-03-08 19:21.49\u001b[0m [\u001b[32m\u001b[1minfo     \u001b[0m] \u001b[1mDiscreteCQL_online_20240308192102: epoch=3 step=30000\u001b[0m \u001b[36mepoch\u001b[0m=\u001b[35m3\u001b[0m \u001b[36mmetrics\u001b[0m=\u001b[35m{'time_inference': 9.327957630157471e-05, 'time_environment_step': 1.8186044692993164e-05, 'time_sample_batch': 0.0004453622817993164, 'time_algorithm_update': 0.0010092077255249023, 'loss': 0.00025334627410466946, 'td_loss': 0.00025334627410466946, 'conservative_loss': 0.0, 'time_step': 0.0015796108722686767, 'rollout_return': -200.0, 'evaluation': -200.0}\u001b[0m \u001b[36mstep\u001b[0m=\u001b[35m30000\u001b[0m\n",
      "\u001b[2m2024-03-08 19:22.05\u001b[0m [\u001b[32m\u001b[1minfo     \u001b[0m] \u001b[1mModel parameters are saved to d3rlpy_logs/DiscreteCQL_online_20240308192102/model_40000.d3\u001b[0m\n",
      "\u001b[2m2024-03-08 19:22.05\u001b[0m [\u001b[32m\u001b[1minfo     \u001b[0m] \u001b[1mDiscreteCQL_online_20240308192102: epoch=4 step=40000\u001b[0m \u001b[36mepoch\u001b[0m=\u001b[35m4\u001b[0m \u001b[36mmetrics\u001b[0m=\u001b[35m{'time_inference': 9.091954231262207e-05, 'time_environment_step': 1.748678684234619e-05, 'time_sample_batch': 0.00044244961738586425, 'time_algorithm_update': 0.0009686135530471802, 'loss': 0.00024390824640121737, 'td_loss': 0.00024390824640121737, 'conservative_loss': 0.0, 'time_step': 0.001532735800743103, 'rollout_return': -200.0, 'evaluation': -200.0}\u001b[0m \u001b[36mstep\u001b[0m=\u001b[35m40000\u001b[0m\n",
      "\u001b[2m2024-03-08 19:22.20\u001b[0m [\u001b[32m\u001b[1minfo     \u001b[0m] \u001b[1mModel parameters are saved to d3rlpy_logs/DiscreteCQL_online_20240308192102/model_50000.d3\u001b[0m\n",
      "\u001b[2m2024-03-08 19:22.20\u001b[0m [\u001b[32m\u001b[1minfo     \u001b[0m] \u001b[1mDiscreteCQL_online_20240308192102: epoch=5 step=50000\u001b[0m \u001b[36mepoch\u001b[0m=\u001b[35m5\u001b[0m \u001b[36mmetrics\u001b[0m=\u001b[35m{'time_inference': 8.728995323181153e-05, 'time_environment_step': 1.655704975128174e-05, 'time_sample_batch': 0.0004432064771652222, 'time_algorithm_update': 0.0009257139682769776, 'loss': 0.00046749736356826863, 'td_loss': 0.00046749736356826863, 'conservative_loss': 0.0, 'time_step': 0.0014853724241256714, 'rollout_return': -200.0, 'evaluation': -200.0}\u001b[0m \u001b[36mstep\u001b[0m=\u001b[35m50000\u001b[0m\n",
      "\u001b[2m2024-03-08 19:22.35\u001b[0m [\u001b[32m\u001b[1minfo     \u001b[0m] \u001b[1mModel parameters are saved to d3rlpy_logs/DiscreteCQL_online_20240308192102/model_60000.d3\u001b[0m\n",
      "\u001b[2m2024-03-08 19:22.35\u001b[0m [\u001b[32m\u001b[1minfo     \u001b[0m] \u001b[1mDiscreteCQL_online_20240308192102: epoch=6 step=60000\u001b[0m \u001b[36mepoch\u001b[0m=\u001b[35m6\u001b[0m \u001b[36mmetrics\u001b[0m=\u001b[35m{'time_inference': 8.64149808883667e-05, 'time_environment_step': 1.6480135917663573e-05, 'time_sample_batch': 0.0004545893430709839, 'time_algorithm_update': 0.0009173413515090942, 'loss': 0.00022696937777299945, 'td_loss': 0.00022696937777299945, 'conservative_loss': 0.0, 'time_step': 0.001487399435043335, 'rollout_return': -200.0, 'evaluation': -200.0}\u001b[0m \u001b[36mstep\u001b[0m=\u001b[35m60000\u001b[0m\n",
      "\u001b[2m2024-03-08 19:22.51\u001b[0m [\u001b[32m\u001b[1minfo     \u001b[0m] \u001b[1mModel parameters are saved to d3rlpy_logs/DiscreteCQL_online_20240308192102/model_70000.d3\u001b[0m\n",
      "\u001b[2m2024-03-08 19:22.51\u001b[0m [\u001b[32m\u001b[1minfo     \u001b[0m] \u001b[1mDiscreteCQL_online_20240308192102: epoch=7 step=70000\u001b[0m \u001b[36mepoch\u001b[0m=\u001b[35m7\u001b[0m \u001b[36mmetrics\u001b[0m=\u001b[35m{'time_inference': 8.699190616607666e-05, 'time_environment_step': 1.6605114936828614e-05, 'time_sample_batch': 0.00048421759605407714, 'time_algorithm_update': 0.0009415002346038818, 'loss': 0.00021510583456429836, 'td_loss': 0.00021510583456429836, 'conservative_loss': 0.0, 'time_step': 0.0015420414447784424, 'rollout_return': -200.0, 'evaluation': -200.0}\u001b[0m \u001b[36mstep\u001b[0m=\u001b[35m70000\u001b[0m\n",
      "\u001b[2m2024-03-08 19:23.06\u001b[0m [\u001b[32m\u001b[1minfo     \u001b[0m] \u001b[1mModel parameters are saved to d3rlpy_logs/DiscreteCQL_online_20240308192102/model_80000.d3\u001b[0m\n",
      "\u001b[2m2024-03-08 19:23.06\u001b[0m [\u001b[32m\u001b[1minfo     \u001b[0m] \u001b[1mDiscreteCQL_online_20240308192102: epoch=8 step=80000\u001b[0m \u001b[36mepoch\u001b[0m=\u001b[35m8\u001b[0m \u001b[36mmetrics\u001b[0m=\u001b[35m{'time_inference': 8.714489936828613e-05, 'time_environment_step': 1.664113998413086e-05, 'time_sample_batch': 0.0004773065805435181, 'time_algorithm_update': 0.0009315571546554566, 'loss': 0.00020890471422050041, 'td_loss': 0.00020890471422050041, 'conservative_loss': 0.0, 'time_step': 0.0015253181219100952, 'rollout_return': -200.0, 'evaluation': -200.0}\u001b[0m \u001b[36mstep\u001b[0m=\u001b[35m80000\u001b[0m\n",
      "\u001b[2m2024-03-08 19:23.22\u001b[0m [\u001b[32m\u001b[1minfo     \u001b[0m] \u001b[1mModel parameters are saved to d3rlpy_logs/DiscreteCQL_online_20240308192102/model_90000.d3\u001b[0m\n",
      "\u001b[2m2024-03-08 19:23.22\u001b[0m [\u001b[32m\u001b[1minfo     \u001b[0m] \u001b[1mDiscreteCQL_online_20240308192102: epoch=9 step=90000\u001b[0m \u001b[36mepoch\u001b[0m=\u001b[35m9\u001b[0m \u001b[36mmetrics\u001b[0m=\u001b[35m{'time_inference': 9.035794734954834e-05, 'time_environment_step': 1.7243671417236327e-05, 'time_sample_batch': 0.0004960912466049195, 'time_algorithm_update': 0.0009603003978729248, 'loss': 0.0004019698153070422, 'td_loss': 0.0004019698153070422, 'conservative_loss': 0.0, 'time_step': 0.0015773128509521484, 'rollout_return': -200.0, 'evaluation': -200.0}\u001b[0m \u001b[36mstep\u001b[0m=\u001b[35m90000\u001b[0m\n",
      "\u001b[2m2024-03-08 19:23.39\u001b[0m [\u001b[32m\u001b[1minfo     \u001b[0m] \u001b[1mModel parameters are saved to d3rlpy_logs/DiscreteCQL_online_20240308192102/model_100000.d3\u001b[0m\n",
      "\u001b[2m2024-03-08 19:23.39\u001b[0m [\u001b[32m\u001b[1minfo     \u001b[0m] \u001b[1mDiscreteCQL_online_20240308192102: epoch=10 step=100000\u001b[0m \u001b[36mepoch\u001b[0m=\u001b[35m10\u001b[0m \u001b[36mmetrics\u001b[0m=\u001b[35m{'time_inference': 9.876854419708253e-05, 'time_environment_step': 1.8564772605895995e-05, 'time_sample_batch': 0.0005258254766464233, 'time_algorithm_update': 0.0010253487825393677, 'loss': 0.00019402137503319068, 'td_loss': 0.00019402137503319068, 'conservative_loss': 0.0, 'time_step': 0.0016826771020889283, 'rollout_return': -200.0, 'evaluation': -200.0}\u001b[0m \u001b[36mstep\u001b[0m=\u001b[35m100000\u001b[0m\n"
     ]
    }
   ],
   "source": [
    "# n_steps_limit = 100_000  # 1000000\n",
    "\n",
    "# env = gym.make('MountainCar-v0')\n",
    "# eval_env = gym.make('MountainCar-v0')\n",
    "# buffer = d3rlpy.dataset.create_fifo_replay_buffer(limit=n_steps_limit, env=env)\n",
    "# cql = d3rlpy.algos.DiscreteCQLConfig().create()\n",
    "\n",
    "# cql.fit_online(env, buffer, n_steps=n_steps_limit, eval_env=eval_env)\n"
   ]
  },
  {
   "cell_type": "markdown",
   "metadata": {},
   "source": [
    "## Train an agent"
   ]
  },
  {
   "cell_type": "code",
   "execution_count": 19,
   "metadata": {},
   "outputs": [
    {
     "name": "stdout",
     "output_type": "stream",
     "text": [
      "episode :  0 score :  0 Epsilon : 1.0\n",
      "episode :  100 score :  -6434.0 Epsilon : 0.997999999999998\n",
      "episode :  200 score :  -80131.0 Epsilon : 0.995999999999996\n",
      "episode :  300 score :  -8317.0 Epsilon : 0.993999999999994\n"
     ]
    },
    {
     "ename": "KeyboardInterrupt",
     "evalue": "",
     "output_type": "error",
     "traceback": [
      "\u001b[0;31m---------------------------------------------------------------------------\u001b[0m",
      "\u001b[0;31mKeyboardInterrupt\u001b[0m                         Traceback (most recent call last)",
      "Cell \u001b[0;32mIn[19], line 110\u001b[0m\n\u001b[1;32m    106\u001b[0m     plt\u001b[38;5;241m.\u001b[39mplot(mean_r)\n\u001b[1;32m    107\u001b[0m     plt\u001b[38;5;241m.\u001b[39mshow()\n\u001b[0;32m--> 110\u001b[0m Q_function \u001b[38;5;241m=\u001b[39m \u001b[43mmain\u001b[49m\u001b[43m(\u001b[49m\u001b[43menv\u001b[49m\u001b[43m,\u001b[49m\u001b[43m \u001b[49m\u001b[43mAlpha\u001b[49m\u001b[43m,\u001b[49m\u001b[43mGamma\u001b[49m\u001b[43m,\u001b[49m\u001b[43mEps\u001b[49m\u001b[43m)\u001b[49m\n",
      "Cell \u001b[0;32mIn[19], line 77\u001b[0m, in \u001b[0;36mmain\u001b[0;34m(env, Alpha, Gamma, Eps, ep)\u001b[0m\n\u001b[1;32m     75\u001b[0m new_state_dis \u001b[38;5;241m=\u001b[39m get_discrete_state(new_state)\n\u001b[1;32m     76\u001b[0m score \u001b[38;5;241m+\u001b[39m\u001b[38;5;241m=\u001b[39m reward\n\u001b[0;32m---> 77\u001b[0m new_action \u001b[38;5;241m=\u001b[39m \u001b[43mget_best_action\u001b[49m\u001b[43m(\u001b[49m\u001b[43mnew_state_dis\u001b[49m\u001b[43m,\u001b[49m\u001b[43m \u001b[49m\u001b[43mQ\u001b[49m\u001b[43m)\u001b[49m\n\u001b[1;32m     78\u001b[0m \u001b[38;5;66;03m#print(Q[state_dis,action])\u001b[39;00m\n\u001b[1;32m     79\u001b[0m Q[state_dis, action] \u001b[38;5;241m=\u001b[39m Q[state_dis,action] \u001b[38;5;241m+\u001b[39m Alpha\u001b[38;5;241m*\u001b[39m(reward \u001b[38;5;241m+\u001b[39m Gamma\u001b[38;5;241m*\u001b[39mQ[new_state_dis, new_action] \u001b[38;5;241m-\u001b[39m Q[state_dis,action])\n",
      "Cell \u001b[0;32mIn[19], line 41\u001b[0m, in \u001b[0;36mget_best_action\u001b[0;34m(state, Q)\u001b[0m\n\u001b[1;32m     40\u001b[0m \u001b[38;5;28;01mdef\u001b[39;00m \u001b[38;5;21mget_best_action\u001b[39m(state,Q):\n\u001b[0;32m---> 41\u001b[0m     actions \u001b[38;5;241m=\u001b[39m np\u001b[38;5;241m.\u001b[39marray([Q[state,action] \u001b[38;5;28;01mfor\u001b[39;00m action \u001b[38;5;129;01min\u001b[39;00m \u001b[38;5;28mrange\u001b[39m(\u001b[38;5;241m3\u001b[39m)])\n\u001b[1;32m     42\u001b[0m     best_action \u001b[38;5;241m=\u001b[39m np\u001b[38;5;241m.\u001b[39margmax(actions)\n\u001b[1;32m     44\u001b[0m     \u001b[38;5;28;01mreturn\u001b[39;00m best_action\n",
      "\u001b[0;31mKeyboardInterrupt\u001b[0m: "
     ]
    }
   ],
   "source": [
    "# import gym\n",
    "# import matplotlib.pyplot as plt\n",
    "# import numpy as np\n",
    "\n",
    "\n",
    "# env_name = \"MountainCar-v0\"\n",
    "# env = gym.make(env_name)\n",
    "# #env.reset()\n",
    "# #obs_, reward,done, _ = env.step(1)\n",
    "# #print(obs_)\n",
    "# #print(env.observation_space.high)\n",
    "# #print(env.observation_space.low)\n",
    "\n",
    "# Alpha = 0.19\n",
    "# Gamma = 0.9999\n",
    "# Eps = 1.0\n",
    "\n",
    "# pos_chunk = np.linspace(env.observation_space.low[0], env.observation_space.high[0],30)\n",
    "# vel_chunk = np.linspace(env.observation_space.low[1], env.observation_space.high[1], 30)\n",
    "\n",
    "# def get_discrete_state(state):\n",
    "#     pos_dis = np.digitize(state[0], pos_chunk)\n",
    "#     vel_dis = np.digitize(state[1], vel_chunk)\n",
    "#     return (pos_dis, vel_dis)\n",
    "\n",
    "# def create_Q_table():\n",
    "#     Q = {}\n",
    "#     states = []\n",
    "\n",
    "#     for i in range(len(pos_chunk)):\n",
    "#         for j in range(len(vel_chunk)):\n",
    "#             states.append((i,j))\n",
    "\n",
    "#     for state in states:\n",
    "#         for action in range(3):\n",
    "#             Q[state,action] = 0\n",
    "\n",
    "#     return Q\n",
    "\n",
    "# def get_best_action(state,Q):\n",
    "#     actions = np.array([Q[state,action] for action in range(3)])\n",
    "#     best_action = np.argmax(actions)\n",
    "\n",
    "#     return best_action\n",
    "\n",
    "# def main(env,Alpha,Gamma,Eps,ep=50000):\n",
    "\n",
    "#     max = -1000\n",
    "#     good_episodes_values = {}\n",
    "\n",
    "#     epsilon_decay = 1/ep\n",
    "#     stock_rewards = np.zeros(ep+1)\n",
    "#     Q = create_Q_table()\n",
    "\n",
    "\n",
    "#     env._max_episode_steps = 1000\n",
    "\n",
    "#     score = 0\n",
    "#     for i in range(ep+1):\n",
    "#         done = False\n",
    "#         if i % 100 == 0:\n",
    "#             print(\"episode : \", i, \"score : \", score, \"Epsilon :\", Eps)\n",
    "\n",
    "#         state, _ = env.reset()\n",
    "#         #print(state.dtype)\n",
    "#         state_dis = get_discrete_state(state)\n",
    "#         score = 0\n",
    "\n",
    "#         while not done:\n",
    "#             if np.random.random() > Eps:\n",
    "#                 action = get_best_action(state_dis,Q)\n",
    "#             else:\n",
    "#                 action = np.random.choice([0,1,2])\n",
    "#             new_state, reward, done, truncated, info = env.step(action)\n",
    "#             new_state_dis = get_discrete_state(new_state)\n",
    "#             score += reward\n",
    "#             new_action = get_best_action(new_state_dis, Q)\n",
    "#             #print(Q[state_dis,action])\n",
    "#             Q[state_dis, action] = Q[state_dis,action] + Alpha*(reward + Gamma*Q[new_state_dis, new_action] - Q[state_dis,action])\n",
    "#             state_dis = new_state_dis\n",
    "#         stock_rewards[i] = score\n",
    "\n",
    "#         if score > max:\n",
    "#           max = score\n",
    "#         if score > -110:\n",
    "#           good_episodes_values[i] = score\n",
    "\n",
    "\n",
    "#         if Eps > 0.01:\n",
    "#             Eps -= epsilon_decay\n",
    "#         else:\n",
    "#             Eps = 0.01\n",
    "#     Visualize(ep,stock_rewards)\n",
    "#     print(\"max : \", max)\n",
    "#     print(\"good episodes\", good_episodes_values)\n",
    "\n",
    "#     env.close()\n",
    "#     return Q\n",
    "\n",
    "# def Visualize(ep,stock_rewards):\n",
    "#     mean_r = np.zeros(ep-100)\n",
    "#     for i in range(ep-100):\n",
    "#         #print(i)\n",
    "#         mean_r[i] = np.mean(stock_rewards[i:i+101])\n",
    "\n",
    "#     plt.plot(mean_r)\n",
    "#     plt.show()\n",
    "\n",
    "\n",
    "# Q_function = main(env, Alpha,Gamma,Eps)"
   ]
  },
  {
   "cell_type": "code",
   "execution_count": 4,
   "metadata": {},
   "outputs": [],
   "source": []
  },
  {
   "cell_type": "markdown",
   "metadata": {},
   "source": [
    "## Generate trajectories"
   ]
  },
  {
   "cell_type": "code",
   "execution_count": 5,
   "metadata": {},
   "outputs": [],
   "source": [
    "\n",
    "\n",
    "STEPS_MAX = 200"
   ]
  },
  {
   "cell_type": "code",
   "execution_count": null,
   "metadata": {},
   "outputs": [],
   "source": [
    "env = gym.make('MountainCar-v0')\n"
   ]
  },
  {
   "cell_type": "code",
   "execution_count": 6,
   "metadata": {},
   "outputs": [
    {
     "name": "stdout",
     "output_type": "stream",
     "text": [
      "total_rewards for each traj: [-201.0]\n"
     ]
    }
   ],
   "source": [
    "value_est.reset_randomness(seed, env)\n",
    "value_est.generate_trajectory\n",
    "\n",
    "reward_sequences = []\n",
    "total_rewards = []\n",
    "traj_lengths = []\n",
    "\n",
    "trajectory, early_term = value_est.generate_trajectory(\n",
    "        env, policy=lambda st, sn: 1,\n",
    "        termination_prob=0.0, max_steps=STEPS_MAX)\n",
    "\n",
    "traj_lengths.append(len(trajectory))\n",
    "rewards = [r for _, _, r, _ in trajectory]\n",
    "\n",
    "reward_sequences.append(rewards)\n",
    "total_rewards.append(sum(rewards))\n",
    "\n",
    "\n",
    "# with open(traj_data_path, \"wb\") as f:\n",
    "#     pickle.dump(all_traj_data, f)\n",
    "# print(\"Saved data to\", traj_data_path)\n",
    "\n",
    "\n",
    "print(\"total_rewards for each traj:\", total_rewards)\n",
    "if hasattr(reward_sequences, \"shape\"):\n",
    "    print(\"all rewards shape if array:\", reward_sequences.shape)\n",
    "num_trajs = len(total_rewards)\n"
   ]
  },
  {
   "cell_type": "code",
   "execution_count": null,
   "metadata": {},
   "outputs": [],
   "source": []
  },
  {
   "cell_type": "code",
   "execution_count": 7,
   "metadata": {},
   "outputs": [
    {
     "data": {
      "text/plain": [
       "(array([0., 0., 0., 0., 0., 1., 0., 0., 0., 0.]),\n",
       " array([-201.5, -201.4, -201.3, -201.2, -201.1, -201. , -200.9, -200.8,\n",
       "        -200.7, -200.6, -200.5]),\n",
       " <BarContainer object of 10 artists>)"
      ]
     },
     "execution_count": 7,
     "metadata": {},
     "output_type": "execute_result"
    },
    {
     "data": {
      "image/png": "[encoded data removed]",
      "text/plain": [
       "<Figure size 640x480 with 1 Axes>"
      ]
     },
     "metadata": {},
     "output_type": "display_data"
    }
   ],
   "source": [
    "plt.hist(total_rewards)\n",
    "# plt.savefig(f'{data_descr}_reward_total_distr.png')"
   ]
  },
  {
   "cell_type": "code",
   "execution_count": 8,
   "metadata": {},
   "outputs": [
    {
     "name": "stdout",
     "output_type": "stream",
     "text": [
      "-201.0\n"
     ]
    },
    {
     "data": {
      "text/plain": [
       "[<matplotlib.lines.Line2D at 0x1211929d0>]"
      ]
     },
     "execution_count": 8,
     "metadata": {},
     "output_type": "execute_result"
    },
    {
     "data": {
      "image/png": "[encoded data removed]",
      "text/plain": [
       "<Figure size 640x480 with 1 Axes>"
      ]
     },
     "metadata": {},
     "output_type": "display_data"
    }
   ],
   "source": [
    "\n",
    "traj_idx = 0\n",
    "print(total_rewards[traj_idx])\n",
    "plt.plot(reward_sequences[traj_idx])\n",
    "# plt.savefig(f'{data_descr}_reward_sample_curve.png')"
   ]
  },
  {
   "cell_type": "code",
   "execution_count": null,
   "metadata": {},
   "outputs": [],
   "source": []
  },
  {
   "cell_type": "code",
   "execution_count": null,
   "metadata": {},
   "outputs": [],
   "source": []
  },
  {
   "cell_type": "code",
   "execution_count": null,
   "metadata": {},
   "outputs": [],
   "source": []
  },
  {
   "cell_type": "code",
   "execution_count": 9,
   "metadata": {},
   "outputs": [
    {
     "name": "stderr",
     "output_type": "stream",
     "text": [
      "/Users/szepi1991/Code/adaptive_time/.venv/lib/python3.11/site-packages/gymnasium/envs/registration.py:694: UserWarning: \u001b[33mWARN: Overriding environment CartPole-OURS-v2 already in registry.\u001b[0m\n",
      "  logger.warn(f\"Overriding environment {new_spec.id} already in registry.\")\n"
     ]
    }
   ],
   "source": [
    "import math\n",
    "from importlib import reload\n",
    "import os\n",
    "\n",
    "import gc\n",
    "import matplotlib.pyplot as plt\n",
    "import pickle\n",
    "import numpy as np\n",
    "\n",
    "from tqdm.notebook import tqdm\n",
    "\n",
    "from adaptive_time import plot_utils\n",
    "from adaptive_time import utils\n",
    "from adaptive_time import run_lib\n",
    "from adaptive_time.environments import cartpole2\n",
    "from adaptive_time import value_est\n",
    "from adaptive_time.value_est import approx_integrators\n",
    "\n",
    "from pprint import pprint\n",
    "\n",
    "approx_integrators = reload(approx_integrators)\n",
    "run_lib = reload(run_lib)\n",
    "cartpole2 = reload(cartpole2)\n",
    "value_est = reload(value_est)\n",
    "plot_utils = reload(plot_utils)\n",
    "utils = reload(utils)"
   ]
  }
 ],
 "metadata": {
  "kernelspec": {
   "display_name": ".venv",
   "language": "python",
   "name": "python3"
  },
  "language_info": {
   "codemirror_mode": {
    "name": "ipython",
    "version": 3
   },
   "file_extension": ".py",
   "mimetype": "text/x-python",
   "name": "python",
   "nbconvert_exporter": "python",
   "pygments_lexer": "ipython3",
   "version": "3.11.7"
  }
 },
 "nbformat": 4,
 "nbformat_minor": 2
}
