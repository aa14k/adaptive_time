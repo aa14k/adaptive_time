{
 "cells": [
  {
   "cell_type": "code",
   "execution_count": 7,
   "metadata": {},
   "outputs": [],
   "source": [
    "# Import Necessary Libraries\n",
    "import numpy as np\n",
    "import matplotlib.pyplot as plt\n",
    "\n",
    "import adaptive_time.tiles3 as tc\n",
    "\n",
    "from adaptive_time.utils import argmax\n",
    "from adaptive_time.mountain_car_learn import mountaincar_env\n",
    "from adaptive_time.mountain_car_learn import sparse_mountain_car\n",
    "from adaptive_time.mountain_car_learn.agent import BaseAgent\n",
    "from adaptive_time.mountain_car_learn.rl_glue import RLGlue\n",
    "\n",
    "import time\n",
    "\n",
    "from tqdm.notebook import tqdm"
   ]
  },
  {
   "cell_type": "markdown",
   "metadata": {},
   "source": [
    "# Train on Mountain Car"
   ]
  },
  {
   "cell_type": "code",
   "execution_count": 8,
   "metadata": {},
   "outputs": [],
   "source": [
    "# Tile Coding Function [Graded]\n",
    "class MountainCarTileCoder:\n",
    "    def __init__(self, iht_size=4096, num_tilings=8, num_tiles=8):\n",
    "        \"\"\"\n",
    "        Initializes the MountainCar Tile Coder\n",
    "        Initializers:\n",
    "        iht_size -- int, the size of the index hash table, typically a power of 2\n",
    "        num_tilings -- int, the number of tilings\n",
    "        num_tiles -- int, the number of tiles. Here both the width and height of the\n",
    "                     tile coder are the same\n",
    "        Class Variables:\n",
    "        self.iht -- tc.IHT, the index hash table that the tile coder will use\n",
    "        self.num_tilings -- int, the number of tilings the tile coder will use\n",
    "        self.num_tiles -- int, the number of tiles the tile coder will use\n",
    "        \"\"\"\n",
    "        self.iht = tc.IHT(iht_size)\n",
    "        self.num_tilings = num_tilings\n",
    "        self.num_tiles = num_tiles\n",
    "    \n",
    "    def get_tiles(self, position, velocity):\n",
    "        \"\"\"\n",
    "        Takes in a position and velocity from the mountaincar environment\n",
    "        and returns a numpy array of active tiles.\n",
    "        \n",
    "        Arguments:\n",
    "        position -- float, the position of the agent between -1.2 and 0.5\n",
    "        velocity -- float, the velocity of the agent between -0.07 and 0.07\n",
    "        returns:\n",
    "        tiles - np.array, active tiles\n",
    "        \"\"\"\n",
    "        # Set the max and min of position and velocity to scale the input\n",
    "        # POSITION_MIN\n",
    "        # POSITION_MAX\n",
    "        # VELOCITY_MIN\n",
    "        # VELOCITY_MAX\n",
    "        ### START CODE HERE ###\n",
    "        POSITION_MIN = -1.2\n",
    "        POSITION_MAX = 0.5\n",
    "        VELOCITY_MIN = -0.07\n",
    "        VELOCITY_MAX = 0.07\n",
    "        ### END CODE HERE ###\n",
    "        \n",
    "        # Use the ranges above and self.num_tiles to set position_scale and velocity_scale\n",
    "        # position_scale = number of tiles / position range\n",
    "        # velocity_scale = number of tiles / velocity range\n",
    "        \n",
    "        # Scale position and velocity by multiplying the inputs of each by their scale\n",
    "        \n",
    "        ### START CODE HERE ###\n",
    "        position_scale = self.num_tiles / (POSITION_MAX - POSITION_MIN)\n",
    "        velocity_scale = self.num_tiles / (VELOCITY_MAX - VELOCITY_MIN)\n",
    "        ### END CODE HERE ###\n",
    "        \n",
    "        # get the tiles using tc.tiles, with self.iht, self.num_tilings and [scaled position, scaled velocity]\n",
    "        # nothing to implment here\n",
    "        tiles = tc.tiles(self.iht, self.num_tilings, [position * position_scale, \n",
    "                                                      velocity * velocity_scale])\n",
    "        \n",
    "        return np.array(tiles)"
   ]
  },
  {
   "cell_type": "code",
   "execution_count": 9,
   "metadata": {},
   "outputs": [
    {
     "name": "stdout",
     "output_type": "stream",
     "text": [
      "Your results:\n",
      "[0 1 2 3 4 5 6 7]\n",
      "[ 8  9 10 11 12 13 14 15]\n",
      "[16 17 18 19 20 21 22 23]\n",
      "[ 0 24  2  3  4  5  6  7]\n",
      "[16 17 18 19 20 21 22 23]\n",
      "\n",
      "Expected results:\n",
      "[0 1 2 3 4 5 6 7]\n",
      "[ 8  9 10 11 12 13 14 15]\n",
      "[16 17 18 19 20 21 22 23]\n",
      "[ 0 24  2  3  4  5  6  7]\n",
      "[16 17 18 19 20 21 22 23]\n",
      "\n"
     ]
    }
   ],
   "source": [
    "# [DO NOT CHANGE]\n",
    "tests = [[-1.0, 0.01], [0.1, -0.01], [0.2, -0.05], [-1.0, 0.011], [0.2, -0.05]]\n",
    "\n",
    "mctc = MountainCarTileCoder(iht_size=1024, num_tilings=8, num_tiles=8)\n",
    "\n",
    "t = []\n",
    "for test in tests:\n",
    "    position, velocity = test\n",
    "    tiles = mctc.get_tiles(position=position, velocity=velocity)\n",
    "    t.append(tiles)\n",
    "\n",
    "print(\"Your results:\")\n",
    "for tiles in t:\n",
    "    print(tiles)\n",
    "\n",
    "print()\n",
    "print(\"Expected results:\")\n",
    "expected = \"\"\"[0 1 2 3 4 5 6 7]\n",
    "[ 8  9 10 11 12 13 14 15]\n",
    "[16 17 18 19 20 21 22 23]\n",
    "[ 0 24  2  3  4  5  6  7]\n",
    "[16 17 18 19 20 21 22 23]\n",
    "\"\"\"\n",
    "print(expected)\n",
    "\n",
    "np.random.seed(1)\n",
    "mctc_test = MountainCarTileCoder(iht_size=1024, num_tilings=8, num_tiles=8)\n",
    "test = [mctc_test.get_tiles(np.random.uniform(-1.2, 0.5), np.random.uniform(-0.07, 0.07)) for _ in range(10)]\n",
    "np.save(\"tiles_test\", test)"
   ]
  },
  {
   "cell_type": "code",
   "execution_count": 10,
   "metadata": {},
   "outputs": [],
   "source": [
    "# LSVI-PHE\n",
    "class SarsaAgent(BaseAgent):\n",
    "    \"\"\"\n",
    "    Initialization of Sarsa Agent. All values are set to None so they can\n",
    "    be initialized in the agent_init method.\n",
    "    \"\"\"\n",
    "    def __init__(self):\n",
    "        self.last_action = None\n",
    "        self.last_state = None\n",
    "        self.epsilon = None\n",
    "        self.gamma = None\n",
    "        self.iht_size = None\n",
    "        self.w = None\n",
    "        self.alpha = None\n",
    "        self.num_tilings = None\n",
    "        self.num_tiles = None\n",
    "        self.mctc = None\n",
    "        self.initial_weights = None\n",
    "        self.num_actions = None\n",
    "        self.previous_tiles = None\n",
    "\n",
    "    def agent_init(self, agent_info={}):\n",
    "        \"\"\"Setup for the agent called when the experiment first starts.\"\"\"\n",
    "        self.num_tilings = agent_info.get(\"num_tilings\", 8)\n",
    "        self.num_tiles = agent_info.get(\"num_tiles\", 8)\n",
    "        self.iht_size = agent_info.get(\"iht_size\", 4096)\n",
    "        self.epsilon = agent_info.get(\"epsilon\", 0.0)\n",
    "        self.gamma = agent_info.get(\"gamma\", 1.0)\n",
    "        self.alpha = agent_info.get(\"alpha\", 0.5) / self.num_tilings\n",
    "        self.initial_weights = agent_info.get(\"initial_weights\", 0.0)\n",
    "        self.num_actions = agent_info.get(\"num_actions\", 3)\n",
    "        \n",
    "        \n",
    "        \n",
    "        # We initialize self.w to three times the iht_size. Recall this is because\n",
    "        # we need to have one set of weights for each action.\n",
    "        self.w = np.ones((self.num_actions, self.iht_size)) * self.initial_weights\n",
    "        \n",
    "        #Optimisitc Sampling BEGIN\n",
    "        #These are needed for optimistic sampling \n",
    "        \n",
    "        #The array that stores the randomized parameter\n",
    "        self.rw = np.ones((self.num_actions, self.iht_size)) * self.initial_weights\n",
    "        \n",
    "        #This acts in place of the covariance matrix. It keeps a count of how many times a tiling was visited \n",
    "        #per action\n",
    "        self.count = np.ones((self.num_actions, self.iht_size))\n",
    "        \n",
    "        #The number of samples used for optimistic sampling\n",
    "        self.M = 2\n",
    "        \n",
    "        #Optimistic Sampling END\n",
    "        \n",
    "        # We initialize self.mctc to the mountaincar verions of the \n",
    "        # tile coder that we created\n",
    "        self.tc = MountainCarTileCoder(iht_size=self.iht_size, \n",
    "                                         num_tilings=self.num_tilings, \n",
    "                                         num_tiles=self.num_tiles)\n",
    "\n",
    "    def select_action(self, tiles):\n",
    "        \"\"\"\n",
    "        Selects an action using epsilon greedy\n",
    "        Args:\n",
    "        tiles - np.array, an array of active tiles\n",
    "        Returns:\n",
    "        (chosen_action, action_value) - (int, float), tuple of the chosen action\n",
    "                                        and it's value\n",
    "        \"\"\"\n",
    "        action_values = []\n",
    "        chosen_action = None\n",
    "        \n",
    "        # First loop through the weights of each action and populate action_values\n",
    "        # with the action value for each action and tiles instance\n",
    "        \n",
    "        # Use np.random.random to decide if an exploritory action should be taken\n",
    "        # and set chosen_action to a random action if it is\n",
    "        # Otherwise choose the greedy action using the given argmax \n",
    "        # function and the action values (don't use numpy's armax)\n",
    "        \n",
    "        ### START CODE HERE ###\n",
    "        action_values = np.zeros(self.num_actions)\n",
    "        for action in range(self.num_actions):\n",
    "            action_values[action] = np.sum(self.w[action][tiles])\n",
    "        c = np.random.uniform()\n",
    "        if c < self.epsilon:\n",
    "            chosen_action = argmax(action_values)\n",
    "        else:\n",
    "            chosen_action = argmax(action_values)\n",
    "        ### END CODE HERE ###\n",
    "        \n",
    "        return chosen_action, action_values[chosen_action]\n",
    "    \n",
    "    def agent_start(self, state):\n",
    "        \"\"\"The first method called when the experiment starts, called after\n",
    "        the environment starts.\n",
    "        Args:\n",
    "            state (Numpy array): the state observation from the\n",
    "                environment's evn_start function.\n",
    "        Returns:\n",
    "            The first action the agent takes.\n",
    "        \"\"\"\n",
    "        position, velocity = state\n",
    "        \n",
    "        # Use self.tc to set active_tiles using position and velocity\n",
    "        # set current_action to the epsilon greedy chosen action using\n",
    "        # the select_action function above with the active tiles\n",
    "        \n",
    "        ### START CODE HERE ###\n",
    "        active_tiles = self.tc.get_tiles(position, velocity)\n",
    "        current_action, action_value = self.select_action(active_tiles)\n",
    "        ### END CODE HERE ###\n",
    "        \n",
    "        self.last_action = current_action\n",
    "        self.previous_tiles = np.copy(active_tiles)\n",
    "        return self.last_action\n",
    "\n",
    "    def agent_step(self, reward, state):\n",
    "        \"\"\"A step taken by the agent.\n",
    "        Args:\n",
    "            reward (float): the reward received for taking the last action taken\n",
    "            state (Numpy array): the state observation from the\n",
    "                environment's step based, where the agent ended up after the\n",
    "                last step\n",
    "        Returns:\n",
    "            The action the agent is taking.\n",
    "        \"\"\"\n",
    "        # choose the action here\n",
    "        position, velocity = state\n",
    "        \n",
    "        # Use self.tc to set active_tiles using position and velocity\n",
    "        # set current_action and action_value to the epsilon greedy chosen action using\n",
    "        # the select_action function above with the active tiles\n",
    "        \n",
    "        # Update self.w at self.previous_tiles and self.previous action\n",
    "        # using the reward, action_value, self.gamma, self.w,\n",
    "        # self.alpha, and the Sarsa update from the textbook\n",
    "        \n",
    "        ### START CODE HERE ###\n",
    "        active_tiles = self.tc.get_tiles(position, velocity)\n",
    "        current_action, action_value = self.select_action(active_tiles)\n",
    "        last_action_value = np.sum(self.rw[self.last_action][self.previous_tiles])\n",
    "        self.w[self.last_action][self.previous_tiles] += self.alpha * (reward + self.gamma * action_value - last_action_value) * 1\n",
    "\n",
    "        #OPTIMSITIC SAMPLING BEGIN\n",
    "        \n",
    "        #This counts the number of times each tile as been activated per action\n",
    "        #This actions in place of a covariance matrix for faster computation\n",
    "        self.count[self.last_action][self.previous_tiles] += 1\n",
    "                    \n",
    "        \n",
    "        #The optimistic sampling step\n",
    "        \n",
    "        #The array that stores the samples\n",
    "        self.rmw = np.zeros((self.M,self.num_actions,self.iht_size))\n",
    "        \n",
    "        for m in range(self.M):\n",
    "            for i in range(self.num_actions):\n",
    "                #The randomization step, the variance shrinks as we visit more tiles/actions\n",
    "                self.rmw[m,i,:] = np.random.normal(self.w[i,:],1.0/self.count[i,:])\n",
    "        \n",
    "        #Here is where we get the optmisitic sample. We take the max over samples per tile.\n",
    "        for i in range(self.num_actions):\n",
    "            self.rw[i,:] = np.amax(self.rmw[:,i,:],axis=0)\n",
    "        #OPTIMSITIC SAMPLING END\n",
    "        \n",
    "        \n",
    "        self.last_action = current_action\n",
    "        self.previous_tiles = np.copy(active_tiles)\n",
    "        return self.last_action\n",
    "\n",
    "    def agent_end(self, reward):\n",
    "        \"\"\"Run when the agent terminates. Same as above except action_value = 0.0\n",
    "        Args:\n",
    "            reward (float): the reward the agent received for entering the\n",
    "                terminal state.\n",
    "        \"\"\"\n",
    "        # Update self.w at self.previous_tiles and self.previous action\n",
    "        # using the reward, self.gamma, self.w,\n",
    "        # self.alpha, and the Sarsa update from the textbook\n",
    "        # Hint - there is no action_value used here because this is the end\n",
    "        # of the episode.\n",
    "        \n",
    "        ### START CODE HERE ###\n",
    "        last_action_value = np.sum(self.rw[self.last_action][self.previous_tiles])\n",
    "        \n",
    "        \n",
    "        self.w[self.last_action][self.previous_tiles] += self.alpha * (reward - last_action_value) * 1\n",
    "        \n",
    "        \n",
    "        #OPTIMISTIC SAMPLING BEGIN\n",
    "        self.count[self.last_action][self.previous_tiles] += 1\n",
    "        self.rmw = np.zeros((self.M,self.num_actions,self.iht_size))\n",
    "        for m in range(self.M):\n",
    "            for i in range(self.num_actions):\n",
    "                self.rmw[m,i,:] = np.random.normal(self.w[i,:],1.0/self.count[i,:])\n",
    "        \n",
    "        for i in range(self.num_actions):\n",
    "            self.rw[i,:] = np.amax(self.rmw[:,i,:],axis=0)\n",
    "        \n",
    "        #OPTIMISITIC SAMPLING END\n",
    "        ### END CODE HERE ###\n",
    "        \n",
    "    def agent_cleanup(self):\n",
    "        \"\"\"Cleanup done after the agent ends.\"\"\"\n",
    "        pass\n",
    "\n",
    "    def agent_message(self, message):\n",
    "        \"\"\"A function used to pass information from the agent to the experiment.\n",
    "        Args:\n",
    "            message: The message passed to the agent.\n",
    "        Returns:\n",
    "            The response (or answer) to the message.\n",
    "        \"\"\"\n",
    "        pass"
   ]
  },
  {
   "cell_type": "code",
   "execution_count": 11,
   "metadata": {},
   "outputs": [
    {
     "data": {
      "application/vnd.jupyter.widget-view+json": {
       "model_id": "443676b171834e84adac1c9af6000675",
       "version_major": 2,
       "version_minor": 0
      },
      "text/plain": [
       "  0%|          | 0/10 [00:00<?, ?it/s]"
      ]
     },
     "metadata": {},
     "output_type": "display_data"
    },
    {
     "name": "stdout",
     "output_type": "stream",
     "text": [
      "RUN: 0\n",
      "RUN: 5\n",
      "Run time: 47.82181692123413\n"
     ]
    }
   ],
   "source": [
    "#Here is where we run LSVI-PHE on Sparse Mountain Car\n",
    "#Everything is set as choosen from the RL I Coursera Course. \n",
    "#I only added M, sigma.\n",
    "\n",
    "num_runs = 10\n",
    "num_episodes = 50\n",
    "env_info = {\"num_tiles\": 8, \"num_tilings\": 8}\n",
    "agent_info = {}\n",
    "all_steps = []\n",
    "\n",
    "agent = SarsaAgent\n",
    "env = sparse_mountain_car.Environment\n",
    "start = time.time()\n",
    "\n",
    "for run in tqdm(range(num_runs)):\n",
    "    if run % 5 == 0:\n",
    "        print(\"RUN: {}\".format(run))\n",
    "\n",
    "    rl_glue = RLGlue(env, agent)\n",
    "    rl_glue.rl_init(agent_info, env_info)\n",
    "    steps_per_episode = []\n",
    "\n",
    "    for episode in range(num_episodes):\n",
    "        rl_glue.rl_episode(15000)\n",
    "        steps_per_episode.append(rl_glue.num_steps)\n",
    "        #print(rl_glue.num_steps)        \n",
    "\n",
    "    all_steps.append(np.array(steps_per_episode))\n",
    "\n",
    "print(\"Run time: {}\".format(time.time() - start))\n"
   ]
  },
  {
   "cell_type": "code",
   "execution_count": 12,
   "metadata": {},
   "outputs": [
    {
     "data": {
      "text/plain": [
       "<matplotlib.legend.Legend at 0x136cec150>"
      ]
     },
     "execution_count": 12,
     "metadata": {},
     "output_type": "execute_result"
    },
    {
     "data": {
      "image/png": "[encoded data removed]",
      "text/plain": [
       "<Figure size 640x480 with 1 Axes>"
      ]
     },
     "metadata": {},
     "output_type": "display_data"
    }
   ],
   "source": [
    "#PLOT RESULTS\n",
    "plt.plot(np.mean(np.array(all_steps), axis=0),label='LSVI-PHE; M=3')\n",
    "plt.xlabel(\"Episode\")\n",
    "plt.ylabel(\"Steps to Reach Goal\")\n",
    "plt.title(\"Sparse Mountain Car Averaged over \" + str(num_runs) + \" runs\")\n",
    "plt.legend()\n",
    "# plt.savefig(\"sparse_mountain_car.pdf\")\n",
    "# np.save(\"sarsa_test\", np.array(all_steps))"
   ]
  },
  {
   "cell_type": "code",
   "execution_count": null,
   "metadata": {},
   "outputs": [],
   "source": []
  },
  {
   "cell_type": "code",
   "execution_count": null,
   "metadata": {},
   "outputs": [],
   "source": []
  },
  {
   "cell_type": "code",
   "execution_count": null,
   "metadata": {},
   "outputs": [],
   "source": []
  },
  {
   "cell_type": "code",
   "execution_count": null,
   "metadata": {},
   "outputs": [],
   "source": []
  },
  {
   "cell_type": "code",
   "execution_count": null,
   "metadata": {},
   "outputs": [],
   "source": []
  },
  {
   "cell_type": "code",
   "execution_count": null,
   "metadata": {},
   "outputs": [],
   "source": []
  },
  {
   "cell_type": "markdown",
   "metadata": {},
   "source": [
    "# Generate Good Trajectories"
   ]
  },
  {
   "cell_type": "code",
   "execution_count": 72,
   "metadata": {},
   "outputs": [],
   "source": [
    "from importlib import reload\n",
    "\n",
    "import gymnasium as gym\n",
    "from adaptive_time import value_est\n",
    "from adaptive_time import utils\n",
    "from adaptive_time.environments import gym_mountain_car\n",
    "\n",
    "import os\n",
    "\n",
    "import matplotlib.pyplot as plt\n",
    "import pickle\n",
    "import numpy as np\n",
    "\n",
    "from pprint import pprint\n",
    "\n",
    "gym_mountain_car = reload(gym_mountain_car)\n",
    "gym = reload(gym)"
   ]
  },
  {
   "cell_type": "code",
   "execution_count": 68,
   "metadata": {},
   "outputs": [],
   "source": [
    "BASE_DIR = \"classic_control_data\"\n",
    "data_descr = f\"mountain_car\"\n",
    "traj_data_file = f\"{data_descr}.pkl\"\n"
   ]
  },
  {
   "cell_type": "code",
   "execution_count": 69,
   "metadata": {},
   "outputs": [],
   "source": [
    "\n",
    "def generate_trajectory(\n",
    "        gym_env, rl_glue_agent, max_steps=None):\n",
    "    trajectory = []\n",
    "    terminated = False\n",
    "    steps = 0\n",
    "\n",
    "    observation, _ = gym_env.reset()\n",
    "    action = rl_glue_agent.agent_start(observation)\n",
    "\n",
    "    while not terminated:\n",
    "        steps += 1\n",
    "        observation_, reward, terminated, truncated, info = gym_env.step(action)\n",
    "        trajectory.append([observation, action, reward, observation_])\n",
    "        observation = observation_\n",
    "        action = rl_glue_agent.agent_start(observation)\n",
    "\n",
    "        if max_steps is not None and steps > max_steps:\n",
    "            return trajectory, True\n",
    "            #print('Max steps reached!', steps)\n",
    "\n",
    "    return trajectory, False\n"
   ]
  },
  {
   "cell_type": "code",
   "execution_count": 93,
   "metadata": {},
   "outputs": [],
   "source": [
    "STEPS_MAX = 20000\n",
    "dt = 0.01\n",
    "seed = 13\n",
    "NUM_TRAJS = 100"
   ]
  },
  {
   "cell_type": "code",
   "execution_count": null,
   "metadata": {},
   "outputs": [],
   "source": []
  },
  {
   "cell_type": "code",
   "execution_count": 95,
   "metadata": {},
   "outputs": [
    {
     "name": "stdout",
     "output_type": "stream",
     "text": [
      "Changed working directory to /Users/szepi1991/Code/adaptive_time\n"
     ]
    },
    {
     "data": {
      "application/vnd.jupyter.widget-view+json": {
       "model_id": "7e34cc584a204b1c8173a455248820c7",
       "version_major": 2,
       "version_minor": 0
      },
      "text/plain": [
       "  0%|          | 0/100 [00:00<?, ?it/s]"
      ]
     },
     "metadata": {},
     "output_type": "display_data"
    },
    {
     "name": "stdout",
     "output_type": "stream",
     "text": [
      "Saved data to classic_control_data/mountain_car.pkl\n",
      "total_rewards for each traj: [-111.21000000001999, -109.62000000001917, -109.74000000001924, -111.69000000002023, -120.98000000002499, -111.91000000002035, -117.75000000002333, -120.26000000002462, -111.41000000002009, -200.00999999996307, -112.28000000002054, -109.95000000001934, -112.24000000002052, -109.42000000001907, -110.00000000001937, -200.00999999996307, -112.0100000000204, -111.99000000002039, -118.6700000000238, -111.41000000002009, -111.00000000001988, -200.00999999996307, -122.06000000002554, -118.40000000002367, -112.24000000002052, -112.36000000002058, -112.03000000002041, -111.6200000000202, -112.25000000002052, -112.2200000000205, -200.00999999996307, -112.4100000000206, -113.41000000002111, -110.67000000001971, -110.27000000001951, -109.35000000001904, -110.99000000001988, -110.04000000001939, -110.15000000001945, -111.95000000002037, -118.05000000002349, -112.26000000002053, -111.97000000002038, -111.46000000002012, -120.0200000000245, -110.0500000000194, -120.48000000002473, -112.35000000002057, -118.97000000002396, -119.01000000002398, -120.24000000002461, -111.98000000002038, -118.45000000002369, -110.4400000000196, -121.87000000002544, -111.96000000002037, -117.03000000002297, -110.20000000001947, -118.10000000002351, -111.69000000002023, -200.00999999996307, -110.42000000001958, -111.6300000000202, -108.63000000001867, -110.94000000001985, -120.24000000002461, -112.23000000002051, -120.09000000002453, -110.47000000001961, -110.2500000000195, -112.62000000002071, -120.18000000002458, -110.49000000001962, -112.25000000002052, -110.20000000001947, -110.19000000001947, -112.24000000002052, -200.00999999996307, -110.00000000001937, -200.00999999996307, -200.00999999996307, -110.35000000001955, -111.6200000000202, -109.58000000001915, -118.59000000002376, -109.25000000001899, -118.98000000002396, -115.75000000002231, -111.50000000002014, -109.59000000001916, -111.98000000002038, -120.75000000002487, -109.4800000000191, -109.38000000001905, -111.99000000002039, -112.2200000000205, -119.02000000002398, -120.17000000002457, -112.2100000000205, -200.00999999996307]\n",
      "typical trajectory length: 12118.11\n"
     ]
    }
   ],
   "source": [
    "\n",
    "utils.set_directory_in_project()\n",
    "traj_data_path = os.path.join(BASE_DIR, traj_data_file)\n",
    "\n",
    "\n",
    "# env = gym.make('MountainCar-v0')\n",
    "env = gym.make('MountainCar-OURS-v0', dt=dt)\n",
    "\n",
    "value_est.reset_randomness(seed, env)\n",
    "\n",
    "reward_sequences = []\n",
    "total_rewards = []\n",
    "traj_lengths = []\n",
    "\n",
    "for _ in tqdm(range(NUM_TRAJS)):\n",
    "    trajectory, early_term = generate_trajectory(\n",
    "            env, rl_glue.agent, max_steps=STEPS_MAX)\n",
    "\n",
    "    traj_lengths.append(len(trajectory))\n",
    "    rewards = [r for _, _, r, _ in trajectory]\n",
    "\n",
    "    reward_sequences.append(rewards)\n",
    "    total_rewards.append(sum(rewards))\n",
    "\n",
    "\n",
    "all_traj_data = (\n",
    "    total_rewards, reward_sequences, traj_lengths,\n",
    "    None\n",
    ")\n",
    "\n",
    "with open(traj_data_path, \"wb\") as f:\n",
    "    pickle.dump(all_traj_data, f)\n",
    "print(\"Saved data to\", traj_data_path)\n",
    "\n",
    "print(\"total_rewards for each traj:\", total_rewards)\n",
    "num_trajs = len(total_rewards)\n",
    "\n",
    "print(\"typical trajectory length:\", np.mean(traj_lengths))\n",
    "\n"
   ]
  },
  {
   "cell_type": "code",
   "execution_count": 96,
   "metadata": {},
   "outputs": [
    {
     "name": "stdout",
     "output_type": "stream",
     "text": [
      "Changed working directory to /Users/szepi1991/Code/adaptive_time/classic_control_data/reward_info\n"
     ]
    },
    {
     "data": {
      "text/plain": [
       "'/Users/szepi1991/Code/adaptive_time/classic_control_data/reward_info'"
      ]
     },
     "execution_count": 96,
     "metadata": {},
     "output_type": "execute_result"
    }
   ],
   "source": [
    "support_dir = os.path.join(BASE_DIR, \"reward_info\")\n",
    "utils.set_directory_in_project(support_dir, create_dirs=True)\n"
   ]
  },
  {
   "cell_type": "code",
   "execution_count": 97,
   "metadata": {},
   "outputs": [
    {
     "data": {
      "image/png": "[encoded data removed]",
      "text/plain": [
       "<Figure size 640x480 with 1 Axes>"
      ]
     },
     "metadata": {},
     "output_type": "display_data"
    }
   ],
   "source": [
    "plt.hist(total_rewards)\n",
    "plt.savefig(f'{data_descr}_reward_total_distr.png')"
   ]
  },
  {
   "cell_type": "code",
   "execution_count": 98,
   "metadata": {},
   "outputs": [
    {
     "data": {
      "image/png": "[encoded data removed]",
      "text/plain": [
       "<Figure size 640x480 with 1 Axes>"
      ]
     },
     "metadata": {},
     "output_type": "display_data"
    }
   ],
   "source": [
    "tr = np.array(total_rewards)\n",
    "plt.hist(tr[tr > -150])\n",
    "plt.savefig(f'{data_descr}_reward_total_distr_zoom.png')"
   ]
  },
  {
   "cell_type": "code",
   "execution_count": 99,
   "metadata": {},
   "outputs": [
    {
     "name": "stdout",
     "output_type": "stream",
     "text": [
      "-111.21000000001999\n"
     ]
    },
    {
     "data": {
      "image/png": "[encoded data removed]",
      "text/plain": [
       "<Figure size 640x480 with 1 Axes>"
      ]
     },
     "metadata": {},
     "output_type": "display_data"
    }
   ],
   "source": [
    "\n",
    "traj_idx = 0\n",
    "print(total_rewards[traj_idx])\n",
    "plt.plot(reward_sequences[traj_idx])\n",
    "plt.savefig(f'{data_descr}_reward_sample_curve.png')"
   ]
  },
  {
   "cell_type": "code",
   "execution_count": null,
   "metadata": {},
   "outputs": [],
   "source": []
  }
 ],
 "metadata": {
  "kernelspec": {
   "display_name": ".venv",
   "language": "python",
   "name": "python3"
  },
  "language_info": {
   "codemirror_mode": {
    "name": "ipython",
    "version": 3
   },
   "file_extension": ".py",
   "mimetype": "text/x-python",
   "name": "python",
   "nbconvert_exporter": "python",
   "pygments_lexer": "ipython3",
   "version": "3.11.7"
  }
 },
 "nbformat": 4,
 "nbformat_minor": 2
}
