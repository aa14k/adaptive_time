{
 "cells": [
  {
   "cell_type": "markdown",
   "metadata": {},
   "source": [
    "# Value Estimation -- quadrature vs uniform"
   ]
  },
  {
   "cell_type": "code",
   "execution_count": 2,
   "metadata": {},
   "outputs": [
    {
     "name": "stderr",
     "output_type": "stream",
     "text": [
      "/Users/szepi1991/Code/adaptive_time/.venv/lib/python3.11/site-packages/gymnasium/envs/registration.py:694: UserWarning: \u001b[33mWARN: Overriding environment CartPole-OURS-v2 already in registry.\u001b[0m\n",
      "  logger.warn(f\"Overriding environment {new_spec.id} already in registry.\")\n"
     ]
    }
   ],
   "source": [
    "import math\n",
    "from importlib import reload\n",
    "\n",
    "import gc\n",
    "import matplotlib.pyplot as plt\n",
    "import pickle\n",
    "import numpy as np\n",
    "\n",
    "from tqdm.notebook import tqdm\n",
    "\n",
    "from adaptive_time import plot_utils\n",
    "from adaptive_time import utils\n",
    "from adaptive_time import run_lib\n",
    "from adaptive_time.environments import cartpole2\n",
    "from adaptive_time import value_est\n",
    "from adaptive_time.value_est import approx_integrators\n",
    "\n",
    "from pprint import pprint\n",
    "\n",
    "approx_integrators = reload(approx_integrators)\n",
    "run_lib = reload(run_lib)\n",
    "cartpole2 = reload(cartpole2)\n",
    "value_est = reload(value_est)\n",
    "plot_utils = reload(plot_utils)\n",
    "utils = reload(utils)"
   ]
  },
  {
   "cell_type": "markdown",
   "metadata": {},
   "source": [
    "Make this notebook configurable so we can quickly generate plots for multiple variants."
   ]
  },
  {
   "cell_type": "code",
   "execution_count": 3,
   "metadata": {},
   "outputs": [
    {
     "name": "stdout",
     "output_type": "stream",
     "text": [
      "Changed working directory to /Users/szepi1991/Code/adaptive_time\n"
     ]
    },
    {
     "data": {
      "text/plain": [
       "'/Users/szepi1991/Code/adaptive_time'"
      ]
     },
     "execution_count": 3,
     "metadata": {},
     "output_type": "execute_result"
    }
   ],
   "source": [
    "utils.set_directory_in_project()"
   ]
  },
  {
   "cell_type": "code",
   "execution_count": 53,
   "metadata": {},
   "outputs": [],
   "source": [
    "data_to_load = \"classic_control_data/cartpole2_rew_discrete_termTrue.pkl\"\n",
    "# data_to_load = \"classic_control_data/mountain_car.pkl\"\n",
    "\n",
    "filename = data_to_load.split(\"/\")[-1]\n",
    "filename = filename.split(\".\")[0]\n"
   ]
  },
  {
   "cell_type": "code",
   "execution_count": 56,
   "metadata": {},
   "outputs": [],
   "source": [
    "results_path = \"results/classic\""
   ]
  },
  {
   "cell_type": "code",
   "execution_count": 14,
   "metadata": {},
   "outputs": [
    {
     "name": "stdout",
     "output_type": "stream",
     "text": [
      "Loaded data from classic_control_data/mountain_car.pkl\n",
      "total_rewards for each traj: [-111.21000000001999, -109.62000000001917, -109.74000000001924, -111.69000000002023, -120.98000000002499, -111.91000000002035, -117.75000000002333, -120.26000000002462, -111.41000000002009, -200.00999999996307, -112.28000000002054, -109.95000000001934, -112.24000000002052, -109.42000000001907, -110.00000000001937, -200.00999999996307, -112.0100000000204, -111.99000000002039, -118.6700000000238, -111.41000000002009, -111.00000000001988, -200.00999999996307, -122.06000000002554, -118.40000000002367, -112.24000000002052, -112.36000000002058, -112.03000000002041, -111.6200000000202, -112.25000000002052, -112.2200000000205, -200.00999999996307, -112.4100000000206, -113.41000000002111, -110.67000000001971, -110.27000000001951, -109.35000000001904, -110.99000000001988, -110.04000000001939, -110.15000000001945, -111.95000000002037, -118.05000000002349, -112.26000000002053, -111.97000000002038, -111.46000000002012, -120.0200000000245, -110.0500000000194, -120.48000000002473, -112.35000000002057, -118.97000000002396, -119.01000000002398, -120.24000000002461, -111.98000000002038, -118.45000000002369, -110.4400000000196, -121.87000000002544, -111.96000000002037, -117.03000000002297, -110.20000000001947, -118.10000000002351, -111.69000000002023, -200.00999999996307, -110.42000000001958, -111.6300000000202, -108.63000000001867, -110.94000000001985, -120.24000000002461, -112.23000000002051, -120.09000000002453, -110.47000000001961, -110.2500000000195, -112.62000000002071, -120.18000000002458, -110.49000000001962, -112.25000000002052, -110.20000000001947, -110.19000000001947, -112.24000000002052, -200.00999999996307, -110.00000000001937, -200.00999999996307, -200.00999999996307, -110.35000000001955, -111.6200000000202, -109.58000000001915, -118.59000000002376, -109.25000000001899, -118.98000000002396, -115.75000000002231, -111.50000000002014, -109.59000000001916, -111.98000000002038, -120.75000000002487, -109.4800000000191, -109.38000000001905, -111.99000000002039, -112.2200000000205, -119.02000000002398, -120.17000000002457, -112.2100000000205, -200.00999999996307]\n"
     ]
    }
   ],
   "source": [
    "with open(data_to_load, \"rb\") as f:\n",
    "    all_traj_data = pickle.load(f)\n",
    "total_rewards, reward_sequences, traj_lengths = all_traj_data[:3]\n",
    "\n",
    "print(\"Loaded data from\", data_to_load)\n",
    "\n",
    "del all_traj_data   # Clear up memory.\n",
    "\n",
    "print(\"total_rewards for each traj:\", total_rewards)\n",
    "if hasattr(reward_sequences, \"shape\"):\n",
    "    print(\"all rewards shape if array:\", reward_sequences.shape)\n",
    "num_trajs = len(total_rewards)"
   ]
  },
  {
   "cell_type": "code",
   "execution_count": 15,
   "metadata": {},
   "outputs": [
    {
     "data": {
      "text/plain": [
       "(array([ 9.,  0.,  0.,  0.,  0.,  0.,  0.,  0., 22., 69.]),\n",
       " array([-200.01 , -190.872, -181.734, -172.596, -163.458, -154.32 ,\n",
       "        -145.182, -136.044, -126.906, -117.768, -108.63 ]),\n",
       " <BarContainer object of 10 artists>)"
      ]
     },
     "execution_count": 15,
     "metadata": {},
     "output_type": "execute_result"
    },
    {
     "data": {
      "image/png": "[encoded data removed]",
      "text/plain": [
       "<Figure size 640x480 with 1 Axes>"
      ]
     },
     "metadata": {},
     "output_type": "display_data"
    }
   ],
   "source": [
    "plt.hist(total_rewards)"
   ]
  },
  {
   "cell_type": "code",
   "execution_count": null,
   "metadata": {},
   "outputs": [],
   "source": []
  },
  {
   "cell_type": "code",
   "execution_count": null,
   "metadata": {},
   "outputs": [],
   "source": []
  },
  {
   "cell_type": "code",
   "execution_count": 3,
   "metadata": {},
   "outputs": [
    {
     "name": "stdout",
     "output_type": "stream",
     "text": [
      "False\n"
     ]
    }
   ],
   "source": []
  },
  {
   "cell_type": "code",
   "execution_count": 18,
   "metadata": {},
   "outputs": [],
   "source": [
    "NUM_RUNS = 100\n",
    "SAMPLE_BUDGET = 1_000_000\n",
    "\n",
    "BUDGET_INTERP_STEP = 1_000\n"
   ]
  },
  {
   "cell_type": "code",
   "execution_count": null,
   "metadata": {},
   "outputs": [],
   "source": []
  },
  {
   "cell_type": "code",
   "execution_count": null,
   "metadata": {},
   "outputs": [],
   "source": []
  },
  {
   "cell_type": "code",
   "execution_count": null,
   "metadata": {},
   "outputs": [],
   "source": []
  },
  {
   "cell_type": "markdown",
   "metadata": {},
   "source": [
    "## Data setup 2: the weights across initial states\n"
   ]
  },
  {
   "cell_type": "code",
   "execution_count": 16,
   "metadata": {},
   "outputs": [
    {
     "name": "stdout",
     "output_type": "stream",
     "text": [
      "weights: [0.01 0.01 0.01 0.01 0.01 0.01 0.01 0.01 0.01 0.01 0.01 0.01 0.01 0.01\n",
      " 0.01 0.01 0.01 0.01 0.01 0.01 0.01 0.01 0.01 0.01 0.01 0.01 0.01 0.01\n",
      " 0.01 0.01 0.01 0.01 0.01 0.01 0.01 0.01 0.01 0.01 0.01 0.01 0.01 0.01\n",
      " 0.01 0.01 0.01 0.01 0.01 0.01 0.01 0.01 0.01 0.01 0.01 0.01 0.01 0.01\n",
      " 0.01 0.01 0.01 0.01 0.01 0.01 0.01 0.01 0.01 0.01 0.01 0.01 0.01 0.01\n",
      " 0.01 0.01 0.01 0.01 0.01 0.01 0.01 0.01 0.01 0.01 0.01 0.01 0.01 0.01\n",
      " 0.01 0.01 0.01 0.01 0.01 0.01 0.01 0.01 0.01 0.01 0.01 0.01 0.01 0.01\n",
      " 0.01 0.01]\n",
      "sum: 0.9999999999999999\n"
     ]
    }
   ],
   "source": [
    "seed = 43\n",
    "run_lib.reset_randomness(seed, env=None)\n",
    "\n",
    "weights = np.ones((num_trajs,)) / num_trajs\n",
    "# weights = np.random.random((num_trajs,))\n",
    "# weights /= np.sum(weights)\n",
    "\n",
    "print(\"weights:\", weights)\n",
    "print(\"sum:\", np.sum(weights))"
   ]
  },
  {
   "cell_type": "markdown",
   "metadata": {},
   "source": [
    "## Learning"
   ]
  },
  {
   "cell_type": "markdown",
   "metadata": {},
   "source": [
    "Constants"
   ]
  },
  {
   "cell_type": "code",
   "execution_count": 19,
   "metadata": {},
   "outputs": [
    {
     "name": "stdout",
     "output_type": "stream",
     "text": [
      "num_runs: 100\n",
      "sample_budget: 1000000\n"
     ]
    }
   ],
   "source": [
    "print(\"num_runs:\", NUM_RUNS)\n",
    "print(\"sample_budget:\", SAMPLE_BUDGET)"
   ]
  },
  {
   "cell_type": "markdown",
   "metadata": {},
   "source": [
    "### Ground truth value"
   ]
  },
  {
   "cell_type": "code",
   "execution_count": 20,
   "metadata": {},
   "outputs": [
    {
     "name": "stdout",
     "output_type": "stream",
     "text": [
      "true value: -121.1811000000159\n"
     ]
    }
   ],
   "source": [
    "true_value = total_rewards @ weights\n",
    "print(\"true value:\", true_value)"
   ]
  },
  {
   "cell_type": "markdown",
   "metadata": {},
   "source": [
    "### Learn from samples; with diff samplers"
   ]
  },
  {
   "cell_type": "code",
   "execution_count": 22,
   "metadata": {},
   "outputs": [
    {
     "name": "stdout",
     "output_type": "stream",
     "text": [
      "unif_sampler_params: [   1    4   16   64  256 1024]\n",
      "quad_sampler_params: [0.00e+00 1.25e-01 5.00e-01 2.00e+00 8.00e+00 3.20e+01 1.28e+02 5.12e+02]\n"
     ]
    }
   ],
   "source": [
    "unif_sampler_params = np.power(2, np.arange(0, 11, 2))\n",
    "quad_sampler_params = np.concatenate(\n",
    "    (np.array([0]), np.power(2, np.arange(-3.0, 10, 2))), axis=0\n",
    ")\n",
    "\n",
    "print('unif_sampler_params:', unif_sampler_params)\n",
    "print('quad_sampler_params:', quad_sampler_params)\n"
   ]
  },
  {
   "cell_type": "code",
   "execution_count": 23,
   "metadata": {},
   "outputs": [],
   "source": [
    "samplers_tried = {\n",
    "    f'q{p}': approx_integrators.AdaptiveQuadratureIntegrator(tolerance=p)\n",
    "    for p in quad_sampler_params\n",
    "}\n",
    "samplers_tried.update({\n",
    "    f'u{p}': approx_integrators.UniformlySpacedIntegrator(p)\n",
    "    for p in unif_sampler_params\n",
    "})\n"
   ]
  },
  {
   "cell_type": "code",
   "execution_count": 24,
   "metadata": {},
   "outputs": [],
   "source": [
    "def name_to_param(name):\n",
    "    num = float(name[1:])\n",
    "    if name[0] == 'q':\n",
    "        return num\n",
    "    else:\n",
    "        return int(num)\n",
    "\n",
    "def name_to_type(name):\n",
    "    return name[0]\n",
    "\n",
    "def param_to_name(sampler_char, param):\n",
    "    return f\"{sampler_char}{param}\""
   ]
  },
  {
   "cell_type": "markdown",
   "metadata": {},
   "source": [
    "Since everything other than the start state is deterministic, we can just calculate the approximate integrals for each trajectory with each integrator and store these."
   ]
  },
  {
   "cell_type": "code",
   "execution_count": 25,
   "metadata": {},
   "outputs": [
    {
     "data": {
      "application/vnd.jupyter.widget-view+json": {
       "model_id": "da72487c23fb43578571b042c2f79dca",
       "version_major": 2,
       "version_minor": 0
      },
      "text/plain": [
       "  0%|          | 0/14 [00:00<?, ?it/s]"
      ]
     },
     "metadata": {},
     "output_type": "display_data"
    },
    {
     "name": "stdout",
     "output_type": "stream",
     "text": [
      "sampler_name: q0.0\n",
      "sampler_name: q0.125\n",
      "sampler_name: q0.5\n",
      "sampler_name: q2.0\n",
      "sampler_name: q8.0\n",
      "sampler_name: q32.0\n",
      "sampler_name: q128.0\n",
      "sampler_name: q512.0\n",
      "sampler_name: u1\n",
      "sampler_name: u4\n",
      "sampler_name: u16\n",
      "sampler_name: u64\n",
      "sampler_name: u256\n",
      "sampler_name: u1024\n"
     ]
    }
   ],
   "source": [
    "approx_integrals = {}\n",
    "num_pivots = {}\n",
    "\n",
    "for sampler_name, sampler in tqdm(samplers_tried.items()):\n",
    "    print(\"sampler_name:\", sampler_name)\n",
    "    approx_integrals[sampler_name] = []\n",
    "    num_pivots[sampler_name] = []\n",
    "    for idx, reward_seq in enumerate(reward_sequences):\n",
    "        integral, all_pivots = sampler.integrate(reward_seq)\n",
    "        approx_integrals[sampler_name].append(integral)\n",
    "        num_pivots[sampler_name].append(len(all_pivots))\n",
    "    approx_integrals[sampler_name] = np.array(approx_integrals[sampler_name])\n",
    "    num_pivots[sampler_name] = np.array(num_pivots[sampler_name])\n",
    "\n"
   ]
  },
  {
   "cell_type": "code",
   "execution_count": 26,
   "metadata": {},
   "outputs": [
    {
     "name": "stdout",
     "output_type": "stream",
     "text": [
      "Sample data for trajectory 0:\n",
      "* True return: -111.21000000001999\n",
      "* Approx integrals:\n"
     ]
    },
    {
     "data": {
      "text/plain": [
       "{'q0.0': -111.21,\n",
       " 'q0.125': -111.21,\n",
       " 'q0.5': -111.21,\n",
       " 'q2.0': -111.21,\n",
       " 'q8.0': -111.21,\n",
       " 'q32.0': -111.21,\n",
       " 'q128.0': -111.21,\n",
       " 'q512.0': -111.21,\n",
       " 'u1': -111.21000000001999,\n",
       " 'u4': -111.21000000000619,\n",
       " 'u16': -111.20999999999835,\n",
       " 'u64': -111.2100000000001,\n",
       " 'u256': -111.21000000000006,\n",
       " 'u1024': -111.21}"
      ]
     },
     "execution_count": 26,
     "metadata": {},
     "output_type": "execute_result"
    }
   ],
   "source": [
    "traj_id = 0\n",
    "\n",
    "print(\"Sample data for trajectory 0:\")\n",
    "print(\"* True return:\", total_rewards[traj_id])\n",
    "print(\"* Approx integrals:\")\n",
    "{k: v[traj_id] for k, v in approx_integrals.items()}\n"
   ]
  },
  {
   "cell_type": "code",
   "execution_count": 27,
   "metadata": {},
   "outputs": [
    {
     "data": {
      "text/plain": [
       "{'q0.0': 17,\n",
       " 'q0.125': 3,\n",
       " 'q0.5': 3,\n",
       " 'q2.0': 3,\n",
       " 'q8.0': 3,\n",
       " 'q32.0': 3,\n",
       " 'q128.0': 3,\n",
       " 'q512.0': 3,\n",
       " 'u1': 11121,\n",
       " 'u4': 2781,\n",
       " 'u16': 696,\n",
       " 'u64': 175,\n",
       " 'u256': 45,\n",
       " 'u1024': 12}"
      ]
     },
     "execution_count": 27,
     "metadata": {},
     "output_type": "execute_result"
    }
   ],
   "source": [
    "traj_id = 0\n",
    "\n",
    "{k: v[traj_id] for k, v in num_pivots.items()}\n"
   ]
  },
  {
   "cell_type": "markdown",
   "metadata": {},
   "source": [
    "Now we just keep sampling the start state and integrate accordingly."
   ]
  },
  {
   "cell_type": "code",
   "execution_count": 28,
   "metadata": {},
   "outputs": [
    {
     "data": {
      "text/plain": [
       "513"
      ]
     },
     "execution_count": 28,
     "metadata": {},
     "output_type": "execute_result"
    }
   ],
   "source": [
    "gc.collect()"
   ]
  },
  {
   "cell_type": "code",
   "execution_count": 29,
   "metadata": {},
   "outputs": [
    {
     "data": {
      "application/vnd.jupyter.widget-view+json": {
       "model_id": "bd9fbbdd48de46ad9636c31ed888ff4c",
       "version_major": 2,
       "version_minor": 0
      },
      "text/plain": [
       "  0%|          | 0/14 [00:00<?, ?it/s]"
      ]
     },
     "metadata": {},
     "output_type": "display_data"
    },
    {
     "name": "stdout",
     "output_type": "stream",
     "text": [
      "sampler_name: q0.0\n"
     ]
    },
    {
     "data": {
      "application/vnd.jupyter.widget-view+json": {
       "model_id": "6f2edece951e4001965416ed8b41563e",
       "version_major": 2,
       "version_minor": 0
      },
      "text/plain": [
       "  0%|          | 0/100 [00:00<?, ?it/s]"
      ]
     },
     "metadata": {},
     "output_type": "display_data"
    },
    {
     "name": "stdout",
     "output_type": "stream",
     "text": [
      "sampler_name: q0.125\n"
     ]
    },
    {
     "data": {
      "application/vnd.jupyter.widget-view+json": {
       "model_id": "ba519c67520346828d038cd66273d1b5",
       "version_major": 2,
       "version_minor": 0
      },
      "text/plain": [
       "  0%|          | 0/100 [00:00<?, ?it/s]"
      ]
     },
     "metadata": {},
     "output_type": "display_data"
    },
    {
     "name": "stdout",
     "output_type": "stream",
     "text": [
      "sampler_name: q0.5\n"
     ]
    },
    {
     "data": {
      "application/vnd.jupyter.widget-view+json": {
       "model_id": "a2aa69f98d85411eb15df1dccc933d41",
       "version_major": 2,
       "version_minor": 0
      },
      "text/plain": [
       "  0%|          | 0/100 [00:00<?, ?it/s]"
      ]
     },
     "metadata": {},
     "output_type": "display_data"
    },
    {
     "name": "stdout",
     "output_type": "stream",
     "text": [
      "sampler_name: q2.0\n"
     ]
    },
    {
     "data": {
      "application/vnd.jupyter.widget-view+json": {
       "model_id": "28721a7accdc446faae3a813aa85a093",
       "version_major": 2,
       "version_minor": 0
      },
      "text/plain": [
       "  0%|          | 0/100 [00:00<?, ?it/s]"
      ]
     },
     "metadata": {},
     "output_type": "display_data"
    },
    {
     "name": "stdout",
     "output_type": "stream",
     "text": [
      "sampler_name: q8.0\n"
     ]
    },
    {
     "data": {
      "application/vnd.jupyter.widget-view+json": {
       "model_id": "e840374efae44f498e44dacf3cc7874a",
       "version_major": 2,
       "version_minor": 0
      },
      "text/plain": [
       "  0%|          | 0/100 [00:00<?, ?it/s]"
      ]
     },
     "metadata": {},
     "output_type": "display_data"
    },
    {
     "name": "stdout",
     "output_type": "stream",
     "text": [
      "sampler_name: q32.0\n"
     ]
    },
    {
     "data": {
      "application/vnd.jupyter.widget-view+json": {
       "model_id": "57fc8a29804e4c9c86e19be2d425c40c",
       "version_major": 2,
       "version_minor": 0
      },
      "text/plain": [
       "  0%|          | 0/100 [00:00<?, ?it/s]"
      ]
     },
     "metadata": {},
     "output_type": "display_data"
    },
    {
     "name": "stdout",
     "output_type": "stream",
     "text": [
      "sampler_name: q128.0\n"
     ]
    },
    {
     "data": {
      "application/vnd.jupyter.widget-view+json": {
       "model_id": "81b07b254488493894a2424bd4e92d9e",
       "version_major": 2,
       "version_minor": 0
      },
      "text/plain": [
       "  0%|          | 0/100 [00:00<?, ?it/s]"
      ]
     },
     "metadata": {},
     "output_type": "display_data"
    },
    {
     "name": "stdout",
     "output_type": "stream",
     "text": [
      "sampler_name: q512.0\n"
     ]
    },
    {
     "data": {
      "application/vnd.jupyter.widget-view+json": {
       "model_id": "e03f45e1e1ed4daf80af2a0a8ad2983a",
       "version_major": 2,
       "version_minor": 0
      },
      "text/plain": [
       "  0%|          | 0/100 [00:00<?, ?it/s]"
      ]
     },
     "metadata": {},
     "output_type": "display_data"
    },
    {
     "name": "stdout",
     "output_type": "stream",
     "text": [
      "sampler_name: u1\n"
     ]
    },
    {
     "data": {
      "application/vnd.jupyter.widget-view+json": {
       "model_id": "e382794852d64ecdb72166cf0e226291",
       "version_major": 2,
       "version_minor": 0
      },
      "text/plain": [
       "  0%|          | 0/100 [00:00<?, ?it/s]"
      ]
     },
     "metadata": {},
     "output_type": "display_data"
    },
    {
     "name": "stdout",
     "output_type": "stream",
     "text": [
      "sampler_name: u4\n"
     ]
    },
    {
     "data": {
      "application/vnd.jupyter.widget-view+json": {
       "model_id": "510eff110bff4859a30c397296ae922f",
       "version_major": 2,
       "version_minor": 0
      },
      "text/plain": [
       "  0%|          | 0/100 [00:00<?, ?it/s]"
      ]
     },
     "metadata": {},
     "output_type": "display_data"
    },
    {
     "name": "stdout",
     "output_type": "stream",
     "text": [
      "sampler_name: u16\n"
     ]
    },
    {
     "data": {
      "application/vnd.jupyter.widget-view+json": {
       "model_id": "19afa6b64e4441dfa9d29a7dce2c414f",
       "version_major": 2,
       "version_minor": 0
      },
      "text/plain": [
       "  0%|          | 0/100 [00:00<?, ?it/s]"
      ]
     },
     "metadata": {},
     "output_type": "display_data"
    },
    {
     "name": "stdout",
     "output_type": "stream",
     "text": [
      "sampler_name: u64\n"
     ]
    },
    {
     "data": {
      "application/vnd.jupyter.widget-view+json": {
       "model_id": "063702e3b28e4a69b423044b9b8e9af6",
       "version_major": 2,
       "version_minor": 0
      },
      "text/plain": [
       "  0%|          | 0/100 [00:00<?, ?it/s]"
      ]
     },
     "metadata": {},
     "output_type": "display_data"
    },
    {
     "name": "stdout",
     "output_type": "stream",
     "text": [
      "sampler_name: u256\n"
     ]
    },
    {
     "data": {
      "application/vnd.jupyter.widget-view+json": {
       "model_id": "8a12f392fd184e99a1421fb29173603e",
       "version_major": 2,
       "version_minor": 0
      },
      "text/plain": [
       "  0%|          | 0/100 [00:00<?, ?it/s]"
      ]
     },
     "metadata": {},
     "output_type": "display_data"
    },
    {
     "name": "stdout",
     "output_type": "stream",
     "text": [
      "sampler_name: u1024\n"
     ]
    },
    {
     "data": {
      "application/vnd.jupyter.widget-view+json": {
       "model_id": "8ccc1c24d2a644d9ae3e594678150612",
       "version_major": 2,
       "version_minor": 0
      },
      "text/plain": [
       "  0%|          | 0/100 [00:00<?, ?it/s]"
      ]
     },
     "metadata": {},
     "output_type": "display_data"
    },
    {
     "data": {
      "text/plain": [
       "103"
      ]
     },
     "execution_count": 29,
     "metadata": {},
     "output_type": "execute_result"
    }
   ],
   "source": [
    "\n",
    "seed = 43\n",
    "\n",
    "samplers_to_learn_with = samplers_tried\n",
    "# samplers_to_learn_with = {\n",
    "#     'u1024': samplers_tried['u1024'],\n",
    "# }\n",
    "\n",
    "data = value_est.simulate_learning(\n",
    "        seed, samplers_to_learn_with, SAMPLE_BUDGET, num_runs=NUM_RUNS,\n",
    "        start_state_weights=weights,\n",
    "        approx_integrals=approx_integrals, num_pivots=num_pivots,\n",
    "        tqdm=tqdm)\n",
    "\n",
    "\n",
    "gc.collect()\n",
    "# with open(procesed_data_file, \"wb\") as f:\n",
    "#     pickle.dump(data, f)\n"
   ]
  },
  {
   "cell_type": "code",
   "execution_count": null,
   "metadata": {},
   "outputs": [],
   "source": []
  },
  {
   "cell_type": "code",
   "execution_count": 30,
   "metadata": {},
   "outputs": [
    {
     "data": {
      "text/plain": [
       "dict_keys(['running_v_estimate', 'total_pivots'])"
      ]
     },
     "execution_count": 30,
     "metadata": {},
     "output_type": "execute_result"
    }
   ],
   "source": [
    "list(data.values())[0][0].keys()"
   ]
  },
  {
   "cell_type": "code",
   "execution_count": 31,
   "metadata": {},
   "outputs": [],
   "source": [
    "# # Verify final means.\n",
    "# for sampler_name, all_runs_data in data.items():\n",
    "#     for run_idx, run_data in enumerate(all_runs_data):\n",
    "#         mean_of_indiv = np.mean(run_data[\"values_of_trajs\"])\n",
    "#         mean_updated = run_data[\"running_v_estimate\"][-1]\n",
    "#         if run_idx == 0:\n",
    "#             print(\"mean_total:\", mean_of_indiv, \"mean_updated:\", mean_updated)\n",
    "#         if abs(mean_of_indiv - mean_updated) > 0.01:\n",
    "#             assert False, (\n",
    "#                 f\"Means don't match for {sampler_name}, run {run_idx}: \"\n",
    "#                 f\"{mean_of_indiv} vs {mean_updated}\")\n"
   ]
  },
  {
   "cell_type": "code",
   "execution_count": 32,
   "metadata": {},
   "outputs": [
    {
     "data": {
      "text/plain": [
       "array([-121.08891021, -121.08596711, -121.09568378, -121.2956758 ,\n",
       "       -121.10743356, -121.1317422 , -121.13651115, -121.15172503,\n",
       "       -121.3735437 , -121.12983727, -121.27299421, -121.15325461,\n",
       "       -121.22240654, -121.28837678, -121.1613112 , -121.13878597,\n",
       "       -121.15624317, -121.20615519, -121.13048646, -121.25834386,\n",
       "       -121.15606782, -121.20000768, -121.20088312, -121.2286288 ,\n",
       "       -121.19412713, -121.23027626, -121.15242472, -121.10730538,\n",
       "       -121.26135362, -121.13971445, -121.2483788 , -121.13740498,\n",
       "       -121.19123807, -121.13933203, -121.27716861, -121.19162736,\n",
       "       -121.19251391, -121.19203745, -121.29544055, -121.16875789,\n",
       "       -121.28711023, -121.25944102, -121.23279694, -121.14160433,\n",
       "       -121.12710346, -121.25114221, -121.07140191, -121.32048121,\n",
       "       -121.10859234, -121.21759013, -121.29898425, -121.17714003,\n",
       "       -121.2653752 , -121.28349057, -121.0728929 , -121.24599186,\n",
       "       -121.05539752, -121.09866213, -121.28157574, -121.28606075,\n",
       "       -121.25405036, -121.26024616, -121.21965091, -121.13903486,\n",
       "       -121.04478278, -121.22530207, -121.21832133, -121.22421167,\n",
       "       -121.10115837, -121.10176544, -121.14950273, -121.08725841,\n",
       "       -121.18412925, -121.07855264, -121.20625105, -121.14046848,\n",
       "       -121.23810972, -121.19324603, -121.19550196, -121.11666387,\n",
       "       -121.1598697 , -121.06010343, -121.33171847, -121.19785527,\n",
       "       -121.31415198, -121.24853446, -121.1817817 , -121.25257593,\n",
       "       -121.15606246, -121.29187079, -121.14197988, -121.12539914,\n",
       "       -121.03751912, -121.0731435 , -121.19796295, -121.30539793,\n",
       "       -121.08361491, -121.13891405, -121.23131787, -121.21270987])"
      ]
     },
     "execution_count": 32,
     "metadata": {},
     "output_type": "execute_result"
    }
   ],
   "source": [
    "estimates_across_runs = np.array([ data[\"u256\"][i][\"running_v_estimate\"][-1000] for i in range(NUM_RUNS) ])\n",
    "estimates_across_runs"
   ]
  },
  {
   "cell_type": "code",
   "execution_count": 34,
   "metadata": {},
   "outputs": [
    {
     "name": "stdout",
     "output_type": "stream",
     "text": [
      "interpolating\n"
     ]
    },
    {
     "data": {
      "application/vnd.jupyter.widget-view+json": {
       "model_id": "e0bda64677164bd7857a3b9e039b79bb",
       "version_major": 2,
       "version_minor": 0
      },
      "text/plain": [
       "  0%|          | 0/14 [00:00<?, ?it/s]"
      ]
     },
     "metadata": {},
     "output_type": "display_data"
    },
    {
     "name": "stdout",
     "output_type": "stream",
     "text": [
      "finding means and stderrs\n"
     ]
    },
    {
     "data": {
      "application/vnd.jupyter.widget-view+json": {
       "model_id": "090d85bcbe804c6eb52ab2cac5e25431",
       "version_major": 2,
       "version_minor": 0
      },
      "text/plain": [
       "  0%|          | 0/14 [00:00<?, ?it/s]"
      ]
     },
     "metadata": {},
     "output_type": "display_data"
    },
    {
     "name": "stderr",
     "output_type": "stream",
     "text": [
      "/Users/szepi1991/Code/adaptive_time/code/adaptive_time/plot_utils.py:70: RuntimeWarning: Mean of empty slice\n",
      "  all_y_means[name] = np.nanmean(res, axis=0)\n",
      "/Users/szepi1991/Code/adaptive_time/.venv/lib/python3.11/site-packages/numpy/lib/nanfunctions.py:1879: RuntimeWarning: Degrees of freedom <= 0 for slice.\n",
      "  var = nanvar(a, axis=axis, dtype=dtype, out=out, ddof=ddof,\n"
     ]
    }
   ],
   "source": [
    "gc.collect()\n",
    "\n",
    "_values_data = plot_utils.process_across_runs(\n",
    "        data, \"total_pivots\", \"running_v_estimate\", right=np.nan, interp_step=BUDGET_INTERP_STEP, tqdm=tqdm)\n",
    "\n",
    "gc.collect()\n",
    "\n",
    "_means = {\n",
    "    k: np.abs(val - true_value)\n",
    "    for k, val in _values_data.means.items()\n",
    "}\n",
    "error_data = _values_data._replace(means=_means)\n",
    "\n",
    "error_y_label = \"$|\\hat{V}(S_0) - v_\\pi(S_0)|$\""
   ]
  },
  {
   "cell_type": "markdown",
   "metadata": {},
   "source": [
    "## Plots"
   ]
  },
  {
   "cell_type": "code",
   "execution_count": 58,
   "metadata": {},
   "outputs": [
    {
     "name": "stdout",
     "output_type": "stream",
     "text": [
      "Changed working directory to /Users/szepi1991/Code/adaptive_time/results/classic\n"
     ]
    },
    {
     "data": {
      "text/plain": [
       "'/Users/szepi1991/Code/adaptive_time/results/classic'"
      ]
     },
     "execution_count": 58,
     "metadata": {},
     "output_type": "execute_result"
    }
   ],
   "source": [
    "title = filename\n",
    "\n",
    "utils.set_directory_in_project(results_path)"
   ]
  },
  {
   "cell_type": "code",
   "execution_count": 59,
   "metadata": {},
   "outputs": [
    {
     "name": "stdout",
     "output_type": "stream",
     "text": [
      "\n",
      "Method: uniform\n"
     ]
    },
    {
     "data": {
      "application/vnd.jupyter.widget-view+json": {
       "model_id": "8519ffefd57741248e918ca8b539feb9",
       "version_major": 2,
       "version_minor": 0
      },
      "text/plain": [
       "  0%|          | 0/4 [00:00<?, ?it/s]"
      ]
     },
     "metadata": {},
     "output_type": "display_data"
    },
    {
     "name": "stdout",
     "output_type": "stream",
     "text": [
      "\n",
      "Budget:  1000\n",
      "xs [1, 4, 16, 64, 256, 1024]\n",
      "y_means: [3.5645     1.2689     1.67819121 0.02527789 0.34506603 0.46887721]\n",
      "y_stderrs: [1.92685195 2.74707696 2.60460241 1.19468939 0.55952847 0.27095526]\n",
      "\n",
      "Budget:  10000\n",
      "xs [1, 4, 16, 64, 256, 1024]\n",
      "y_means: [3.5645     0.53193186 0.1797114  0.48767982 0.05785252 0.14172169]\n",
      "y_stderrs: [1.92685195 1.42014809 0.73495551 0.31994923 0.18003525 0.08645965]\n",
      "\n",
      "Budget:  100000\n",
      "xs [1, 4, 16, 64, 256, 1024]\n",
      "y_means: [0.81825244 0.00236217 0.22280109 0.11327525 0.01947265 0.01923303]\n",
      "y_stderrs: [0.95941078 0.44107162 0.19294436 0.09978799 0.05849046 0.02701848]\n",
      "\n",
      "Budget:  1000000\n",
      "xs [1, 4, 16, 64, 256, 1024]\n",
      "y_means: [0.37357285 0.08386562 0.04797416 0.03075641 0.00731054 0.01289437]\n",
      "y_stderrs: [0.2561973  0.12148921 0.06448242 0.03427554 0.01786172 0.00890384]\n",
      "\n",
      "Method: quadrature\n"
     ]
    },
    {
     "data": {
      "application/vnd.jupyter.widget-view+json": {
       "model_id": "e9bc344561cf446c907db165da9922f7",
       "version_major": 2,
       "version_minor": 0
      },
      "text/plain": [
       "  0%|          | 0/4 [00:00<?, ?it/s]"
      ]
     },
     "metadata": {},
     "output_type": "display_data"
    },
    {
     "name": "stderr",
     "output_type": "stream",
     "text": [
      "No artists with labels found to put in legend.  Note that artists whose label start with an underscore are ignored when legend() is called with no argument.\n",
      "No artists with labels found to put in legend.  Note that artists whose label start with an underscore are ignored when legend() is called with no argument.\n"
     ]
    },
    {
     "name": "stdout",
     "output_type": "stream",
     "text": [
      "\n",
      "Budget:  1000\n",
      "xs [0.0, 0.125, 0.5, 2.0, 8.0, 32.0, 128.0, 512.0]\n",
      "y_means: [0.40168673 0.02782375 0.03435108 0.07416594 0.11266941 0.15459866\n",
      " 0.03078612 0.08620517]\n",
      "y_stderrs: [0.2757889  0.11634389 0.1392743  0.14804369 0.11507349 0.12753114\n",
      " 0.12026188 0.1529617 ]\n",
      "\n",
      "Budget:  10000\n",
      "xs [0.0, 0.125, 0.5, 2.0, 8.0, 32.0, 128.0, 512.0]\n",
      "y_means: [0.01923189 0.04350101 0.01923669 0.05117471 0.05452178 0.07379472\n",
      " 0.04540092 0.03597236]\n",
      "y_stderrs: [0.06360535 0.03974953 0.04360384 0.04999002 0.04182553 0.0410033\n",
      " 0.04771544 0.0394493 ]\n",
      "\n",
      "Budget:  100000\n",
      "xs [0.0, 0.125, 0.5, 2.0, 8.0, 32.0, 128.0, 512.0]\n",
      "y_means: [0.00373976 0.00711831 0.01484439 0.00793263 0.01205382 0.01847902\n",
      " 0.00622718 0.00066554]\n",
      "y_stderrs: [0.01953203 0.01502364 0.01456084 0.01375149 0.01244138 0.01240323\n",
      " 0.01405234 0.01220733]\n",
      "\n",
      "Budget:  1000000\n",
      "xs [0.0, 0.125, 0.5, 2.0, 8.0, 32.0, 128.0, 512.0]\n",
      "y_means: [0.0044474  0.00259382 0.00232127 0.00258536 0.00193315 0.00302001\n",
      " 0.00424977 0.00776508]\n",
      "y_stderrs: [0.00674321 0.00469671 0.00426463 0.00437156 0.00416347 0.00489568\n",
      " 0.00422787 0.0041647 ]\n"
     ]
    },
    {
     "data": {
      "image/png": "[encoded data removed]",
      "text/plain": [
       "<Figure size 1000x500 with 2 Axes>"
      ]
     },
     "metadata": {},
     "output_type": "display_data"
    }
   ],
   "source": [
    "\n",
    "\n",
    "# These must be multiples of BUDGET_INTERP_STEP (usually 1000).\n",
    "budgets_to_check = np.power(10, np.arange(3, 7, 1))\n",
    "if SAMPLE_BUDGET >= 2_000_000:\n",
    "    budgets_to_check *= 2\n",
    "\n",
    "\n",
    "# budgets_to_check = np.power(10, np.arange(2, 7, 1))\n",
    "\n",
    "# ax = plot_utils.default_plot_mean_from_proc_data(\n",
    "#     error_data, \"Number of Samples\", error_y_label,\n",
    "#     title=title, show=False, key_filter=lambda x: x in good,\n",
    "#     add_stderr=True)\n",
    "\n",
    "fig, axes = plt.subplots(\n",
    "    nrows=1, ncols=2, figsize=(10, 5), layout=\"constrained\", sharey=True)\n",
    "\n",
    "# axes[0] will get the uniform results, axes[1] the quadrature results.\n",
    "\n",
    "# Gather the data for the points on the x-axis.\n",
    "all_methods = error_data.means.keys()\n",
    "unif_methods = {\n",
    "    k: name_to_param(k) for k in all_methods if name_to_type(k) == \"u\"}\n",
    "quad_methods = {\n",
    "    k: name_to_param(k) for k in all_methods if name_to_type(k) == \"q\"}\n",
    "\n",
    "unif_xs = sorted(unif_methods.values())\n",
    "quad_xs = sorted(quad_methods.values())\n",
    "\n",
    "for ax_idx, ax, xs, method_char in zip(range(2), axes, (unif_xs, quad_xs), (\"u\", \"q\")):\n",
    "    print()\n",
    "    print(\"Method:\", \"uniform\" if method_char == \"u\" else \"quadrature\")\n",
    "    for budget_for_curve in tqdm(budgets_to_check):\n",
    "        print()\n",
    "        print(\"Budget: \", budget_for_curve)\n",
    "        budget_idx = int(budget_for_curve / BUDGET_INTERP_STEP)\n",
    "        y_means = []\n",
    "        y_stderrs = []\n",
    "        try:\n",
    "            for x in xs:\n",
    "                y_means.append(error_data.means[param_to_name(method_char, x)][budget_idx])\n",
    "                y_stderrs.append(error_data.stderrs[param_to_name(method_char, x)][budget_idx])\n",
    "                # y_means.append(np.nanmean(env_result[x][:, budget_idx]))\n",
    "                # y_stderrs.append(np.nanstd(env_result[x][:, budget_idx]) / np.sqrt(num_seeds))\n",
    "            # y_means = np.log2(np.array(y_means))\n",
    "            # y_stderrs = np.log2(np.array(y_stderrs))\n",
    "                \n",
    "            y_means = np.array(y_means)\n",
    "            y_stderrs = np.array(y_stderrs)\n",
    "\n",
    "            ax.plot(\n",
    "                xs,\n",
    "                y_means,\n",
    "                label=\"budget {:.0e}\".format(budget_for_curve) if ax_idx == 0 else \"\"\n",
    "            )\n",
    "            # ax.fill_between(\n",
    "            #     xs,\n",
    "            #     (y_means - y_stderrs),\n",
    "            #     (y_means + y_stderrs),\n",
    "            #     alpha=0.1\n",
    "            # )\n",
    "\n",
    "            print(\"xs\", xs)\n",
    "            print(\"y_means:\", y_means)\n",
    "            print(\"y_stderrs:\", y_stderrs)\n",
    "        except IndexError:\n",
    "            pass\n",
    "\n",
    "    if method_char == \"u\":\n",
    "        ax.set_ylabel(error_y_label)\n",
    "        ax.set_xlabel(\"Sampling Interval\")\n",
    "        ax.set_title(\"Method: Uniform\")\n",
    "    else:\n",
    "        ax.set_xlabel(\"Tolerance\")\n",
    "        ax.set_title(\"Method: Adaptive\")\n",
    "\n",
    "    ax.set_xscale('log')\n",
    "    # ax.set_yscale('log')\n",
    "    ax.legend()\n",
    "\n",
    "fig.suptitle(title)\n",
    "plt.legend()\n",
    "\n",
    "plt.savefig(f'{filename}_u_shaped.png')\n",
    "\n",
    "# def name_to_param(name):\n",
    "#     return int(name[1:])\n",
    "\n",
    "# def name_to_type(name):\n",
    "#     return name[0]\n",
    "\n",
    "# def param_to_name(param, sampler_char):\n",
    "#     return f\"{sampler_char}{param}\"\n",
    "\n"
   ]
  },
  {
   "cell_type": "markdown",
   "metadata": {},
   "source": [
    "# THE END"
   ]
  },
  {
   "cell_type": "markdown",
   "metadata": {},
   "source": []
  },
  {
   "cell_type": "code",
   "execution_count": null,
   "metadata": {},
   "outputs": [],
   "source": [
    "assert False"
   ]
  },
  {
   "cell_type": "code",
   "execution_count": null,
   "metadata": {},
   "outputs": [],
   "source": []
  },
  {
   "cell_type": "code",
   "execution_count": null,
   "metadata": {},
   "outputs": [],
   "source": []
  },
  {
   "cell_type": "code",
   "execution_count": null,
   "metadata": {},
   "outputs": [],
   "source": []
  },
  {
   "cell_type": "code",
   "execution_count": null,
   "metadata": {},
   "outputs": [],
   "source": []
  },
  {
   "cell_type": "code",
   "execution_count": null,
   "metadata": {},
   "outputs": [],
   "source": []
  },
  {
   "cell_type": "code",
   "execution_count": null,
   "metadata": {},
   "outputs": [],
   "source": []
  },
  {
   "cell_type": "markdown",
   "metadata": {},
   "source": [
    "## Plots: Error vs Samples [commented out]"
   ]
  },
  {
   "cell_type": "code",
   "execution_count": 39,
   "metadata": {},
   "outputs": [],
   "source": [
    "plot_space = SAMPLE_BUDGET / 20.\n"
   ]
  },
  {
   "cell_type": "markdown",
   "metadata": {},
   "source": [
    "#### Uniforms"
   ]
  },
  {
   "cell_type": "code",
   "execution_count": 40,
   "metadata": {},
   "outputs": [],
   "source": [
    "# ax = plot_utils.default_plot_mean_from_proc_data(\n",
    "#     error_data, \"Number of Samples\", error_y_label,\n",
    "#     title=title, show=False, key_filter=lambda x: \"u\" in x,\n",
    "#     add_stderr=True)\n",
    "\n",
    "# ax.set_xlim(-plot_space, SAMPLE_BUDGET + plot_space)\n",
    "# plt.savefig('unif_lin.png')\n",
    "\n"
   ]
  },
  {
   "cell_type": "code",
   "execution_count": 41,
   "metadata": {},
   "outputs": [],
   "source": [
    "# ax = plot_utils.default_plot_mean_from_proc_data(\n",
    "#     error_data, \"Number of Samples\", error_y_label,\n",
    "#     title=title, show=False, key_filter=lambda x: \"u\" in x,\n",
    "#     add_stderr=True)\n",
    "\n",
    "# ax.set_xlim(-plot_space, SAMPLE_BUDGET + plot_space)\n",
    "# ax.set_ylim(-0.001, 0.005)\n",
    "\n",
    "# plt.savefig('unif_lin_zoom.png')\n",
    "\n"
   ]
  },
  {
   "cell_type": "code",
   "execution_count": 42,
   "metadata": {},
   "outputs": [],
   "source": [
    "# ax = plot_utils.default_plot_mean_from_proc_data(\n",
    "#     error_data, \"Number of Samples\", error_y_label,\n",
    "#     title=title, show=False, key_filter=lambda x: \"u\" in x,\n",
    "#     add_stderr=True)\n",
    "\n",
    "# ax.set_yscale('log')\n",
    "# ax.set_xscale('log')\n",
    "\n",
    "# ax.set_xlim(-plot_space, SAMPLE_BUDGET + plot_space)\n",
    "\n",
    "# plt.savefig('unif_loglog.png')\n",
    "\n"
   ]
  },
  {
   "cell_type": "code",
   "execution_count": 43,
   "metadata": {},
   "outputs": [],
   "source": [
    "# ax = plot_utils.default_plot_mean_from_proc_data(\n",
    "#     error_data, \"Number of Samples\", error_y_label,\n",
    "#     title=title, show=False, key_filter=lambda x: \"u\" in x,\n",
    "#     add_stderr=True)\n",
    "\n",
    "# ax.set_yscale('log')\n",
    "# # ax.set_xscale('log')\n",
    "# ax.set_xlim(-plot_space, SAMPLE_BUDGET + plot_space)\n",
    "\n",
    "# plt.savefig('unif_ylog.png')\n",
    "\n"
   ]
  },
  {
   "cell_type": "code",
   "execution_count": 44,
   "metadata": {},
   "outputs": [],
   "source": [
    "\n",
    "# ax = plot_utils.default_plot_mean_from_proc_data(\n",
    "#     error_data, \"Number of Samples\", error_y_label,\n",
    "#     title=title, show=False, key_filter=lambda x: \"q\" in x,\n",
    "#     add_stderr=True)\n",
    "\n",
    "# ax.set_ylim(-1, 15)\n",
    "# # ax.set_yscale('log')\n",
    "# ax.set_xlim(-plot_space, SAMPLE_BUDGET + plot_space)\n",
    "\n",
    "\n",
    "# plt.savefig('quad_lin_zoom.png')\n",
    "\n",
    "# plt.show()\n",
    "\n"
   ]
  },
  {
   "cell_type": "code",
   "execution_count": 45,
   "metadata": {},
   "outputs": [],
   "source": [
    "\n",
    "# ax = plot_utils.default_plot_mean_from_proc_data(\n",
    "#     error_data, \"Number of Samples\", error_y_label,\n",
    "#     title=title, show=False, key_filter=lambda x: \"q\" in x,\n",
    "#     add_stderr=True)\n",
    "\n",
    "# # ax.set_ylim(-2, 15)\n",
    "# ax.set_yscale('log')\n",
    "# ax.set_xlim(-plot_space, SAMPLE_BUDGET + plot_space)\n",
    "\n",
    "\n",
    "# plt.savefig('quad_ylog.png')\n",
    "\n",
    "# plt.show()\n",
    "\n"
   ]
  },
  {
   "cell_type": "code",
   "execution_count": 46,
   "metadata": {},
   "outputs": [],
   "source": [
    "\n",
    "# ax = plot_utils.default_plot_mean_from_proc_data(\n",
    "#     error_data, \"Number of Samples\", error_y_label,\n",
    "#     title=title, show=False, key_filter=lambda x: \"q\" in x,\n",
    "#     add_stderr=True)\n",
    "\n",
    "# ax.set_yscale('log')\n",
    "# ax.set_xscale('log')\n",
    "# # ax.set_xlim(-plot_space, SAMPLE_BUDGET + plot_space)\n",
    "\n",
    "# plt.savefig('quad_loglog.png')\n",
    "\n",
    "# plt.show()\n",
    "\n"
   ]
  },
  {
   "cell_type": "code",
   "execution_count": 47,
   "metadata": {},
   "outputs": [],
   "source": [
    "# good = [\"u1\", \"u50\", \"u500\", \"q0\", \"q1\", \"q100\"]\n",
    "\n",
    "# ax = plot_utils.default_plot_mean_from_proc_data(\n",
    "#     error_data, \"Number of Samples\", error_y_label,\n",
    "#     title=title, show=False, key_filter=lambda x: x in good,\n",
    "#     add_stderr=True)\n",
    "\n",
    "# # ax.set_ylim(-2, 40)\n",
    "# ax.set_xscale('log')\n",
    "# ax.set_yscale('log')\n",
    "# ax.set_xlim(-plot_space, SAMPLE_BUDGET + plot_space)\n",
    "\n",
    "\n",
    "# plt.savefig('select_loglog.png')\n",
    "\n",
    "# plt.show()\n",
    "\n"
   ]
  },
  {
   "cell_type": "markdown",
   "metadata": {},
   "source": [
    "## Error vs Param (Tolerance/Interval) Plots"
   ]
  },
  {
   "cell_type": "code",
   "execution_count": 48,
   "metadata": {},
   "outputs": [],
   "source": [
    "# assert False"
   ]
  },
  {
   "cell_type": "code",
   "execution_count": 49,
   "metadata": {},
   "outputs": [
    {
     "data": {
      "text/plain": [
       "dict_keys(['q0.0', 'q0.125', 'q0.5', 'q2.0', 'q8.0', 'q32.0', 'q128.0', 'q512.0', 'u1', 'u4', 'u16', 'u64', 'u256', 'u1024'])"
      ]
     },
     "execution_count": 49,
     "metadata": {},
     "output_type": "execute_result"
    }
   ],
   "source": [
    "error_data.means.keys()"
   ]
  },
  {
   "cell_type": "code",
   "execution_count": 50,
   "metadata": {},
   "outputs": [
    {
     "name": "stdout",
     "output_type": "stream",
     "text": [
      "\n",
      "Method: uniform\n"
     ]
    },
    {
     "data": {
      "application/vnd.jupyter.widget-view+json": {
       "model_id": "50c780e9f4d747c4ab677399d42dd22e",
       "version_major": 2,
       "version_minor": 0
      },
      "text/plain": [
       "  0%|          | 0/4 [00:00<?, ?it/s]"
      ]
     },
     "metadata": {},
     "output_type": "display_data"
    },
    {
     "name": "stdout",
     "output_type": "stream",
     "text": [
      "\n",
      "Budget:  1000\n",
      "xs [1, 4, 16, 64, 256, 1024]\n",
      "y_means: [3.5645     1.2689     1.67819121 0.02527789 0.34506603 0.46887721]\n",
      "y_stderrs: [1.92685195 2.74707696 2.60460241 1.19468939 0.55952847 0.27095526]\n",
      "\n",
      "Budget:  10000\n",
      "xs [1, 4, 16, 64, 256, 1024]\n",
      "y_means: [3.5645     0.53193186 0.1797114  0.48767982 0.05785252 0.14172169]\n",
      "y_stderrs: [1.92685195 1.42014809 0.73495551 0.31994923 0.18003525 0.08645965]\n",
      "\n",
      "Budget:  100000\n",
      "xs [1, 4, 16, 64, 256, 1024]\n",
      "y_means: [0.81825244 0.00236217 0.22280109 0.11327525 0.01947265 0.01923303]\n",
      "y_stderrs: [0.95941078 0.44107162 0.19294436 0.09978799 0.05849046 0.02701848]\n",
      "\n",
      "Budget:  1000000\n",
      "xs [1, 4, 16, 64, 256, 1024]\n",
      "y_means: [0.37357285 0.08386562 0.04797416 0.03075641 0.00731054 0.01289437]\n",
      "y_stderrs: [0.2561973  0.12148921 0.06448242 0.03427554 0.01786172 0.00890384]\n",
      "\n",
      "Method: quadrature\n"
     ]
    },
    {
     "data": {
      "application/vnd.jupyter.widget-view+json": {
       "model_id": "6df8e440c4b24329b77b2e19b77361e9",
       "version_major": 2,
       "version_minor": 0
      },
      "text/plain": [
       "  0%|          | 0/4 [00:00<?, ?it/s]"
      ]
     },
     "metadata": {},
     "output_type": "display_data"
    },
    {
     "name": "stderr",
     "output_type": "stream",
     "text": [
      "No artists with labels found to put in legend.  Note that artists whose label start with an underscore are ignored when legend() is called with no argument.\n",
      "No artists with labels found to put in legend.  Note that artists whose label start with an underscore are ignored when legend() is called with no argument.\n"
     ]
    },
    {
     "name": "stdout",
     "output_type": "stream",
     "text": [
      "\n",
      "Budget:  1000\n",
      "xs [0.0, 0.125, 0.5, 2.0, 8.0, 32.0, 128.0, 512.0]\n",
      "y_means: [0.40168673 0.02782375 0.03435108 0.07416594 0.11266941 0.15459866\n",
      " 0.03078612 0.08620517]\n",
      "y_stderrs: [0.2757889  0.11634389 0.1392743  0.14804369 0.11507349 0.12753114\n",
      " 0.12026188 0.1529617 ]\n",
      "\n",
      "Budget:  10000\n",
      "xs [0.0, 0.125, 0.5, 2.0, 8.0, 32.0, 128.0, 512.0]\n",
      "y_means: [0.01923189 0.04350101 0.01923669 0.05117471 0.05452178 0.07379472\n",
      " 0.04540092 0.03597236]\n",
      "y_stderrs: [0.06360535 0.03974953 0.04360384 0.04999002 0.04182553 0.0410033\n",
      " 0.04771544 0.0394493 ]\n",
      "\n",
      "Budget:  100000\n",
      "xs [0.0, 0.125, 0.5, 2.0, 8.0, 32.0, 128.0, 512.0]\n",
      "y_means: [0.00373976 0.00711831 0.01484439 0.00793263 0.01205382 0.01847902\n",
      " 0.00622718 0.00066554]\n",
      "y_stderrs: [0.01953203 0.01502364 0.01456084 0.01375149 0.01244138 0.01240323\n",
      " 0.01405234 0.01220733]\n",
      "\n",
      "Budget:  1000000\n",
      "xs [0.0, 0.125, 0.5, 2.0, 8.0, 32.0, 128.0, 512.0]\n",
      "y_means: [0.0044474  0.00259382 0.00232127 0.00258536 0.00193315 0.00302001\n",
      " 0.00424977 0.00776508]\n",
      "y_stderrs: [0.00674321 0.00469671 0.00426463 0.00437156 0.00416347 0.00489568\n",
      " 0.00422787 0.0041647 ]\n"
     ]
    },
    {
     "data": {
      "image/png": "[encoded data removed]",
      "text/plain": [
       "<Figure size 1000x500 with 2 Axes>"
      ]
     },
     "metadata": {},
     "output_type": "display_data"
    }
   ],
   "source": []
  },
  {
   "cell_type": "code",
   "execution_count": null,
   "metadata": {},
   "outputs": [],
   "source": []
  },
  {
   "cell_type": "code",
   "execution_count": 51,
   "metadata": {},
   "outputs": [],
   "source": [
    "\n",
    "\n",
    "# if prefix == \"uniform\":\n",
    "#     fig, axes = plt.subplots(nrows=len(est_results) // ncols, ncols=ncols, figsize=(15, 8), layout=\"constrained\")\n",
    "\n",
    "#     print(s_to_plot)\n",
    "#     sorted_spacing = sorted(int(key[1:]) for key in list(s_to_plot))\n",
    "#     sorted_keys = [\"u{}\".format(item) for item in sorted_spacing]\n",
    "#     # budgets_to_check = 1e5 * np.arange(1, 10, 2)\n",
    "\n",
    "\n",
    "#     budgets_to_check = budgets_to_check_per_env[env_name]\n",
    "#     for budget_to_check in tqdm(budgets_to_check):\n",
    "#         idx = int(budget_to_check)\n",
    "#         y_means = []\n",
    "#         y_stderrs = []\n",
    "#         for s in sorted_keys:\n",
    "#             y_means.append(np.nanmean(env_result[s][:, idx]))\n",
    "#             y_stderrs.append(np.nanstd(env_result[s][:, idx]) / np.sqrt(num_seeds))\n",
    "#         # y_means = np.log2(np.array(y_means))\n",
    "#         # y_stderrs = np.log2(np.array(y_stderrs))\n",
    "            \n",
    "#         y_means = np.array(y_means)\n",
    "#         y_stderrs = np.array(y_stderrs)\n",
    "\n",
    "#         ax.plot(\n",
    "#             sorted_spacing,\n",
    "#             y_means,\n",
    "#             label=\"{:.0e}\".format(idx) if env_i == 0 else \"\"\n",
    "#         )\n",
    "#         ax.fill_between(\n",
    "#             sorted_spacing,\n",
    "#             (y_means - y_stderrs),\n",
    "#             (y_means + y_stderrs),\n",
    "#             alpha=0.1\n",
    "#         )\n",
    "#         ax.set_title(\"Env: {}\".format(env_name))\n",
    "\n",
    "#     fig.supylabel(\"Error in value estimate\")\n",
    "#     fig.supxlabel(\"Uniform Discretization\")\n",
    "#     fig.legend()\n",
    "#     plt.show()\n",
    "\n",
    "\n"
   ]
  },
  {
   "cell_type": "code",
   "execution_count": null,
   "metadata": {},
   "outputs": [],
   "source": []
  },
  {
   "cell_type": "markdown",
   "metadata": {},
   "source": [
    "# Testing Random Things"
   ]
  },
  {
   "cell_type": "code",
   "execution_count": 52,
   "metadata": {},
   "outputs": [
    {
     "data": {
      "text/plain": [
       "-2.7831853071795862"
      ]
     },
     "execution_count": 52,
     "metadata": {},
     "output_type": "execute_result"
    }
   ],
   "source": [
    "(math.pi + 3.5) % (2*math.pi) - math.pi"
   ]
  },
  {
   "cell_type": "code",
   "execution_count": null,
   "metadata": {},
   "outputs": [],
   "source": []
  }
 ],
 "metadata": {
  "kernelspec": {
   "display_name": ".venv",
   "language": "python",
   "name": "python3"
  },
  "language_info": {
   "codemirror_mode": {
    "name": "ipython",
    "version": 3
   },
   "file_extension": ".py",
   "mimetype": "text/x-python",
   "name": "python",
   "nbconvert_exporter": "python",
   "pygments_lexer": "ipython3",
   "version": "3.11.7"
  }
 },
 "nbformat": 4,
 "nbformat_minor": 2
}
