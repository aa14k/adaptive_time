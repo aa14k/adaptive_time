{
 "cells": [
  {
   "cell_type": "code",
   "execution_count": 1,
   "metadata": {},
   "outputs": [],
   "source": [
    "import math\n",
    "import matplotlib.pyplot as plt\n",
    "import numpy as np\n",
    "import os\n",
    "import pickle\n",
    "import seaborn as sns\n",
    "\n",
    "from adaptive_time.utils import set_directory_in_project\n",
    "\n",
    "from importlib import reload\n",
    "from joblib import Parallel, delayed\n",
    "from tqdm.notebook import tqdm\n",
    "\n",
    "from pprint import pprint\n",
    "\n",
    "sns.set_style(\"darkgrid\")\n",
    "sns.set_palette(\"colorblind\")"
   ]
  },
  {
   "cell_type": "code",
   "execution_count": 2,
   "metadata": {},
   "outputs": [],
   "source": [
    "from adaptive_time import plot_utils\n",
    "from adaptive_time import utils\n",
    "from adaptive_time import run_lib\n",
    "from adaptive_time import value_est\n",
    "from adaptive_time.value_est import approx_integrators\n",
    "\n",
    "approx_integrators = reload(approx_integrators)\n",
    "run_lib = reload(run_lib)\n",
    "value_est = reload(value_est)\n",
    "plot_utils = reload(plot_utils)\n",
    "utils = reload(utils)"
   ]
  },
  {
   "cell_type": "code",
   "execution_count": 3,
   "metadata": {},
   "outputs": [
    {
     "name": "stdout",
     "output_type": "stream",
     "text": [
      "Changed working directory to /home/bryanpu1/projects/adaptive_time\n",
      "['hopper-v3', 'swimmer-v3', 'cheetah-v3', 'ant-v3']\n"
     ]
    }
   ],
   "source": [
    "set_directory_in_project()\n",
    "# data_dir = \"./data\"\n",
    "data_dir = \"./smoothed_data\"\n",
    "env_names = [env_name for env_name in os.listdir(data_dir) if not env_name.startswith(\".DS_Store\")]\n",
    "print(env_names)"
   ]
  },
  {
   "cell_type": "code",
   "execution_count": 4,
   "metadata": {},
   "outputs": [],
   "source": [
    "# prefixes = [\"uniform\", \"adaptive\"]\n",
    "prefixes = [\"uniform-smoothed_data\", \"adaptive-smoothed_data\"]\n",
    "# prefixes = [\"uniform\"]\n",
    "\n",
    "agg_results_per_prefix = {}\n",
    "samplers_per_prefix = {}\n",
    "for prefix in prefixes:\n",
    "    if prefix.startswith(\"uniform\"):\n",
    "        sampler_constructor = approx_integrators.UniformlySpacedIntegrator\n",
    "    elif prefix.startswith(\"adaptive\"):\n",
    "        sampler_constructor = approx_integrators.AdaptiveQuadratureIntegrator\n",
    "    else:\n",
    "        raise NotImplementedError\n",
    "    agg_results_per_prefix[prefix] = pickle.load(open(\"./{}-combined_mujoco_val_est.pkl\".format(prefix), \"rb\"))\n",
    "    samplers_per_prefix[prefix] = {\n",
    "        hyperparam: sampler_constructor(hyperparam) for hyperparam in agg_results_per_prefix[prefix][\"ant-v3\"][\"approx_integrals\"]\n",
    "    }"
   ]
  },
  {
   "cell_type": "markdown",
   "metadata": {},
   "source": [
    "# Sample trajectories and estimate values"
   ]
  },
  {
   "cell_type": "code",
   "execution_count": 5,
   "metadata": {},
   "outputs": [
    {
     "name": "stdout",
     "output_type": "stream",
     "text": [
      "uniform-smoothed_data\n",
      "(10000,)\n"
     ]
    },
    {
     "data": {
      "application/vnd.jupyter.widget-view+json": {
       "model_id": "0b11af87a3e54774b6489751cb020bdc",
       "version_major": 2,
       "version_minor": 0
      },
      "text/plain": [
       "  0%|          | 0/10 [00:00<?, ?it/s]"
      ]
     },
     "metadata": {},
     "output_type": "display_data"
    },
    {
     "name": "stdout",
     "output_type": "stream",
     "text": [
      "(10000,)\n"
     ]
    },
    {
     "data": {
      "application/vnd.jupyter.widget-view+json": {
       "model_id": "bae96ca3f49b4baba876d1de52b9523a",
       "version_major": 2,
       "version_minor": 0
      },
      "text/plain": [
       "  0%|          | 0/10 [00:00<?, ?it/s]"
      ]
     },
     "metadata": {},
     "output_type": "display_data"
    },
    {
     "name": "stdout",
     "output_type": "stream",
     "text": [
      "(10000,)\n"
     ]
    },
    {
     "data": {
      "application/vnd.jupyter.widget-view+json": {
       "model_id": "868792d984ae41d29b2bc28ee7bad726",
       "version_major": 2,
       "version_minor": 0
      },
      "text/plain": [
       "  0%|          | 0/10 [00:00<?, ?it/s]"
      ]
     },
     "metadata": {},
     "output_type": "display_data"
    },
    {
     "name": "stdout",
     "output_type": "stream",
     "text": [
      "(10000,)\n"
     ]
    },
    {
     "data": {
      "application/vnd.jupyter.widget-view+json": {
       "model_id": "d70afe7794ba4ab1bb432cc118613043",
       "version_major": 2,
       "version_minor": 0
      },
      "text/plain": [
       "  0%|          | 0/10 [00:00<?, ?it/s]"
      ]
     },
     "metadata": {},
     "output_type": "display_data"
    },
    {
     "name": "stdout",
     "output_type": "stream",
     "text": [
      "adaptive-smoothed_data\n",
      "(10000,)\n"
     ]
    },
    {
     "data": {
      "application/vnd.jupyter.widget-view+json": {
       "model_id": "94bc479469d045f88d40e0f3ed8eff69",
       "version_major": 2,
       "version_minor": 0
      },
      "text/plain": [
       "  0%|          | 0/10 [00:00<?, ?it/s]"
      ]
     },
     "metadata": {},
     "output_type": "display_data"
    },
    {
     "name": "stdout",
     "output_type": "stream",
     "text": [
      "(10000,)\n"
     ]
    },
    {
     "data": {
      "application/vnd.jupyter.widget-view+json": {
       "model_id": "d341855b18774eecbf1ce6cd6a3a42bd",
       "version_major": 2,
       "version_minor": 0
      },
      "text/plain": [
       "  0%|          | 0/10 [00:00<?, ?it/s]"
      ]
     },
     "metadata": {},
     "output_type": "display_data"
    },
    {
     "name": "stdout",
     "output_type": "stream",
     "text": [
      "(10000,)\n"
     ]
    },
    {
     "data": {
      "application/vnd.jupyter.widget-view+json": {
       "model_id": "72055ef28c374dd3aa79cc434730d58c",
       "version_major": 2,
       "version_minor": 0
      },
      "text/plain": [
       "  0%|          | 0/10 [00:00<?, ?it/s]"
      ]
     },
     "metadata": {},
     "output_type": "display_data"
    },
    {
     "name": "stdout",
     "output_type": "stream",
     "text": [
      "(10000,)\n"
     ]
    },
    {
     "data": {
      "application/vnd.jupyter.widget-view+json": {
       "model_id": "b499270b0a114ff7a58f8adf2eb0994e",
       "version_major": 2,
       "version_minor": 0
      },
      "text/plain": [
       "  0%|          | 0/10 [00:00<?, ?it/s]"
      ]
     },
     "metadata": {},
     "output_type": "display_data"
    }
   ],
   "source": [
    "update_budget = 1_000_000\n",
    "sample_block = 1_000_000\n",
    "num_seeds = 10\n",
    "\n",
    "est_results = {}\n",
    "\n",
    "for prefix, agg_results in agg_results_per_prefix.items():\n",
    "    print(prefix)\n",
    "    est_results[prefix] = {}\n",
    "    samplers_tried = samplers_per_prefix[prefix]\n",
    "\n",
    "    for env_name in agg_results:\n",
    "        vals_per_state = np.concatenate(\n",
    "            [np.sum(np.load(reward_file).T, axis=-1) for reward_file in agg_results[env_name][\"reward_file\"]]\n",
    "        )\n",
    "        print(vals_per_state.shape)\n",
    "\n",
    "        approx_integrals = agg_results[env_name][\"approx_integrals\"]\n",
    "        num_pivots = agg_results[env_name][\"num_pivots\"]\n",
    "\n",
    "        weights = np.ones(len(vals_per_state)) / len(vals_per_state)\n",
    "        true_value = np.sum(weights * vals_per_state)\n",
    "\n",
    "        est_results[prefix][env_name] = {\n",
    "            \"weights\": weights,\n",
    "            \"true_value\": true_value,\n",
    "            \"runs\": []\n",
    "        }\n",
    "\n",
    "        for seed in tqdm(range(num_seeds)):\n",
    "            estimated_values_by_episode = {}\n",
    "            number_of_pivots_by_episode = {}\n",
    "            all_values_by_episode = {}\n",
    "\n",
    "            rng = np.random.RandomState(seed)\n",
    "            start_states = rng.choice(len(vals_per_state), p=weights, size=(update_budget))\n",
    "\n",
    "            for sampler_name, sampler in samplers_tried.items():\n",
    "                # print(\"sampler_name:\", sampler_name)\n",
    "                # Update the value estimate with new samples until we run out of budget.\n",
    "                used_updates = 0\n",
    "                value_estimate = 0\n",
    "                num_episodes = 0\n",
    "                all_values_by_episode[sampler_name] = []\n",
    "\n",
    "                estimated_values_by_episode[sampler_name] = []\n",
    "                number_of_pivots_by_episode[sampler_name] = []\n",
    "\n",
    "                # pbar = tqdm(total = update_budget)\n",
    "                while used_updates < update_budget:\n",
    "                    num_episodes += 1\n",
    "                    if num_episodes % sample_block == 0:\n",
    "                        start_states = rng.choice(len(vals_per_state), p=weights, size=(update_budget))\n",
    "                    start_state = start_states[(num_episodes - 1) % sample_block]\n",
    "                    val_sample = approx_integrals[sampler_name][start_state]\n",
    "                    all_values_by_episode[sampler_name].append(val_sample)\n",
    "                    \n",
    "                    value_estimate += (1.0/num_episodes) * (val_sample - value_estimate)\n",
    "                    used_updates += num_pivots[sampler_name][start_state]\n",
    "\n",
    "                    estimated_values_by_episode[sampler_name].append(value_estimate)\n",
    "                    number_of_pivots_by_episode[sampler_name].append(used_updates)\n",
    "                #     pbar.update(num_pivots[sampler_name][start_state])\n",
    "                # pbar.close()\n",
    "            est_results[prefix][env_name][\"runs\"].append({\n",
    "                \"estimated_values_by_episode\": estimated_values_by_episode,\n",
    "                \"number_of_pivots_by_episode\": number_of_pivots_by_episode,\n",
    "                \"all_values_by_episode\": all_values_by_episode,\n",
    "            })\n"
   ]
  },
  {
   "cell_type": "markdown",
   "metadata": {},
   "source": [
    "# Compile plot statistics using interpolation"
   ]
  },
  {
   "cell_type": "code",
   "execution_count": 6,
   "metadata": {},
   "outputs": [],
   "source": [
    "def process_across_runs(\n",
    "    runs,\n",
    "    samplers_tried,\n",
    "    true_value,\n",
    "):\n",
    "    results = {}\n",
    "    for sampler in samplers_tried:\n",
    "        interpolated_results = np.zeros((len(runs), update_budget + 1))\n",
    "        for run_i, run in enumerate(runs):\n",
    "            number_of_pivots_by_episode = run[\"number_of_pivots_by_episode\"][sampler]\n",
    "            estimated_values_by_episode = run[\"estimated_values_by_episode\"][sampler]\n",
    "\n",
    "            interpolated_results[run_i] = np.interp(\n",
    "                np.arange(update_budget + 1),\n",
    "                number_of_pivots_by_episode,\n",
    "                np.abs(estimated_values_by_episode - true_value)[:number_of_pivots_by_episode[-1]]\n",
    "            )\n",
    "        results[sampler] = interpolated_results\n",
    "    return results"
   ]
  },
  {
   "cell_type": "code",
   "execution_count": 8,
   "metadata": {},
   "outputs": [
    {
     "name": "stdout",
     "output_type": "stream",
     "text": [
      "uniform-smoothed_data\n"
     ]
    },
    {
     "data": {
      "application/vnd.jupyter.widget-view+json": {
       "model_id": "450026b804fe44a8b8bde4162fefa9c8",
       "version_major": 2,
       "version_minor": 0
      },
      "text/plain": [
       "  0%|          | 0/4 [00:00<?, ?it/s]"
      ]
     },
     "metadata": {},
     "output_type": "display_data"
    },
    {
     "name": "stdout",
     "output_type": "stream",
     "text": [
      "adaptive-smoothed_data\n"
     ]
    },
    {
     "data": {
      "application/vnd.jupyter.widget-view+json": {
       "model_id": "22fd1a8e2b1a4fdf9a30a7a460a72881",
       "version_major": 2,
       "version_minor": 0
      },
      "text/plain": [
       "  0%|          | 0/4 [00:00<?, ?it/s]"
      ]
     },
     "metadata": {},
     "output_type": "display_data"
    }
   ],
   "source": [
    "\n",
    "plot_stats = {}\n",
    "for prefix, curr_result in est_results.items():\n",
    "    print(prefix)\n",
    "    samplers_tried = samplers_per_prefix[prefix]\n",
    "    plot_stats[prefix] = {}\n",
    "    for env_i, env_name in enumerate(tqdm(curr_result)):\n",
    "        true_value = curr_result[env_name][\"true_value\"]\n",
    "        env_result = process_across_runs(\n",
    "            curr_result[env_name][\"runs\"],\n",
    "            samplers_tried,\n",
    "            true_value\n",
    "        )\n",
    "        plot_stats[prefix][env_name] = env_result"
   ]
  },
  {
   "cell_type": "markdown",
   "metadata": {},
   "source": [
    "# Plot error vs number of updates"
   ]
  },
  {
   "cell_type": "markdown",
   "metadata": {},
   "source": [
    "## Plot aggregated result"
   ]
  },
  {
   "cell_type": "code",
   "execution_count": 9,
   "metadata": {},
   "outputs": [],
   "source": [
    "# s_to_plot = [\"q1\", \"q10\", \"q100\", \"u1\", \"u10\", \"u500\"]\n",
    "# s_to_plot = [\"q0\", \"u1\"]\n",
    "# s_to_plot = samplers_tried.keys()\n",
    "plot_this = False\n",
    "if plot_this:\n",
    "    ncols = 3\n",
    "    fig, axes = plt.subplots(nrows=len(env_names) // ncols, ncols=ncols, figsize=(15, 8), layout=\"constrained\")\n",
    "\n",
    "    start_idx = 0\n",
    "    end_idx = 1_000_000\n",
    "    for env_i, env_name in enumerate(env_names):\n",
    "        ax = axes[env_i // ncols, env_i % ncols]\n",
    "        for prefix in prefixes:\n",
    "            env_result = plot_stats[prefix][env_name]\n",
    "            samplers_tried = samplers_per_prefix[prefix]\n",
    "            for s in tqdm(samplers_tried):\n",
    "                y_means = np.nanmean(env_result[s][:, start_idx:end_idx], axis=0)\n",
    "                y_stderrs = np.nanstd(env_result[s][:, start_idx:end_idx], axis=0) / np.sqrt(num_seeds)\n",
    "                x_range = np.arange(update_budget + 1)[start_idx:end_idx]\n",
    "\n",
    "                y_means = np.log10(y_means, out=np.zeros_like(y_means), where=(y_means != 0))\n",
    "                y_stderrs = np.log10(y_stderrs, out=np.zeros_like(y_stderrs), where=(y_stderrs != 0))\n",
    "\n",
    "                ax.plot(\n",
    "                    x_range,\n",
    "                    y_means,\n",
    "                    label=s if env_i == 0 else \"\"\n",
    "                )\n",
    "                ax.fill_between(\n",
    "                    x_range,\n",
    "                    (y_means - y_stderrs),\n",
    "                    (y_means + y_stderrs),\n",
    "                    alpha=0.1\n",
    "                )\n",
    "        ax.set_title(\"Env: {}\".format(env_name))\n",
    "\n",
    "    fig.supylabel(\"Error in value estimate\")\n",
    "    fig.supxlabel(\"Number of Samples\")\n",
    "    fig.legend()\n",
    "    plt.show()"
   ]
  },
  {
   "cell_type": "markdown",
   "metadata": {},
   "source": [
    "# Plot error vs hyperparameter (i.e. tolerance/discretization)"
   ]
  },
  {
   "cell_type": "code",
   "execution_count": 10,
   "metadata": {},
   "outputs": [],
   "source": [
    "budgets_to_check_per_env = {\n",
    "    \"inverted_double_pendulum-v2\": (25000, np.array([2, 5, 10, 20, 40])),\n",
    "    \"swimmer-v3\": (20000, np.array([2, 5, 10, 20, 40])),\n",
    "    \"hopper-v3\": (8000, np.array([2, 5, 10, 20, 40])),\n",
    "    \"ant-v3\": (25000, np.array([2, 5, 10, 20, 40])),\n",
    "    \"cheetah-v3\": (25000, np.array([2, 5, 10, 20, 40])),\n",
    "    \"pusher-v2\": (25000, np.array([2, 5, 10, 20, 40])),\n",
    "}"
   ]
  },
  {
   "cell_type": "markdown",
   "metadata": {},
   "source": [
    "# Approximate horizon for adaptive method for \"same mapping\""
   ]
  },
  {
   "cell_type": "code",
   "execution_count": 11,
   "metadata": {},
   "outputs": [
    {
     "name": "stdout",
     "output_type": "stream",
     "text": [
      "dict_keys(['swimmer-v3', 'hopper-v3', 'ant-v3', 'cheetah-v3'])\n"
     ]
    }
   ],
   "source": [
    "print(agg_results.keys())"
   ]
  },
  {
   "cell_type": "code",
   "execution_count": 12,
   "metadata": {},
   "outputs": [
    {
     "name": "stdout",
     "output_type": "stream",
     "text": [
      "dict_keys(['uniform-smoothed_data', 'adaptive-smoothed_data'])\n"
     ]
    }
   ],
   "source": [
    "print(agg_results_per_prefix.keys())"
   ]
  },
  {
   "cell_type": "code",
   "execution_count": 17,
   "metadata": {},
   "outputs": [],
   "source": [
    "adaptive_prefix = \"adaptive-smoothed_data\"\n",
    "\n",
    "tolerances = np.power(10, np.arange(-2.0, 4.0, 1.0)) * 5\n",
    "samplers_tried = {\n",
    "    \"q{}\".format(tolerance): approx_integrators.AdaptiveQuadratureIntegrator(tolerance=tolerance) for tolerance in tolerances\n",
    "}\n",
    "\n",
    "tau_to_h = {}\n",
    "for env_i, env_name in enumerate(env_names):\n",
    "    traj_len = 40000 if env_name == \"swimmer-v3\" else 50000\n",
    "    env_result = plot_stats[adaptive_prefix][env_name]\n",
    "    num_pivots = agg_results_per_prefix[adaptive_prefix][env_name][\"num_pivots\"]\n",
    "    tau_to_h[env_name] = np.array([\n",
    "        (sampler, math.ceil(np.mean(traj_len / num_pivots[sampler]))) for sampler in num_pivots\n",
    "    ])"
   ]
  },
  {
   "cell_type": "code",
   "execution_count": 19,
   "metadata": {},
   "outputs": [
    {
     "name": "stdout",
     "output_type": "stream",
     "text": [
      "hopper-v3\n",
      "8000\n",
      "[['u2' '2']\n",
      " ['u3' '3']\n",
      " ['u4' '4']\n",
      " ['u5' '5']\n",
      " ['u6' '6']\n",
      " ['u8' '8']\n",
      " ['u9' '9']\n",
      " ['u11' '11']\n",
      " ['u13' '13']\n",
      " ['u16' '16']\n",
      " ['u19' '19']\n",
      " ['u22' '22']\n",
      " ['u26' '26']\n",
      " ['u32' '32']\n",
      " ['u38' '38']\n",
      " ['u45' '45']\n",
      " ['u53' '53']\n",
      " ['u64' '64']\n",
      " ['u76' '76']\n",
      " ['u90' '90']\n",
      " ['u107' '107']\n",
      " ['u128' '128']\n",
      " ['u152' '152']\n",
      " ['u181' '181']\n",
      " ['u215' '215']\n",
      " ['u256' '256']\n",
      " ['u304' '304']\n",
      " ['u362' '362']\n",
      " ['u430' '430']\n",
      " ['u512' '512']\n",
      " ['u608' '608']\n",
      " ['u724' '724']\n",
      " ['u861' '861']\n",
      " ['u1024' '1024']\n",
      " ['u1217' '1217']\n",
      " ['u1448' '1448']\n",
      " ['u1722' '1722']\n",
      " ['u2048' '2048']\n",
      " ['u2435' '2435']\n",
      " ['u2896' '2896']\n",
      " ['u3444' '3444']]\n"
     ]
    },
    {
     "data": {
      "application/vnd.jupyter.widget-view+json": {
       "model_id": "9ee7d983b97844008bccabfd91857556",
       "version_major": 2,
       "version_minor": 0
      },
      "text/plain": [
       "  0%|          | 0/5 [00:00<?, ?it/s]"
      ]
     },
     "metadata": {},
     "output_type": "display_data"
    },
    {
     "name": "stdout",
     "output_type": "stream",
     "text": [
      "8000\n",
      "[['q0.125' '41']\n",
      " ['q0.1767766952966369' '46']\n",
      " ['q0.25' '56']\n",
      " ['q0.3535533905932738' '65']\n",
      " ['q0.5' '80']\n",
      " ['q0.7071067811865476' '92']\n",
      " ['q1.0' '110']\n",
      " ['q1.4142135623730951' '128']\n",
      " ['q2.0' '160']\n",
      " ['q2.8284271247461903' '180']\n",
      " ['q4.0' '222']\n",
      " ['q5.656854249492381' '259']\n",
      " ['q8.0' '320']\n",
      " ['q11.313708498984761' '358']\n",
      " ['q16.0' '431']\n",
      " ['q22.627416997969522' '504']\n",
      " ['q32.0' '647']\n",
      " ['q45.254833995939045' '722']\n",
      " ['q64.0' '888']\n",
      " ['q90.50966799187809' '1040']\n",
      " ['q128.0' '1296']\n",
      " ['q181.01933598375618' '1462']\n",
      " ['q256.0' '2001']\n",
      " ['q362.03867196751236' '2381']\n",
      " ['q512.0' '3184']\n",
      " ['q1024.0' '3334']\n",
      " ['q724.0773439350247' '3334']\n",
      " ['q1448.1546878700494' '3844']\n",
      " ['q2048.0' '3847']\n",
      " ['q2896.309375740099' '3847']\n",
      " ['q4096.0' '6227']]\n"
     ]
    },
    {
     "data": {
      "application/vnd.jupyter.widget-view+json": {
       "model_id": "695bb4ade60e43c8a68a0a0b7d81dbfb",
       "version_major": 2,
       "version_minor": 0
      },
      "text/plain": [
       "  0%|          | 0/5 [00:00<?, ?it/s]"
      ]
     },
     "metadata": {},
     "output_type": "display_data"
    },
    {
     "name": "stdout",
     "output_type": "stream",
     "text": [
      "swimmer-v3\n",
      "20000\n",
      "[['u2' '2']\n",
      " ['u3' '3']\n",
      " ['u4' '4']\n",
      " ['u5' '5']\n",
      " ['u6' '6']\n",
      " ['u8' '8']\n",
      " ['u9' '9']\n",
      " ['u11' '11']\n",
      " ['u13' '13']\n",
      " ['u16' '16']\n",
      " ['u19' '19']\n",
      " ['u22' '22']\n",
      " ['u26' '26']\n",
      " ['u32' '32']\n",
      " ['u38' '38']\n",
      " ['u45' '45']\n",
      " ['u53' '53']\n",
      " ['u64' '64']\n",
      " ['u76' '76']\n",
      " ['u90' '90']\n",
      " ['u107' '107']\n",
      " ['u128' '128']\n",
      " ['u152' '152']\n",
      " ['u181' '181']\n",
      " ['u215' '215']\n",
      " ['u256' '256']\n",
      " ['u304' '304']\n",
      " ['u362' '362']\n",
      " ['u430' '430']\n",
      " ['u512' '512']\n",
      " ['u608' '608']\n",
      " ['u724' '724']\n",
      " ['u861' '861']\n",
      " ['u1024' '1024']\n",
      " ['u1217' '1217']\n",
      " ['u1448' '1448']\n",
      " ['u1722' '1722']\n",
      " ['u2048' '2048']\n",
      " ['u2435' '2435']\n",
      " ['u2896' '2896']\n",
      " ['u3444' '3444']]\n"
     ]
    },
    {
     "data": {
      "application/vnd.jupyter.widget-view+json": {
       "model_id": "5d5e7e1a201e4d37bed513279a1ff2c1",
       "version_major": 2,
       "version_minor": 0
      },
      "text/plain": [
       "  0%|          | 0/5 [00:00<?, ?it/s]"
      ]
     },
     "metadata": {},
     "output_type": "display_data"
    },
    {
     "name": "stdout",
     "output_type": "stream",
     "text": [
      "20000\n",
      "[['q0.125' '53']\n",
      " ['q0.1767766952966369' '62']\n",
      " ['q0.25' '74']\n",
      " ['q0.3535533905932738' '88']\n",
      " ['q0.5' '105']\n",
      " ['q0.7071067811865476' '125']\n",
      " ['q1.0' '148']\n",
      " ['q1.4142135623730951' '175']\n",
      " ['q2.0' '210']\n",
      " ['q2.8284271247461903' '251']\n",
      " ['q4.0' '298']\n",
      " ['q5.656854249492381' '354']\n",
      " ['q8.0' '424']\n",
      " ['q11.313708498984761' '504']\n",
      " ['q16.0' '597']\n",
      " ['q22.627416997969522' '710']\n",
      " ['q32.0' '852']\n",
      " ['q45.254833995939045' '1009']\n",
      " ['q64.0' '1193']\n",
      " ['q90.50966799187809' '1428']\n",
      " ['q128.0' '1634']\n",
      " ['q181.01933598375618' '1913']\n",
      " ['q256.0' '2200']\n",
      " ['q362.03867196751236' '2449']\n",
      " ['q512.0' '2788']\n",
      " ['q724.0773439350247' '3334']\n",
      " ['q1024.0' '3558']\n",
      " ['q1448.1546878700494' '4145']\n",
      " ['q2048.0' '6262']\n",
      " ['q2896.309375740099' '10599']\n",
      " ['q4096.0' '13293']]\n"
     ]
    },
    {
     "data": {
      "application/vnd.jupyter.widget-view+json": {
       "model_id": "bb78b36fe2e84b69990530ec35722cdb",
       "version_major": 2,
       "version_minor": 0
      },
      "text/plain": [
       "  0%|          | 0/5 [00:00<?, ?it/s]"
      ]
     },
     "metadata": {},
     "output_type": "display_data"
    },
    {
     "name": "stdout",
     "output_type": "stream",
     "text": [
      "cheetah-v3\n",
      "25000\n",
      "[['u2' '2']\n",
      " ['u3' '3']\n",
      " ['u4' '4']\n",
      " ['u5' '5']\n",
      " ['u6' '6']\n",
      " ['u8' '8']\n",
      " ['u9' '9']\n",
      " ['u11' '11']\n",
      " ['u13' '13']\n",
      " ['u16' '16']\n",
      " ['u19' '19']\n",
      " ['u22' '22']\n",
      " ['u26' '26']\n",
      " ['u32' '32']\n",
      " ['u38' '38']\n",
      " ['u45' '45']\n",
      " ['u53' '53']\n",
      " ['u64' '64']\n",
      " ['u76' '76']\n",
      " ['u90' '90']\n",
      " ['u107' '107']\n",
      " ['u128' '128']\n",
      " ['u152' '152']\n",
      " ['u181' '181']\n",
      " ['u215' '215']\n",
      " ['u256' '256']\n",
      " ['u304' '304']\n",
      " ['u362' '362']\n",
      " ['u430' '430']\n",
      " ['u512' '512']\n",
      " ['u608' '608']\n",
      " ['u724' '724']\n",
      " ['u861' '861']\n",
      " ['u1024' '1024']\n",
      " ['u1217' '1217']\n",
      " ['u1448' '1448']\n",
      " ['u1722' '1722']\n",
      " ['u2048' '2048']\n",
      " ['u2435' '2435']\n",
      " ['u2896' '2896']\n",
      " ['u3444' '3444']]\n"
     ]
    },
    {
     "data": {
      "application/vnd.jupyter.widget-view+json": {
       "model_id": "437abc8b849743bfa20b7c330555a667",
       "version_major": 2,
       "version_minor": 0
      },
      "text/plain": [
       "  0%|          | 0/5 [00:00<?, ?it/s]"
      ]
     },
     "metadata": {},
     "output_type": "display_data"
    },
    {
     "name": "stdout",
     "output_type": "stream",
     "text": [
      "25000\n",
      "[['q0.125' '16']\n",
      " ['q0.1767766952966369' '18']\n",
      " ['q0.25' '22']\n",
      " ['q0.3535533905932738' '26']\n",
      " ['q0.5' '31']\n",
      " ['q0.7071067811865476' '36']\n",
      " ['q1.0' '43']\n",
      " ['q1.4142135623730951' '52']\n",
      " ['q2.0' '62']\n",
      " ['q2.8284271247461903' '72']\n",
      " ['q4.0' '85']\n",
      " ['q5.656854249492381' '104']\n",
      " ['q8.0' '124']\n",
      " ['q11.313708498984761' '143']\n",
      " ['q16.0' '169']\n",
      " ['q22.627416997969522' '208']\n",
      " ['q32.0' '247']\n",
      " ['q45.254833995939045' '286']\n",
      " ['q64.0' '337']\n",
      " ['q90.50966799187809' '414']\n",
      " ['q128.0' '491']\n",
      " ['q181.01933598375618' '563']\n",
      " ['q256.0' '669']\n",
      " ['q362.03867196751236' '830']\n",
      " ['q512.0' '966']\n",
      " ['q724.0773439350247' '1129']\n",
      " ['q1024.0' '1275']\n",
      " ['q1448.1546878700494' '1547']\n",
      " ['q2048.0' '1907']\n",
      " ['q2896.309375740099' '2121']\n",
      " ['q4096.0' '2584']]\n"
     ]
    },
    {
     "data": {
      "application/vnd.jupyter.widget-view+json": {
       "model_id": "07774e733eae4f9ab49f21a75bfe24ca",
       "version_major": 2,
       "version_minor": 0
      },
      "text/plain": [
       "  0%|          | 0/5 [00:00<?, ?it/s]"
      ]
     },
     "metadata": {},
     "output_type": "display_data"
    },
    {
     "name": "stdout",
     "output_type": "stream",
     "text": [
      "ant-v3\n",
      "25000\n",
      "[['u2' '2']\n",
      " ['u3' '3']\n",
      " ['u4' '4']\n",
      " ['u5' '5']\n",
      " ['u6' '6']\n",
      " ['u8' '8']\n",
      " ['u9' '9']\n",
      " ['u11' '11']\n",
      " ['u13' '13']\n",
      " ['u16' '16']\n",
      " ['u19' '19']\n",
      " ['u22' '22']\n",
      " ['u26' '26']\n",
      " ['u32' '32']\n",
      " ['u38' '38']\n",
      " ['u45' '45']\n",
      " ['u53' '53']\n",
      " ['u64' '64']\n",
      " ['u76' '76']\n",
      " ['u90' '90']\n",
      " ['u107' '107']\n",
      " ['u128' '128']\n",
      " ['u152' '152']\n",
      " ['u181' '181']\n",
      " ['u215' '215']\n",
      " ['u256' '256']\n",
      " ['u304' '304']\n",
      " ['u362' '362']\n",
      " ['u430' '430']\n",
      " ['u512' '512']\n",
      " ['u608' '608']\n",
      " ['u724' '724']\n",
      " ['u861' '861']\n",
      " ['u1024' '1024']\n",
      " ['u1217' '1217']\n",
      " ['u1448' '1448']\n",
      " ['u1722' '1722']\n",
      " ['u2048' '2048']\n",
      " ['u2435' '2435']\n",
      " ['u2896' '2896']\n",
      " ['u3444' '3444']]\n"
     ]
    },
    {
     "data": {
      "application/vnd.jupyter.widget-view+json": {
       "model_id": "43c282c02ca049a997c70878510c3013",
       "version_major": 2,
       "version_minor": 0
      },
      "text/plain": [
       "  0%|          | 0/5 [00:00<?, ?it/s]"
      ]
     },
     "metadata": {},
     "output_type": "display_data"
    },
    {
     "name": "stdout",
     "output_type": "stream",
     "text": [
      "25000\n",
      "[['q0.125' '25']\n",
      " ['q0.1767766952966369' '30']\n",
      " ['q0.25' '35']\n",
      " ['q0.3535533905932738' '43']\n",
      " ['q0.5' '51']\n",
      " ['q0.7071067811865476' '60']\n",
      " ['q1.0' '71']\n",
      " ['q1.4142135623730951' '86']\n",
      " ['q2.0' '102']\n",
      " ['q2.8284271247461903' '120']\n",
      " ['q4.0' '142']\n",
      " ['q5.656854249492381' '170']\n",
      " ['q8.0' '202']\n",
      " ['q11.313708498984761' '238']\n",
      " ['q16.0' '282']\n",
      " ['q22.627416997969522' '334']\n",
      " ['q32.0' '398']\n",
      " ['q45.254833995939045' '477']\n",
      " ['q64.0' '568']\n",
      " ['q90.50966799187809' '677']\n",
      " ['q128.0' '814']\n",
      " ['q181.01933598375618' '966']\n",
      " ['q256.0' '1150']\n",
      " ['q362.03867196751236' '1382']\n",
      " ['q512.0' '1653']\n",
      " ['q724.0773439350247' '1969']\n",
      " ['q1024.0' '2342']\n",
      " ['q1448.1546878700494' '2808']\n",
      " ['q2048.0' '3342']\n",
      " ['q2896.309375740099' '3904']\n",
      " ['q4096.0' '4451']]\n"
     ]
    },
    {
     "data": {
      "application/vnd.jupyter.widget-view+json": {
       "model_id": "be718c816c154311ac231e267e12eb16",
       "version_major": 2,
       "version_minor": 0
      },
      "text/plain": [
       "  0%|          | 0/5 [00:00<?, ?it/s]"
      ]
     },
     "metadata": {},
     "output_type": "display_data"
    },
    {
     "data": {
      "image/png": "[encoded data removed]",
      "text/plain": [
       "<Figure size 1500x800 with 4 Axes>"
      ]
     },
     "metadata": {},
     "output_type": "display_data"
    }
   ],
   "source": [
    "ncols = 2\n",
    "fig, axes = plt.subplots(nrows=len(env_names) // ncols, ncols=ncols, figsize=(15, 8), layout=\"constrained\")\n",
    "\n",
    "for env_i, env_name in enumerate(env_names):\n",
    "    print(env_name)\n",
    "    for prefix in prefixes:\n",
    "    # for prefix in [\"adaptive\", \"uniform\"]:\n",
    "    # for prefix in [\"adaptive\"]:\n",
    "        if prefix.startswith(\"uniform\"):\n",
    "            spacing_keys = np.array(list(samplers_per_prefix[prefix].keys()))\n",
    "            spacing = np.array([int(key[1:]) for key in spacing_keys])\n",
    "            sorted_idxes = np.argsort(spacing)\n",
    "            sorted_spacing = spacing[sorted_idxes]\n",
    "            sorted_keys = [\"u{}\".format(item) for item in sorted_spacing]\n",
    "        elif prefix.startswith(\"adaptive\"):\n",
    "            sorted_idxes = np.argsort(tau_to_h[env_name][:, 1].astype(int))\n",
    "            sorted_spacing = tau_to_h[env_name][:, 1][sorted_idxes].astype(int)\n",
    "            sorted_keys = tau_to_h[env_name][:, 0][sorted_idxes]\n",
    "        else:\n",
    "            raise NotImplementedError\n",
    "\n",
    "        env_result = plot_stats[prefix][env_name]\n",
    "        ax = axes[env_i // ncols, env_i % ncols]\n",
    "\n",
    "        base_budget, multipliers = budgets_to_check_per_env[env_name]\n",
    "        print(base_budget)\n",
    "        print(np.vstack((sorted_keys, sorted_spacing)).T)\n",
    "        for multiplier in tqdm(multipliers):\n",
    "            idx = int(base_budget * multiplier)\n",
    "            y_means = []\n",
    "            y_stderrs = []\n",
    "            for s in sorted_keys:\n",
    "                y_means.append(np.nanmean(env_result[s][:, idx]))\n",
    "                y_stderrs.append(np.nanstd(env_result[s][:, idx]) / np.sqrt(num_seeds))\n",
    "            # y_means = np.log2(np.array(y_means))\n",
    "            # y_stderrs = np.log2(np.array(y_stderrs))\n",
    "                \n",
    "            y_means = np.array(y_means)\n",
    "            y_stderrs = np.array(y_stderrs)\n",
    "\n",
    "            ax.plot(\n",
    "                sorted_spacing,\n",
    "                y_means,\n",
    "                label=\"$B_0 \\\\times {}$\".format(multiplier) if env_i == 0 else \"\",\n",
    "                linestyle=\"-\" if prefix.startswith(\"uniform\") else \"--\"\n",
    "            )\n",
    "            ax.fill_between(\n",
    "                sorted_spacing,\n",
    "                (y_means - y_stderrs),\n",
    "                (y_means + y_stderrs),\n",
    "                alpha=0.1\n",
    "            )\n",
    "            ax.set_title(\"Env: {}\".format(env_name))\n",
    "            # ax.set_xlim(-10, 4000)\n",
    "\n",
    "fig.supylabel(\"Error in value estimate\")\n",
    "fig.supxlabel(\"Uniform Discretization\")\n",
    "fig.legend()\n",
    "plt.show()"
   ]
  },
  {
   "cell_type": "code",
   "execution_count": 21,
   "metadata": {},
   "outputs": [
    {
     "name": "stdout",
     "output_type": "stream",
     "text": [
      "[('swimmer-v3', 14139.142459602244),\n",
      " ('hopper-v3', 59060.05022411215),\n",
      " ('ant-v3', 124009.37298112924),\n",
      " ('cheetah-v3', 269098.2525996715)]\n"
     ]
    }
   ],
   "source": [
    "pprint([(env_name, data[\"true_value\"]) for env_name, data in est_results[\"adaptive-smoothed_data\"].items()])"
   ]
  },
  {
   "cell_type": "code",
   "execution_count": null,
   "metadata": {},
   "outputs": [],
   "source": [
    "# data = np.load(\"./data/inverted_double_pendulum-v2/Rewards_50000_1000_0.npy\")\n",
    "# data = np.load(\"./data/ant-v3/Rewards_50000_1000_0.npy\")\n",
    "# data = np.load(\"./data/hopper-v3/Rewards_50000_1000_0.npy\")\n",
    "# data = np.load(\"./data/cheetah-v3/Rewards_50000_1000_0.npy\")\n",
    "# data = np.load(\"./data/pusher-v2/Rewards_50000_1000_0.npy\")\n",
    "data = np.load(\"./data/swimmer-v3/Rewards_40000_1000_0.npy\")"
   ]
  },
  {
   "cell_type": "code",
   "execution_count": null,
   "metadata": {},
   "outputs": [],
   "source": [
    "mean = np.mean(data, axis=0)\n",
    "std = np.std(data, axis=0)\n",
    "x_range = np.arange(data.shape[1])\n",
    "plt.plot(x_range, mean)\n",
    "# plt.fill_between(x_range, mean - std, mean + std, alpha=0.1)\n",
    "# plt.ylim(9.358, 9.362)\n",
    "plt.show()\n",
    "print(np.mean(np.sum(data, axis=1)))"
   ]
  },
  {
   "cell_type": "code",
   "execution_count": null,
   "metadata": {},
   "outputs": [],
   "source": [
    "agg_results_per_prefix[\"adaptive\"][\"swimmer-v3\"][\"num_pivots\"]"
   ]
  },
  {
   "cell_type": "code",
   "execution_count": null,
   "metadata": {},
   "outputs": [],
   "source": [
    "agg_results_per_prefix[\"adaptive\"][\"swimmer-v3\"][\"reward_file\"]"
   ]
  },
  {
   "cell_type": "code",
   "execution_count": null,
   "metadata": {},
   "outputs": [],
   "source": [
    "data = np.load(\"./{}/ant-v3/Rewards_50000_1000_8-smoothed.npy\".format(data_dir))"
   ]
  },
  {
   "cell_type": "code",
   "execution_count": null,
   "metadata": {},
   "outputs": [],
   "source": [
    "ncols = 4\n",
    "fig, axes = plt.subplots(nrows=5, ncols=ncols, figsize=(25, 15), layout=\"constrained\")\n",
    "\n",
    "for traj_i in range(20):\n",
    "    ax = axes[traj_i // ncols, traj_i % ncols]\n",
    "    ax.plot(data.T[traj_i])\n",
    "plt.show()"
   ]
  },
  {
   "cell_type": "code",
   "execution_count": null,
   "metadata": {},
   "outputs": [],
   "source": [
    "np.sum(data.T[0])"
   ]
  },
  {
   "cell_type": "code",
   "execution_count": null,
   "metadata": {},
   "outputs": [],
   "source": []
  }
 ],
 "metadata": {
  "kernelspec": {
   "display_name": "adaptive_time",
   "language": "python",
   "name": "python3"
  },
  "language_info": {
   "codemirror_mode": {
    "name": "ipython",
    "version": 3
   },
   "file_extension": ".py",
   "mimetype": "text/x-python",
   "name": "python",
   "nbconvert_exporter": "python",
   "pygments_lexer": "ipython3",
   "version": "3.10.13"
  }
 },
 "nbformat": 4,
 "nbformat_minor": 2
}
