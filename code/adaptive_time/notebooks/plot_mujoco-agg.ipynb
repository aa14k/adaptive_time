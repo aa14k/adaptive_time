{
 "cells": [
  {
   "cell_type": "code",
   "execution_count": 1,
   "metadata": {},
   "outputs": [],
   "source": [
    "import math\n",
    "import matplotlib.pyplot as plt\n",
    "import numpy as np\n",
    "import os\n",
    "import pickle\n",
    "import seaborn as sns\n",
    "\n",
    "from adaptive_time.utils import set_directory_in_project\n",
    "\n",
    "from importlib import reload\n",
    "from joblib import Parallel, delayed\n",
    "from tqdm.notebook import tqdm\n",
    "\n",
    "from pprint import pprint\n",
    "\n",
    "sns.set_style(\"darkgrid\")\n",
    "sns.set_palette(\"colorblind\")"
   ]
  },
  {
   "cell_type": "code",
   "execution_count": 23,
   "metadata": {},
   "outputs": [],
   "source": [
    "def set_size(width_pt, fraction=1, subplots=(1, 1), use_golden_ratio=True):\n",
    "    \"\"\"\n",
    "    Reference: https://jwalton.info/Matplotlib-latex-PGF/\n",
    "    Set figure dimensions to sit nicely in our document.\n",
    "\n",
    "    Parameters\n",
    "    ----------\n",
    "    width_pt: float\n",
    "            Document width in points\n",
    "    fraction: float, optional\n",
    "            Fraction of the width which you wish the figure to occupy\n",
    "    subplots: array-like, optional\n",
    "            The number of rows and columns of subplots.\n",
    "    Returns\n",
    "    -------\n",
    "    fig_dim: tuple\n",
    "            Dimensions of figure in inches\n",
    "    \"\"\"\n",
    "    # Width of figure (in pts)\n",
    "    fig_width_pt = width_pt * fraction\n",
    "    # Convert from pt to inches\n",
    "    inches_per_pt = 1 / 72.27\n",
    "\n",
    "    # Figure width in inches\n",
    "    fig_width_in = fig_width_pt * inches_per_pt\n",
    "    if use_golden_ratio:\n",
    "        # Golden ratio to set aesthetic figure height\n",
    "        golden_ratio = (5**0.5 - 1) / 2\n",
    "\n",
    "        # Figure height in inches\n",
    "        fig_height_in = fig_width_in * golden_ratio * (subplots[0] / subplots[1])\n",
    "    else:\n",
    "        fig_height_in = fig_width_in * (subplots[0] / subplots[1])\n",
    "\n",
    "    return (fig_width_in, fig_height_in)\n",
    "\n",
    "\n",
    "# pgf_with_latex = {  # setup matplotlib to use latex for output\n",
    "#     \"pgf.texsystem\": \"pdflatex\",  # change this if using xetex or lautex\n",
    "#     \"text.usetex\": True,  # use LaTeX to write all text\n",
    "#     \"font.family\": \"serif\",\n",
    "#     \"font.serif\": [],  # blank entries should cause plots to inherit fonts from the document\n",
    "#     \"font.sans-serif\": [],\n",
    "#     \"font.monospace\": [],\n",
    "#     \"axes.labelsize\": 10,  # LaTeX default is 10pt font.\n",
    "#     \"font.size\": 10,\n",
    "#     \"legend.fontsize\": 8,  # Make the legend/label fonts a little smaller\n",
    "#     \"xtick.labelsize\": 8,\n",
    "#     \"ytick.labelsize\": 8,\n",
    "#     \"pgf.rcfonts\": False,  # don't setup fonts from rc parameters\n",
    "#     \"text.latex.preamble\": r\"\\usepackage{amsmath}\",\n",
    "# }\n",
    "\n",
    "# # But with fonts from the document body\n",
    "# plt.rcParams.update(pgf_with_latex)\n",
    "\n",
    "# Using the set_size function as defined earlier\n",
    "# doc_width_pt = 452.9679"
   ]
  },
  {
   "cell_type": "code",
   "execution_count": 3,
   "metadata": {},
   "outputs": [],
   "source": [
    "from adaptive_time import plot_utils\n",
    "from adaptive_time import utils\n",
    "from adaptive_time import run_lib\n",
    "from adaptive_time import value_est\n",
    "from adaptive_time.value_est import approx_integrators\n",
    "\n",
    "approx_integrators = reload(approx_integrators)\n",
    "run_lib = reload(run_lib)\n",
    "value_est = reload(value_est)\n",
    "plot_utils = reload(plot_utils)\n",
    "utils = reload(utils)"
   ]
  },
  {
   "cell_type": "code",
   "execution_count": 4,
   "metadata": {},
   "outputs": [
    {
     "name": "stdout",
     "output_type": "stream",
     "text": [
      "Changed working directory to /home/bryanpu1/projects/adaptive_time\n",
      "['hopper-v3', 'swimmer-v3', 'pusher-v2', 'cheetah-v3', 'inverted_double_pendulum-v2', 'ant-v3']\n"
     ]
    }
   ],
   "source": [
    "set_directory_in_project()\n",
    "data_dir = \"./data\"\n",
    "# data_dir = \"./smoothed_data\"\n",
    "env_names = [env_name for env_name in os.listdir(data_dir) if not env_name.startswith(\".DS_Store\")]\n",
    "print(env_names)"
   ]
  },
  {
   "cell_type": "code",
   "execution_count": 5,
   "metadata": {},
   "outputs": [],
   "source": [
    "# prefixes = [\"uniform\", \"adaptive\"]\n",
    "prefixes = [\"uniform-smoothed_data\", \"adaptive-smoothed_data\", \"uniform\", \"adaptive\"]\n",
    "# prefixes = [\"uniform-smoothed_data\", \"adaptive-smoothed_data\"]\n",
    "# prefixes = [\"uniform\"]\n",
    "\n",
    "agg_results_per_prefix = {}\n",
    "samplers_per_prefix = {}\n",
    "for prefix in prefixes:\n",
    "    if prefix.startswith(\"uniform\"):\n",
    "        sampler_constructor = approx_integrators.UniformlySpacedIntegrator\n",
    "    elif prefix.startswith(\"adaptive\"):\n",
    "        sampler_constructor = approx_integrators.AdaptiveQuadratureIntegrator\n",
    "    else:\n",
    "        raise NotImplementedError\n",
    "    agg_results_per_prefix[prefix] = pickle.load(open(\"./{}-combined_mujoco_val_est.pkl\".format(prefix), \"rb\"))\n",
    "    samplers_per_prefix[prefix] = {\n",
    "        hyperparam: sampler_constructor(hyperparam) for hyperparam in agg_results_per_prefix[prefix][\"ant-v3\"][\"approx_integrals\"]\n",
    "    }"
   ]
  },
  {
   "cell_type": "markdown",
   "metadata": {},
   "source": [
    "# Sample trajectories and estimate values"
   ]
  },
  {
   "cell_type": "code",
   "execution_count": 6,
   "metadata": {},
   "outputs": [],
   "source": [
    "# pprint([(env_name, data[\"true_value\"]) for env_name, data in est_results[\"adaptive\"].items() if env_name not in [\"pusher-v2\", \"inverted_double_pendulum-v2\"]])"
   ]
  },
  {
   "cell_type": "code",
   "execution_count": 7,
   "metadata": {},
   "outputs": [
    {
     "name": "stdout",
     "output_type": "stream",
     "text": [
      "uniform-smoothed_data\n",
      "uniform\n",
      "dict_keys(['swimmer-v3', 'hopper-v3', 'ant-v3', 'cheetah-v3'])\n",
      "['./smoothed_data/swimmer-v3/Rewards_40000_1000_0-smoothed.npy', './smoothed_data/swimmer-v3/Rewards_40000_1000_7-smoothed.npy', './smoothed_data/swimmer-v3/Rewards_40000_1000_6-smoothed.npy', './smoothed_data/swimmer-v3/Rewards_40000_1000_1-smoothed.npy', './smoothed_data/swimmer-v3/Rewards_40000_1000_8-smoothed.npy', './smoothed_data/swimmer-v3/Rewards_40000_1000_9-smoothed.npy', './smoothed_data/swimmer-v3/Rewards_40000_1000_3-smoothed.npy', './smoothed_data/swimmer-v3/Rewards_40000_1000_4-smoothed.npy', './smoothed_data/swimmer-v3/Rewards_40000_1000_5-smoothed.npy', './smoothed_data/swimmer-v3/Rewards_40000_1000_2-smoothed.npy']\n",
      "(10000,)\n"
     ]
    },
    {
     "data": {
      "application/vnd.jupyter.widget-view+json": {
       "model_id": "49ac2951752643aeb1722bf94080a725",
       "version_major": 2,
       "version_minor": 0
      },
      "text/plain": [
       "  0%|          | 0/10 [00:00<?, ?it/s]"
      ]
     },
     "metadata": {},
     "output_type": "display_data"
    },
    {
     "name": "stdout",
     "output_type": "stream",
     "text": [
      "dict_keys(['swimmer-v3'])\n",
      "['./smoothed_data/hopper-v3/Rewards_50000_1000_9-smoothed.npy', './smoothed_data/hopper-v3/Rewards_50000_1000_8-smoothed.npy', './smoothed_data/hopper-v3/Rewards_50000_1000_2-smoothed.npy', './smoothed_data/hopper-v3/Rewards_50000_1000_5-smoothed.npy', './smoothed_data/hopper-v3/Rewards_50000_1000_4-smoothed.npy', './smoothed_data/hopper-v3/Rewards_50000_1000_3-smoothed.npy', './smoothed_data/hopper-v3/Rewards_50000_1000_1-smoothed.npy', './smoothed_data/hopper-v3/Rewards_50000_1000_6-smoothed.npy', './smoothed_data/hopper-v3/Rewards_50000_1000_7-smoothed.npy', './smoothed_data/hopper-v3/Rewards_50000_1000_0-smoothed.npy']\n",
      "(10000,)\n"
     ]
    },
    {
     "data": {
      "application/vnd.jupyter.widget-view+json": {
       "model_id": "689a64454a1c44f58e3812fa1e960e3e",
       "version_major": 2,
       "version_minor": 0
      },
      "text/plain": [
       "  0%|          | 0/10 [00:00<?, ?it/s]"
      ]
     },
     "metadata": {},
     "output_type": "display_data"
    },
    {
     "name": "stdout",
     "output_type": "stream",
     "text": [
      "dict_keys(['swimmer-v3', 'hopper-v3'])\n",
      "['./smoothed_data/ant-v3/Rewards_50000_1000_9-smoothed.npy', './smoothed_data/ant-v3/Rewards_50000_1000_8-smoothed.npy', './smoothed_data/ant-v3/Rewards_50000_1000_2-smoothed.npy', './smoothed_data/ant-v3/Rewards_50000_1000_5-smoothed.npy', './smoothed_data/ant-v3/Rewards_50000_1000_4-smoothed.npy', './smoothed_data/ant-v3/Rewards_50000_1000_3-smoothed.npy', './smoothed_data/ant-v3/Rewards_50000_1000_1-smoothed.npy', './smoothed_data/ant-v3/Rewards_50000_1000_6-smoothed.npy', './smoothed_data/ant-v3/Rewards_50000_1000_7-smoothed.npy', './smoothed_data/ant-v3/Rewards_50000_1000_0-smoothed.npy']\n",
      "(10000,)\n"
     ]
    },
    {
     "data": {
      "application/vnd.jupyter.widget-view+json": {
       "model_id": "574b95db07d443acaffaccd23f677ea6",
       "version_major": 2,
       "version_minor": 0
      },
      "text/plain": [
       "  0%|          | 0/10 [00:00<?, ?it/s]"
      ]
     },
     "metadata": {},
     "output_type": "display_data"
    },
    {
     "name": "stdout",
     "output_type": "stream",
     "text": [
      "dict_keys(['swimmer-v3', 'hopper-v3', 'ant-v3'])\n",
      "['./smoothed_data/cheetah-v3/Rewards_50000_1000_9-smoothed.npy', './smoothed_data/cheetah-v3/Rewards_50000_1000_8-smoothed.npy', './smoothed_data/cheetah-v3/Rewards_50000_1000_2-smoothed.npy', './smoothed_data/cheetah-v3/Rewards_50000_1000_5-smoothed.npy', './smoothed_data/cheetah-v3/Rewards_50000_1000_4-smoothed.npy', './smoothed_data/cheetah-v3/Rewards_50000_1000_3-smoothed.npy', './smoothed_data/cheetah-v3/Rewards_50000_1000_1-smoothed.npy', './smoothed_data/cheetah-v3/Rewards_50000_1000_6-smoothed.npy', './smoothed_data/cheetah-v3/Rewards_50000_1000_7-smoothed.npy', './smoothed_data/cheetah-v3/Rewards_50000_1000_0-smoothed.npy']\n",
      "(10000,)\n"
     ]
    },
    {
     "data": {
      "application/vnd.jupyter.widget-view+json": {
       "model_id": "55e356bbf5ae4b859980293a52558d30",
       "version_major": 2,
       "version_minor": 0
      },
      "text/plain": [
       "  0%|          | 0/10 [00:00<?, ?it/s]"
      ]
     },
     "metadata": {},
     "output_type": "display_data"
    },
    {
     "name": "stdout",
     "output_type": "stream",
     "text": [
      "dict_keys(['swimmer-v3', 'hopper-v3', 'ant-v3', 'cheetah-v3'])\n",
      "adaptive-smoothed_data\n",
      "adaptive\n",
      "dict_keys(['swimmer-v3', 'hopper-v3', 'ant-v3', 'cheetah-v3'])\n",
      "['./smoothed_data/swimmer-v3/Rewards_40000_1000_0-smoothed.npy', './smoothed_data/swimmer-v3/Rewards_40000_1000_7-smoothed.npy', './smoothed_data/swimmer-v3/Rewards_40000_1000_6-smoothed.npy', './smoothed_data/swimmer-v3/Rewards_40000_1000_1-smoothed.npy', './smoothed_data/swimmer-v3/Rewards_40000_1000_8-smoothed.npy', './smoothed_data/swimmer-v3/Rewards_40000_1000_9-smoothed.npy', './smoothed_data/swimmer-v3/Rewards_40000_1000_3-smoothed.npy', './smoothed_data/swimmer-v3/Rewards_40000_1000_4-smoothed.npy', './smoothed_data/swimmer-v3/Rewards_40000_1000_5-smoothed.npy', './smoothed_data/swimmer-v3/Rewards_40000_1000_2-smoothed.npy']\n",
      "(10000,)\n"
     ]
    },
    {
     "data": {
      "application/vnd.jupyter.widget-view+json": {
       "model_id": "ad0da9334aca411fae3cf128ec81b6dc",
       "version_major": 2,
       "version_minor": 0
      },
      "text/plain": [
       "  0%|          | 0/10 [00:00<?, ?it/s]"
      ]
     },
     "metadata": {},
     "output_type": "display_data"
    },
    {
     "name": "stdout",
     "output_type": "stream",
     "text": [
      "dict_keys(['swimmer-v3'])\n",
      "['./smoothed_data/hopper-v3/Rewards_50000_1000_9-smoothed.npy', './smoothed_data/hopper-v3/Rewards_50000_1000_8-smoothed.npy', './smoothed_data/hopper-v3/Rewards_50000_1000_2-smoothed.npy', './smoothed_data/hopper-v3/Rewards_50000_1000_5-smoothed.npy', './smoothed_data/hopper-v3/Rewards_50000_1000_4-smoothed.npy', './smoothed_data/hopper-v3/Rewards_50000_1000_3-smoothed.npy', './smoothed_data/hopper-v3/Rewards_50000_1000_1-smoothed.npy', './smoothed_data/hopper-v3/Rewards_50000_1000_6-smoothed.npy', './smoothed_data/hopper-v3/Rewards_50000_1000_7-smoothed.npy', './smoothed_data/hopper-v3/Rewards_50000_1000_0-smoothed.npy']\n",
      "(10000,)\n"
     ]
    },
    {
     "data": {
      "application/vnd.jupyter.widget-view+json": {
       "model_id": "1e783b23189f4a60a569ae8bfd36c009",
       "version_major": 2,
       "version_minor": 0
      },
      "text/plain": [
       "  0%|          | 0/10 [00:00<?, ?it/s]"
      ]
     },
     "metadata": {},
     "output_type": "display_data"
    },
    {
     "name": "stdout",
     "output_type": "stream",
     "text": [
      "dict_keys(['swimmer-v3', 'hopper-v3'])\n",
      "['./smoothed_data/ant-v3/Rewards_50000_1000_9-smoothed.npy', './smoothed_data/ant-v3/Rewards_50000_1000_8-smoothed.npy', './smoothed_data/ant-v3/Rewards_50000_1000_2-smoothed.npy', './smoothed_data/ant-v3/Rewards_50000_1000_5-smoothed.npy', './smoothed_data/ant-v3/Rewards_50000_1000_4-smoothed.npy', './smoothed_data/ant-v3/Rewards_50000_1000_3-smoothed.npy', './smoothed_data/ant-v3/Rewards_50000_1000_1-smoothed.npy', './smoothed_data/ant-v3/Rewards_50000_1000_6-smoothed.npy', './smoothed_data/ant-v3/Rewards_50000_1000_7-smoothed.npy', './smoothed_data/ant-v3/Rewards_50000_1000_0-smoothed.npy']\n",
      "(10000,)\n"
     ]
    },
    {
     "data": {
      "application/vnd.jupyter.widget-view+json": {
       "model_id": "646f00dfe6b6480c9f3ebb8d71fc49fe",
       "version_major": 2,
       "version_minor": 0
      },
      "text/plain": [
       "  0%|          | 0/10 [00:00<?, ?it/s]"
      ]
     },
     "metadata": {},
     "output_type": "display_data"
    },
    {
     "name": "stdout",
     "output_type": "stream",
     "text": [
      "dict_keys(['swimmer-v3', 'hopper-v3', 'ant-v3'])\n",
      "['./smoothed_data/cheetah-v3/Rewards_50000_1000_9-smoothed.npy', './smoothed_data/cheetah-v3/Rewards_50000_1000_8-smoothed.npy', './smoothed_data/cheetah-v3/Rewards_50000_1000_2-smoothed.npy', './smoothed_data/cheetah-v3/Rewards_50000_1000_5-smoothed.npy', './smoothed_data/cheetah-v3/Rewards_50000_1000_4-smoothed.npy', './smoothed_data/cheetah-v3/Rewards_50000_1000_3-smoothed.npy', './smoothed_data/cheetah-v3/Rewards_50000_1000_1-smoothed.npy', './smoothed_data/cheetah-v3/Rewards_50000_1000_6-smoothed.npy', './smoothed_data/cheetah-v3/Rewards_50000_1000_7-smoothed.npy', './smoothed_data/cheetah-v3/Rewards_50000_1000_0-smoothed.npy']\n",
      "(10000,)\n"
     ]
    },
    {
     "data": {
      "application/vnd.jupyter.widget-view+json": {
       "model_id": "0ff9d37269c0455793b4743b1cd193f8",
       "version_major": 2,
       "version_minor": 0
      },
      "text/plain": [
       "  0%|          | 0/10 [00:00<?, ?it/s]"
      ]
     },
     "metadata": {},
     "output_type": "display_data"
    },
    {
     "name": "stdout",
     "output_type": "stream",
     "text": [
      "dict_keys(['swimmer-v3', 'hopper-v3', 'ant-v3', 'cheetah-v3'])\n",
      "uniform\n",
      "uniform\n",
      "dict_keys(['inverted_double_pendulum-v2', 'swimmer-v3', 'hopper-v3', 'ant-v3', 'cheetah-v3', 'pusher-v2'])\n",
      "['./data/inverted_double_pendulum-v2/Rewards_50000_1000_9.npy', './data/inverted_double_pendulum-v2/Rewards_50000_1000_8.npy', './data/inverted_double_pendulum-v2/Rewards_50000_1000_6.npy', './data/inverted_double_pendulum-v2/Rewards_50000_1000_7.npy', './data/inverted_double_pendulum-v2/Rewards_50000_1000_5.npy', './data/inverted_double_pendulum-v2/Rewards_50000_1000_4.npy', './data/inverted_double_pendulum-v2/Rewards_50000_1000_0.npy', './data/inverted_double_pendulum-v2/Rewards_50000_1000_1.npy', './data/inverted_double_pendulum-v2/Rewards_50000_1000_3.npy', './data/inverted_double_pendulum-v2/Rewards_50000_1000_2.npy']\n",
      "(10000,)\n"
     ]
    },
    {
     "data": {
      "application/vnd.jupyter.widget-view+json": {
       "model_id": "55778bd950f44eed9bb414c7be14cddd",
       "version_major": 2,
       "version_minor": 0
      },
      "text/plain": [
       "  0%|          | 0/10 [00:00<?, ?it/s]"
      ]
     },
     "metadata": {},
     "output_type": "display_data"
    },
    {
     "name": "stdout",
     "output_type": "stream",
     "text": [
      "dict_keys(['swimmer-v3', 'hopper-v3', 'ant-v3', 'cheetah-v3', 'inverted_double_pendulum-v2'])\n",
      "['./data/pusher-v2/Rewards_50000_1000_9.npy', './data/pusher-v2/Rewards_50000_1000_8.npy', './data/pusher-v2/Rewards_50000_1000_6.npy', './data/pusher-v2/Rewards_50000_1000_7.npy', './data/pusher-v2/Rewards_50000_1000_5.npy', './data/pusher-v2/Rewards_50000_1000_4.npy', './data/pusher-v2/Rewards_50000_1000_0.npy', './data/pusher-v2/Rewards_50000_1000_1.npy', './data/pusher-v2/Rewards_50000_1000_3.npy', './data/pusher-v2/Rewards_50000_1000_2.npy']\n",
      "(10000,)\n"
     ]
    },
    {
     "data": {
      "application/vnd.jupyter.widget-view+json": {
       "model_id": "f614df2345cf4b11b571bc8dddf71181",
       "version_major": 2,
       "version_minor": 0
      },
      "text/plain": [
       "  0%|          | 0/10 [00:00<?, ?it/s]"
      ]
     },
     "metadata": {},
     "output_type": "display_data"
    },
    {
     "name": "stdout",
     "output_type": "stream",
     "text": [
      "dict_keys(['swimmer-v3', 'hopper-v3', 'ant-v3', 'cheetah-v3', 'inverted_double_pendulum-v2', 'pusher-v2'])\n",
      "adaptive\n",
      "adaptive\n",
      "dict_keys(['inverted_double_pendulum-v2', 'swimmer-v3', 'hopper-v3', 'ant-v3', 'cheetah-v3', 'pusher-v2'])\n",
      "['./data/inverted_double_pendulum-v2/Rewards_50000_1000_9.npy', './data/inverted_double_pendulum-v2/Rewards_50000_1000_8.npy', './data/inverted_double_pendulum-v2/Rewards_50000_1000_6.npy', './data/inverted_double_pendulum-v2/Rewards_50000_1000_7.npy', './data/inverted_double_pendulum-v2/Rewards_50000_1000_5.npy', './data/inverted_double_pendulum-v2/Rewards_50000_1000_4.npy', './data/inverted_double_pendulum-v2/Rewards_50000_1000_0.npy', './data/inverted_double_pendulum-v2/Rewards_50000_1000_1.npy', './data/inverted_double_pendulum-v2/Rewards_50000_1000_3.npy', './data/inverted_double_pendulum-v2/Rewards_50000_1000_2.npy']\n",
      "(10000,)\n"
     ]
    },
    {
     "data": {
      "application/vnd.jupyter.widget-view+json": {
       "model_id": "10418bb62df841f2b7023ef0d3d0a538",
       "version_major": 2,
       "version_minor": 0
      },
      "text/plain": [
       "  0%|          | 0/10 [00:00<?, ?it/s]"
      ]
     },
     "metadata": {},
     "output_type": "display_data"
    },
    {
     "name": "stdout",
     "output_type": "stream",
     "text": [
      "dict_keys(['swimmer-v3', 'hopper-v3', 'ant-v3', 'cheetah-v3', 'inverted_double_pendulum-v2'])\n",
      "['./data/pusher-v2/Rewards_50000_1000_9.npy', './data/pusher-v2/Rewards_50000_1000_8.npy', './data/pusher-v2/Rewards_50000_1000_6.npy', './data/pusher-v2/Rewards_50000_1000_7.npy', './data/pusher-v2/Rewards_50000_1000_5.npy', './data/pusher-v2/Rewards_50000_1000_4.npy', './data/pusher-v2/Rewards_50000_1000_0.npy', './data/pusher-v2/Rewards_50000_1000_1.npy', './data/pusher-v2/Rewards_50000_1000_3.npy', './data/pusher-v2/Rewards_50000_1000_2.npy']\n",
      "(10000,)\n"
     ]
    },
    {
     "data": {
      "application/vnd.jupyter.widget-view+json": {
       "model_id": "2a158ee8e2cd45a6b3ac20bd078dc34e",
       "version_major": 2,
       "version_minor": 0
      },
      "text/plain": [
       "  0%|          | 0/10 [00:00<?, ?it/s]"
      ]
     },
     "metadata": {},
     "output_type": "display_data"
    },
    {
     "name": "stdout",
     "output_type": "stream",
     "text": [
      "dict_keys(['swimmer-v3', 'hopper-v3', 'ant-v3', 'cheetah-v3', 'inverted_double_pendulum-v2', 'pusher-v2'])\n"
     ]
    }
   ],
   "source": [
    "update_budget = 1_000_000\n",
    "sample_block = 1_000_000\n",
    "num_seeds = 10\n",
    "\n",
    "est_results = {}\n",
    "\n",
    "for prefix, agg_results in agg_results_per_prefix.items():\n",
    "    print(prefix)\n",
    "\n",
    "    agg_prefix = prefix.split(\"-\")[0]\n",
    "    est_results.setdefault(agg_prefix, {})\n",
    "    samplers_tried = samplers_per_prefix[prefix]\n",
    "\n",
    "    print(agg_prefix)\n",
    "    print(agg_results.keys())\n",
    "\n",
    "    for env_name in agg_results:\n",
    "        if not prefix.endswith(\"-smoothed_data\") and env_name not in [\"pusher-v2\", \"inverted_double_pendulum-v2\"]:\n",
    "            continue\n",
    "        vals_per_state = np.concatenate(\n",
    "            [np.sum(np.load(reward_file).T, axis=-1) for reward_file in agg_results[env_name][\"reward_file\"]]\n",
    "        )\n",
    "        print([reward_file for reward_file in agg_results[env_name][\"reward_file\"]])\n",
    "        print(vals_per_state.shape)\n",
    "\n",
    "        approx_integrals = agg_results[env_name][\"approx_integrals\"]\n",
    "        num_pivots = agg_results[env_name][\"num_pivots\"]\n",
    "\n",
    "        weights = np.ones(len(vals_per_state)) / len(vals_per_state)\n",
    "        true_value = np.sum(weights * vals_per_state)\n",
    "\n",
    "        est_results[agg_prefix][env_name] = {\n",
    "            \"weights\": weights,\n",
    "            \"true_value\": true_value,\n",
    "            \"runs\": []\n",
    "        }\n",
    "\n",
    "        for seed in tqdm(range(num_seeds)):\n",
    "            estimated_values_by_episode = {}\n",
    "            number_of_pivots_by_episode = {}\n",
    "            all_values_by_episode = {}\n",
    "\n",
    "            rng = np.random.RandomState(seed)\n",
    "            start_states = rng.choice(len(vals_per_state), p=weights, size=(update_budget))\n",
    "\n",
    "            for sampler_name, sampler in samplers_tried.items():\n",
    "                # print(\"sampler_name:\", sampler_name)\n",
    "                # Update the value estimate with new samples until we run out of budget.\n",
    "                used_updates = 0\n",
    "                value_estimate = 0\n",
    "                num_episodes = 0\n",
    "                all_values_by_episode[sampler_name] = []\n",
    "\n",
    "                estimated_values_by_episode[sampler_name] = []\n",
    "                number_of_pivots_by_episode[sampler_name] = []\n",
    "\n",
    "                # pbar = tqdm(total = update_budget)\n",
    "                while used_updates < update_budget:\n",
    "                    num_episodes += 1\n",
    "                    if num_episodes % sample_block == 0:\n",
    "                        start_states = rng.choice(len(vals_per_state), p=weights, size=(update_budget))\n",
    "                    start_state = start_states[(num_episodes - 1) % sample_block]\n",
    "                    val_sample = approx_integrals[sampler_name][start_state]\n",
    "                    all_values_by_episode[sampler_name].append(val_sample)\n",
    "                    \n",
    "                    value_estimate += (1.0/num_episodes) * (val_sample - value_estimate)\n",
    "                    used_updates += num_pivots[sampler_name][start_state]\n",
    "\n",
    "                    estimated_values_by_episode[sampler_name].append(value_estimate)\n",
    "                    number_of_pivots_by_episode[sampler_name].append(used_updates)\n",
    "                #     pbar.update(num_pivots[sampler_name][start_state])\n",
    "                # pbar.close()\n",
    "            est_results[agg_prefix][env_name][\"runs\"].append({\n",
    "                \"estimated_values_by_episode\": estimated_values_by_episode,\n",
    "                \"number_of_pivots_by_episode\": number_of_pivots_by_episode,\n",
    "                \"all_values_by_episode\": all_values_by_episode,\n",
    "            })\n",
    "        print(est_results[agg_prefix].keys())\n"
   ]
  },
  {
   "cell_type": "markdown",
   "metadata": {},
   "source": [
    "# Compile plot statistics using interpolation"
   ]
  },
  {
   "cell_type": "code",
   "execution_count": 8,
   "metadata": {},
   "outputs": [],
   "source": [
    "def process_across_runs(\n",
    "    runs,\n",
    "    samplers_tried,\n",
    "    true_value,\n",
    "):\n",
    "    results = {}\n",
    "    for sampler in samplers_tried:\n",
    "        interpolated_results = np.zeros((len(runs), update_budget + 1))\n",
    "        for run_i, run in enumerate(runs):\n",
    "            number_of_pivots_by_episode = run[\"number_of_pivots_by_episode\"][sampler]\n",
    "            estimated_values_by_episode = run[\"estimated_values_by_episode\"][sampler]\n",
    "\n",
    "            interpolated_results[run_i] = np.interp(\n",
    "                np.arange(update_budget + 1),\n",
    "                number_of_pivots_by_episode,\n",
    "                np.abs(estimated_values_by_episode - true_value)[:number_of_pivots_by_episode[-1]]\n",
    "            )\n",
    "        results[sampler] = interpolated_results\n",
    "    return results"
   ]
  },
  {
   "cell_type": "code",
   "execution_count": 9,
   "metadata": {},
   "outputs": [
    {
     "name": "stdout",
     "output_type": "stream",
     "text": [
      "dict_keys(['swimmer-v3', 'hopper-v3', 'ant-v3', 'cheetah-v3', 'inverted_double_pendulum-v2', 'pusher-v2']) dict_keys(['swimmer-v3', 'hopper-v3', 'ant-v3', 'cheetah-v3', 'inverted_double_pendulum-v2', 'pusher-v2'])\n"
     ]
    }
   ],
   "source": [
    "print(est_results[\"adaptive\"].keys(), est_results[\"uniform\"].keys())"
   ]
  },
  {
   "cell_type": "code",
   "execution_count": 10,
   "metadata": {},
   "outputs": [
    {
     "name": "stdout",
     "output_type": "stream",
     "text": [
      "dict_keys(['uniform', 'adaptive'])\n"
     ]
    }
   ],
   "source": [
    "print(est_results.keys())"
   ]
  },
  {
   "cell_type": "code",
   "execution_count": 11,
   "metadata": {},
   "outputs": [
    {
     "name": "stdout",
     "output_type": "stream",
     "text": [
      "uniform\n"
     ]
    },
    {
     "data": {
      "application/vnd.jupyter.widget-view+json": {
       "model_id": "34a73c6b810249e08877e3331e870269",
       "version_major": 2,
       "version_minor": 0
      },
      "text/plain": [
       "  0%|          | 0/6 [00:00<?, ?it/s]"
      ]
     },
     "metadata": {},
     "output_type": "display_data"
    },
    {
     "name": "stdout",
     "output_type": "stream",
     "text": [
      "adaptive\n"
     ]
    },
    {
     "data": {
      "application/vnd.jupyter.widget-view+json": {
       "model_id": "47e6fae5e864440d80feb8bab4fbab79",
       "version_major": 2,
       "version_minor": 0
      },
      "text/plain": [
       "  0%|          | 0/6 [00:00<?, ?it/s]"
      ]
     },
     "metadata": {},
     "output_type": "display_data"
    }
   ],
   "source": [
    "\n",
    "plot_stats = {}\n",
    "for prefix, curr_result in est_results.items():\n",
    "    print(prefix)\n",
    "    # samplers_tried = samplers_per_prefix[\"{}-smoothed_data\".format(prefix)]\n",
    "    samplers_tried = samplers_per_prefix[prefix]\n",
    "    plot_stats[prefix] = {}\n",
    "    for env_i, env_name in enumerate(tqdm(curr_result)):\n",
    "        true_value = curr_result[env_name][\"true_value\"]\n",
    "        env_result = process_across_runs(\n",
    "            curr_result[env_name][\"runs\"],\n",
    "            samplers_tried,\n",
    "            true_value\n",
    "        )\n",
    "        plot_stats[prefix][env_name] = env_result"
   ]
  },
  {
   "cell_type": "markdown",
   "metadata": {},
   "source": [
    "# Plot error vs number of updates"
   ]
  },
  {
   "cell_type": "markdown",
   "metadata": {},
   "source": [
    "## Plot aggregated result"
   ]
  },
  {
   "cell_type": "code",
   "execution_count": 12,
   "metadata": {},
   "outputs": [],
   "source": [
    "# s_to_plot = [\"q1\", \"q10\", \"q100\", \"u1\", \"u10\", \"u500\"]\n",
    "# s_to_plot = [\"q0\", \"u1\"]\n",
    "# s_to_plot = samplers_tried.keys()\n",
    "plot_this = False\n",
    "if plot_this:\n",
    "    ncols = 3\n",
    "    fig, axes = plt.subplots(nrows=len(env_names) // ncols, ncols=ncols, figsize=(15, 8), layout=\"constrained\")\n",
    "\n",
    "    start_idx = 0\n",
    "    end_idx = 1_000_000\n",
    "    for env_i, env_name in enumerate(env_names):\n",
    "        ax = axes[env_i // ncols, env_i % ncols]\n",
    "        for prefix in prefixes:\n",
    "            env_result = plot_stats[prefix][env_name]\n",
    "            samplers_tried = samplers_per_prefix[prefix]\n",
    "            for s in tqdm(samplers_tried):\n",
    "                y_means = np.nanmean(env_result[s][:, start_idx:end_idx], axis=0)\n",
    "                y_stderrs = np.nanstd(env_result[s][:, start_idx:end_idx], axis=0) / np.sqrt(num_seeds)\n",
    "                x_range = np.arange(update_budget + 1)[start_idx:end_idx]\n",
    "\n",
    "                y_means = np.log10(y_means, out=np.zeros_like(y_means), where=(y_means != 0))\n",
    "                y_stderrs = np.log10(y_stderrs, out=np.zeros_like(y_stderrs), where=(y_stderrs != 0))\n",
    "\n",
    "                ax.plot(\n",
    "                    x_range,\n",
    "                    y_means,\n",
    "                    label=s if env_i == 0 else \"\"\n",
    "                )\n",
    "                ax.fill_between(\n",
    "                    x_range,\n",
    "                    (y_means - y_stderrs),\n",
    "                    (y_means + y_stderrs),\n",
    "                    alpha=0.1\n",
    "                )\n",
    "        ax.set_title(\"Env: {}\".format(env_name))\n",
    "\n",
    "    fig.supylabel(\"Error in value estimate\")\n",
    "    fig.supxlabel(\"Number of Samples\")\n",
    "    fig.legend()\n",
    "    plt.show()"
   ]
  },
  {
   "cell_type": "markdown",
   "metadata": {},
   "source": [
    "# Plot error vs hyperparameter (i.e. tolerance/discretization)"
   ]
  },
  {
   "cell_type": "code",
   "execution_count": 13,
   "metadata": {},
   "outputs": [],
   "source": [
    "budgets_to_check_per_env = {\n",
    "    \"inverted_double_pendulum-v2\": (25000, np.array([1, 2, 5, 10, 20, 40])),\n",
    "    \"swimmer-v3\": (20000, np.array([1, 2, 5, 10, 20, 40])),\n",
    "    \"hopper-v3\": (8000, np.array([1, 2, 5, 10, 20, 40])),\n",
    "    \"ant-v3\": (25000, np.array([1, 2, 5, 10, 20, 40])),\n",
    "    \"cheetah-v3\": (25000, np.array([1, 2, 5, 10, 20, 40])),\n",
    "    \"pusher-v2\": (25000, np.array([1, 2, 5, 10, 20, 40])),\n",
    "}"
   ]
  },
  {
   "cell_type": "markdown",
   "metadata": {},
   "source": [
    "# Approximate horizon for adaptive method for \"same mapping\""
   ]
  },
  {
   "cell_type": "code",
   "execution_count": 14,
   "metadata": {},
   "outputs": [
    {
     "name": "stdout",
     "output_type": "stream",
     "text": [
      "dict_keys(['inverted_double_pendulum-v2', 'swimmer-v3', 'hopper-v3', 'ant-v3', 'cheetah-v3', 'pusher-v2'])\n"
     ]
    }
   ],
   "source": [
    "print(agg_results.keys())"
   ]
  },
  {
   "cell_type": "code",
   "execution_count": 15,
   "metadata": {},
   "outputs": [
    {
     "name": "stdout",
     "output_type": "stream",
     "text": [
      "dict_keys(['uniform-smoothed_data', 'adaptive-smoothed_data', 'uniform', 'adaptive'])\n"
     ]
    }
   ],
   "source": [
    "print(agg_results_per_prefix.keys())"
   ]
  },
  {
   "cell_type": "code",
   "execution_count": 16,
   "metadata": {},
   "outputs": [
    {
     "name": "stdout",
     "output_type": "stream",
     "text": [
      "dict_keys(['uniform', 'adaptive'])\n"
     ]
    }
   ],
   "source": [
    "print(plot_stats.keys())"
   ]
  },
  {
   "cell_type": "code",
   "execution_count": 17,
   "metadata": {},
   "outputs": [
    {
     "name": "stdout",
     "output_type": "stream",
     "text": [
      "dict_keys(['uniform', 'adaptive'])\n"
     ]
    }
   ],
   "source": [
    "print(plot_stats.keys())"
   ]
  },
  {
   "cell_type": "code",
   "execution_count": 18,
   "metadata": {},
   "outputs": [
    {
     "data": {
      "text/plain": [
       "{'swimmer-v3': {'approx_integrals': {'q0.125': array([14250.430638  , 14236.78441803, 14070.65320628, ...,\n",
       "          14073.29302359, 14132.96908702, 14047.63316929]),\n",
       "   'q0.1767766952966369': array([14250.42895485, 14236.78065231, 14070.65086888, ...,\n",
       "          14073.29565234, 14132.96435555, 14047.63126017]),\n",
       "   'q0.25': array([14250.43175985, 14236.78182428, 14070.64382678, ...,\n",
       "          14073.28849374, 14132.96542245, 14047.62653659]),\n",
       "   'q0.3535533905932738': array([14250.43792977, 14236.78051399, 14070.64018499, ...,\n",
       "          14073.27844702, 14132.95988255, 14047.62118625]),\n",
       "   'q0.5': array([14250.43465348, 14236.78384763, 14070.64518603, ...,\n",
       "          14073.27932291, 14132.97135776, 14047.61423902]),\n",
       "   'q0.7071067811865476': array([14250.43129453, 14236.76617434, 14070.64003539, ...,\n",
       "          14073.28483142, 14132.9555161 , 14047.61252524]),\n",
       "   'q1.0': array([14250.43622506, 14236.78286575, 14070.60170481, ...,\n",
       "          14073.2347752 , 14132.9532638 , 14047.58681237]),\n",
       "   'q1.4142135623730951': array([14250.26875652, 14236.78148787, 14070.58976716, ...,\n",
       "          14073.20594896, 14132.95816764, 14047.54907049]),\n",
       "   'q1024.0': array([14263.0293125 , 14272.16749931, 13938.49451296, ...,\n",
       "          13998.09275807, 13483.73754088, 13822.83820222]),\n",
       "   'q11.313708498984761': array([14250.35107725, 14237.00197333, 14070.56252841, ...,\n",
       "          14073.39441075, 14132.09728089, 14047.383055  ]),\n",
       "   'q128.0': array([14278.24889954, 14237.90522395, 14068.34234822, ...,\n",
       "          14071.12691689, 14132.02619041, 14039.21133799]),\n",
       "   'q1448.1546878700494': array([14263.0293125 , 14272.16749931, 13920.68558157, ...,\n",
       "          13974.91392804, 13483.73754088, 13822.83820222]),\n",
       "   'q16.0': array([14250.27129279, 14237.14198401, 14070.04749663, ...,\n",
       "          14072.9112219 , 14132.27772271, 14047.30037409]),\n",
       "   'q181.01933598375618': array([14275.98700827, 14286.70766319, 14062.74296297, ...,\n",
       "          14066.52613681, 14135.18907885, 14045.61133468]),\n",
       "   'q2.0': array([14250.27848204, 14236.84360999, 14070.63429164, ...,\n",
       "          14073.17135183, 14132.91425628, 14047.55864426]),\n",
       "   'q2.8284271247461903': array([14250.2937774 , 14236.65844063, 14070.57028285, ...,\n",
       "          14073.22370434, 14132.88208201, 14047.47357337]),\n",
       "   'q2048.0': array([12678.54486719, 12532.23144531, 13920.68558157, ...,\n",
       "          13974.91392804, 12728.25382693, 13822.83820222]),\n",
       "   'q22.627416997969522': array([14250.27451682, 14235.48963441, 14070.18343158, ...,\n",
       "          14072.19318469, 14136.68973953, 14046.69642557]),\n",
       "   'q256.0': array([14274.12779256, 14286.70766319, 14061.17729508, ...,\n",
       "          14064.60281666, 14135.18907885, 14043.65231521]),\n",
       "   'q2896.309375740099': array([12678.54486719, 12532.23144531, 13834.30028212, ...,\n",
       "          13974.91392804, 12728.25382693, 12697.51997521]),\n",
       "   'q32.0': array([14249.98504468, 14236.34594418, 14071.22522611, ...,\n",
       "          14071.23712569, 14136.18451499, 14045.93010994]),\n",
       "   'q362.03867196751236': array([14274.12779256, 14284.6162796 , 14056.92559919, ...,\n",
       "          14001.99869778, 14132.74040873, 14029.48816831]),\n",
       "   'q4.0': array([14250.16184241, 14236.69823327, 14070.51836364, ...,\n",
       "          14073.06899009, 14132.8454605 , 14047.39732288]),\n",
       "   'q4096.0': array([12678.54486719, 12532.23144531, 10968.76607794, ...,\n",
       "          10717.59049899, 12728.25382693, 11099.7737915 ]),\n",
       "   'q45.254833995939045': array([14249.84698738, 14236.19162822, 14069.03579721, ...,\n",
       "          14071.40752488, 14134.74716262, 14046.97596287]),\n",
       "   'q5.656854249492381': array([14250.16562861, 14236.69307572, 14070.50823418, ...,\n",
       "          14072.84071598, 14132.91235732, 14047.22491197]),\n",
       "   'q512.0': array([14274.12779256, 14284.6162796 , 13938.49451296, ...,\n",
       "          13998.09275807, 14118.72449171, 14029.48816831]),\n",
       "   'q64.0': array([14279.45103766, 14235.5098292 , 14066.26508719, ...,\n",
       "          14069.60585205, 14132.68260844, 14045.30382376]),\n",
       "   'q724.0773439350247': array([14263.0293125 , 14284.6162796 , 13938.49451296, ...,\n",
       "          13998.09275807, 13853.06778233, 13835.59934542]),\n",
       "   'q8.0': array([14250.12769528, 14236.83815691, 14070.47957964, ...,\n",
       "          14073.02935982, 14132.87831952, 14047.2039866 ]),\n",
       "   'q90.50966799187809': array([14279.18058351, 14237.90522395, 14067.46041717, ...,\n",
       "          14066.90052118, 14129.77852975, 14041.44621584])},\n",
       "  'num_pivots': {'q0.125': array([519, 563, 823, ..., 843, 803, 861]),\n",
       "   'q0.1767766952966369': array([445, 469, 685, ..., 671, 625, 745]),\n",
       "   'q0.25': array([365, 391, 577, ..., 585, 563, 603]),\n",
       "   'q0.3535533905932738': array([297, 317, 501, ..., 491, 471, 517]),\n",
       "   'q0.5': array([259, 277, 411, ..., 423, 389, 423]),\n",
       "   'q0.7071067811865476': array([225, 231, 349, ..., 343, 305, 369]),\n",
       "   'q1.0': array([185, 197, 289, ..., 295, 277, 297]),\n",
       "   'q1.4142135623730951': array([145, 169, 255, ..., 235, 229, 253]),\n",
       "   'q1024.0': array([11, 11, 13, ..., 13,  5, 11]),\n",
       "   'q11.313708498984761': array([53, 59, 85, ..., 85, 75, 97]),\n",
       "   'q128.0': array([17, 23, 25, ..., 29, 23, 27]),\n",
       "   'q1448.1546878700494': array([11, 11, 11, ..., 11,  5, 11]),\n",
       "   'q16.0': array([47, 51, 71, ..., 77, 69, 79]),\n",
       "   'q181.01933598375618': array([15, 15, 23, ..., 23, 17, 23]),\n",
       "   'q2.0': array([119, 141, 207, ..., 203, 197, 217]),\n",
       "   'q2.8284271247461903': array([101, 117, 173, ..., 165, 155, 187]),\n",
       "   'q2048.0': array([ 3,  3, 11, ..., 11,  3, 11]),\n",
       "   'q22.627416997969522': array([39, 39, 61, ..., 63, 53, 59]),\n",
       "   'q256.0': array([13, 15, 21, ..., 21, 17, 21]),\n",
       "   'q2896.309375740099': array([ 3,  3,  9, ..., 11,  3,  5]),\n",
       "   'q32.0': array([33, 33, 51, ..., 57, 45, 53]),\n",
       "   'q362.03867196751236': array([13, 13, 19, ..., 15, 15, 17]),\n",
       "   'q4.0': array([ 79,  97, 149, ..., 145, 141, 151]),\n",
       "   'q4096.0': array([3, 3, 3, ..., 3, 3, 3]),\n",
       "   'q45.254833995939045': array([31, 31, 43, ..., 43, 37, 47]),\n",
       "   'q5.656854249492381': array([ 67,  81, 129, ..., 125, 121, 129]),\n",
       "   'q512.0': array([13, 13, 13, ..., 13, 13, 17]),\n",
       "   'q64.0': array([21, 27, 37, ..., 39, 35, 37]),\n",
       "   'q724.0773439350247': array([11, 13, 13, ..., 13,  9, 13]),\n",
       "   'q8.0': array([ 63,  69,  97, ..., 105, 105, 113]),\n",
       "   'q90.50966799187809': array([19, 23, 33, ..., 35, 25, 31])},\n",
       "  'reward_file': array(['./smoothed_data/swimmer-v3/Rewards_40000_1000_0-smoothed.npy',\n",
       "         './smoothed_data/swimmer-v3/Rewards_40000_1000_7-smoothed.npy',\n",
       "         './smoothed_data/swimmer-v3/Rewards_40000_1000_6-smoothed.npy',\n",
       "         './smoothed_data/swimmer-v3/Rewards_40000_1000_1-smoothed.npy',\n",
       "         './smoothed_data/swimmer-v3/Rewards_40000_1000_8-smoothed.npy',\n",
       "         './smoothed_data/swimmer-v3/Rewards_40000_1000_9-smoothed.npy',\n",
       "         './smoothed_data/swimmer-v3/Rewards_40000_1000_3-smoothed.npy',\n",
       "         './smoothed_data/swimmer-v3/Rewards_40000_1000_4-smoothed.npy',\n",
       "         './smoothed_data/swimmer-v3/Rewards_40000_1000_5-smoothed.npy',\n",
       "         './smoothed_data/swimmer-v3/Rewards_40000_1000_2-smoothed.npy'],\n",
       "        dtype='<U60')},\n",
       " 'hopper-v3': {'approx_integrals': {'q0.125': array([59069.08966207, 59042.75603079, 59067.90372078, ...,\n",
       "          59043.93771151, 59047.61968372, 59060.35914493]),\n",
       "   'q0.1767766952966369': array([59069.09054473, 59042.75743228, 59067.90345551, ...,\n",
       "          59043.93938032, 59047.62073787, 59060.35964247]),\n",
       "   'q0.25': array([59069.08780397, 59042.75722198, 59067.89977566, ...,\n",
       "          59043.9397342 , 59047.62062136, 59060.35830376]),\n",
       "   'q0.3535533905932738': array([59069.08501621, 59042.75222417, 59067.89930692, ...,\n",
       "          59043.9356954 , 59047.61827014, 59060.35697606]),\n",
       "   'q0.5': array([59069.09121968, 59042.75287807, 59067.90572866, ...,\n",
       "          59043.93467462, 59047.61855173, 59060.35918352]),\n",
       "   'q0.7071067811865476': array([59069.09487628, 59042.76338341, 59067.91059706, ...,\n",
       "          59043.946306  , 59047.62733004, 59060.36772652]),\n",
       "   'q1.0': array([59069.08540123, 59042.76297165, 59067.90113848, ...,\n",
       "          59043.94597701, 59047.63137826, 59060.36168514]),\n",
       "   'q1.4142135623730951': array([59069.08992253, 59042.76055906, 59067.90834533, ...,\n",
       "          59043.94359352, 59047.63256759, 59060.36677515]),\n",
       "   'q1024.0': array([59180.48305937, 59160.28824063, 59183.67196796, ...,\n",
       "          59163.29117628, 59176.00208687, 59181.19734942]),\n",
       "   'q11.313708498984761': array([59069.47411989, 59043.10042117, 59068.3064473 , ...,\n",
       "          59044.29530326, 59048.03487203, 59060.78519543]),\n",
       "   'q128.0': array([59065.17017704, 59041.6801146 , 59066.49144899, ...,\n",
       "          59042.64862463, 59046.14299041, 59058.95735617]),\n",
       "   'q1448.1546878700494': array([59169.93622518, 59149.10702945, 59172.98799046, ...,\n",
       "          59152.03000796, 59164.60558188, 59170.23508444]),\n",
       "   'q16.0': array([59069.05660171, 59042.85183803, 59067.88162443, ...,\n",
       "          59044.28841168, 59048.02100235, 59060.72130818]),\n",
       "   'q181.01933598375618': array([59064.54438377, 59038.25313712, 59063.21297915, ...,\n",
       "          59039.12077571, 59042.59249125, 59055.49564627]),\n",
       "   'q2.0': array([59069.08328461, 59042.74234535, 59067.89873957, ...,\n",
       "          59043.91167369, 59047.60592772, 59060.35671073]),\n",
       "   'q2.8284271247461903': array([59069.06708765, 59042.73695901, 59067.87645775, ...,\n",
       "          59043.94243744, 59047.62975719, 59060.36743834]),\n",
       "   'q2048.0': array([59169.93622518, 59149.10702945, 59172.98799046, ...,\n",
       "          59152.03000796, 59164.60558188, 59170.23508444]),\n",
       "   'q22.627416997969522': array([59068.97745412, 59042.64835441, 59067.80604116, ...,\n",
       "          59043.84056496, 59047.56804943, 59060.27377969]),\n",
       "   'q256.0': array([59190.13966051, 59171.36363549, 59193.46007354, ...,\n",
       "          59173.97428193, 59186.57164851, 59191.15757915]),\n",
       "   'q2896.309375740099': array([59169.93622518, 59149.10702945, 59172.98799046, ...,\n",
       "          59152.03000796, 59164.60558188, 59170.23508444]),\n",
       "   'q32.0': array([59069.5065751 , 59043.23105403, 59068.38283324, ...,\n",
       "          59043.90300998, 59048.27113436, 59060.88811929]),\n",
       "   'q362.03867196751236': array([59171.37269578, 59150.58354405, 59174.51286092, ...,\n",
       "          59153.64525568, 59166.40764925, 59172.05976743]),\n",
       "   'q4.0': array([59069.16416001, 59042.84704065, 59067.98496722, ...,\n",
       "          59044.03966438, 59047.63472184, 59060.372095  ]),\n",
       "   'q4096.0': array([54590.49012509, 59088.54731135, 59115.12985636, ...,\n",
       "          59091.00023805, 59102.86649592, 59110.8250335 ]),\n",
       "   'q45.254833995939045': array([59069.63271734, 59043.49004093, 59068.52559839, ...,\n",
       "          59043.9993301 , 59047.83003681, 59060.49825064]),\n",
       "   'q5.656854249492381': array([59069.12936097, 59042.73633437, 59067.95273036, ...,\n",
       "          59043.92841781, 59047.63310393, 59060.37284499]),\n",
       "   'q512.0': array([59180.48305937, 59164.41482059, 59183.67196796, ...,\n",
       "          59167.45617454, 59180.21149017, 59181.19734942]),\n",
       "   'q64.0': array([59066.16519305, 59040.08058237, 59064.82007633, ...,\n",
       "          59041.01265671, 59047.70702171, 59060.36934887]),\n",
       "   'q724.0773439350247': array([59180.48305937, 59160.28824063, 59183.67196796, ...,\n",
       "          59163.29117628, 59176.00208687, 59181.19734942]),\n",
       "   'q8.0': array([59069.37588206, 59043.04688462, 59068.20555051, ...,\n",
       "          59044.23968671, 59047.82698564, 59060.62340156]),\n",
       "   'q90.50966799187809': array([59069.08954849, 59042.01614884, 59068.17102355, ...,\n",
       "          59042.99075908, 59046.43356667, 59059.2585361 ])},\n",
       "  'num_pivots': {'q0.125': array([1221, 1261, 1231, ..., 1265, 1269, 1243]),\n",
       "   'q0.1767766952966369': array([1081, 1095, 1095, ..., 1103, 1105, 1091]),\n",
       "   'q0.25': array([885, 923, 887, ..., 927, 933, 907]),\n",
       "   'q0.3535533905932738': array([755, 779, 761, ..., 785, 789, 775]),\n",
       "   'q0.5': array([613, 631, 617, ..., 635, 637, 629]),\n",
       "   'q0.7071067811865476': array([541, 551, 543, ..., 551, 557, 551]),\n",
       "   'q1.0': array([445, 465, 447, ..., 465, 465, 457]),\n",
       "   'q1.4142135623730951': array([385, 395, 389, ..., 395, 399, 391]),\n",
       "   'q1024.0': array([15, 15, 15, ..., 15, 15, 15]),\n",
       "   'q11.313708498984761': array([139, 141, 139, ..., 141, 143, 139]),\n",
       "   'q128.0': array([37, 39, 39, ..., 39, 39, 39]),\n",
       "   'q1448.1546878700494': array([13, 13, 13, ..., 13, 13, 13]),\n",
       "   'q16.0': array([113, 117, 113, ..., 119, 119, 117]),\n",
       "   'q181.01933598375618': array([35, 35, 35, ..., 35, 35, 35]),\n",
       "   'q2.0': array([305, 321, 305, ..., 319, 325, 313]),\n",
       "   'q2.8284271247461903': array([273, 279, 275, ..., 281, 281, 281]),\n",
       "   'q2048.0': array([13, 13, 13, ..., 13, 13, 13]),\n",
       "   'q22.627416997969522': array([ 99, 101,  99, ..., 101, 101,  99]),\n",
       "   'q256.0': array([25, 25, 25, ..., 25, 25, 25]),\n",
       "   'q2896.309375740099': array([13, 13, 13, ..., 13, 13, 13]),\n",
       "   'q32.0': array([77, 79, 77, ..., 81, 79, 77]),\n",
       "   'q362.03867196751236': array([21, 21, 21, ..., 21, 21, 21]),\n",
       "   'q4.0': array([221, 225, 221, ..., 225, 231, 227]),\n",
       "   'q4096.0': array([ 3, 11, 11, ..., 11, 11, 11]),\n",
       "   'q45.254833995939045': array([67, 69, 67, ..., 71, 71, 71]),\n",
       "   'q5.656854249492381': array([191, 195, 193, ..., 195, 195, 195]),\n",
       "   'q512.0': array([15, 17, 15, ..., 17, 17, 15]),\n",
       "   'q64.0': array([53, 53, 53, ..., 53, 59, 59]),\n",
       "   'q724.0773439350247': array([15, 15, 15, ..., 15, 15, 15]),\n",
       "   'q8.0': array([153, 159, 153, ..., 159, 161, 157]),\n",
       "   'q90.50966799187809': array([45, 49, 47, ..., 49, 49, 49])},\n",
       "  'reward_file': array(['./smoothed_data/hopper-v3/Rewards_50000_1000_9-smoothed.npy',\n",
       "         './smoothed_data/hopper-v3/Rewards_50000_1000_8-smoothed.npy',\n",
       "         './smoothed_data/hopper-v3/Rewards_50000_1000_2-smoothed.npy',\n",
       "         './smoothed_data/hopper-v3/Rewards_50000_1000_5-smoothed.npy',\n",
       "         './smoothed_data/hopper-v3/Rewards_50000_1000_4-smoothed.npy',\n",
       "         './smoothed_data/hopper-v3/Rewards_50000_1000_3-smoothed.npy',\n",
       "         './smoothed_data/hopper-v3/Rewards_50000_1000_1-smoothed.npy',\n",
       "         './smoothed_data/hopper-v3/Rewards_50000_1000_6-smoothed.npy',\n",
       "         './smoothed_data/hopper-v3/Rewards_50000_1000_7-smoothed.npy',\n",
       "         './smoothed_data/hopper-v3/Rewards_50000_1000_0-smoothed.npy'],\n",
       "        dtype='<U59')},\n",
       " 'ant-v3': {'approx_integrals': {'q0.125': array([133672.83956926, 125092.05095262, 123311.74539999, ...,\n",
       "          122339.29063338, 120869.53369802, 118341.85930163]),\n",
       "   'q0.1767766952966369': array([133672.83614393, 125092.05141086, 123311.74147391, ...,\n",
       "          122339.28687075, 120869.53018288, 118341.85469868]),\n",
       "   'q0.25': array([133672.83947577, 125092.05301451, 123311.73988846, ...,\n",
       "          122339.28933038, 120869.53392746, 118341.85650456]),\n",
       "   'q0.3535533905932738': array([133672.84262394, 125092.04598308, 123311.74089687, ...,\n",
       "          122339.29547661, 120869.54623732, 118341.86783925]),\n",
       "   'q0.5': array([133672.84108782, 125092.04202497, 123311.74489733, ...,\n",
       "          122339.29895656, 120869.53818857, 118341.87115513]),\n",
       "   'q0.7071067811865476': array([133672.8267032 , 125092.04414069, 123311.72521603, ...,\n",
       "          122339.2822989 , 120869.51950415, 118341.84524268]),\n",
       "   'q1.0': array([133672.82595198, 125092.04339343, 123311.72809721, ...,\n",
       "          122339.30375724, 120869.53722971, 118341.85591059]),\n",
       "   'q1.4142135623730951': array([133672.84926531, 125092.02040672, 123311.72590531, ...,\n",
       "          122339.32048655, 120869.59783479, 118341.90189452]),\n",
       "   'q1024.0': array([133886.6916376 , 125118.9486105 , 123277.66112974, ...,\n",
       "          122351.02248856, 120892.47921477, 118406.24256261]),\n",
       "   'q11.313708498984761': array([133672.59003592, 125092.01337978, 123311.50385357, ...,\n",
       "          122339.20478945, 120869.52356726, 118341.85937501]),\n",
       "   'q128.0': array([133671.69917884, 125081.8316427 , 123310.90344353, ...,\n",
       "          122340.66577548, 120867.64966502, 118348.72829139]),\n",
       "   'q1448.1546878700494': array([133877.8706225 , 125052.93696659, 123316.13513716, ...,\n",
       "          122427.00856439, 120930.51250813, 118448.25609523]),\n",
       "   'q16.0': array([133672.63687141, 125091.83150195, 123311.41186781, ...,\n",
       "          122339.56012094, 120869.6648334 , 118342.01458045]),\n",
       "   'q181.01933598375618': array([133668.5170636 , 125083.97337333, 123310.21784183, ...,\n",
       "          122334.738629  , 120864.26665501, 118346.39386576]),\n",
       "   'q2.0': array([133672.843271  , 125092.01060587, 123311.74772227, ...,\n",
       "          122339.33373868, 120869.54441293, 118341.9092217 ]),\n",
       "   'q2.8284271247461903': array([133672.8007175 , 125091.99752574, 123311.66549022, ...,\n",
       "          122339.27185783, 120869.48645475, 118341.84195025]),\n",
       "   'q2048.0': array([133835.18435642, 124986.52016752, 123201.52373356, ...,\n",
       "          122427.00856439, 120918.280252  , 118435.78197452]),\n",
       "   'q22.627416997969522': array([133672.52832451, 125091.97304549, 123311.80995997, ...,\n",
       "          122339.4910235 , 120870.38873114, 118342.6527126 ]),\n",
       "   'q256.0': array([133663.59459534, 125083.49338582, 123306.78938705, ...,\n",
       "          122340.75768279, 120866.76025716, 118340.90879898]),\n",
       "   'q2896.309375740099': array([133835.18435642, 124986.52016752, 123139.43675353, ...,\n",
       "          122373.69420797, 120856.57865757, 118374.09968079]),\n",
       "   'q32.0': array([133672.41833458, 125091.80432804, 123311.94975252, ...,\n",
       "          122339.96150955, 120869.17162251, 118342.71578532]),\n",
       "   'q362.03867196751236': array([133664.9027719 , 125073.44262717, 123304.08991719, ...,\n",
       "          122331.72106531, 120878.58656799, 118358.63748003]),\n",
       "   'q4.0': array([133672.84986664, 125092.0505858 , 123311.64271502, ...,\n",
       "          122339.352816  , 120869.55284184, 118341.86844657]),\n",
       "   'q4096.0': array([133835.18435642, 124986.52016752, 123139.43675353, ...,\n",
       "          122586.45294573, 121106.57410161, 118374.09968079]),\n",
       "   'q45.254833995939045': array([133671.30215453, 125091.10500434, 123310.93507523, ...,\n",
       "          122337.50218489, 120868.24303058, 118340.58592758]),\n",
       "   'q5.656854249492381': array([133672.88549899, 125091.92932273, 123311.6577624 , ...,\n",
       "          122339.514027  , 120869.75103858, 118342.05690752]),\n",
       "   'q512.0': array([133668.9142305 , 125071.66989935, 123292.73943825, ...,\n",
       "          122342.38563745, 120862.32455058, 118347.60387782]),\n",
       "   'q64.0': array([133672.76364517, 125092.91206037, 123310.39901648, ...,\n",
       "          122338.54442576, 120869.03685926, 118341.28005934]),\n",
       "   'q724.0773439350247': array([133766.38463903, 125099.19282763, 123284.66208401, ...,\n",
       "          122339.62819151, 120844.25595751, 118336.29917706]),\n",
       "   'q8.0': array([133672.90297211, 125091.93242427, 123311.78963689, ...,\n",
       "          122339.45294095, 120869.64511786, 118342.15515456]),\n",
       "   'q90.50966799187809': array([133671.78093362, 125091.58672067, 123311.28409432, ...,\n",
       "          122340.24467816, 120867.9185957 , 118346.26093229])},\n",
       "  'num_pivots': {'q0.125': array([2311, 1917, 2583, ..., 2531, 2639, 2673]),\n",
       "   'q0.1767766952966369': array([1857, 1701, 2023, ..., 2077, 2179, 2209]),\n",
       "   'q0.25': array([1631, 1423, 1777, ..., 1813, 1881, 1923]),\n",
       "   'q0.3535533905932738': array([1405, 1119, 1565, ..., 1537, 1507, 1595]),\n",
       "   'q0.5': array([1157,  957, 1295, ..., 1267, 1323, 1335]),\n",
       "   'q0.7071067811865476': array([ 933,  855, 1013, ..., 1043, 1083, 1101]),\n",
       "   'q1.0': array([815, 715, 889, ..., 903, 935, 965]),\n",
       "   'q1.4142135623730951': array([701, 563, 791, ..., 767, 751, 797]),\n",
       "   'q1024.0': array([19, 23, 29, ..., 31, 25, 25]),\n",
       "   'q11.313708498984761': array([235, 217, 257, ..., 265, 273, 279]),\n",
       "   'q128.0': array([73, 53, 87, ..., 79, 77, 87]),\n",
       "   'q1448.1546878700494': array([17, 21, 27, ..., 21, 23, 23]),\n",
       "   'q16.0': array([207, 183, 221, ..., 227, 239, 243]),\n",
       "   'q181.01933598375618': array([59, 49, 65, ..., 63, 63, 69]),\n",
       "   'q2.0': array([575, 479, 647, ..., 633, 661, 669]),\n",
       "   'q2.8284271247461903': array([463, 429, 509, ..., 515, 545, 553]),\n",
       "   'q2048.0': array([13, 13, 17, ..., 21, 21, 21]),\n",
       "   'q22.627416997969522': array([179, 141, 191, ..., 193, 187, 205]),\n",
       "   'q256.0': array([53, 43, 57, ..., 57, 57, 63]),\n",
       "   'q2896.309375740099': array([13, 13, 13, ..., 17, 17, 17]),\n",
       "   'q32.0': array([143, 117, 161, ..., 159, 165, 169]),\n",
       "   'q362.03867196751236': array([43, 33, 47, ..., 49, 47, 51]),\n",
       "   'q4.0': array([409, 355, 445, ..., 457, 465, 479]),\n",
       "   'q4096.0': array([13, 13, 13, ..., 15, 15, 17]),\n",
       "   'q45.254833995939045': array([119, 107, 125, ..., 125, 135, 141]),\n",
       "   'q5.656854249492381': array([353, 279, 395, ..., 383, 377, 399]),\n",
       "   'q512.0': array([39, 31, 39, ..., 43, 41, 43]),\n",
       "   'q64.0': array([105,  93, 115, ..., 113, 119, 123]),\n",
       "   'q724.0773439350247': array([25, 27, 31, ..., 35, 37, 37]),\n",
       "   'q8.0': array([291, 243, 323, ..., 321, 331, 333]),\n",
       "   'q90.50966799187809': array([ 87,  73, 103, ...,  99,  87, 101])},\n",
       "  'reward_file': array(['./smoothed_data/ant-v3/Rewards_50000_1000_9-smoothed.npy',\n",
       "         './smoothed_data/ant-v3/Rewards_50000_1000_8-smoothed.npy',\n",
       "         './smoothed_data/ant-v3/Rewards_50000_1000_2-smoothed.npy',\n",
       "         './smoothed_data/ant-v3/Rewards_50000_1000_5-smoothed.npy',\n",
       "         './smoothed_data/ant-v3/Rewards_50000_1000_4-smoothed.npy',\n",
       "         './smoothed_data/ant-v3/Rewards_50000_1000_3-smoothed.npy',\n",
       "         './smoothed_data/ant-v3/Rewards_50000_1000_1-smoothed.npy',\n",
       "         './smoothed_data/ant-v3/Rewards_50000_1000_6-smoothed.npy',\n",
       "         './smoothed_data/ant-v3/Rewards_50000_1000_7-smoothed.npy',\n",
       "         './smoothed_data/ant-v3/Rewards_50000_1000_0-smoothed.npy'],\n",
       "        dtype='<U56')},\n",
       " 'cheetah-v3': {'approx_integrals': {'q0.125': array([268963.73227067, 272968.96438236, 272152.95661795, ...,\n",
       "          270097.49418476, 269184.43418997, 268806.79104743]),\n",
       "   'q0.1767766952966369': array([268963.73372199, 272968.96476493, 272152.95830766, ...,\n",
       "          270097.49568929, 269184.43281021, 268806.79294687]),\n",
       "   'q0.25': array([268963.7357977 , 272968.96695884, 272152.95570329, ...,\n",
       "          270097.49635105, 269184.43121601, 268806.79099966]),\n",
       "   'q0.3535533905932738': array([268963.73746142, 272968.97252258, 272152.94950986, ...,\n",
       "          270097.492984  , 269184.42979853, 268806.78591005]),\n",
       "   'q0.5': array([268963.74550146, 272968.97385118, 272152.95662424, ...,\n",
       "          270097.50314796, 269184.42602828, 268806.79640647]),\n",
       "   'q0.7071067811865476': array([268963.74489929, 272968.97449653, 272152.96431107, ...,\n",
       "          270097.50112386, 269184.43123985, 268806.80140742]),\n",
       "   'q1.0': array([268963.75252002, 272968.9804327 , 272152.95669161, ...,\n",
       "          270097.50370647, 269184.42382412, 268806.79462216]),\n",
       "   'q1.4142135623730951': array([268963.75282289, 272968.99027293, 272152.93690278, ...,\n",
       "          270097.48237887, 269184.41487194, 268806.78363935]),\n",
       "   'q1024.0': array([268952.17052149, 273237.03193776, 272192.6788649 , ...,\n",
       "          270130.14176692, 269211.02504369, 269098.66507762]),\n",
       "   'q11.313708498984761': array([268964.08624582, 272968.91039188, 272153.11133405, ...,\n",
       "          270097.66778831, 269184.23267045, 268807.07783862]),\n",
       "   'q128.0': array([268966.45121683, 272978.29782128, 272156.02414169, ...,\n",
       "          270098.43820276, 269180.06646138, 268809.31424214]),\n",
       "   'q1448.1546878700494': array([268966.54310128, 273255.25128914, 272174.31391786, ...,\n",
       "          270056.24890161, 269193.02314703, 269079.03958383]),\n",
       "   'q16.0': array([268964.32845516, 272969.31462606, 272152.90376643, ...,\n",
       "          270097.73937294, 269184.51754715, 268806.92443732]),\n",
       "   'q181.01933598375618': array([268967.72690437, 272975.35303973, 272157.0162134 , ...,\n",
       "          270094.45887437, 269175.85595685, 268810.0773616 ]),\n",
       "   'q2.0': array([268963.91697432, 272969.00319475, 272152.9628105 , ...,\n",
       "          270097.51751346, 269184.38861991, 268806.83231764]),\n",
       "   'q2.8284271247461903': array([268963.90275968, 272969.03384836, 272152.96797701, ...,\n",
       "          270097.55162894, 269184.37318023, 268806.86298487]),\n",
       "   'q2048.0': array([268968.53484636, 273210.33520058, 272179.99868344, ...,\n",
       "          270456.59778942, 269104.80538224, 269098.60382266]),\n",
       "   'q22.627416997969522': array([268964.52833661, 272969.78312455, 272152.67468013, ...,\n",
       "          270097.14390346, 269184.34424646, 268806.50922143]),\n",
       "   'q256.0': array([268971.47548539, 272974.80417055, 272157.24427211, ...,\n",
       "          270097.54666808, 269176.33297143, 268807.82305385]),\n",
       "   'q2896.309375740099': array([268968.53484636, 273189.15893839, 272179.99868344, ...,\n",
       "          270456.59778942, 268859.18855197, 269082.27974065]),\n",
       "   'q32.0': array([268965.0286661 , 272969.62978491, 272153.51771167, ...,\n",
       "          270097.76314981, 269184.14241623, 268807.69427361]),\n",
       "   'q362.03867196751236': array([268978.60597941, 272979.46684488, 272134.93722131, ...,\n",
       "          270093.50542085, 269171.60306851, 268801.03717571]),\n",
       "   'q4.0': array([268963.93977975, 272969.03387613, 272153.03155163, ...,\n",
       "          270097.55784714, 269184.35118103, 268806.82743906]),\n",
       "   'q4096.0': array([269271.89167913, 273376.28261972, 272035.26229167, ...,\n",
       "          270314.14037752, 268708.976357  , 268922.24416658]),\n",
       "   'q45.254833995939045': array([268965.49982113, 272971.47156778, 272152.93648536, ...,\n",
       "          270099.29695087, 269182.08190614, 268807.78930963]),\n",
       "   'q5.656854249492381': array([268963.97591971, 272969.1416513 , 272152.94509746, ...,\n",
       "          270097.52282789, 269184.3514029 , 268806.76620495]),\n",
       "   'q512.0': array([268982.84703513, 272976.01214778, 272145.64996302, ...,\n",
       "          270104.02812357, 269169.31790156, 268811.23745146]),\n",
       "   'q64.0': array([268963.67442003, 272972.30317816, 272152.70567339, ...,\n",
       "          270099.44284142, 269182.44717458, 268806.93310454]),\n",
       "   'q724.0773439350247': array([268991.50311027, 272989.92737351, 272196.03727079, ...,\n",
       "          270110.83576159, 269214.29189383, 268844.44561827]),\n",
       "   'q8.0': array([268964.08471149, 272969.1858373 , 272153.10868782, ...,\n",
       "          270097.59987569, 269184.27025872, 268806.95427427]),\n",
       "   'q90.50966799187809': array([268963.69097483, 272972.07630172, 272150.57378425, ...,\n",
       "          270094.91538661, 269182.06747497, 268808.78998979])},\n",
       "  'num_pivots': {'q0.125': array([3221, 2903, 3095, ..., 3155, 3013, 3197]),\n",
       "   'q0.1767766952966369': array([2835, 2513, 2685, ..., 2755, 2667, 2763]),\n",
       "   'q0.25': array([2381, 2065, 2297, ..., 2309, 2279, 2361]),\n",
       "   'q0.3535533905932738': array([1859, 1657, 1867, ..., 1857, 1853, 1899]),\n",
       "   'q0.5': array([1601, 1453, 1547, ..., 1575, 1511, 1581]),\n",
       "   'q0.7071067811865476': array([1421, 1259, 1347, ..., 1373, 1333, 1379]),\n",
       "   'q1.0': array([1197, 1037, 1153, ..., 1157, 1137, 1173]),\n",
       "   'q1.4142135623730951': array([935, 831, 933, ..., 931, 917, 949]),\n",
       "   'q1024.0': array([41, 33, 35, ..., 41, 39, 35]),\n",
       "   'q11.313708498984761': array([351, 317, 339, ..., 347, 339, 347]),\n",
       "   'q128.0': array([101,  93,  97, ..., 101,  95, 103]),\n",
       "   'q1448.1546878700494': array([33, 27, 29, ..., 33, 33, 29]),\n",
       "   'q16.0': array([295, 259, 287, ..., 289, 287, 297]),\n",
       "   'q181.01933598375618': array([91, 81, 87, ..., 89, 85, 89]),\n",
       "   'q2.0': array([781, 731, 779, ..., 793, 753, 799]),\n",
       "   'q2.8284271247461903': array([693, 631, 673, ..., 691, 667, 695]),\n",
       "   'q2048.0': array([27, 23, 23, ..., 23, 25, 25]),\n",
       "   'q22.627416997969522': array([233, 213, 235, ..., 235, 233, 241]),\n",
       "   'q256.0': array([77, 65, 73, ..., 73, 73, 73]),\n",
       "   'q2896.309375740099': array([27, 21, 23, ..., 23, 23, 23]),\n",
       "   'q32.0': array([197, 187, 195, ..., 199, 191, 197]),\n",
       "   'q362.03867196751236': array([57, 51, 59, ..., 59, 59, 61]),\n",
       "   'q4.0': array([581, 523, 573, ..., 577, 569, 585]),\n",
       "   'q4096.0': array([19, 17, 19, ..., 19, 19, 19]),\n",
       "   'q45.254833995939045': array([175, 159, 171, ..., 173, 167, 175]),\n",
       "   'q5.656854249492381': array([459, 417, 461, ..., 465, 459, 477]),\n",
       "   'q512.0': array([53, 47, 53, ..., 53, 51, 53]),\n",
       "   'q64.0': array([143, 133, 147, ..., 147, 141, 151]),\n",
       "   'q724.0773439350247': array([45, 41, 37, ..., 45, 41, 45]),\n",
       "   'q8.0': array([395, 369, 385, ..., 395, 377, 403]),\n",
       "   'q90.50966799187809': array([113, 107, 115, ..., 115, 115, 121])},\n",
       "  'reward_file': array(['./smoothed_data/cheetah-v3/Rewards_50000_1000_9-smoothed.npy',\n",
       "         './smoothed_data/cheetah-v3/Rewards_50000_1000_8-smoothed.npy',\n",
       "         './smoothed_data/cheetah-v3/Rewards_50000_1000_2-smoothed.npy',\n",
       "         './smoothed_data/cheetah-v3/Rewards_50000_1000_5-smoothed.npy',\n",
       "         './smoothed_data/cheetah-v3/Rewards_50000_1000_4-smoothed.npy',\n",
       "         './smoothed_data/cheetah-v3/Rewards_50000_1000_3-smoothed.npy',\n",
       "         './smoothed_data/cheetah-v3/Rewards_50000_1000_1-smoothed.npy',\n",
       "         './smoothed_data/cheetah-v3/Rewards_50000_1000_6-smoothed.npy',\n",
       "         './smoothed_data/cheetah-v3/Rewards_50000_1000_7-smoothed.npy',\n",
       "         './smoothed_data/cheetah-v3/Rewards_50000_1000_0-smoothed.npy'],\n",
       "        dtype='<U60')}}"
      ]
     },
     "execution_count": 18,
     "metadata": {},
     "output_type": "execute_result"
    }
   ],
   "source": [
    "agg_results_per_prefix[\"adaptive-smoothed_data\"]"
   ]
  },
  {
   "cell_type": "code",
   "execution_count": 19,
   "metadata": {},
   "outputs": [
    {
     "name": "stdout",
     "output_type": "stream",
     "text": [
      "adaptive-smoothed_data adaptive-smoothed_data hopper-v3\n",
      "adaptive-smoothed_data adaptive-smoothed_data swimmer-v3\n",
      "adaptive adaptive-smoothed_data pusher-v2\n",
      "adaptive-smoothed_data adaptive-smoothed_data cheetah-v3\n",
      "adaptive adaptive-smoothed_data inverted_double_pendulum-v2\n",
      "adaptive-smoothed_data adaptive-smoothed_data ant-v3\n"
     ]
    }
   ],
   "source": [
    "adaptive_prefix = \"adaptive-smoothed_data\"\n",
    "\n",
    "tolerances = np.power(10, np.arange(-2.0, 4.0, 1.0)) * 5\n",
    "samplers_tried = {\n",
    "    \"q{}\".format(tolerance): approx_integrators.AdaptiveQuadratureIntegrator(tolerance=tolerance) for tolerance in tolerances\n",
    "}\n",
    "\n",
    "tau_to_h = {}\n",
    "for env_i, env_name in enumerate(env_names):\n",
    "    traj_len = 40000 if env_name == \"swimmer-v3\" else 50000\n",
    "    prefix = adaptive_prefix.split(\"-\")[0] if env_name in [\"pusher-v2\", \"inverted_double_pendulum-v2\"] else adaptive_prefix\n",
    "    print(prefix, adaptive_prefix, env_name)\n",
    "    env_result = plot_stats[adaptive_prefix.split(\"-\")[0]][env_name]\n",
    "    num_pivots = agg_results_per_prefix[prefix][env_name][\"num_pivots\"]\n",
    "    tau_to_h[env_name] = np.array([\n",
    "        (sampler, math.ceil(np.mean(traj_len / (num_pivots[sampler] - 1)))) for sampler in num_pivots\n",
    "    ])"
   ]
  },
  {
   "cell_type": "code",
   "execution_count": 20,
   "metadata": {},
   "outputs": [],
   "source": [
    "map_env = {\n",
    "    \n",
    "}"
   ]
  },
  {
   "cell_type": "code",
   "execution_count": 37,
   "metadata": {},
   "outputs": [
    {
     "name": "stdout",
     "output_type": "stream",
     "text": [
      "hopper-v3\n",
      "8000\n",
      "[['q0.125' '41']\n",
      " ['q0.1767766952966369' '46']\n",
      " ['q0.25' '56']\n",
      " ['q0.3535533905932738' '65']\n",
      " ['q0.5' '81']\n",
      " ['q0.7071067811865476' '92']\n",
      " ['q1.0' '110']\n",
      " ['q1.4142135623730951' '128']\n",
      " ['q2.0' '160']\n",
      " ['q2.8284271247461903' '180']\n",
      " ['q4.0' '223']\n",
      " ['q5.656854249492381' '260']\n",
      " ['q8.0' '322']\n",
      " ['q11.313708498984761' '361']\n",
      " ['q16.0' '435']\n",
      " ['q22.627416997969522' '509']\n",
      " ['q32.0' '655']\n",
      " ['q45.254833995939045' '733']\n",
      " ['q64.0' '904']\n",
      " ['q90.50966799187809' '1063']\n",
      " ['q128.0' '1331']\n",
      " ['q181.01933598375618' '1506']\n",
      " ['q256.0' '2084']\n",
      " ['q362.03867196751236' '2500']\n",
      " ['q512.0' '3402']\n",
      " ['q1024.0' '3572']\n",
      " ['q724.0773439350247' '3572']\n",
      " ['q1448.1546878700494' '4165']\n",
      " ['q2048.0' '4167']\n",
      " ['q2896.309375740099' '4167']\n",
      " ['q4096.0' '7774']]\n"
     ]
    },
    {
     "data": {
      "application/vnd.jupyter.widget-view+json": {
       "model_id": "839edd442bef4c138ca253ef8358266a",
       "version_major": 2,
       "version_minor": 0
      },
      "text/plain": [
       "  0%|          | 0/6 [00:00<?, ?it/s]"
      ]
     },
     "metadata": {},
     "output_type": "display_data"
    },
    {
     "name": "stdout",
     "output_type": "stream",
     "text": [
      "8000\n",
      "[['u2' '2']\n",
      " ['u3' '3']\n",
      " ['u4' '4']\n",
      " ['u5' '5']\n",
      " ['u6' '6']\n",
      " ['u8' '8']\n",
      " ['u9' '9']\n",
      " ['u11' '11']\n",
      " ['u13' '13']\n",
      " ['u16' '16']\n",
      " ['u19' '19']\n",
      " ['u22' '22']\n",
      " ['u26' '26']\n",
      " ['u32' '32']\n",
      " ['u38' '38']\n",
      " ['u45' '45']\n",
      " ['u53' '53']\n",
      " ['u64' '64']\n",
      " ['u76' '76']\n",
      " ['u90' '90']\n",
      " ['u107' '107']\n",
      " ['u128' '128']\n",
      " ['u152' '152']\n",
      " ['u181' '181']\n",
      " ['u215' '215']\n",
      " ['u256' '256']\n",
      " ['u304' '304']\n",
      " ['u362' '362']\n",
      " ['u430' '430']\n",
      " ['u512' '512']\n",
      " ['u608' '608']\n",
      " ['u724' '724']\n",
      " ['u861' '861']\n",
      " ['u1024' '1024']\n",
      " ['u1217' '1217']\n",
      " ['u1448' '1448']\n",
      " ['u1722' '1722']\n",
      " ['u2048' '2048']\n",
      " ['u2435' '2435']\n",
      " ['u2896' '2896']\n",
      " ['u3444' '3444']]\n"
     ]
    },
    {
     "data": {
      "application/vnd.jupyter.widget-view+json": {
       "model_id": "0a1aa4312ea449acafc496fe594cc184",
       "version_major": 2,
       "version_minor": 0
      },
      "text/plain": [
       "  0%|          | 0/6 [00:00<?, ?it/s]"
      ]
     },
     "metadata": {},
     "output_type": "display_data"
    },
    {
     "name": "stdout",
     "output_type": "stream",
     "text": [
      "swimmer-v3\n",
      "20000\n",
      "[['q0.125' '53']\n",
      " ['q0.1767766952966369' '63']\n",
      " ['q0.25' '74']\n",
      " ['q0.3535533905932738' '88']\n",
      " ['q0.5' '105']\n",
      " ['q0.7071067811865476' '125']\n",
      " ['q1.0' '148']\n",
      " ['q1.4142135623730951' '176']\n",
      " ['q2.0' '212']\n",
      " ['q2.8284271247461903' '253']\n",
      " ['q4.0' '300']\n",
      " ['q5.656854249492381' '357']\n",
      " ['q8.0' '429']\n",
      " ['q11.313708498984761' '510']\n",
      " ['q16.0' '606']\n",
      " ['q22.627416997969522' '723']\n",
      " ['q32.0' '871']\n",
      " ['q45.254833995939045' '1036']\n",
      " ['q64.0' '1231']\n",
      " ['q90.50966799187809' '1482']\n",
      " ['q128.0' '1705']\n",
      " ['q181.01933598375618' '2011']\n",
      " ['q256.0' '2332']\n",
      " ['q362.03867196751236' '2612']\n",
      " ['q512.0' '3001']\n",
      " ['q724.0773439350247' '3643']\n",
      " ['q1024.0' '3923']\n",
      " ['q1448.1546878700494' '4719']\n",
      " ['q2048.0' '7981']\n",
      " ['q2896.309375740099' '15200']\n",
      " ['q4096.0' '19923']]\n"
     ]
    },
    {
     "data": {
      "application/vnd.jupyter.widget-view+json": {
       "model_id": "e005ef9e202a4874a554499d12dba0e2",
       "version_major": 2,
       "version_minor": 0
      },
      "text/plain": [
       "  0%|          | 0/6 [00:00<?, ?it/s]"
      ]
     },
     "metadata": {},
     "output_type": "display_data"
    },
    {
     "name": "stdout",
     "output_type": "stream",
     "text": [
      "20000\n",
      "[['u2' '2']\n",
      " ['u3' '3']\n",
      " ['u4' '4']\n",
      " ['u5' '5']\n",
      " ['u6' '6']\n",
      " ['u8' '8']\n",
      " ['u9' '9']\n",
      " ['u11' '11']\n",
      " ['u13' '13']\n",
      " ['u16' '16']\n",
      " ['u19' '19']\n",
      " ['u22' '22']\n",
      " ['u26' '26']\n",
      " ['u32' '32']\n",
      " ['u38' '38']\n",
      " ['u45' '45']\n",
      " ['u53' '53']\n",
      " ['u64' '64']\n",
      " ['u76' '76']\n",
      " ['u90' '90']\n",
      " ['u107' '107']\n",
      " ['u128' '128']\n",
      " ['u152' '152']\n",
      " ['u181' '181']\n",
      " ['u215' '215']\n",
      " ['u256' '256']\n",
      " ['u304' '304']\n",
      " ['u362' '362']\n",
      " ['u430' '430']\n",
      " ['u512' '512']\n",
      " ['u608' '608']\n",
      " ['u724' '724']\n",
      " ['u861' '861']\n",
      " ['u1024' '1024']\n",
      " ['u1217' '1217']\n",
      " ['u1448' '1448']\n",
      " ['u1722' '1722']\n",
      " ['u2048' '2048']\n",
      " ['u2435' '2435']\n",
      " ['u2896' '2896']\n",
      " ['u3444' '3444']]\n"
     ]
    },
    {
     "data": {
      "application/vnd.jupyter.widget-view+json": {
       "model_id": "f42d8b71feeb40fcaae3d6a6001cdafc",
       "version_major": 2,
       "version_minor": 0
      },
      "text/plain": [
       "  0%|          | 0/6 [00:00<?, ?it/s]"
      ]
     },
     "metadata": {},
     "output_type": "display_data"
    },
    {
     "name": "stdout",
     "output_type": "stream",
     "text": [
      "pusher-v2\n",
      "25000\n",
      "[['q0.125' '46']\n",
      " ['q0.1767766952966369' '53']\n",
      " ['q0.25' '61']\n",
      " ['q0.3535533905932738' '72']\n",
      " ['q0.5' '83']\n",
      " ['q0.7071067811865476' '98']\n",
      " ['q1.0' '116']\n",
      " ['q1.4142135623730951' '137']\n",
      " ['q2.0' '162']\n",
      " ['q2.8284271247461903' '193']\n",
      " ['q4.0' '232']\n",
      " ['q5.656854249492381' '277']\n",
      " ['q8.0' '330']\n",
      " ['q11.313708498984761' '395']\n",
      " ['q16.0' '474']\n",
      " ['q22.627416997969522' '569']\n",
      " ['q32.0' '673']\n",
      " ['q45.254833995939045' '800']\n",
      " ['q64.0' '951']\n",
      " ['q90.50966799187809' '1119']\n",
      " ['q128.0' '1298']\n",
      " ['q181.01933598375618' '1545']\n",
      " ['q256.0' '1794']\n",
      " ['q362.03867196751236' '2037']\n",
      " ['q512.0' '2313']\n",
      " ['q724.0773439350247' '2824']\n",
      " ['q1024.0' '3394']\n",
      " ['q1448.1546878700494' '3868']\n",
      " ['q2048.0' '4102']\n",
      " ['q2896.309375740099' '4194']\n",
      " ['q4096.0' '4510']]\n"
     ]
    },
    {
     "data": {
      "application/vnd.jupyter.widget-view+json": {
       "model_id": "ea1e905ba33345d884b1b0259fa8c6ed",
       "version_major": 2,
       "version_minor": 0
      },
      "text/plain": [
       "  0%|          | 0/6 [00:00<?, ?it/s]"
      ]
     },
     "metadata": {},
     "output_type": "display_data"
    },
    {
     "name": "stdout",
     "output_type": "stream",
     "text": [
      "25000\n",
      "[['u2' '2']\n",
      " ['u3' '3']\n",
      " ['u4' '4']\n",
      " ['u5' '5']\n",
      " ['u6' '6']\n",
      " ['u8' '8']\n",
      " ['u9' '9']\n",
      " ['u11' '11']\n",
      " ['u13' '13']\n",
      " ['u16' '16']\n",
      " ['u19' '19']\n",
      " ['u22' '22']\n",
      " ['u26' '26']\n",
      " ['u32' '32']\n",
      " ['u38' '38']\n",
      " ['u45' '45']\n",
      " ['u53' '53']\n",
      " ['u64' '64']\n",
      " ['u76' '76']\n",
      " ['u90' '90']\n",
      " ['u107' '107']\n",
      " ['u128' '128']\n",
      " ['u152' '152']\n",
      " ['u181' '181']\n",
      " ['u215' '215']\n",
      " ['u256' '256']\n",
      " ['u304' '304']\n",
      " ['u362' '362']\n",
      " ['u430' '430']\n",
      " ['u512' '512']\n",
      " ['u608' '608']\n",
      " ['u724' '724']\n",
      " ['u861' '861']\n",
      " ['u1024' '1024']\n",
      " ['u1217' '1217']\n",
      " ['u1448' '1448']\n",
      " ['u1722' '1722']\n",
      " ['u2048' '2048']\n",
      " ['u2435' '2435']\n",
      " ['u2896' '2896']\n",
      " ['u3444' '3444']]\n"
     ]
    },
    {
     "data": {
      "application/vnd.jupyter.widget-view+json": {
       "model_id": "07bf28f2115243f6808ec1d58613beec",
       "version_major": 2,
       "version_minor": 0
      },
      "text/plain": [
       "  0%|          | 0/6 [00:00<?, ?it/s]"
      ]
     },
     "metadata": {},
     "output_type": "display_data"
    },
    {
     "name": "stdout",
     "output_type": "stream",
     "text": [
      "cheetah-v3\n",
      "25000\n",
      "[['q0.125' '16']\n",
      " ['q0.1767766952966369' '18']\n",
      " ['q0.25' '22']\n",
      " ['q0.3535533905932738' '26']\n",
      " ['q0.5' '31']\n",
      " ['q0.7071067811865476' '36']\n",
      " ['q1.0' '43']\n",
      " ['q1.4142135623730951' '52']\n",
      " ['q2.0' '62']\n",
      " ['q2.8284271247461903' '72']\n",
      " ['q4.0' '85']\n",
      " ['q5.656854249492381' '104']\n",
      " ['q8.0' '124']\n",
      " ['q11.313708498984761' '143']\n",
      " ['q16.0' '170']\n",
      " ['q22.627416997969522' '209']\n",
      " ['q32.0' '249']\n",
      " ['q45.254833995939045' '288']\n",
      " ['q64.0' '339']\n",
      " ['q90.50966799187809' '417']\n",
      " ['q128.0' '496']\n",
      " ['q181.01933598375618' '570']\n",
      " ['q256.0' '678']\n",
      " ['q362.03867196751236' '844']\n",
      " ['q512.0' '986']\n",
      " ['q724.0773439350247' '1155']\n",
      " ['q1024.0' '1309']\n",
      " ['q1448.1546878700494' '1597']\n",
      " ['q2048.0' '1983']\n",
      " ['q2896.309375740099' '2216']\n",
      " ['q4096.0' '2725']]\n"
     ]
    },
    {
     "data": {
      "application/vnd.jupyter.widget-view+json": {
       "model_id": "288ab627651e47a98923c6ab023db73d",
       "version_major": 2,
       "version_minor": 0
      },
      "text/plain": [
       "  0%|          | 0/6 [00:00<?, ?it/s]"
      ]
     },
     "metadata": {},
     "output_type": "display_data"
    },
    {
     "name": "stdout",
     "output_type": "stream",
     "text": [
      "25000\n",
      "[['u2' '2']\n",
      " ['u3' '3']\n",
      " ['u4' '4']\n",
      " ['u5' '5']\n",
      " ['u6' '6']\n",
      " ['u8' '8']\n",
      " ['u9' '9']\n",
      " ['u11' '11']\n",
      " ['u13' '13']\n",
      " ['u16' '16']\n",
      " ['u19' '19']\n",
      " ['u22' '22']\n",
      " ['u26' '26']\n",
      " ['u32' '32']\n",
      " ['u38' '38']\n",
      " ['u45' '45']\n",
      " ['u53' '53']\n",
      " ['u64' '64']\n",
      " ['u76' '76']\n",
      " ['u90' '90']\n",
      " ['u107' '107']\n",
      " ['u128' '128']\n",
      " ['u152' '152']\n",
      " ['u181' '181']\n",
      " ['u215' '215']\n",
      " ['u256' '256']\n",
      " ['u304' '304']\n",
      " ['u362' '362']\n",
      " ['u430' '430']\n",
      " ['u512' '512']\n",
      " ['u608' '608']\n",
      " ['u724' '724']\n",
      " ['u861' '861']\n",
      " ['u1024' '1024']\n",
      " ['u1217' '1217']\n",
      " ['u1448' '1448']\n",
      " ['u1722' '1722']\n",
      " ['u2048' '2048']\n",
      " ['u2435' '2435']\n",
      " ['u2896' '2896']\n",
      " ['u3444' '3444']]\n"
     ]
    },
    {
     "data": {
      "application/vnd.jupyter.widget-view+json": {
       "model_id": "595eec20e0414f6cbc7e30eec1edac58",
       "version_major": 2,
       "version_minor": 0
      },
      "text/plain": [
       "  0%|          | 0/6 [00:00<?, ?it/s]"
      ]
     },
     "metadata": {},
     "output_type": "display_data"
    },
    {
     "name": "stdout",
     "output_type": "stream",
     "text": [
      "inverted_double_pendulum-v2\n",
      "25000\n",
      "[['q0.125' '241']\n",
      " ['q0.1767766952966369' '296']\n",
      " ['q0.25' '375']\n",
      " ['q0.3535533905932738' '477']\n",
      " ['q0.5' '597']\n",
      " ['q0.7071067811865476' '749']\n",
      " ['q1.0' '948']\n",
      " ['q1.4142135623730951' '1186']\n",
      " ['q2.0' '1545']\n",
      " ['q2.8284271247461903' '1986']\n",
      " ['q4.0' '2572']\n",
      " ['q5.656854249492381' '3276']\n",
      " ['q8.0' '4310']\n",
      " ['q11.313708498984761' '5481']\n",
      " ['q16.0' '7042']\n",
      " ['q22.627416997969522' '9106']\n",
      " ['q32.0' '11915']\n",
      " ['q45.254833995939045' '14750']\n",
      " ['q64.0' '17520']\n",
      " ['q90.50966799187809' '20022']\n",
      " ['q128.0' '22140']\n",
      " ['q181.01933598375618' '23780']\n",
      " ['q256.0' '24833']\n",
      " ['q362.03867196751236' '25000']\n",
      " ['q2048.0' '25000']\n",
      " ['q4096.0' '25000']\n",
      " ['q1024.0' '25000']\n",
      " ['q512.0' '25000']\n",
      " ['q1448.1546878700494' '25000']\n",
      " ['q724.0773439350247' '25000']\n",
      " ['q2896.309375740099' '25000']]\n"
     ]
    },
    {
     "data": {
      "application/vnd.jupyter.widget-view+json": {
       "model_id": "f7fef1c16f2b4493b9ecf2fd32544c95",
       "version_major": 2,
       "version_minor": 0
      },
      "text/plain": [
       "  0%|          | 0/6 [00:00<?, ?it/s]"
      ]
     },
     "metadata": {},
     "output_type": "display_data"
    },
    {
     "name": "stdout",
     "output_type": "stream",
     "text": [
      "25000\n",
      "[['u2' '2']\n",
      " ['u3' '3']\n",
      " ['u4' '4']\n",
      " ['u5' '5']\n",
      " ['u6' '6']\n",
      " ['u8' '8']\n",
      " ['u9' '9']\n",
      " ['u11' '11']\n",
      " ['u13' '13']\n",
      " ['u16' '16']\n",
      " ['u19' '19']\n",
      " ['u22' '22']\n",
      " ['u26' '26']\n",
      " ['u32' '32']\n",
      " ['u38' '38']\n",
      " ['u45' '45']\n",
      " ['u53' '53']\n",
      " ['u64' '64']\n",
      " ['u76' '76']\n",
      " ['u90' '90']\n",
      " ['u107' '107']\n",
      " ['u128' '128']\n",
      " ['u152' '152']\n",
      " ['u181' '181']\n",
      " ['u215' '215']\n",
      " ['u256' '256']\n",
      " ['u304' '304']\n",
      " ['u362' '362']\n",
      " ['u430' '430']\n",
      " ['u512' '512']\n",
      " ['u608' '608']\n",
      " ['u724' '724']\n",
      " ['u861' '861']\n",
      " ['u1024' '1024']\n",
      " ['u1217' '1217']\n",
      " ['u1448' '1448']\n",
      " ['u1722' '1722']\n",
      " ['u2048' '2048']\n",
      " ['u2435' '2435']\n",
      " ['u2896' '2896']\n",
      " ['u3444' '3444']]\n"
     ]
    },
    {
     "data": {
      "application/vnd.jupyter.widget-view+json": {
       "model_id": "8932032f0d0d43979cc717df7209de44",
       "version_major": 2,
       "version_minor": 0
      },
      "text/plain": [
       "  0%|          | 0/6 [00:00<?, ?it/s]"
      ]
     },
     "metadata": {},
     "output_type": "display_data"
    },
    {
     "name": "stdout",
     "output_type": "stream",
     "text": [
      "ant-v3\n",
      "25000\n",
      "[['q0.125' '25']\n",
      " ['q0.1767766952966369' '30']\n",
      " ['q0.25' '35']\n",
      " ['q0.3535533905932738' '44']\n",
      " ['q0.5' '52']\n",
      " ['q0.7071067811865476' '61']\n",
      " ['q1.0' '72']\n",
      " ['q1.4142135623730951' '88']\n",
      " ['q2.0' '104']\n",
      " ['q2.8284271247461903' '122']\n",
      " ['q4.0' '144']\n",
      " ['q5.656854249492381' '173']\n",
      " ['q8.0' '205']\n",
      " ['q11.313708498984761' '242']\n",
      " ['q16.0' '286']\n",
      " ['q22.627416997969522' '339']\n",
      " ['q32.0' '404']\n",
      " ['q45.254833995939045' '487']\n",
      " ['q64.0' '581']\n",
      " ['q90.50966799187809' '694']\n",
      " ['q128.0' '840']\n",
      " ['q181.01933598375618' '998']\n",
      " ['q256.0' '1196']\n",
      " ['q362.03867196751236' '1451']\n",
      " ['q512.0' '1748']\n",
      " ['q724.0773439350247' '2103']\n",
      " ['q1024.0' '2534']\n",
      " ['q1448.1546878700494' '3087']\n",
      " ['q2048.0' '3722']\n",
      " ['q2896.309375740099' '4431']\n",
      " ['q4096.0' '5158']]\n"
     ]
    },
    {
     "data": {
      "application/vnd.jupyter.widget-view+json": {
       "model_id": "2a3231f7b5ed48dda22f44d746b3764d",
       "version_major": 2,
       "version_minor": 0
      },
      "text/plain": [
       "  0%|          | 0/6 [00:00<?, ?it/s]"
      ]
     },
     "metadata": {},
     "output_type": "display_data"
    },
    {
     "name": "stdout",
     "output_type": "stream",
     "text": [
      "25000\n",
      "[['u2' '2']\n",
      " ['u3' '3']\n",
      " ['u4' '4']\n",
      " ['u5' '5']\n",
      " ['u6' '6']\n",
      " ['u8' '8']\n",
      " ['u9' '9']\n",
      " ['u11' '11']\n",
      " ['u13' '13']\n",
      " ['u16' '16']\n",
      " ['u19' '19']\n",
      " ['u22' '22']\n",
      " ['u26' '26']\n",
      " ['u32' '32']\n",
      " ['u38' '38']\n",
      " ['u45' '45']\n",
      " ['u53' '53']\n",
      " ['u64' '64']\n",
      " ['u76' '76']\n",
      " ['u90' '90']\n",
      " ['u107' '107']\n",
      " ['u128' '128']\n",
      " ['u152' '152']\n",
      " ['u181' '181']\n",
      " ['u215' '215']\n",
      " ['u256' '256']\n",
      " ['u304' '304']\n",
      " ['u362' '362']\n",
      " ['u430' '430']\n",
      " ['u512' '512']\n",
      " ['u608' '608']\n",
      " ['u724' '724']\n",
      " ['u861' '861']\n",
      " ['u1024' '1024']\n",
      " ['u1217' '1217']\n",
      " ['u1448' '1448']\n",
      " ['u1722' '1722']\n",
      " ['u2048' '2048']\n",
      " ['u2435' '2435']\n",
      " ['u2896' '2896']\n",
      " ['u3444' '3444']]\n"
     ]
    },
    {
     "data": {
      "application/vnd.jupyter.widget-view+json": {
       "model_id": "ef356728626a487d80d790135e333738",
       "version_major": 2,
       "version_minor": 0
      },
      "text/plain": [
       "  0%|          | 0/6 [00:00<?, ?it/s]"
      ]
     },
     "metadata": {},
     "output_type": "display_data"
    },
    {
     "data": {
      "image/png": "[encoded data removed]",
      "text/plain": [
       "<Figure size 1037.78x427.587 with 6 Axes>"
      ]
     },
     "metadata": {},
     "output_type": "display_data"
    }
   ],
   "source": [
    "doc_width_pt = 750.0\n",
    "ncols = 3\n",
    "nrows = len(env_names) // ncols\n",
    "# fig, axes = plt.subplots(nrows=len(env_names) // ncols, ncols=ncols, figsize=(15, 8), layout=\"constrained\")\n",
    "fig, axes = plt.subplots(nrows=nrows, ncols=ncols, figsize=set_size(doc_width_pt, 1.0, (nrows, ncols)), layout=\"constrained\")\n",
    "\n",
    "for env_i, env_name in enumerate(env_names):\n",
    "    print(env_name)\n",
    "    min_spacing = np.inf\n",
    "    max_err = 0.0\n",
    "    for sampler_type_i, prefix in enumerate([\"adaptive\", \"uniform\"]):\n",
    "    # for prefix in [\"adaptive\"]:\n",
    "        if prefix.startswith(\"uniform\"):\n",
    "            spacing_keys = np.array(list(samplers_per_prefix[prefix].keys()))\n",
    "            # spacing_keys = np.array(list(samplers_per_prefix[\"{}-smoothed_data\".format(prefix)].keys()))\n",
    "            spacing = np.array([int(key[1:]) for key in spacing_keys])\n",
    "            sorted_idxes = np.argsort(spacing)\n",
    "            sorted_spacing = spacing[sorted_idxes]\n",
    "            sorted_keys = [\"u{}\".format(item) for item in sorted_spacing]\n",
    "        elif prefix.startswith(\"adaptive\"):\n",
    "            sorted_idxes = np.argsort(tau_to_h[env_name][:, 1].astype(int))\n",
    "            sorted_spacing = tau_to_h[env_name][:, 1][sorted_idxes].astype(int)\n",
    "            sorted_keys = tau_to_h[env_name][:, 0][sorted_idxes]\n",
    "        else:\n",
    "            raise NotImplementedError\n",
    "\n",
    "        env_result = plot_stats[prefix][env_name]\n",
    "        ax = axes[env_i // ncols, env_i % ncols]\n",
    "\n",
    "        base_budget, multipliers = budgets_to_check_per_env[env_name]\n",
    "        print(base_budget)\n",
    "        print(np.vstack((sorted_keys, sorted_spacing)).T)\n",
    "        if sorted_spacing[-1] < min_spacing:\n",
    "            min_spacing = sorted_spacing[-1]\n",
    "\n",
    "        for multiplier in tqdm(multipliers):\n",
    "            idx = int(base_budget * multiplier)\n",
    "            y_means = []\n",
    "            y_stderrs = []\n",
    "            for s in sorted_keys:\n",
    "                y_means.append(np.nanmean(env_result[s][:, idx]))\n",
    "                y_stderrs.append(np.nanstd(env_result[s][:, idx]) / np.sqrt(num_seeds))\n",
    "            # y_means = np.log2(np.array(y_means))\n",
    "            # y_stderrs = np.log2(np.array(y_stderrs))\n",
    "                \n",
    "            y_means = np.array(y_means)\n",
    "            y_stderrs = np.array(y_stderrs)\n",
    "\n",
    "            ax.plot(\n",
    "                sorted_spacing,\n",
    "                y_means,\n",
    "                label=\"$B_0 \\\\times {}$\".format(multiplier) if env_i == 0 and sampler_type_i == 0 else \"\",\n",
    "                linestyle=\"-\" if prefix.startswith(\"uniform\") else \"--\"\n",
    "            )\n",
    "            ax.fill_between(\n",
    "                sorted_spacing,\n",
    "                (y_means - y_stderrs),\n",
    "                (y_means + y_stderrs),\n",
    "                alpha=0.3\n",
    "            )\n",
    "\n",
    "            if prefix.startswith(\"uniform\") and max_err < np.max(y_means):\n",
    "                max_err = np.max(y_means)\n",
    "        ax.set_title(\"{}\".format(env_name))\n",
    "        ax.set_xlim(-10, min_spacing)\n",
    "        ax.set_ylim(-1, max_err + 1)\n",
    "\n",
    "fig.supylabel(\"$| V^\\\\pi - \\\\hat{V} |$\")\n",
    "fig.supxlabel(\"Discretization $h$\")\n",
    "\n",
    "fig.legend(\n",
    "    bbox_to_anchor=(0.0, 1.0, 1.0, 0.0),\n",
    "    loc=\"lower center\",\n",
    "    ncols=6,\n",
    "    borderaxespad=0.0,\n",
    "    frameon=True,\n",
    "    fontsize=\"10\",\n",
    ")\n",
    "# plt.show()\n",
    "plt.savefig(\"agg_res.pdf\", dpi=600, format=\"pdf\", bbox_inches=\"tight\")"
   ]
  },
  {
   "cell_type": "code",
   "execution_count": null,
   "metadata": {},
   "outputs": [],
   "source": []
  },
  {
   "cell_type": "code",
   "execution_count": null,
   "metadata": {},
   "outputs": [],
   "source": []
  },
  {
   "cell_type": "code",
   "execution_count": null,
   "metadata": {},
   "outputs": [],
   "source": [
    "# data = np.load(\"./data/inverted_double_pendulum-v2/Rewards_50000_1000_0.npy\")\n",
    "# data = np.load(\"./data/ant-v3/Rewards_50000_1000_0.npy\")\n",
    "# data = np.load(\"./data/hopper-v3/Rewards_50000_1000_0.npy\")\n",
    "# data = np.load(\"./data/cheetah-v3/Rewards_50000_1000_0.npy\")\n",
    "# data = np.load(\"./data/pusher-v2/Rewards_50000_1000_0.npy\")\n",
    "data = np.load(\"./data/swimmer-v3/Rewards_40000_1000_0.npy\")"
   ]
  },
  {
   "cell_type": "code",
   "execution_count": null,
   "metadata": {},
   "outputs": [],
   "source": [
    "mean = np.mean(data, axis=0)\n",
    "std = np.std(data, axis=0)\n",
    "x_range = np.arange(data.shape[1])\n",
    "plt.plot(x_range, mean)\n",
    "# plt.fill_between(x_range, mean - std, mean + std, alpha=0.1)\n",
    "# plt.ylim(9.358, 9.362)\n",
    "plt.show()\n",
    "print(np.mean(np.sum(data, axis=1)))"
   ]
  },
  {
   "cell_type": "code",
   "execution_count": null,
   "metadata": {},
   "outputs": [],
   "source": [
    "agg_results_per_prefix[\"adaptive\"][\"swimmer-v3\"][\"num_pivots\"]"
   ]
  },
  {
   "cell_type": "code",
   "execution_count": null,
   "metadata": {},
   "outputs": [],
   "source": [
    "agg_results_per_prefix[\"adaptive\"][\"swimmer-v3\"][\"reward_file\"]"
   ]
  },
  {
   "cell_type": "code",
   "execution_count": null,
   "metadata": {},
   "outputs": [],
   "source": [
    "data = np.load(\"./{}/ant-v3/Rewards_50000_1000_8-smoothed.npy\".format(data_dir))"
   ]
  },
  {
   "cell_type": "code",
   "execution_count": null,
   "metadata": {},
   "outputs": [],
   "source": [
    "ncols = 4\n",
    "fig, axes = plt.subplots(nrows=5, ncols=ncols, figsize=(25, 15), layout=\"constrained\")\n",
    "\n",
    "for traj_i in range(20):\n",
    "    ax = axes[traj_i // ncols, traj_i % ncols]\n",
    "    ax.plot(data.T[traj_i])\n",
    "plt.show()"
   ]
  },
  {
   "cell_type": "code",
   "execution_count": null,
   "metadata": {},
   "outputs": [],
   "source": [
    "np.sum(data.T[0])"
   ]
  },
  {
   "cell_type": "code",
   "execution_count": null,
   "metadata": {},
   "outputs": [],
   "source": []
  }
 ],
 "metadata": {
  "kernelspec": {
   "display_name": "adaptive_time",
   "language": "python",
   "name": "python3"
  },
  "language_info": {
   "codemirror_mode": {
    "name": "ipython",
    "version": 3
   },
   "file_extension": ".py",
   "mimetype": "text/x-python",
   "name": "python",
   "nbconvert_exporter": "python",
   "pygments_lexer": "ipython3",
   "version": "3.10.13"
  }
 },
 "nbformat": 4,
 "nbformat_minor": 2
}
