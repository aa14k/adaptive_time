{
 "cells": [
  {
   "cell_type": "code",
   "execution_count": 1,
   "metadata": {},
   "outputs": [
    {
     "name": "stderr",
     "output_type": "stream",
     "text": [
      "/Users/szepi1991/Code/adaptive_time/.venv/lib/python3.11/site-packages/gymnasium/envs/registration.py:694: UserWarning: \u001b[33mWARN: Overriding environment CartPole-OURS-v2 already in registry.\u001b[0m\n",
      "  logger.warn(f\"Overriding environment {new_spec.id} already in registry.\")\n"
     ]
    }
   ],
   "source": [
    "import math\n",
    "from importlib import reload\n",
    "import os\n",
    "\n",
    "import gc\n",
    "import matplotlib.pyplot as plt\n",
    "import pickle\n",
    "import numpy as np\n",
    "\n",
    "from tqdm.notebook import tqdm\n",
    "from tqdm import trange\n",
    "\n",
    "from adaptive_time import plot_utils\n",
    "from adaptive_time import utils\n",
    "from adaptive_time import run_lib\n",
    "from adaptive_time.environments import cartpole2\n",
    "from adaptive_time import value_est\n",
    "from adaptive_time.value_est import approx_integrators\n",
    "\n",
    "from pprint import pprint\n",
    "\n",
    "\n",
    "from adaptive_time import mc2\n",
    "import adaptive_time.utils\n",
    "import gymnasium as gym\n",
    "import random\n",
    "\n",
    "approx_integrators = reload(approx_integrators)\n",
    "run_lib = reload(run_lib)\n",
    "cartpole2 = reload(cartpole2)\n",
    "value_est = reload(value_est)\n",
    "plot_utils = reload(plot_utils)\n",
    "utils = reload(utils)\n",
    "\n"
   ]
  },
  {
   "cell_type": "code",
   "execution_count": 2,
   "metadata": {},
   "outputs": [
    {
     "name": "stdout",
     "output_type": "stream",
     "text": [
      "Changed working directory to /Users/szepi1991/Code/adaptive_time\n"
     ]
    },
    {
     "data": {
      "text/plain": [
       "'/Users/szepi1991/Code/adaptive_time'"
      ]
     },
     "execution_count": 2,
     "metadata": {},
     "output_type": "execute_result"
    }
   ],
   "source": [
    "utils.set_directory_in_project()"
   ]
  },
  {
   "cell_type": "markdown",
   "metadata": {},
   "source": [
    "## Data Generation"
   ]
  },
  {
   "cell_type": "code",
   "execution_count": 3,
   "metadata": {},
   "outputs": [],
   "source": [
    "\n",
    "SHOULD_TERMINATE = True\n",
    "discrete_reward = True\n",
    "GRAB_DETAILED_DATA = False\n"
   ]
  },
  {
   "cell_type": "code",
   "execution_count": 4,
   "metadata": {},
   "outputs": [],
   "source": [
    "seed = 13\n",
    "dt_scaler = 20.\n",
    "new_dt = 0.02 / dt_scaler\n",
    "STEPS_MAX = 2000\n",
    "STEPS_BREAK_FROM = 1200\n",
    "# STEPS_BREAK_FROM = 900\n",
    "\n",
    "# STEPS_MAX = 20_000\n",
    "# STEPS_BREAK_FROM = 9_000\n",
    "\n",
    "# NUM_TRAJS = 2\n",
    "NUM_TRAJS = 100\n"
   ]
  },
  {
   "cell_type": "code",
   "execution_count": 5,
   "metadata": {},
   "outputs": [],
   "source": [
    "\n",
    "if discrete_reward:\n",
    "    reward_type = \"discrete\"\n",
    "else:\n",
    "    reward_type = \"continuous\"\n",
    "\n",
    "\n",
    "BASE_DIR = \"classic_control_data\"\n",
    "data_descr = f\"cartpole2_rew_{reward_type}_term{SHOULD_TERMINATE}\"\n",
    "traj_data_file = f\"{data_descr}.pkl\"\n",
    "\n"
   ]
  },
  {
   "cell_type": "code",
   "execution_count": 6,
   "metadata": {},
   "outputs": [
    {
     "name": "stdout",
     "output_type": "stream",
     "text": [
      "Changed working directory to /Users/szepi1991/Code/adaptive_time\n"
     ]
    },
    {
     "data": {
      "text/plain": [
       "'/Users/szepi1991/Code/adaptive_time'"
      ]
     },
     "execution_count": 6,
     "metadata": {},
     "output_type": "execute_result"
    }
   ],
   "source": [
    "utils.set_directory_in_project()\n",
    "# traj_data_path = os.path.join(BASE_DIR, traj_data_file)\n"
   ]
  },
  {
   "cell_type": "code",
   "execution_count": 7,
   "metadata": {},
   "outputs": [],
   "source": [
    "\n",
    "_NUM_ACTIONS = 2\n",
    "START_STATE = (0.0, 0.0, 0.0, 0.0)\n",
    "\n",
    "class TrajGen:\n",
    "\n",
    "    def __init__(self, epsilon, detailed_data=False) -> None:\n",
    "        self.env = gym.make(\n",
    "            'CartPole-OURS-v2',\n",
    "            discrete_reward=discrete_reward,\n",
    "            should_terminate=SHOULD_TERMINATE,\n",
    "            step_time=new_dt)\n",
    "\n",
    "        self.phi = run_lib.make_features()\n",
    "        self._epsilon = epsilon\n",
    "        self._detailed_data = detailed_data\n",
    "\n",
    "        utils.set_directory_in_project()\n",
    "        self.weights_good_policy = np.load(\"cartpole_weights_20240227-102913_ret92516.44719752521.npy\")\n",
    "        # self.weights_good_policy = np.load(\"cartpole_weights_20240227-102913_ret50756.37604280466.npy\")\n",
    "\n",
    "    def policy(self, state, num_step, weights, epsilon):\n",
    "        if num_step >= STEPS_BREAK_FROM:\n",
    "            # if random.random() < 0.95:  # spread of 60 at 100 trajs\n",
    "            if random.random() < 0.9:\n",
    "            # if random.random() < 0.55:  # a nice spread\n",
    "                return 0   # Alway push in one direction.\n",
    "\n",
    "        if random.random() < epsilon:\n",
    "            action = self.env.action_space.sample()\n",
    "            return action\n",
    "        \n",
    "        # Otherwise calculate the best action.\n",
    "        x = self.phi.get_fourier_feature(state)\n",
    "        qs = np.zeros(_NUM_ACTIONS)\n",
    "        for action in range(_NUM_ACTIONS):\n",
    "            x_sa = mc2.phi_sa(x, action)\n",
    "            qs[action] = np.inner(x_sa.flatten(), weights)\n",
    "        # adaptive_time.utils.softmax(qs, 1)\n",
    "        \n",
    "        return np.argmax(qs)\n",
    "        # return adaptive_time.utils.argmax(qs)\n",
    "        \n",
    "    def generate_trajectory(self, num_trajs):\n",
    "        total_rewards = []\n",
    "        reward_sequences = []\n",
    "        traj_lengths = []\n",
    "        angles = []\n",
    "        xs = []\n",
    "        d_angles = []\n",
    "        actions = []\n",
    "        dxs = []\n",
    "        for idx in tqdm(range(num_trajs)):\n",
    "            # Tuple[float, float, float, float]\n",
    "            trajectory, early_term = value_est.generate_trajectory(\n",
    "                    self.env, start_state=START_STATE,\n",
    "                    policy=lambda st, sn: self.policy(st, sn, self.weights_good_policy, self._epsilon),\n",
    "                    # policy=policy,\n",
    "                    termination_prob=0.0, max_steps=STEPS_MAX)\n",
    "\n",
    "            traj_lengths.append(len(trajectory))\n",
    "            rewards = [r for _, _, r, _ in trajectory]\n",
    "            if self._detailed_data:\n",
    "                actions.append([a for _, a, _, _ in trajectory])\n",
    "                xs.append([s[0] for s, _, _, _ in trajectory])\n",
    "                angles.append([s[2] for s, _, _, _ in trajectory])\n",
    "                d_angles.append([s[3] for s, _, _, _ in trajectory])\n",
    "                dxs.append([s[1] for s, _, _, _ in trajectory])\n",
    "            reward_sequences.append(rewards)\n",
    "            total_rewards.append(sum(rewards))\n",
    "\n",
    "        total_rewards = np.array(total_rewards)\n",
    "        # Reward sequences may be different lengths in the terminating\n",
    "        # case, so we can't make a 2D array.\n",
    "        if not SHOULD_TERMINATE:\n",
    "            reward_sequences = np.array(reward_sequences)\n",
    "            traj_lengths = np.array(traj_lengths)\n",
    "            angles = np.array(angles)\n",
    "            xs = np.array(xs)\n",
    "            d_angles = np.array(d_angles)\n",
    "            actions = np.array(actions)\n",
    "            dxs = np.array(dxs)\n",
    "\n",
    "        if self._detailed_data:\n",
    "            details = (angles, xs, d_angles, actions, dxs)\n",
    "        else:\n",
    "            details = None\n",
    "        all_traj_data = (\n",
    "            total_rewards, reward_sequences, traj_lengths,\n",
    "            details\n",
    "        )\n",
    "        # with open(traj_data_path, \"wb\") as f:\n",
    "        #     pickle.dump(all_traj_data, f)\n",
    "        # print(\"Saved data to\", traj_data_path)\n",
    "\n",
    "        # print(self.env.tau)\n",
    "\n",
    "        # print(\"total_rewards for each traj:\", total_rewards)\n",
    "        # if hasattr(reward_sequences, \"shape\"):\n",
    "        #     print(\"all rewards shape if array:\", reward_sequences.shape)\n",
    "        # num_trajs = len(total_rewards)\n",
    "        return all_traj_data"
   ]
  },
  {
   "cell_type": "code",
   "execution_count": 8,
   "metadata": {},
   "outputs": [
    {
     "name": "stdout",
     "output_type": "stream",
     "text": [
      "Changed working directory to /Users/szepi1991/Code/adaptive_time\n"
     ]
    },
    {
     "data": {
      "application/vnd.jupyter.widget-view+json": {
       "model_id": "f0d30cfb16b4476c873a0d3b7467a7db",
       "version_major": 2,
       "version_minor": 0
      },
      "text/plain": [
       "  0%|          | 0/100 [00:00<?, ?it/s]"
      ]
     },
     "metadata": {},
     "output_type": "display_data"
    },
    {
     "name": "stderr",
     "output_type": "stream",
     "text": [
      "/Users/szepi1991/Code/adaptive_time/.venv/lib/python3.11/site-packages/gymnasium/utils/passive_env_checker.py:181: DeprecationWarning: \u001b[33mWARN: Current gymnasium version requires that `Env.reset` can be passed `options` to allow the environment initialisation to be passed additional information.\u001b[0m\n",
      "  logger.deprecation(\n",
      "/Users/szepi1991/Code/adaptive_time/.venv/lib/python3.11/site-packages/gymnasium/spaces/box.py:240: UserWarning: \u001b[33mWARN: Casting input x to numpy array.\u001b[0m\n",
      "  gym.logger.warn(\"Casting input x to numpy array.\")\n"
     ]
    },
    {
     "name": "stdout",
     "output_type": "stream",
     "text": [
      "[1371. 1387. 1369. 1364. 1373. 1376. 1374. 1376. 1372. 1367. 1374. 1405.\n",
      " 1382. 1365. 1373. 1394. 1370. 1365. 1376. 1374. 1367. 1374. 1382. 1374.\n",
      " 1372. 1372. 1376. 1370. 1376. 1374. 1361. 1379. 1384. 1365. 1371. 1365.\n",
      " 1373. 1374. 1378. 1369. 1367. 1368. 1370. 1368. 1372. 1396. 1365. 1374.\n",
      " 1378. 1387. 1360. 1371. 1356. 1378. 1390. 1370. 1363. 1366. 1367. 1373.\n",
      " 1367. 1365. 1372. 1368. 1370. 1351. 1373. 1376. 1379. 1365. 1382. 1373.\n",
      " 1375. 1368. 1369. 1377. 1367. 1381. 1373. 1367. 1366. 1372. 1372. 1367.\n",
      " 1367. 1388. 1361. 1375. 1372. 1372. 1373. 1370. 1366. 1369. 1383. 1370.\n",
      " 1376. 1380. 1381. 1369.]\n"
     ]
    }
   ],
   "source": [
    "traj_gen = TrajGen(0.7, detailed_data=False)\n",
    "run_lib.reset_randomness(seed, traj_gen.env)\n",
    "all_traj_data = traj_gen.generate_trajectory(100)\n",
    "total_rewards, reward_sequences, traj_lengths, details = all_traj_data\n",
    "\n",
    "print(total_rewards)\n"
   ]
  },
  {
   "cell_type": "code",
   "execution_count": 9,
   "metadata": {},
   "outputs": [
    {
     "data": {
      "text/plain": [
       "(array([ 2.,  3., 21., 28., 26., 12.,  4.,  2.,  1.,  1.]),\n",
       " array([1351. , 1356.4, 1361.8, 1367.2, 1372.6, 1378. , 1383.4, 1388.8,\n",
       "        1394.2, 1399.6, 1405. ]),\n",
       " <BarContainer object of 10 artists>)"
      ]
     },
     "execution_count": 9,
     "metadata": {},
     "output_type": "execute_result"
    },
    {
     "data": {
      "image/png": "[encoded data removed]",
      "text/plain": [
       "<Figure size 640x480 with 1 Axes>"
      ]
     },
     "metadata": {},
     "output_type": "display_data"
    }
   ],
   "source": [
    "plt.hist(total_rewards)"
   ]
  },
  {
   "cell_type": "markdown",
   "metadata": {},
   "source": [
    "## Data Processing"
   ]
  },
  {
   "cell_type": "markdown",
   "metadata": {},
   "source": [
    "### Plot Styling"
   ]
  },
  {
   "cell_type": "code",
   "execution_count": 10,
   "metadata": {},
   "outputs": [],
   "source": [
    "import seaborn as sns\n",
    "\n",
    "sns.set_style(\"darkgrid\")\n",
    "sns.set_palette(\"colorblind\")\n",
    "\n",
    "\n",
    "def set_size(width_pt, fraction=1, subplots=(1, 1), use_golden_ratio=True):\n",
    "    \"\"\"\n",
    "    Reference: https://jwalton.info/Matplotlib-latex-PGF/\n",
    "    Set figure dimensions to sit nicely in our document.\n",
    "\n",
    "    Parameters\n",
    "    ----------\n",
    "    width_pt: float\n",
    "            Document width in points\n",
    "    fraction: float, optional\n",
    "            Fraction of the width which you wish the figure to occupy\n",
    "    subplots: array-like, optional\n",
    "            The number of rows and columns of subplots.\n",
    "    Returns\n",
    "    -------\n",
    "    fig_dim: tuple\n",
    "            Dimensions of figure in inches\n",
    "    \"\"\"\n",
    "    # Width of figure (in pts)\n",
    "    fig_width_pt = width_pt * fraction\n",
    "    # Convert from pt to inches\n",
    "    inches_per_pt = 1 / 72.27\n",
    "\n",
    "    # Figure width in inches\n",
    "    fig_width_in = fig_width_pt * inches_per_pt\n",
    "    if use_golden_ratio:\n",
    "        # Golden ratio to set aesthetic figure height\n",
    "        golden_ratio = (5**0.5 - 1) / 2\n",
    "\n",
    "        # Figure height in inches\n",
    "        fig_height_in = fig_width_in * golden_ratio * (subplots[0] / subplots[1])\n",
    "    else:\n",
    "        fig_height_in = fig_width_in * (subplots[0] / subplots[1])\n",
    "\n",
    "    return (fig_width_in, fig_height_in)\n"
   ]
  },
  {
   "cell_type": "markdown",
   "metadata": {},
   "source": [
    "### Data Parameters"
   ]
  },
  {
   "cell_type": "code",
   "execution_count": 11,
   "metadata": {},
   "outputs": [],
   "source": [
    "def name_to_param(name):\n",
    "    num = float(name[1:])\n",
    "    if name[0] == 'q':\n",
    "        return num\n",
    "    else:\n",
    "        return int(num)\n",
    "\n",
    "def name_to_type(name):\n",
    "    return name[0]\n",
    "\n",
    "def param_to_name(sampler_char, param):\n",
    "    return f\"{sampler_char}{param}\""
   ]
  },
  {
   "cell_type": "code",
   "execution_count": 12,
   "metadata": {},
   "outputs": [
    {
     "name": "stdout",
     "output_type": "stream",
     "text": [
      "unif_sampler_params: [   1 1000]\n",
      "quad_sampler_params: [  0.125 100.   ]\n"
     ]
    }
   ],
   "source": [
    "# unif_sampler_params = np.power(2, np.arange(0, 11, 2))\n",
    "# quad_sampler_params = np.concatenate(\n",
    "#     (np.array([0]), np.power(2, np.arange(-3.0, 10, 2))), axis=0\n",
    "# )\n",
    "\n",
    "unif_sampler_params = np.array([1, 1000])\n",
    "quad_sampler_params = np.array([0.125, 100.0])\n",
    "\n",
    "print('unif_sampler_params:', unif_sampler_params)\n",
    "print('quad_sampler_params:', quad_sampler_params)\n"
   ]
  },
  {
   "cell_type": "code",
   "execution_count": 13,
   "metadata": {},
   "outputs": [],
   "source": [
    "samplers_tried = {\n",
    "    f'q{p}': approx_integrators.AdaptiveQuadratureIntegrator(tolerance=p)\n",
    "    for p in quad_sampler_params\n",
    "}\n",
    "samplers_tried.update({\n",
    "    f'u{p}': approx_integrators.UniformlySpacedIntegrator(p)\n",
    "    for p in unif_sampler_params\n",
    "})\n"
   ]
  },
  {
   "cell_type": "code",
   "execution_count": null,
   "metadata": {},
   "outputs": [],
   "source": []
  },
  {
   "cell_type": "code",
   "execution_count": 14,
   "metadata": {},
   "outputs": [],
   "source": [
    "gc.collect()\n",
    "\n",
    "# NUM_RUNS = 100\n",
    "# SAMPLE_BUDGET = 1_000_000\n",
    "NUM_RUNS = 8\n",
    "SAMPLE_BUDGET = 10_005\n",
    "seed = 43\n",
    "EPSILON_IN_POLICY = 0.7\n",
    "\n",
    "BUDGET_INTERP_STEP = 1_000\n",
    "\n",
    "results_path = \"results/cartpole_stoch_pol\""
   ]
  },
  {
   "cell_type": "code",
   "execution_count": 15,
   "metadata": {},
   "outputs": [
    {
     "name": "stdout",
     "output_type": "stream",
     "text": [
      "Changed working directory to /Users/szepi1991/Code/adaptive_time\n"
     ]
    }
   ],
   "source": [
    "# # For testing\n",
    "# def get_data_batch():\n",
    "#     return total_rewards, reward_sequences\n",
    "\n",
    "# Real.\n",
    "traj_gen = TrajGen(EPSILON_IN_POLICY, detailed_data=False)\n",
    "run_lib.reset_randomness(seed, traj_gen.env)\n",
    "\n",
    "def get_data_batch(batch_size=1000):\n",
    "    print(\"generating data batch...\")\n",
    "    all_traj_data = traj_gen.generate_trajectory(batch_size)\n",
    "    total_rewards, reward_sequences, traj_lengths, details = all_traj_data\n",
    "    return total_rewards, reward_sequences\n",
    "\n"
   ]
  },
  {
   "cell_type": "code",
   "execution_count": 16,
   "metadata": {},
   "outputs": [],
   "source": [
    "\n",
    "samplers_to_learn_with = samplers_tried\n",
    "# samplers_to_learn_with = {\n",
    "#     'u1024': samplers_tried['u1024'],\n",
    "# }\n"
   ]
  },
  {
   "cell_type": "markdown",
   "metadata": {},
   "source": [
    "### Learning Code"
   ]
  },
  {
   "cell_type": "code",
   "execution_count": 17,
   "metadata": {},
   "outputs": [],
   "source": [
    "\n",
    "\n",
    "def process_batch_of_data(\n",
    "        samplers_to_learn_with, update_budget,\n",
    "        # Running estimates:\n",
    "        return_estimates, samples_used_so_far,\n",
    "        # Batch of new data:\n",
    "        total_rewards, reward_sequences\n",
    "    ):\n",
    "    print(\"processing data batch...\")\n",
    "    # Each trajectory is transformed, by a sampler, into a pair:\n",
    "    #   * return estimate\n",
    "    #   * number of samples used.\n",
    "    # We then just store these.\n",
    "    more_to_do = False\n",
    "    \n",
    "    for sampler_name, sampler in samplers_to_learn_with.items():\n",
    "        # print(\"sampler_name:\", sampler_name)\n",
    "        try:\n",
    "            num_samples_at_start = samples_used_so_far[sampler_name][-1]\n",
    "        except IndexError:\n",
    "            num_samples_at_start = 0\n",
    "        # print(num_samples_at_start)\n",
    "\n",
    "        if num_samples_at_start >= update_budget:\n",
    "            continue\n",
    "\n",
    "        num_trajs = len(reward_sequences)\n",
    "        cur_returns = np.zeros((num_trajs,))\n",
    "        cur_num_samples = np.zeros((num_trajs,))\n",
    "        for idx, reward_seq in enumerate(reward_sequences):\n",
    "            integral, all_pivots = sampler.integrate(reward_seq)\n",
    "            cur_returns[idx] = integral\n",
    "            cur_num_samples[idx] = len(all_pivots)\n",
    "        # print(\"AA:\\n\", cur_num_samples)\n",
    "        new_total_samples = np.cumsum(cur_num_samples) + num_samples_at_start\n",
    "        # print(new_total_samples)\n",
    "        samples_used_so_far[sampler_name] = np.concatenate(\n",
    "                    (samples_used_so_far[sampler_name], new_total_samples))\n",
    "        return_estimates[sampler_name] = np.concatenate(\n",
    "                    (return_estimates[sampler_name], cur_returns))\n",
    "\n",
    "        used_samples = samples_used_so_far[sampler_name][-1]\n",
    "        if used_samples < update_budget:\n",
    "            more_to_do = True\n",
    "\n",
    "    return more_to_do\n",
    "\n",
    "\n",
    "\n",
    "def single_run(samplers_to_learn_with, get_data_batch):\n",
    "    return_estimates = {}\n",
    "    samples_used_so_far = {}\n",
    "    for sampler_name in samplers_to_learn_with.keys():\n",
    "        return_estimates[sampler_name] = np.array([])\n",
    "        samples_used_so_far[sampler_name] = np.array([])\n",
    "\n",
    "    all_updates = SAMPLE_BUDGET\n",
    "    last_processed_so_far = 0\n",
    "    with tqdm(total=all_updates) as progress_bar:\n",
    "        more_to_do = True\n",
    "        iter_num = 0\n",
    "        true_returns = np.array([])\n",
    "        while more_to_do and iter_num < SAMPLE_BUDGET:\n",
    "            total_rewards, reward_sequences = get_data_batch()\n",
    "            iter_num += 1\n",
    "            true_returns = np.concatenate((true_returns, total_rewards))\n",
    "            more_to_do = process_batch_of_data(\n",
    "                    samplers_to_learn_with, SAMPLE_BUDGET,\n",
    "                    # Running estimates:\n",
    "                    return_estimates, samples_used_so_far,\n",
    "                    # Batch of new data:\n",
    "                    total_rewards, reward_sequences)\n",
    "            \n",
    "            # Just for updating the progress bar -- use the slowest of all samplers.\n",
    "            processed_so_far = {k: samples_used_so_far[k][-1] for k in samplers_to_learn_with.keys()}\n",
    "            total_processed_so_far = min(processed_so_far.values())\n",
    "            progress_bar.update(total_processed_so_far - last_processed_so_far)\n",
    "            last_processed_so_far = total_processed_so_far\n",
    "            # print({k: samples_used_so_far[k][-1] for k in samplers_to_learn_with.keys()})\n",
    "\n",
    "    # Turn the return estimates into value estimates.\n",
    "    value_estimates = {\n",
    "        sn: np.cumsum(return_estimates[sn]) / np.arange(1, len(return_estimates[sn]) + 1)\n",
    "        for sn in samplers_to_learn_with.keys()\n",
    "    }\n",
    "    return value_estimates, samples_used_so_far, true_returns    \n",
    "\n",
    "\n"
   ]
  },
  {
   "cell_type": "markdown",
   "metadata": {},
   "source": [
    "### Actual Learning"
   ]
  },
  {
   "cell_type": "code",
   "execution_count": 19,
   "metadata": {},
   "outputs": [
    {
     "name": "stderr",
     "output_type": "stream",
     "text": [
      "  0%|          | 0/8 [00:00<?, ?it/s]"
     ]
    },
    {
     "name": "stdout",
     "output_type": "stream",
     "text": [
      "\n",
      "====================== RUN 0 ======================\n",
      "\n",
      "\n"
     ]
    },
    {
     "data": {
      "application/vnd.jupyter.widget-view+json": {
       "model_id": "4b11e6d1a12e4c4c9ef07e217327d2cb",
       "version_major": 2,
       "version_minor": 0
      },
      "text/plain": [
       "  0%|          | 0/10005 [00:00<?, ?it/s]"
      ]
     },
     "metadata": {},
     "output_type": "display_data"
    },
    {
     "name": "stdout",
     "output_type": "stream",
     "text": [
      "generating data batch...\n"
     ]
    },
    {
     "data": {
      "application/vnd.jupyter.widget-view+json": {
       "model_id": "654d5c05a0bf4106808a06f0032c0d78",
       "version_major": 2,
       "version_minor": 0
      },
      "text/plain": [
       "  0%|          | 0/1000 [00:00<?, ?it/s]"
      ]
     },
     "metadata": {},
     "output_type": "display_data"
    },
    {
     "name": "stdout",
     "output_type": "stream",
     "text": [
      "processing data batch...\n",
      "generating data batch...\n"
     ]
    },
    {
     "data": {
      "application/vnd.jupyter.widget-view+json": {
       "model_id": "603d771a24d941b7a99274c36eb509c2",
       "version_major": 2,
       "version_minor": 0
      },
      "text/plain": [
       "  0%|          | 0/1000 [00:00<?, ?it/s]"
      ]
     },
     "metadata": {},
     "output_type": "display_data"
    },
    {
     "name": "stdout",
     "output_type": "stream",
     "text": [
      "processing data batch...\n",
      "generating data batch...\n"
     ]
    },
    {
     "data": {
      "application/vnd.jupyter.widget-view+json": {
       "model_id": "d18b258988704ddcacdcefe009d16577",
       "version_major": 2,
       "version_minor": 0
      },
      "text/plain": [
       "  0%|          | 0/1000 [00:00<?, ?it/s]"
      ]
     },
     "metadata": {},
     "output_type": "display_data"
    },
    {
     "name": "stdout",
     "output_type": "stream",
     "text": [
      "processing data batch...\n",
      "generating data batch...\n"
     ]
    },
    {
     "data": {
      "application/vnd.jupyter.widget-view+json": {
       "model_id": "e6b24535fe3c4c0f9c24126591f2fc12",
       "version_major": 2,
       "version_minor": 0
      },
      "text/plain": [
       "  0%|          | 0/1000 [00:00<?, ?it/s]"
      ]
     },
     "metadata": {},
     "output_type": "display_data"
    },
    {
     "name": "stderr",
     "output_type": "stream",
     "text": [
      " 12%|█▎        | 1/8 [01:07<07:53, 67.61s/it]"
     ]
    },
    {
     "name": "stdout",
     "output_type": "stream",
     "text": [
      "processing data batch...\n",
      "\n",
      "====================== RUN 1 ======================\n",
      "\n",
      "\n"
     ]
    },
    {
     "data": {
      "application/vnd.jupyter.widget-view+json": {
       "model_id": "7d5187a5aa18454ebfc9602fee59dd32",
       "version_major": 2,
       "version_minor": 0
      },
      "text/plain": [
       "  0%|          | 0/10005 [00:00<?, ?it/s]"
      ]
     },
     "metadata": {},
     "output_type": "display_data"
    },
    {
     "name": "stdout",
     "output_type": "stream",
     "text": [
      "generating data batch...\n"
     ]
    },
    {
     "data": {
      "application/vnd.jupyter.widget-view+json": {
       "model_id": "caadcd5c805742e9b434d4bc29fd6a7a",
       "version_major": 2,
       "version_minor": 0
      },
      "text/plain": [
       "  0%|          | 0/1000 [00:00<?, ?it/s]"
      ]
     },
     "metadata": {},
     "output_type": "display_data"
    },
    {
     "name": "stdout",
     "output_type": "stream",
     "text": [
      "processing data batch...\n",
      "generating data batch...\n"
     ]
    },
    {
     "data": {
      "application/vnd.jupyter.widget-view+json": {
       "model_id": "fe3873c07a454ee2aadebfc49b1b4273",
       "version_major": 2,
       "version_minor": 0
      },
      "text/plain": [
       "  0%|          | 0/1000 [00:00<?, ?it/s]"
      ]
     },
     "metadata": {},
     "output_type": "display_data"
    },
    {
     "name": "stdout",
     "output_type": "stream",
     "text": [
      "processing data batch...\n",
      "generating data batch...\n"
     ]
    },
    {
     "data": {
      "application/vnd.jupyter.widget-view+json": {
       "model_id": "08606a5dea80439490089f9636a6ace8",
       "version_major": 2,
       "version_minor": 0
      },
      "text/plain": [
       "  0%|          | 0/1000 [00:00<?, ?it/s]"
      ]
     },
     "metadata": {},
     "output_type": "display_data"
    },
    {
     "name": "stdout",
     "output_type": "stream",
     "text": [
      "processing data batch...\n",
      "generating data batch...\n"
     ]
    },
    {
     "data": {
      "application/vnd.jupyter.widget-view+json": {
       "model_id": "2ccff6082a964d94bfd0246b448ce79d",
       "version_major": 2,
       "version_minor": 0
      },
      "text/plain": [
       "  0%|          | 0/1000 [00:00<?, ?it/s]"
      ]
     },
     "metadata": {},
     "output_type": "display_data"
    },
    {
     "name": "stderr",
     "output_type": "stream",
     "text": [
      " 25%|██▌       | 2/8 [02:11<06:33, 65.64s/it]"
     ]
    },
    {
     "name": "stdout",
     "output_type": "stream",
     "text": [
      "processing data batch...\n",
      "\n",
      "====================== RUN 2 ======================\n",
      "\n",
      "\n"
     ]
    },
    {
     "data": {
      "application/vnd.jupyter.widget-view+json": {
       "model_id": "e1e9112108dc41aa91b1b7898bd02484",
       "version_major": 2,
       "version_minor": 0
      },
      "text/plain": [
       "  0%|          | 0/10005 [00:00<?, ?it/s]"
      ]
     },
     "metadata": {},
     "output_type": "display_data"
    },
    {
     "name": "stdout",
     "output_type": "stream",
     "text": [
      "generating data batch...\n"
     ]
    },
    {
     "data": {
      "application/vnd.jupyter.widget-view+json": {
       "model_id": "69e7f9cef98c4fc9981f5bb88def6cc0",
       "version_major": 2,
       "version_minor": 0
      },
      "text/plain": [
       "  0%|          | 0/1000 [00:00<?, ?it/s]"
      ]
     },
     "metadata": {},
     "output_type": "display_data"
    },
    {
     "name": "stdout",
     "output_type": "stream",
     "text": [
      "processing data batch...\n",
      "generating data batch...\n"
     ]
    },
    {
     "data": {
      "application/vnd.jupyter.widget-view+json": {
       "model_id": "ee3081d995ce44e48b56258083656d56",
       "version_major": 2,
       "version_minor": 0
      },
      "text/plain": [
       "  0%|          | 0/1000 [00:00<?, ?it/s]"
      ]
     },
     "metadata": {},
     "output_type": "display_data"
    },
    {
     "name": "stdout",
     "output_type": "stream",
     "text": [
      "processing data batch...\n",
      "generating data batch...\n"
     ]
    },
    {
     "data": {
      "application/vnd.jupyter.widget-view+json": {
       "model_id": "85c6d4a8e29d4c588ce7d7c8b95d5962",
       "version_major": 2,
       "version_minor": 0
      },
      "text/plain": [
       "  0%|          | 0/1000 [00:00<?, ?it/s]"
      ]
     },
     "metadata": {},
     "output_type": "display_data"
    },
    {
     "name": "stdout",
     "output_type": "stream",
     "text": [
      "processing data batch...\n",
      "generating data batch...\n"
     ]
    },
    {
     "data": {
      "application/vnd.jupyter.widget-view+json": {
       "model_id": "af8f0d870e91499d95c79d6d2be61d2d",
       "version_major": 2,
       "version_minor": 0
      },
      "text/plain": [
       "  0%|          | 0/1000 [00:00<?, ?it/s]"
      ]
     },
     "metadata": {},
     "output_type": "display_data"
    },
    {
     "name": "stderr",
     "output_type": "stream",
     "text": [
      " 38%|███▊      | 3/8 [03:14<05:20, 64.16s/it]"
     ]
    },
    {
     "name": "stdout",
     "output_type": "stream",
     "text": [
      "processing data batch...\n",
      "\n",
      "====================== RUN 3 ======================\n",
      "\n",
      "\n"
     ]
    },
    {
     "data": {
      "application/vnd.jupyter.widget-view+json": {
       "model_id": "1eaa757b86fa476992cb133d97e9bbd5",
       "version_major": 2,
       "version_minor": 0
      },
      "text/plain": [
       "  0%|          | 0/10005 [00:00<?, ?it/s]"
      ]
     },
     "metadata": {},
     "output_type": "display_data"
    },
    {
     "name": "stdout",
     "output_type": "stream",
     "text": [
      "generating data batch...\n"
     ]
    },
    {
     "data": {
      "application/vnd.jupyter.widget-view+json": {
       "model_id": "c444475c60a54dd6ae8c6b11dd4989c5",
       "version_major": 2,
       "version_minor": 0
      },
      "text/plain": [
       "  0%|          | 0/1000 [00:00<?, ?it/s]"
      ]
     },
     "metadata": {},
     "output_type": "display_data"
    },
    {
     "name": "stdout",
     "output_type": "stream",
     "text": [
      "processing data batch...\n",
      "generating data batch...\n"
     ]
    },
    {
     "data": {
      "application/vnd.jupyter.widget-view+json": {
       "model_id": "d0c377e83a2942d4b7966954f0128177",
       "version_major": 2,
       "version_minor": 0
      },
      "text/plain": [
       "  0%|          | 0/1000 [00:00<?, ?it/s]"
      ]
     },
     "metadata": {},
     "output_type": "display_data"
    },
    {
     "name": "stdout",
     "output_type": "stream",
     "text": [
      "processing data batch...\n",
      "generating data batch...\n"
     ]
    },
    {
     "data": {
      "application/vnd.jupyter.widget-view+json": {
       "model_id": "7f2048c403cd48e480f3879776365ec9",
       "version_major": 2,
       "version_minor": 0
      },
      "text/plain": [
       "  0%|          | 0/1000 [00:00<?, ?it/s]"
      ]
     },
     "metadata": {},
     "output_type": "display_data"
    },
    {
     "name": "stdout",
     "output_type": "stream",
     "text": [
      "processing data batch...\n",
      "generating data batch...\n"
     ]
    },
    {
     "data": {
      "application/vnd.jupyter.widget-view+json": {
       "model_id": "ef0bf85a4c5d4315b4b5f7c35da9a95e",
       "version_major": 2,
       "version_minor": 0
      },
      "text/plain": [
       "  0%|          | 0/1000 [00:00<?, ?it/s]"
      ]
     },
     "metadata": {},
     "output_type": "display_data"
    },
    {
     "name": "stderr",
     "output_type": "stream",
     "text": [
      " 50%|█████     | 4/8 [04:14<04:10, 62.51s/it]"
     ]
    },
    {
     "name": "stdout",
     "output_type": "stream",
     "text": [
      "processing data batch...\n",
      "\n",
      "====================== RUN 4 ======================\n",
      "\n",
      "\n"
     ]
    },
    {
     "data": {
      "application/vnd.jupyter.widget-view+json": {
       "model_id": "19b5322339804fe0ac1b5f85f6e519dd",
       "version_major": 2,
       "version_minor": 0
      },
      "text/plain": [
       "  0%|          | 0/10005 [00:00<?, ?it/s]"
      ]
     },
     "metadata": {},
     "output_type": "display_data"
    },
    {
     "name": "stdout",
     "output_type": "stream",
     "text": [
      "generating data batch...\n"
     ]
    },
    {
     "data": {
      "application/vnd.jupyter.widget-view+json": {
       "model_id": "4b8c44fd7a7e4e08bdf5e0b40b92a0a6",
       "version_major": 2,
       "version_minor": 0
      },
      "text/plain": [
       "  0%|          | 0/1000 [00:00<?, ?it/s]"
      ]
     },
     "metadata": {},
     "output_type": "display_data"
    },
    {
     "name": "stdout",
     "output_type": "stream",
     "text": [
      "processing data batch...\n",
      "generating data batch...\n"
     ]
    },
    {
     "data": {
      "application/vnd.jupyter.widget-view+json": {
       "model_id": "9d08a0dbbc5f47e3a82506799a19333d",
       "version_major": 2,
       "version_minor": 0
      },
      "text/plain": [
       "  0%|          | 0/1000 [00:00<?, ?it/s]"
      ]
     },
     "metadata": {},
     "output_type": "display_data"
    },
    {
     "name": "stdout",
     "output_type": "stream",
     "text": [
      "processing data batch...\n",
      "generating data batch...\n"
     ]
    },
    {
     "data": {
      "application/vnd.jupyter.widget-view+json": {
       "model_id": "bf7f84a477e241b99df1d80314ac412b",
       "version_major": 2,
       "version_minor": 0
      },
      "text/plain": [
       "  0%|          | 0/1000 [00:00<?, ?it/s]"
      ]
     },
     "metadata": {},
     "output_type": "display_data"
    },
    {
     "name": "stdout",
     "output_type": "stream",
     "text": [
      "processing data batch...\n",
      "generating data batch...\n"
     ]
    },
    {
     "data": {
      "application/vnd.jupyter.widget-view+json": {
       "model_id": "20dd49b14dd54593959878ecb0823d8b",
       "version_major": 2,
       "version_minor": 0
      },
      "text/plain": [
       "  0%|          | 0/1000 [00:00<?, ?it/s]"
      ]
     },
     "metadata": {},
     "output_type": "display_data"
    },
    {
     "name": "stderr",
     "output_type": "stream",
     "text": [
      " 62%|██████▎   | 5/8 [05:15<03:06, 62.02s/it]"
     ]
    },
    {
     "name": "stdout",
     "output_type": "stream",
     "text": [
      "processing data batch...\n",
      "\n",
      "====================== RUN 5 ======================\n",
      "\n",
      "\n"
     ]
    },
    {
     "data": {
      "application/vnd.jupyter.widget-view+json": {
       "model_id": "6276580fefd94b4fbbd8ca9dbf5e7941",
       "version_major": 2,
       "version_minor": 0
      },
      "text/plain": [
       "  0%|          | 0/10005 [00:00<?, ?it/s]"
      ]
     },
     "metadata": {},
     "output_type": "display_data"
    },
    {
     "name": "stdout",
     "output_type": "stream",
     "text": [
      "generating data batch...\n"
     ]
    },
    {
     "data": {
      "application/vnd.jupyter.widget-view+json": {
       "model_id": "298100a2644f41b085f67157e4cbf34a",
       "version_major": 2,
       "version_minor": 0
      },
      "text/plain": [
       "  0%|          | 0/1000 [00:00<?, ?it/s]"
      ]
     },
     "metadata": {},
     "output_type": "display_data"
    },
    {
     "name": "stdout",
     "output_type": "stream",
     "text": [
      "processing data batch...\n",
      "generating data batch...\n"
     ]
    },
    {
     "data": {
      "application/vnd.jupyter.widget-view+json": {
       "model_id": "7cc38a2843fc4c69b3916fa331a72314",
       "version_major": 2,
       "version_minor": 0
      },
      "text/plain": [
       "  0%|          | 0/1000 [00:00<?, ?it/s]"
      ]
     },
     "metadata": {},
     "output_type": "display_data"
    },
    {
     "name": "stdout",
     "output_type": "stream",
     "text": [
      "processing data batch...\n",
      "generating data batch...\n"
     ]
    },
    {
     "data": {
      "application/vnd.jupyter.widget-view+json": {
       "model_id": "2610deecff264182a3080178a7739668",
       "version_major": 2,
       "version_minor": 0
      },
      "text/plain": [
       "  0%|          | 0/1000 [00:00<?, ?it/s]"
      ]
     },
     "metadata": {},
     "output_type": "display_data"
    },
    {
     "name": "stdout",
     "output_type": "stream",
     "text": [
      "processing data batch...\n",
      "generating data batch...\n"
     ]
    },
    {
     "data": {
      "application/vnd.jupyter.widget-view+json": {
       "model_id": "b29ea6b2a4d24065af97b62eefb67fbc",
       "version_major": 2,
       "version_minor": 0
      },
      "text/plain": [
       "  0%|          | 0/1000 [00:00<?, ?it/s]"
      ]
     },
     "metadata": {},
     "output_type": "display_data"
    },
    {
     "name": "stderr",
     "output_type": "stream",
     "text": [
      " 75%|███████▌  | 6/8 [06:18<02:04, 62.35s/it]"
     ]
    },
    {
     "name": "stdout",
     "output_type": "stream",
     "text": [
      "processing data batch...\n",
      "\n",
      "====================== RUN 6 ======================\n",
      "\n",
      "\n"
     ]
    },
    {
     "data": {
      "application/vnd.jupyter.widget-view+json": {
       "model_id": "d5edc440fa49406b9a489a37440dcf2f",
       "version_major": 2,
       "version_minor": 0
      },
      "text/plain": [
       "  0%|          | 0/10005 [00:00<?, ?it/s]"
      ]
     },
     "metadata": {},
     "output_type": "display_data"
    },
    {
     "name": "stdout",
     "output_type": "stream",
     "text": [
      "generating data batch...\n"
     ]
    },
    {
     "data": {
      "application/vnd.jupyter.widget-view+json": {
       "model_id": "073cb1fb862b4475b1fd3219c0070d06",
       "version_major": 2,
       "version_minor": 0
      },
      "text/plain": [
       "  0%|          | 0/1000 [00:00<?, ?it/s]"
      ]
     },
     "metadata": {},
     "output_type": "display_data"
    },
    {
     "name": "stdout",
     "output_type": "stream",
     "text": [
      "processing data batch...\n",
      "generating data batch...\n"
     ]
    },
    {
     "data": {
      "application/vnd.jupyter.widget-view+json": {
       "model_id": "21d54b4d09704b188b3964feb6838c69",
       "version_major": 2,
       "version_minor": 0
      },
      "text/plain": [
       "  0%|          | 0/1000 [00:00<?, ?it/s]"
      ]
     },
     "metadata": {},
     "output_type": "display_data"
    },
    {
     "name": "stdout",
     "output_type": "stream",
     "text": [
      "processing data batch...\n",
      "generating data batch...\n"
     ]
    },
    {
     "data": {
      "application/vnd.jupyter.widget-view+json": {
       "model_id": "8690627d9af743aba3d0b095ba18d1eb",
       "version_major": 2,
       "version_minor": 0
      },
      "text/plain": [
       "  0%|          | 0/1000 [00:00<?, ?it/s]"
      ]
     },
     "metadata": {},
     "output_type": "display_data"
    },
    {
     "name": "stdout",
     "output_type": "stream",
     "text": [
      "processing data batch...\n",
      "generating data batch...\n"
     ]
    },
    {
     "data": {
      "application/vnd.jupyter.widget-view+json": {
       "model_id": "62642883d77746068be108b9281d213a",
       "version_major": 2,
       "version_minor": 0
      },
      "text/plain": [
       "  0%|          | 0/1000 [00:00<?, ?it/s]"
      ]
     },
     "metadata": {},
     "output_type": "display_data"
    },
    {
     "name": "stderr",
     "output_type": "stream",
     "text": [
      " 88%|████████▊ | 7/8 [07:21<01:02, 62.52s/it]"
     ]
    },
    {
     "name": "stdout",
     "output_type": "stream",
     "text": [
      "processing data batch...\n",
      "\n",
      "====================== RUN 7 ======================\n",
      "\n",
      "\n"
     ]
    },
    {
     "data": {
      "application/vnd.jupyter.widget-view+json": {
       "model_id": "504d7b69de0141d985840684ca82c8d9",
       "version_major": 2,
       "version_minor": 0
      },
      "text/plain": [
       "  0%|          | 0/10005 [00:00<?, ?it/s]"
      ]
     },
     "metadata": {},
     "output_type": "display_data"
    },
    {
     "name": "stdout",
     "output_type": "stream",
     "text": [
      "generating data batch...\n"
     ]
    },
    {
     "data": {
      "application/vnd.jupyter.widget-view+json": {
       "model_id": "c24aeb99703d48828e635463212aa690",
       "version_major": 2,
       "version_minor": 0
      },
      "text/plain": [
       "  0%|          | 0/1000 [00:00<?, ?it/s]"
      ]
     },
     "metadata": {},
     "output_type": "display_data"
    },
    {
     "name": "stdout",
     "output_type": "stream",
     "text": [
      "processing data batch...\n",
      "generating data batch...\n"
     ]
    },
    {
     "data": {
      "application/vnd.jupyter.widget-view+json": {
       "model_id": "4987009a3dd84111be4e73d14859529d",
       "version_major": 2,
       "version_minor": 0
      },
      "text/plain": [
       "  0%|          | 0/1000 [00:00<?, ?it/s]"
      ]
     },
     "metadata": {},
     "output_type": "display_data"
    },
    {
     "name": "stdout",
     "output_type": "stream",
     "text": [
      "processing data batch...\n",
      "generating data batch...\n"
     ]
    },
    {
     "data": {
      "application/vnd.jupyter.widget-view+json": {
       "model_id": "d921d997ad0b4be3a41af41f39b60f15",
       "version_major": 2,
       "version_minor": 0
      },
      "text/plain": [
       "  0%|          | 0/1000 [00:00<?, ?it/s]"
      ]
     },
     "metadata": {},
     "output_type": "display_data"
    },
    {
     "name": "stdout",
     "output_type": "stream",
     "text": [
      "processing data batch...\n",
      "generating data batch...\n"
     ]
    },
    {
     "data": {
      "application/vnd.jupyter.widget-view+json": {
       "model_id": "9baa176282c0465c95d9fa6063d32c87",
       "version_major": 2,
       "version_minor": 0
      },
      "text/plain": [
       "  0%|          | 0/1000 [00:00<?, ?it/s]"
      ]
     },
     "metadata": {},
     "output_type": "display_data"
    },
    {
     "name": "stderr",
     "output_type": "stream",
     "text": [
      "100%|██████████| 8/8 [08:21<00:00, 62.68s/it]"
     ]
    },
    {
     "name": "stdout",
     "output_type": "stream",
     "text": [
      "processing data batch...\n"
     ]
    },
    {
     "name": "stderr",
     "output_type": "stream",
     "text": [
      "\n"
     ]
    }
   ],
   "source": [
    "\n",
    "# Finally will have a `data` structure with:\n",
    "# data[sampler_name][run_idx]{running_v_estimate or total_pivots}[idx_of_trajectory_processed]\n",
    "# * We can actually keep around just the `returns_ests` instead of `running_v_estimate`\n",
    "# * But it makes sense to have `total_pivots` since we want to check against the budget.\n",
    "\n",
    "run_lib.reset_randomness(seed, env=None)   # TODO check about seeding...\n",
    "\n",
    "data = {k: [] for k in samplers_to_learn_with.keys()}\n",
    "true_returns = np.array([])\n",
    "for i in trange(NUM_RUNS):\n",
    "    print(f\"\\n====================== RUN {i} ======================\\n\\n\")\n",
    "    value_estimates, samples_used_so_far, true_returns = single_run(\n",
    "        samplers_to_learn_with, get_data_batch)\n",
    "    true_returns = np.concatenate((true_returns, total_rewards))    \n",
    "    for sampler_name in samplers_to_learn_with.keys():\n",
    "        data[sampler_name].append({\n",
    "            \"running_v_estimate\": value_estimates[sampler_name],\n",
    "            \"total_pivots\": samples_used_so_far[sampler_name],\n",
    "        })\n"
   ]
  },
  {
   "cell_type": "code",
   "execution_count": 20,
   "metadata": {},
   "outputs": [
    {
     "name": "stdout",
     "output_type": "stream",
     "text": [
      "true_return_est: 1371.240243902439+-0.6480360501259793\n"
     ]
    }
   ],
   "source": [
    "true_return_est = np.sum(true_returns) / len(true_returns)\n",
    "true_return_95conf = 1.96 * np.std(true_returns) / math.sqrt(len(true_returns))\n",
    "\n",
    "print(f\"true_return_est: {true_return_est}+-{true_return_95conf}\")\n"
   ]
  },
  {
   "cell_type": "code",
   "execution_count": 21,
   "metadata": {},
   "outputs": [
    {
     "data": {
      "application/vnd.jupyter.widget-view+json": {
       "model_id": "c63235957b7e4e42b822d4f5c6b45f43",
       "version_major": 2,
       "version_minor": 0
      },
      "text/plain": [
       "  0%|          | 0/10 [00:00<?, ?it/s]"
      ]
     },
     "metadata": {},
     "output_type": "display_data"
    },
    {
     "name": "stdout",
     "output_type": "stream",
     "text": [
      "generating data batch...\n"
     ]
    },
    {
     "data": {
      "application/vnd.jupyter.widget-view+json": {
       "model_id": "798b91a60dc1476b90c5011b0234e414",
       "version_major": 2,
       "version_minor": 0
      },
      "text/plain": [
       "  0%|          | 0/1000 [00:00<?, ?it/s]"
      ]
     },
     "metadata": {},
     "output_type": "display_data"
    },
    {
     "name": "stdout",
     "output_type": "stream",
     "text": [
      "generating data batch...\n"
     ]
    },
    {
     "data": {
      "application/vnd.jupyter.widget-view+json": {
       "model_id": "6b8001be264e46fbaf3942cac7a48522",
       "version_major": 2,
       "version_minor": 0
      },
      "text/plain": [
       "  0%|          | 0/1000 [00:00<?, ?it/s]"
      ]
     },
     "metadata": {},
     "output_type": "display_data"
    },
    {
     "name": "stdout",
     "output_type": "stream",
     "text": [
      "generating data batch...\n"
     ]
    },
    {
     "data": {
      "application/vnd.jupyter.widget-view+json": {
       "model_id": "e77e6c6a785f4f83b8454b62cb7447cf",
       "version_major": 2,
       "version_minor": 0
      },
      "text/plain": [
       "  0%|          | 0/1000 [00:00<?, ?it/s]"
      ]
     },
     "metadata": {},
     "output_type": "display_data"
    },
    {
     "name": "stdout",
     "output_type": "stream",
     "text": [
      "generating data batch...\n"
     ]
    },
    {
     "data": {
      "application/vnd.jupyter.widget-view+json": {
       "model_id": "578bf90a26644ee8b91650b48c235038",
       "version_major": 2,
       "version_minor": 0
      },
      "text/plain": [
       "  0%|          | 0/1000 [00:00<?, ?it/s]"
      ]
     },
     "metadata": {},
     "output_type": "display_data"
    },
    {
     "name": "stdout",
     "output_type": "stream",
     "text": [
      "generating data batch...\n"
     ]
    },
    {
     "data": {
      "application/vnd.jupyter.widget-view+json": {
       "model_id": "458d538656c142bf8e10a78c9ca9795f",
       "version_major": 2,
       "version_minor": 0
      },
      "text/plain": [
       "  0%|          | 0/1000 [00:00<?, ?it/s]"
      ]
     },
     "metadata": {},
     "output_type": "display_data"
    },
    {
     "name": "stdout",
     "output_type": "stream",
     "text": [
      "generating data batch...\n"
     ]
    },
    {
     "data": {
      "application/vnd.jupyter.widget-view+json": {
       "model_id": "55a221484df7457faa06c20acdbdbf5e",
       "version_major": 2,
       "version_minor": 0
      },
      "text/plain": [
       "  0%|          | 0/1000 [00:00<?, ?it/s]"
      ]
     },
     "metadata": {},
     "output_type": "display_data"
    },
    {
     "name": "stdout",
     "output_type": "stream",
     "text": [
      "generating data batch...\n"
     ]
    },
    {
     "data": {
      "application/vnd.jupyter.widget-view+json": {
       "model_id": "5cfde0f2b05c49ee998cdcd0214a90ac",
       "version_major": 2,
       "version_minor": 0
      },
      "text/plain": [
       "  0%|          | 0/1000 [00:00<?, ?it/s]"
      ]
     },
     "metadata": {},
     "output_type": "display_data"
    },
    {
     "name": "stdout",
     "output_type": "stream",
     "text": [
      "generating data batch...\n"
     ]
    },
    {
     "data": {
      "application/vnd.jupyter.widget-view+json": {
       "model_id": "5c381505527d46d5b191440941243364",
       "version_major": 2,
       "version_minor": 0
      },
      "text/plain": [
       "  0%|          | 0/1000 [00:00<?, ?it/s]"
      ]
     },
     "metadata": {},
     "output_type": "display_data"
    },
    {
     "name": "stdout",
     "output_type": "stream",
     "text": [
      "generating data batch...\n"
     ]
    },
    {
     "data": {
      "application/vnd.jupyter.widget-view+json": {
       "model_id": "622ba99d47334a858f7161145ab04b86",
       "version_major": 2,
       "version_minor": 0
      },
      "text/plain": [
       "  0%|          | 0/1000 [00:00<?, ?it/s]"
      ]
     },
     "metadata": {},
     "output_type": "display_data"
    },
    {
     "name": "stdout",
     "output_type": "stream",
     "text": [
      "generating data batch...\n"
     ]
    },
    {
     "data": {
      "application/vnd.jupyter.widget-view+json": {
       "model_id": "dd88d21b2a5945eda4258a9f32d635f0",
       "version_major": 2,
       "version_minor": 0
      },
      "text/plain": [
       "  0%|          | 0/1000 [00:00<?, ?it/s]"
      ]
     },
     "metadata": {},
     "output_type": "display_data"
    },
    {
     "name": "stdout",
     "output_type": "stream",
     "text": [
      "true_return_est: 1371.058014184397+-0.3883721471043295\n"
     ]
    }
   ],
   "source": [
    "# Get more batches to get a good estimate of the true return.\n",
    "for _ in tqdm(range(10)):\n",
    "    total_rewards, reward_sequences = get_data_batch()\n",
    "    true_returns = np.concatenate((true_returns, total_rewards))\n",
    "\n",
    "true_return_est = np.sum(true_returns) / len(true_returns)\n",
    "true_return_95conf = 1.96 * np.std(true_returns) / math.sqrt(len(true_returns))\n",
    "\n",
    "print(f\"true_return_est: {true_return_est}+-{true_return_95conf}\")\n"
   ]
  },
  {
   "cell_type": "code",
   "execution_count": 22,
   "metadata": {},
   "outputs": [
    {
     "data": {
      "text/plain": [
       "34"
      ]
     },
     "execution_count": 22,
     "metadata": {},
     "output_type": "execute_result"
    }
   ],
   "source": [
    "gc.collect()"
   ]
  },
  {
   "cell_type": "code",
   "execution_count": 23,
   "metadata": {},
   "outputs": [],
   "source": [
    "\n",
    "# utils.set_directory_in_project(\"results/cartpole_stoch_pol\")\n",
    "# with open(\"second_data.pkl\", \"wb\") as f:\n",
    "#     pickle.dump({'data': data, 'true_returns': true_returns}, f)"
   ]
  },
  {
   "cell_type": "code",
   "execution_count": 24,
   "metadata": {},
   "outputs": [
    {
     "data": {
      "image/png": "[encoded data removed]",
      "text/plain": [
       "<Figure size 640x480 with 1 Axes>"
      ]
     },
     "metadata": {},
     "output_type": "display_data"
    },
    {
     "data": {
      "image/png": "[encoded data removed]",
      "text/plain": [
       "<Figure size 640x480 with 1 Axes>"
      ]
     },
     "metadata": {},
     "output_type": "display_data"
    },
    {
     "data": {
      "image/png": "[encoded data removed]",
      "text/plain": [
       "<Figure size 640x480 with 1 Axes>"
      ]
     },
     "metadata": {},
     "output_type": "display_data"
    },
    {
     "data": {
      "image/png": "[encoded data removed]",
      "text/plain": [
       "<Figure size 640x480 with 1 Axes>"
      ]
     },
     "metadata": {},
     "output_type": "display_data"
    },
    {
     "name": "stdout",
     "output_type": "stream",
     "text": [
      "true_return_est: 1371.058014184397+-0.3883721471043295\n"
     ]
    }
   ],
   "source": [
    "for sampler_name in samplers_to_learn_with.keys():\n",
    "    f = plt.figure()\n",
    "        # data[sampler_name].append({\n",
    "        #     \"running_v_estimate\": value_estimates[sampler_name],\n",
    "        #     \"total_pivots\": samples_used_so_far[sampler_name],\n",
    "        # })\n",
    "    for run_data in data[sampler_name]:\n",
    "        plt.plot(run_data[\"total_pivots\"], run_data[\"running_v_estimate\"] - true_return_est)\n",
    "        plt.xlabel(\"Updates\")\n",
    "        plt.ylabel(\"Value estimate - true value\")\n",
    "    # plt.plot(samples_used_so_far[sampler_name], value_estimates[sampler_name]-true_return_est)\n",
    "    plt.title(sampler_name)\n",
    "    plt.show()\n",
    "\n",
    "print(f\"true_return_est: {true_return_est}+-{true_return_95conf}\")\n"
   ]
  },
  {
   "cell_type": "code",
   "execution_count": null,
   "metadata": {},
   "outputs": [],
   "source": []
  },
  {
   "cell_type": "code",
   "execution_count": 25,
   "metadata": {},
   "outputs": [
    {
     "name": "stdout",
     "output_type": "stream",
     "text": [
      "[1370.04725,\n",
      " 1371.2245,\n",
      " 1371.19825,\n",
      " 1370.59675,\n",
      " 1370.718,\n",
      " 1370.1945,\n",
      " 1370.999,\n",
      " 1371.204]\n",
      "[1369.849, 1370.758, 1371.505, 1370.176, 1371.365, 1371.736, 1371.113, 1371.624]\n"
     ]
    }
   ],
   "source": [
    "pprint([data['u1000'][r]['running_v_estimate'][-1] for r in range(NUM_RUNS)])\n",
    "pprint([data['u1'][r]['running_v_estimate'][-1] for r in range(NUM_RUNS)])"
   ]
  },
  {
   "cell_type": "code",
   "execution_count": 26,
   "metadata": {},
   "outputs": [
    {
     "name": "stdout",
     "output_type": "stream",
     "text": [
      "[11994.0, 11997.0, 11997.0, 11994.0, 11995.0, 11992.0, 11996.0, 11998.0]\n",
      "[1369849.0,\n",
      " 1370758.0,\n",
      " 1371505.0,\n",
      " 1370176.0,\n",
      " 1371365.0,\n",
      " 1371736.0,\n",
      " 1371113.0,\n",
      " 1371624.0]\n"
     ]
    }
   ],
   "source": [
    "pprint([data['u1000'][r]['total_pivots'][-1] for r in range(NUM_RUNS)])\n",
    "pprint([data['u1'][r]['total_pivots'][-1] for r in range(NUM_RUNS)])"
   ]
  },
  {
   "cell_type": "code",
   "execution_count": 27,
   "metadata": {},
   "outputs": [
    {
     "name": "stdout",
     "output_type": "stream",
     "text": [
      "[1370.04725,\n",
      " 1371.2245,\n",
      " 1371.19825,\n",
      " 1370.59675,\n",
      " 1370.718,\n",
      " 1370.1945,\n",
      " 1370.999,\n",
      " 1371.204]\n",
      "[1370.04725,\n",
      " 1371.2245,\n",
      " 1371.19825,\n",
      " 1370.59675,\n",
      " 1370.718,\n",
      " 1370.1945,\n",
      " 1370.999,\n",
      " 1371.204]\n"
     ]
    }
   ],
   "source": [
    "pprint([data['q0.125'][r]['running_v_estimate'][-1] for r in range(NUM_RUNS)])\n",
    "pprint([data['q100.0'][r]['running_v_estimate'][-1] for r in range(NUM_RUNS)])"
   ]
  },
  {
   "cell_type": "code",
   "execution_count": 28,
   "metadata": {},
   "outputs": [
    {
     "name": "stdout",
     "output_type": "stream",
     "text": [
      "[12000.0, 12000.0, 12000.0, 12000.0, 12000.0, 12000.0, 12000.0, 12000.0]\n",
      "[12000.0, 12000.0, 12000.0, 12000.0, 12000.0, 12000.0, 12000.0, 12000.0]\n"
     ]
    }
   ],
   "source": [
    "pprint([data['q0.125'][r]['total_pivots'][-1] for r in range(NUM_RUNS)])\n",
    "pprint([data['q100.0'][r]['total_pivots'][-1] for r in range(NUM_RUNS)])"
   ]
  },
  {
   "cell_type": "code",
   "execution_count": null,
   "metadata": {},
   "outputs": [],
   "source": []
  },
  {
   "cell_type": "code",
   "execution_count": 29,
   "metadata": {},
   "outputs": [
    {
     "data": {
      "text/plain": [
       "dict_keys(['running_v_estimate', 'total_pivots'])"
      ]
     },
     "execution_count": 29,
     "metadata": {},
     "output_type": "execute_result"
    }
   ],
   "source": [
    "list(data.values())[0][0].keys()"
   ]
  },
  {
   "cell_type": "code",
   "execution_count": 30,
   "metadata": {},
   "outputs": [
    {
     "data": {
      "text/plain": [
       "array([1369.84258325, 1370.79616549, 1371.45206862, 1370.13118063,\n",
       "       1371.32795156, 1371.73562059, 1371.09586276, 1371.64379415])"
      ]
     },
     "execution_count": 30,
     "metadata": {},
     "output_type": "execute_result"
    }
   ],
   "source": [
    "_to_check = [\"u256\", \"u1\"]\n",
    "# find the first in _to_check that is actually in the data.\n",
    "setting_to_check = None\n",
    "for setting in _to_check:\n",
    "    if setting in data:\n",
    "        setting_to_check = setting\n",
    "        break\n",
    "\n",
    "if setting_to_check is None:\n",
    "    print(\"did not find any of these required settings, picking the first existing one\")\n",
    "    setting_to_check = list(data.keys())[0]\n",
    "\n",
    "estimates_across_runs = np.array(\n",
    "    [ data[setting_to_check][i][\"running_v_estimate\"][-10] for i in range(NUM_RUNS) ])\n",
    "    # [ data[setting_to_check][i][\"running_v_estimate\"][-1000] for i in range(NUM_RUNS) ])\n",
    "estimates_across_runs\n"
   ]
  },
  {
   "cell_type": "code",
   "execution_count": 31,
   "metadata": {},
   "outputs": [],
   "source": [
    "import copy\n",
    "backup_data = copy.deepcopy(data)"
   ]
  },
  {
   "cell_type": "code",
   "execution_count": 32,
   "metadata": {},
   "outputs": [],
   "source": [
    "# print(data.keys())\n",
    "# data['q1.0'] = data['q1']\n",
    "# del data['q1']\n",
    "# print(data.keys())\n"
   ]
  },
  {
   "cell_type": "code",
   "execution_count": 33,
   "metadata": {},
   "outputs": [
    {
     "name": "stdout",
     "output_type": "stream",
     "text": [
      "interpolating\n"
     ]
    },
    {
     "data": {
      "application/vnd.jupyter.widget-view+json": {
       "model_id": "c43716a4cc7e4cb49b7bc5d828f10374",
       "version_major": 2,
       "version_minor": 0
      },
      "text/plain": [
       "  0%|          | 0/4 [00:00<?, ?it/s]"
      ]
     },
     "metadata": {},
     "output_type": "display_data"
    },
    {
     "name": "stdout",
     "output_type": "stream",
     "text": [
      "finding means and stderrs\n"
     ]
    },
    {
     "data": {
      "application/vnd.jupyter.widget-view+json": {
       "model_id": "3df20debb45142debb70debc8a82fce2",
       "version_major": 2,
       "version_minor": 0
      },
      "text/plain": [
       "  0%|          | 0/4 [00:00<?, ?it/s]"
      ]
     },
     "metadata": {},
     "output_type": "display_data"
    },
    {
     "name": "stderr",
     "output_type": "stream",
     "text": [
      "/Users/szepi1991/Code/adaptive_time/code/adaptive_time/plot_utils.py:70: RuntimeWarning: Mean of empty slice\n",
      "  all_y_means[name] = np.nanmean(res, axis=0)\n",
      "/Users/szepi1991/Code/adaptive_time/.venv/lib/python3.11/site-packages/numpy/lib/nanfunctions.py:1879: RuntimeWarning: Degrees of freedom <= 0 for slice.\n",
      "  var = nanvar(a, axis=axis, dtype=dtype, out=out, ddof=ddof,\n"
     ]
    }
   ],
   "source": [
    "gc.collect()\n",
    "\n",
    "_values_data = plot_utils.process_across_runs(\n",
    "        data, \"total_pivots\", \"running_v_estimate\", right=np.nan, interp_step=BUDGET_INTERP_STEP, tqdm=tqdm)\n",
    "\n",
    "gc.collect()\n",
    "\n",
    "true_value = true_return_est\n",
    "_means = {\n",
    "    k: np.abs(val - true_value)\n",
    "    for k, val in _values_data.means.items()\n",
    "}\n",
    "error_data = _values_data._replace(means=_means)\n"
   ]
  },
  {
   "cell_type": "code",
   "execution_count": 34,
   "metadata": {},
   "outputs": [
    {
     "data": {
      "text/plain": [
       "dict_keys(['q0.125', 'q100.0', 'u1', 'u1000'])"
      ]
     },
     "execution_count": 34,
     "metadata": {},
     "output_type": "execute_result"
    }
   ],
   "source": [
    "error_data.means.keys()"
   ]
  },
  {
   "cell_type": "markdown",
   "metadata": {},
   "source": [
    "## Plots"
   ]
  },
  {
   "cell_type": "code",
   "execution_count": 35,
   "metadata": {},
   "outputs": [
    {
     "name": "stdout",
     "output_type": "stream",
     "text": [
      "Changed working directory to /Users/szepi1991/Code/adaptive_time/results/cartpole_stoch_pol\n"
     ]
    },
    {
     "data": {
      "text/plain": [
       "'/Users/szepi1991/Code/adaptive_time/results/cartpole_stoch_pol'"
      ]
     },
     "execution_count": 35,
     "metadata": {},
     "output_type": "execute_result"
    }
   ],
   "source": [
    "title = \"Cartpole\"\n",
    "filename = data_descr\n",
    "\n",
    "error_y_label = \"$|v^\\pi - \\hat{v}|$\"\n",
    "\n",
    "utils.set_directory_in_project(results_path)"
   ]
  },
  {
   "cell_type": "code",
   "execution_count": 36,
   "metadata": {},
   "outputs": [],
   "source": [
    "axes_font_size = 11"
   ]
  },
  {
   "cell_type": "code",
   "execution_count": 37,
   "metadata": {},
   "outputs": [
    {
     "name": "stdout",
     "output_type": "stream",
     "text": [
      "\n",
      "Method: uniform\n"
     ]
    },
    {
     "data": {
      "application/vnd.jupyter.widget-view+json": {
       "model_id": "81702192d25741e9a13577c7c3811d77",
       "version_major": 2,
       "version_minor": 0
      },
      "text/plain": [
       "  0%|          | 0/2 [00:00<?, ?it/s]"
      ]
     },
     "metadata": {},
     "output_type": "display_data"
    },
    {
     "name": "stdout",
     "output_type": "stream",
     "text": [
      "\n",
      "Budget:  1000\n",
      "\n",
      "Budget:  10000\n",
      "\n",
      "Method: quadrature\n"
     ]
    },
    {
     "data": {
      "application/vnd.jupyter.widget-view+json": {
       "model_id": "2b3ed4b276e24960bc6c31671798e817",
       "version_major": 2,
       "version_minor": 0
      },
      "text/plain": [
       "  0%|          | 0/2 [00:00<?, ?it/s]"
      ]
     },
     "metadata": {},
     "output_type": "display_data"
    },
    {
     "name": "stdout",
     "output_type": "stream",
     "text": [
      "\n",
      "Budget:  1000\n",
      "\n",
      "Budget:  10000\n"
     ]
    },
    {
     "data": {
      "image/png": "[encoded data removed]",
      "text/plain": [
       "<Figure size 466.999x256.552 with 2 Axes>"
      ]
     },
     "metadata": {},
     "output_type": "display_data"
    }
   ],
   "source": [
    "\n",
    "\n",
    "# These must be multiples of BUDGET_INTERP_STEP (usually 1000).\n",
    "budgets_to_check = np.power(10, np.arange(3, 5, 1))\n",
    "# budgets_to_check = np.power(10, np.arange(3, 7, 1))\n",
    "if SAMPLE_BUDGET >= 2_000_000:\n",
    "    budgets_to_check *= 2\n",
    "\n",
    "\n",
    "# budgets_to_check = np.power(10, np.arange(2, 7, 1))\n",
    "\n",
    "# ax = plot_utils.default_plot_mean_from_proc_data(\n",
    "#     error_data, \"Number of Samples\", error_y_label,\n",
    "#     title=title, show=False, key_filter=lambda x: x in good,\n",
    "#     add_stderr=True)\n",
    "\n",
    "# fig, axes = plt.subplots(\n",
    "#     nrows=1, ncols=2, figsize=(8, 4), layout=\"constrained\", sharey=True)\n",
    "\n",
    "doc_width_pt = 750.0\n",
    "base_fig_size = set_size(doc_width_pt, 1.0, (1, 2))\n",
    "\n",
    "\n",
    "fig, axes = plt.subplots(\n",
    "    nrows=1, ncols=2,\n",
    "    figsize=(base_fig_size[0]*0.45, base_fig_size[1]*0.8),\n",
    "    # figsize=set_size(doc_width_pt, 0.48, (1, 2)),\n",
    "    layout=\"constrained\", sharey=True)\n",
    "\n",
    "# fig, axes = plt.subplots(\n",
    "#     nrows=1, ncols=2, figsize=(6, 3), layout=\"constrained\", sharey=True)\n",
    "\n",
    "# axes[0] will get the uniform results, axes[1] the quadrature results.\n",
    "\n",
    "# Gather the data for the points on the x-axis.\n",
    "all_methods = error_data.means.keys()\n",
    "unif_methods = {\n",
    "    k: name_to_param(k) for k in all_methods if name_to_type(k) == \"u\"}\n",
    "quad_methods = {\n",
    "    k: name_to_param(k) for k in all_methods if name_to_type(k) == \"q\"}\n",
    "\n",
    "unif_xs = sorted(unif_methods.values())\n",
    "quad_xs = sorted(quad_methods.values())\n",
    "\n",
    "for ax_idx, ax, xs, method_char in zip(range(2), axes, (unif_xs, quad_xs), (\"u\", \"q\")):\n",
    "    print()\n",
    "    print(\"Method:\", \"uniform\" if method_char == \"u\" else \"quadrature\")\n",
    "    for budget_for_curve in tqdm(budgets_to_check):\n",
    "        print()\n",
    "        print(\"Budget: \", budget_for_curve)\n",
    "        budget_idx = int(budget_for_curve / BUDGET_INTERP_STEP)\n",
    "        y_means = []\n",
    "        y_stderrs = []\n",
    "        try:\n",
    "            for x in xs:\n",
    "                y_means.append(error_data.means[param_to_name(method_char, x)][budget_idx])\n",
    "                y_stderrs.append(error_data.stderrs[param_to_name(method_char, x)][budget_idx])\n",
    "                # y_means.append(np.nanmean(env_result[x][:, budget_idx]))\n",
    "                # y_stderrs.append(np.nanstd(env_result[x][:, budget_idx]) / np.sqrt(num_seeds))\n",
    "            # y_means = np.log2(np.array(y_means))\n",
    "            # y_stderrs = np.log2(np.array(y_stderrs))\n",
    "                \n",
    "            y_means = np.array(y_means)\n",
    "            y_stderrs = np.array(y_stderrs)\n",
    "\n",
    "            budget_exp = int(math.log10(budget_for_curve)) \n",
    "            ax.plot(\n",
    "                xs,\n",
    "                y_means,\n",
    "                label=f\"B = $10^{budget_exp}$\" if ax_idx == 1 else \"\"\n",
    "            )\n",
    "            ax.fill_between(\n",
    "                xs,\n",
    "                0,\n",
    "                # (y_means - y_stderrs),\n",
    "                (y_means + y_stderrs),\n",
    "                alpha=0.1\n",
    "            )\n",
    "\n",
    "            # print(\"xs\", xs)\n",
    "            # print(\"y_means:\", y_means)\n",
    "            # print(\"y_stderrs:\", y_stderrs)\n",
    "        except IndexError:\n",
    "            pass\n",
    "\n",
    "    if method_char == \"u\":\n",
    "        ax.set_ylabel(error_y_label, fontsize=axes_font_size)\n",
    "        ax.set_xlabel(\"Discretization $h$\", fontsize=axes_font_size)\n",
    "        ax.set_title(\"Method: Uniform\")\n",
    "    else:\n",
    "        ax.set_xlabel(\"Tolerance $\\epsilon$\", fontsize=axes_font_size)\n",
    "        ax.set_title(\"Method: Adaptive\")\n",
    "\n",
    "    ax.set_xscale('log')\n",
    "    # ax.set_yscale('log')\n",
    "    if ax_idx == 1:\n",
    "        ax.legend(title=\"Budget\")\n",
    "\n",
    "# plt.legend(title=\"Budget\")\n",
    "fig.suptitle(title)\n",
    "plt.legend()\n",
    "\n",
    "plt.savefig(f'{filename}_u_shaped2.pdf')\n",
    "plt.savefig(f\"{filename}_u_shaped2.png\", dpi=600, format=\"pdf\", bbox_inches=\"tight\")\n",
    "\n",
    "# def name_to_param(name):\n",
    "#     return int(name[1:])\n",
    "\n",
    "# def name_to_type(name):\n",
    "#     return name[0]\n",
    "\n",
    "# def param_to_name(param, sampler_char):\n",
    "#     return f\"{sampler_char}{param}\"\n",
    "\n"
   ]
  },
  {
   "cell_type": "markdown",
   "metadata": {},
   "source": []
  },
  {
   "cell_type": "markdown",
   "metadata": {},
   "source": []
  },
  {
   "cell_type": "markdown",
   "metadata": {},
   "source": []
  },
  {
   "cell_type": "markdown",
   "metadata": {},
   "source": []
  }
 ],
 "metadata": {
  "kernelspec": {
   "display_name": ".venv",
   "language": "python",
   "name": "python3"
  },
  "language_info": {
   "codemirror_mode": {
    "name": "ipython",
    "version": 3
   },
   "file_extension": ".py",
   "mimetype": "text/x-python",
   "name": "python",
   "nbconvert_exporter": "python",
   "pygments_lexer": "ipython3",
   "version": "3.11.7"
  }
 },
 "nbformat": 4,
 "nbformat_minor": 2
}
