{
 "cells": [
  {
   "cell_type": "code",
   "execution_count": 1,
   "metadata": {},
   "outputs": [],
   "source": [
    "import jax\n",
    "import matplotlib.pyplot as plt\n",
    "import numpy as np\n",
    "import os\n",
    "import seaborn as sns\n",
    "\n",
    "from functools import partial\n",
    "from scipy.interpolate import splrep, splev, RBFInterpolator\n",
    "from tqdm.notebook import tqdm\n",
    "\n",
    "from adaptive_time.utils import set_directory_in_project\n",
    "\n",
    "\n",
    "sns.set_style(\"darkgrid\")\n",
    "sns.set_palette(\"colorblind\")"
   ]
  },
  {
   "cell_type": "code",
   "execution_count": 2,
   "metadata": {},
   "outputs": [
    {
     "name": "stdout",
     "output_type": "stream",
     "text": [
      "Changed working directory to /home/bryanpu1/projects/adaptive_time\n"
     ]
    },
    {
     "data": {
      "text/plain": [
       "'/home/bryanpu1/projects/adaptive_time'"
      ]
     },
     "execution_count": 2,
     "metadata": {},
     "output_type": "execute_result"
    }
   ],
   "source": [
    "set_directory_in_project()"
   ]
  },
  {
   "cell_type": "code",
   "execution_count": 3,
   "metadata": {},
   "outputs": [],
   "source": [
    "from sklearn.preprocessing import PolynomialFeatures\n",
    "from sklearn.linear_model import LinearRegression\n",
    "from joblib import Parallel, delayed"
   ]
  },
  {
   "cell_type": "code",
   "execution_count": 4,
   "metadata": {},
   "outputs": [
    {
     "data": {
      "text/plain": [
       "array([0.00000000e+00, 1.82319895e-05, 3.64636465e-05, ...,\n",
       "       5.98100446e-01, 5.98107774e-01, 5.98115101e-01])"
      ]
     },
     "execution_count": 4,
     "metadata": {},
     "output_type": "execute_result"
    }
   ],
   "source": [
    "1 - np.power(1.2, -np.arange(50000) / 10000)"
   ]
  },
  {
   "cell_type": "code",
   "execution_count": 7,
   "metadata": {},
   "outputs": [],
   "source": [
    "os.makedirs(\"./smoothed_data\", exist_ok=True)"
   ]
  },
  {
   "cell_type": "code",
   "execution_count": 9,
   "metadata": {},
   "outputs": [
    {
     "data": {
      "application/vnd.jupyter.widget-view+json": {
       "model_id": "44d0453120104c859a0d694f25d52d53",
       "version_major": 2,
       "version_minor": 0
      },
      "text/plain": [
       "  0%|          | 0/4 [00:00<?, ?it/s]"
      ]
     },
     "metadata": {},
     "output_type": "display_data"
    },
    {
     "name": "stderr",
     "output_type": "stream",
     "text": [
      "/home/bryanpu1/.conda/envs/adaptive_time/lib/python3.10/site-packages/joblib/externals/loky/backend/fork_exec.py:38: RuntimeWarning: os.fork() was called. os.fork() is incompatible with multithreaded code, and JAX is multithreaded, so this will likely lead to a deadlock.\n",
      "  pid = os.fork()\n"
     ]
    }
   ],
   "source": [
    "env_names = {\n",
    "    \"swimmer-v3\": (40000, 7, 1.3),\n",
    "    \"hopper-v3\": (50000, 7, 1.3),\n",
    "    \"ant-v3\": (50000, 5, 1.3),\n",
    "    \"cheetah-v3\": (50000, 5, 1.3),\n",
    "}\n",
    "num_seeds = 10\n",
    "\n",
    "def smooth_rewards(\n",
    "    env_name: str,\n",
    "    timesteps: int,\n",
    "    degree: int,\n",
    "    base: float,\n",
    "    seed: int,\n",
    "):\n",
    "    data = np.load(\"./data/{}/Rewards_{}_1000_{}.npy\".format(env_name, timesteps, seed)).T\n",
    "    smoothed_data = []\n",
    "\n",
    "    poly = PolynomialFeatures(degree=degree)\n",
    "    for traj_i in data:\n",
    "        x_range = 1 - np.power(base, -np.arange(len(traj_i)) / 10000)\n",
    "        x_range = x_range[:, None]\n",
    "        features = poly.fit_transform(x_range)\n",
    "        model = LinearRegression()\n",
    "        model.fit(features, traj_i)\n",
    "        smoothed_data.append(model.predict(features))\n",
    "\n",
    "    smoothed_data = np.array(smoothed_data)\n",
    "    np.save(\"./smoothed_data/{}/Rewards_{}_1000_{}-smoothed.npy\".format(env_name, timesteps, seed), smoothed_data.T)\n",
    "\n",
    "for env_name, (timesteps, degree, base) in tqdm(env_names.items()):\n",
    "    os.makedirs(\"./smoothed_data/{}\".format(env_name), exist_ok=True)\n",
    "    Parallel(\n",
    "        n_jobs=num_seeds\n",
    "    )(\n",
    "        delayed(smooth_rewards)(\n",
    "            env_name,\n",
    "            timesteps,\n",
    "            degree,\n",
    "            base,\n",
    "            seed,\n",
    "        )\n",
    "        for seed in range(num_seeds)\n",
    "    )"
   ]
  },
  {
   "cell_type": "code",
   "execution_count": null,
   "metadata": {},
   "outputs": [],
   "source": [
    "assert 0"
   ]
  },
  {
   "cell_type": "code",
   "execution_count": null,
   "metadata": {},
   "outputs": [],
   "source": [
    "env_names = {\n",
    "    \"swimmer-v3\": (40000, 7500),\n",
    "    \"hopper-v3\": (50000, 1000),\n",
    "    \"ant-v3\": (50000, 1000),\n",
    "    \"cheetah-v3\": (50000, 1000),\n",
    "}\n",
    "num_seeds = 10\n",
    "for seed in range(num_seeds):\n",
    "    for env_name, (timesteps, kernel_size) in tqdm(env_names.items()):\n",
    "        data = np.load(\"./data/{}/Rewards_{}_1000_{}.npy\".format(env_name, timesteps, seed)).T\n",
    "        kernel = np.ones(kernel_size) / kernel_size\n",
    "        smoothed_data = jax.vmap(partial(jax.numpy.convolve, mode=\"same\"), in_axes=[0, None])(data, kernel)\n",
    "\n",
    "        ncols = 4\n",
    "        fig, axes = plt.subplots(nrows=5, ncols=ncols, figsize=(25, 15), layout=\"constrained\")\n",
    "\n",
    "        for traj_i in range(20):\n",
    "            ax = axes[traj_i // ncols, traj_i % ncols]\n",
    "            ax.plot(smoothed_data[traj_i])\n",
    "        plt.title(\"{} {}\".format(env_name, seed))\n",
    "        plt.show()\n",
    "\n",
    "        np.save(\"./data/{}/Rewards_{}_1000_{}-smoothed.npy\".format(env_name, timesteps, seed), smoothed_data.T)"
   ]
  },
  {
   "cell_type": "code",
   "execution_count": null,
   "metadata": {},
   "outputs": [],
   "source": []
  },
  {
   "cell_type": "code",
   "execution_count": null,
   "metadata": {},
   "outputs": [],
   "source": []
  }
 ],
 "metadata": {
  "kernelspec": {
   "display_name": "adaptive_time",
   "language": "python",
   "name": "python3"
  },
  "language_info": {
   "codemirror_mode": {
    "name": "ipython",
    "version": 3
   },
   "file_extension": ".py",
   "mimetype": "text/x-python",
   "name": "python",
   "nbconvert_exporter": "python",
   "pygments_lexer": "ipython3",
   "version": "3.10.13"
  }
 },
 "nbformat": 4,
 "nbformat_minor": 2
}
