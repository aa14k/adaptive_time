{
  "cells": [
    {
      "cell_type": "markdown",
      "metadata": {
        "colab_type": "text",
        "id": "view-in-github"
      },
      "source": [
        "<a href=\"https://colab.research.google.com/github/aa14k/adaptive_time/blob/main/code/adaptive_time/notebooks/tradeoff.ipynb\" target=\"_parent\"><img src=\"https://colab.research.google.com/assets/colab-badge.svg\" alt=\"Open In Colab\"/></a>"
      ]
    },
    {
      "cell_type": "code",
      "execution_count": null,
      "metadata": {
        "colab": {
          "base_uri": "https://localhost:8080/"
        },
        "id": "_VNY50NiyKz1",
        "outputId": "a3e5512f-2f7f-4b26-b8f2-b79ad71addbd"
      },
      "outputs": [],
      "source": [
        "%pip install -e code\n"
      ]
    },
    {
      "cell_type": "code",
      "execution_count": null,
      "metadata": {
        "id": "Y1WTtJsbdw0u"
      },
      "outputs": [],
      "source": [
        "# %pip install matplotlib"
      ]
    },
    {
      "cell_type": "code",
      "execution_count": null,
      "metadata": {
        "id": "E38B_KqOyKz2"
      },
      "outputs": [],
      "source": [
        "from importlib import reload\n",
        "\n",
        "from pprint import pprint\n",
        "\n",
        "import argparse\n",
        "import json\n",
        "import numpy as np\n",
        "\n",
        "from adaptive_time.environment import MountainCar\n",
        "from adaptive_time.monte_carlo import mc_policy_iteration\n",
        "from adaptive_time.samplers import UniformSampler\n",
        "from adaptive_time.sarsa import sarsa\n",
        "from adaptive_time.q_functions import MountainCarTileCodingQ\n",
        "from adaptive_time.utils import parse_dict\n",
        "\n"
      ]
    },
    {
      "cell_type": "code",
      "execution_count": null,
      "metadata": {
        "id": "wpn_Lthydsmp"
      },
      "outputs": [],
      "source": [
        "import matplotlib.pyplot as plt\n",
        "import copy"
      ]
    },
    {
      "cell_type": "code",
      "execution_count": null,
      "metadata": {
        "colab": {
          "base_uri": "https://localhost:8080/"
        },
        "id": "pnw-HPpm2gLD",
        "outputId": "1fe1d097-de91-4abe-f572-c3dafd6c3b45"
      },
      "outputs": [],
      "source": [
        "config_file = \"code/adaptive_time/configs/sarsa_tilecoding.json\"\n",
        "with open(config_file, \"r\") as f:\n",
        "    config_dict = json.load(f)\n",
        "\n",
        "pprint(config_dict)"
      ]
    },
    {
      "cell_type": "code",
      "execution_count": null,
      "metadata": {
        "id": "SsYFjg9Bffgs"
      },
      "outputs": [],
      "source": [
        "def setup(config):\n",
        "  if config.env == \"mountain_car\":\n",
        "    q_function = MountainCarTileCodingQ(config.agent_config)\n",
        "    env = MountainCar(**vars(config.env_kwargs))\n",
        "  else:\n",
        "    raise ValueError(f\"Unsupported env: {config.env}\")\n",
        "\n",
        "  if config.sampler_config.sampler == \"uniform\":\n",
        "      observation_sampler = UniformSampler(\n",
        "          env.horizon - 1,\n",
        "          config.sampler_config.sampler_kwargs.spacing,\n",
        "      )\n",
        "  else:\n",
        "      raise NotImplementedError\n",
        "\n",
        "  return q_function, env, observation_sampler\n",
        "\n"
      ]
    },
    {
      "cell_type": "code",
      "execution_count": null,
      "metadata": {
        "colab": {
          "base_uri": "https://localhost:8080/"
        },
        "id": "zJ_XSqP6arsU",
        "outputId": "ba3a284c-6cc9-4a85-eeb6-ea606b3a66f8"
      },
      "outputs": [],
      "source": [
        "# config_dict['budget'] = 1000\n",
        "# config_dict['log_frequency'] = 1000\n",
        "config_dict['budget'] = 200001\n",
        "config_dict['log_frequency'] = 50000\n",
        "\n",
        "sampler_spacing_tries = [100]\n",
        "# sampler_spacing_tries = [1, 10, 100]\n",
        "dt_sec = 0.01\n",
        "\n",
        "results = []\n",
        "for spacing in sampler_spacing_tries:\n",
        "  cur_copy = copy.deepcopy(config_dict)\n",
        "  cur_copy['sampler_config']['sampler_kwargs']['spacing'] = spacing\n",
        "  cur_copy['env_kwargs']['dt_sec'] = dt_sec\n",
        "  cur_copy['use_action_repeat'] = True\n",
        "  config = parse_dict(cur_copy)\n",
        "  q_function, env, observation_sampler = setup(config)\n",
        "\n",
        "  np.random.seed(config.seed)\n",
        "  print()\n",
        "  print(f\"  ::   Starting run with spacing={spacing}   ::  \")\n",
        "\n",
        "  cum_samples, ep_returns = sarsa(\n",
        "      env=env,\n",
        "      q_function=q_function,\n",
        "      observation_sampler=observation_sampler,\n",
        "      config=config,\n",
        "  )\n",
        "\n",
        "  results.append((cum_samples, ep_returns, f\"spacing={spacing}\"))\n"
      ]
    },
    {
      "cell_type": "code",
      "execution_count": null,
      "metadata": {
        "id": "YkWbXXy4clBb"
      },
      "outputs": [],
      "source": []
    },
    {
      "cell_type": "code",
      "execution_count": null,
      "metadata": {
        "id": "4Bmz3CqlclLJ"
      },
      "outputs": [],
      "source": [
        "def plot_performance(tuples_of_x_and_y_and_labels, title=None):\n",
        "\n",
        "    ax = plt.gca()\n",
        "    ax.spines['top'].set_visible(False)\n",
        "    ax.spines['right'].set_visible(False)\n",
        "\n",
        "    for x, y, label in tuples_of_x_and_y_and_labels:\n",
        "        plt.plot(x, y, label=label)\n",
        "\n",
        "    # if ylim:\n",
        "    #     plt.ylim(-0.05, 0.5)\n",
        "    # ax.grid(visible=True, axis='y', alpha=0.5, linestyle='--')\n",
        "    # plt.xlim(-1000, 80_000)\n",
        "\n",
        "    plt.ylabel('Episode\\nReturn', rotation=0, labelpad=40)\n",
        "    plt.xlabel('Number of Samples')\n",
        "    plt.legend()\n",
        "\n",
        "    if title is not None:\n",
        "      plt.title(title)\n",
        "\n",
        "    plt.show()"
      ]
    },
    {
      "cell_type": "code",
      "execution_count": null,
      "metadata": {
        "colab": {
          "base_uri": "https://localhost:8080/",
          "height": 472
        },
        "id": "16slvZZZ2qCv",
        "outputId": "aea486a8-e60b-4bdb-b0ce-7b3b36908443"
      },
      "outputs": [],
      "source": [
        "plot_performance(\n",
        "    results,\n",
        "    title=f\"Budget: {config_dict['budget']}; uniform spacing; dt={dt_sec}\")\n"
      ]
    },
    {
      "cell_type": "code",
      "execution_count": null,
      "metadata": {
        "colab": {
          "base_uri": "https://localhost:8080/"
        },
        "id": "r4oaoASWtdkt",
        "outputId": "00a10e3b-5afd-4e54-890d-7a6e0304993b"
      },
      "outputs": [],
      "source": [
        "print(np.mean(results[0][1]))\n",
        "print(np.mean(results[1][1]))\n",
        "print(np.mean(results[2][1]))\n",
        "\n",
        "\n"
      ]
    },
    {
      "cell_type": "code",
      "execution_count": null,
      "metadata": {
        "id": "4jhYFqJ12qIu"
      },
      "outputs": [],
      "source": []
    },
    {
      "cell_type": "markdown",
      "metadata": {
        "id": "1dZcgTA62gRX"
      },
      "source": [
        "## Path Figuring Out"
      ]
    },
    {
      "cell_type": "code",
      "execution_count": null,
      "metadata": {
        "id": "IJm7NrWFyKz2"
      },
      "outputs": [],
      "source": [
        "import os\n",
        "import sys\n",
        "\n",
        "# Print the working directory\n",
        "print(\"Working Directory:\", os.getcwd())\n",
        "\n",
        "# Print the paths for imports\n",
        "print(\"Import Paths:\")\n",
        "for path in sys.path:\n",
        "    print(path)\n"
      ]
    },
    {
      "cell_type": "code",
      "execution_count": null,
      "metadata": {
        "id": "rTR2gCsNyKz3"
      },
      "outputs": [],
      "source": []
    }
  ],
  "metadata": {
    "colab": {
      "include_colab_link": true,
      "provenance": []
    },
    "kernelspec": {
      "display_name": ".venv",
      "language": "python",
      "name": "python3"
    },
    "language_info": {
      "codemirror_mode": {
        "name": "ipython",
        "version": 3
      },
      "file_extension": ".py",
      "mimetype": "text/x-python",
      "name": "python",
      "nbconvert_exporter": "python",
      "pygments_lexer": "ipython3",
      "version": "3.9.6"
    }
  },
  "nbformat": 4,
  "nbformat_minor": 0
}
