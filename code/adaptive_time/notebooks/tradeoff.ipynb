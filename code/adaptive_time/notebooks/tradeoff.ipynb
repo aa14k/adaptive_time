{
 "cells": [
  {
   "cell_type": "code",
   "execution_count": 3,
   "metadata": {},
   "outputs": [
    {
     "name": "stdout",
     "output_type": "stream",
     "text": [
      "Obtaining file:///Users/szepi1991/Code/adaptive_time/code\n",
      "  Installing build dependencies ... \u001b[?25ldone\n",
      "\u001b[?25h  Checking if build backend supports build_editable ... \u001b[?25ldone\n",
      "\u001b[?25h  Getting requirements to build editable ... \u001b[?25ldone\n",
      "\u001b[?25h  Installing backend dependencies ... \u001b[?25ldone\n",
      "\u001b[?25h  Preparing editable metadata (pyproject.toml) ... \u001b[?25ldone\n",
      "\u001b[?25hBuilding wheels for collected packages: adaptive_time\n",
      "  Building editable for adaptive_time (pyproject.toml) ... \u001b[?25ldone\n",
      "\u001b[?25h  Created wheel for adaptive_time: filename=adaptive_time-0.1-0.editable-py3-none-any.whl size=2569 sha256=a8be201b25daf266a493056f8b758e59a0aaa9affa47e245fd7ccafdfac5135f\n",
      "  Stored in directory: /private/var/folders/xt/69nn93l959l31g_3b686nmsr0000gn/T/pip-ephem-wheel-cache-gnxt1gnm/wheels/07/43/56/a4aec053025de0632e0ed94a57fc42e37d9d73a60353c313a2\n",
      "Successfully built adaptive_time\n",
      "Installing collected packages: adaptive_time\n",
      "Successfully installed adaptive_time-0.1\n"
     ]
    }
   ],
   "source": [
    "%pip install -e .\n"
   ]
  },
  {
   "cell_type": "code",
   "execution_count": 6,
   "metadata": {},
   "outputs": [],
   "source": [
    "from adaptive_time.environment import MountainCar\n"
   ]
  },
  {
   "cell_type": "code",
   "execution_count": 1,
   "metadata": {},
   "outputs": [
    {
     "name": "stdout",
     "output_type": "stream",
     "text": [
      "Working Directory: /Users/szepi1991/Code/adaptive_time/code\n",
      "Import Paths:\n",
      "/Users/szepi1991/Code/adaptive_time/code\n",
      "/opt/homebrew/Cellar/python@3.11/3.11.7_1/Frameworks/Python.framework/Versions/3.11/lib/python311.zip\n",
      "/opt/homebrew/Cellar/python@3.11/3.11.7_1/Frameworks/Python.framework/Versions/3.11/lib/python3.11\n",
      "/opt/homebrew/Cellar/python@3.11/3.11.7_1/Frameworks/Python.framework/Versions/3.11/lib/python3.11/lib-dynload\n",
      "\n",
      "/Users/szepi1991/Code/adaptive_time/.venv/lib/python3.11/site-packages\n"
     ]
    }
   ],
   "source": [
    "import os\n",
    "import sys\n",
    "\n",
    "# Print the working directory\n",
    "print(\"Working Directory:\", os.getcwd())\n",
    "\n",
    "# Print the paths for imports\n",
    "print(\"Import Paths:\")\n",
    "for path in sys.path:\n",
    "    print(path)\n"
   ]
  },
  {
   "cell_type": "code",
   "execution_count": 2,
   "metadata": {},
   "outputs": [
    {
     "name": "stdout",
     "output_type": "stream",
     "text": [
      "tes\n"
     ]
    }
   ],
   "source": [
    "print('tes')"
   ]
  },
  {
   "cell_type": "code",
   "execution_count": null,
   "metadata": {},
   "outputs": [],
   "source": []
  }
 ],
 "metadata": {
  "kernelspec": {
   "display_name": ".venv",
   "language": "python",
   "name": "python3"
  },
  "language_info": {
   "codemirror_mode": {
    "name": "ipython",
    "version": 3
   },
   "file_extension": ".py",
   "mimetype": "text/x-python",
   "name": "python",
   "nbconvert_exporter": "python",
   "pygments_lexer": "ipython3",
   "version": "3.11.7"
  }
 },
 "nbformat": 4,
 "nbformat_minor": 2
}
