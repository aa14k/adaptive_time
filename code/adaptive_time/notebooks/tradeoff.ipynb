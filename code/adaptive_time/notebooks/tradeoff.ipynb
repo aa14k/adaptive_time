{
  "cells": [
    {
      "cell_type": "markdown",
      "metadata": {
        "id": "view-in-github",
        "colab_type": "text"
      },
      "source": [
        "<a href=\"https://colab.research.google.com/github/aa14k/adaptive_time/blob/main/code/adaptive_time/notebooks/tradeoff.ipynb\" target=\"_parent\"><img src=\"https://colab.research.google.com/assets/colab-badge.svg\" alt=\"Open In Colab\"/></a>"
      ]
    },
    {
      "cell_type": "code",
      "execution_count": 1,
      "metadata": {
        "id": "_VNY50NiyKz1",
        "outputId": "a3e5512f-2f7f-4b26-b8f2-b79ad71addbd",
        "colab": {
          "base_uri": "https://localhost:8080/"
        }
      },
      "outputs": [
        {
          "output_type": "stream",
          "name": "stdout",
          "text": [
            "Obtaining file:///Users/szepi1991/Code/adaptive_time/code\n",
            "  Installing build dependencies ... \u001b[?25l-\b \b\\\b \b|\b \bdone\n",
            "\u001b[?25h  Checking if build backend supports build_editable ... \u001b[?25ldone\n",
            "\u001b[?25h  Getting requirements to build editable ... \u001b[?25l-\b \bdone\n",
            "\u001b[?25h  Installing backend dependencies ... \u001b[?25l-\b \b\\\b \bdone\n",
            "\u001b[?25h  Preparing editable metadata (pyproject.toml) ... \u001b[?25l-\b \bdone\n",
            "\u001b[?25hBuilding wheels for collected packages: adaptive_time\n",
            "  Building editable for adaptive_time (pyproject.toml) ... \u001b[?25l-\b \bdone\n",
            "\u001b[?25h  Created wheel for adaptive_time: filename=adaptive_time-0.1-0.editable-py3-none-any.whl size=2569 sha256=28588115ccb8ef504bd3e00208b198f2f713980d5ff6bb4de9357eb82478e00a\n",
            "  Stored in directory: /private/var/folders/xt/69nn93l959l31g_3b686nmsr0000gn/T/pip-ephem-wheel-cache-s8bapjag/wheels/07/43/56/a4aec053025de0632e0ed94a57fc42e37d9d73a60353c313a2\n",
            "Successfully built adaptive_time\n",
            "Installing collected packages: adaptive_time\n",
            "  Attempting uninstall: adaptive_time\n",
            "    Found existing installation: adaptive_time 0.1\n",
            "    Uninstalling adaptive_time-0.1:\n",
            "      Successfully uninstalled adaptive_time-0.1\n",
            "Successfully installed adaptive_time-0.1\n",
            "Note: you may need to restart the kernel to use updated packages.\n"
          ]
        }
      ],
      "source": [
        "%pip install -e code\n"
      ]
    },
    {
      "cell_type": "code",
      "source": [
        "# %pip install matplotlib"
      ],
      "metadata": {
        "id": "Y1WTtJsbdw0u"
      },
      "execution_count": 2,
      "outputs": []
    },
    {
      "cell_type": "code",
      "execution_count": 3,
      "metadata": {
        "id": "E38B_KqOyKz2"
      },
      "outputs": [],
      "source": [
        "from importlib import reload\n",
        "\n",
        "from pprint import pprint\n",
        "\n",
        "import argparse\n",
        "import json\n",
        "import numpy as np\n",
        "\n",
        "from adaptive_time.environment import MountainCar\n",
        "from adaptive_time.monte_carlo import mc_policy_iteration\n",
        "from adaptive_time.samplers import UniformSampler\n",
        "from adaptive_time.sarsa import sarsa\n",
        "from adaptive_time.q_functions import MountainCarTileCodingQ\n",
        "from adaptive_time.utils import parse_dict\n",
        "\n"
      ]
    },
    {
      "cell_type": "code",
      "source": [
        "import matplotlib.pyplot as plt\n",
        "import copy"
      ],
      "metadata": {
        "id": "wpn_Lthydsmp"
      },
      "execution_count": 4,
      "outputs": []
    },
    {
      "cell_type": "code",
      "source": [
        "config_file = \"code/adaptive_time/configs/sarsa_tilecoding.json\"\n",
        "with open(config_file, \"r\") as f:\n",
        "    config_dict = json.load(f)\n",
        "\n",
        "pprint(config_dict)"
      ],
      "metadata": {
        "id": "pnw-HPpm2gLD",
        "outputId": "1fe1d097-de91-4abe-f572-c3dafd6c3b45",
        "colab": {
          "base_uri": "https://localhost:8080/"
        }
      },
      "execution_count": 5,
      "outputs": [
        {
          "output_type": "stream",
          "name": "stdout",
          "text": [
            "{'agent_config': {'action_space': [-1, 0, 1],\n",
            "                  'iht_size': 4096,\n",
            "                  'learning_rate': 0.0625,\n",
            "                  'num_tiles': 8,\n",
            "                  'num_tilings': 8,\n",
            "                  'param_init_mean': 0,\n",
            "                  'param_init_std': 0.0,\n",
            "                  'q_function': 'tile_coding',\n",
            "                  'seed': 1,\n",
            "                  'update_rule': 'sarsa'},\n",
            " 'budget': 200000,\n",
            " 'env': 'mountain_car',\n",
            " 'env_kwargs': {'horizon_sec': 200},\n",
            " 'log_frequency': 10000,\n",
            " 'sampler_config': {'sampler': 'uniform', 'sampler_kwargs': {'spacing': 1}},\n",
            " 'seed': 1}\n"
          ]
        }
      ]
    },
    {
      "cell_type": "code",
      "source": [
        "def setup(config):\n",
        "  if config.env == \"mountain_car\":\n",
        "    q_function = MountainCarTileCodingQ(config.agent_config)\n",
        "    env = MountainCar(**vars(config.env_kwargs))\n",
        "  else:\n",
        "    raise ValueError(f\"Unsupported env: {config.env}\")\n",
        "\n",
        "  if config.sampler_config.sampler == \"uniform\":\n",
        "      observation_sampler = UniformSampler(\n",
        "          env.horizon - 1,\n",
        "          config.sampler_config.sampler_kwargs.spacing,\n",
        "      )\n",
        "  else:\n",
        "      raise NotImplementedError\n",
        "\n",
        "  return q_function, env, observation_sampler\n",
        "\n"
      ],
      "metadata": {
        "id": "SsYFjg9Bffgs"
      },
      "execution_count": 20,
      "outputs": []
    },
    {
      "cell_type": "code",
      "source": [
        "# config_dict['budget'] = 1000\n",
        "# config_dict['log_frequency'] = 1000\n",
        "config_dict['budget'] = 200001\n",
        "config_dict['log_frequency'] = 50000\n",
        "\n",
        "sampler_spacing_tries = [100]\n",
        "# sampler_spacing_tries = [1, 10, 100]\n",
        "dt_sec = 0.01\n",
        "\n",
        "results = []\n",
        "for spacing in sampler_spacing_tries:\n",
        "  cur_copy = copy.deepcopy(config_dict)\n",
        "  cur_copy['sampler_config']['sampler_kwargs']['spacing'] = spacing\n",
        "  cur_copy['env_kwargs']['dt_sec'] = dt_sec\n",
        "  cur_copy['use_action_repeat'] = True\n",
        "  config = parse_dict(cur_copy)\n",
        "  q_function, env, observation_sampler = setup(config)\n",
        "\n",
        "  np.random.seed(config.seed)\n",
        "  print()\n",
        "  print(f\"  ::   Starting run with spacing={spacing}   ::  \")\n",
        "\n",
        "  cum_samples, ep_returns = sarsa(\n",
        "      env=env,\n",
        "      q_function=q_function,\n",
        "      observation_sampler=observation_sampler,\n",
        "      config=config,\n",
        "  )\n",
        "\n",
        "  results.append((cum_samples, ep_returns, f\"spacing={spacing}\"))\n"
      ],
      "metadata": {
        "id": "zJ_XSqP6arsU",
        "outputId": "ba3a284c-6cc9-4a85-eeb6-ea606b3a66f8",
        "colab": {
          "base_uri": "https://localhost:8080/"
        }
      },
      "execution_count": 29,
      "outputs": [
        {
          "output_type": "stream",
          "name": "stdout",
          "text": [
            "\n",
            "  ::   Starting run with spacing=100   ::  \n",
            "Sample 0 ====================================\n",
            "{'curr_tx': {'act': 1,\n",
            "             'curr_obs': [-0.5, 0.0],\n",
            "             'done': False,\n",
            "             'next_obs': array([-5.00000018e-01, -1.76843004e-06]),\n",
            "             'rew': -1.0},\n",
            " 'next_q_val': 0.0,\n",
            " 'next_tx': {'act': 0,\n",
            "             'curr_obs': array([-5.00000018e-01, -1.76843004e-06]),\n",
            "             'done': False,\n",
            "             'next_obs': array([-5.00144481e-01, -2.48214894e-04]),\n",
            "             'rew': -1.0},\n",
            " 'param_norms': array([ 0.        , 17.67766953,  0.        ]),\n",
            " 'q_val': 0.0,\n",
            " 'target': -100.0,\n",
            " 'td_error': -100.0,\n",
            " 'update_norm': 282.842712474619}\n",
            "Most recent 5 returns: []\n",
            "Sample 50000 ====================================\n",
            "{'curr_tx': {'act': 2,\n",
            "             'curr_obs': [-0.5, 0.0],\n",
            "             'done': False,\n",
            "             'next_obs': array([-4.99999918e-01,  8.23156996e-06]),\n",
            "             'rew': -1.0},\n",
            " 'next_q_val': -13746.554942898776,\n",
            " 'next_tx': {'act': 2,\n",
            "             'curr_obs': array([-4.99999918e-01,  8.23156996e-06]),\n",
            "             'done': False,\n",
            "             'next_obs': array([-0.49957626,  0.00083033]),\n",
            "             'rew': -1.0},\n",
            " 'param_norms': array([16003.85764451, 16035.97733023, 15349.12629708]),\n",
            " 'q_val': -13746.554942898776,\n",
            " 'target': -13846.554942898776,\n",
            " 'td_error': -100.0,\n",
            " 'update_norm': 282.842712474619}\n",
            "Most recent 5 returns: [-15700.0, -15000.0, -15000.0, -14600.0, -16100.0]\n",
            "Sample 100000 ====================================\n",
            "{'curr_tx': {'act': 2,\n",
            "             'curr_obs': [-0.5, 0.0],\n",
            "             'done': False,\n",
            "             'next_obs': array([-4.99999918e-01,  8.23156996e-06]),\n",
            "             'rew': -1.0},\n",
            " 'next_q_val': -11760.536962228683,\n",
            " 'next_tx': {'act': 2,\n",
            "             'curr_obs': array([-4.99999918e-01,  8.23156996e-06]),\n",
            "             'done': False,\n",
            "             'next_obs': array([-0.49957626,  0.00083033]),\n",
            "             'rew': -1.0},\n",
            " 'param_norms': array([21809.70892435, 22894.99022427, 20166.72756483]),\n",
            " 'q_val': -11760.536962228683,\n",
            " 'target': -11860.536962228683,\n",
            " 'td_error': -100.0,\n",
            " 'update_norm': 282.842712474619}\n",
            "Most recent 5 returns: [-19999.0, -19999.0, -19999.0, -19999.0, -19999.0]\n",
            "Sample 150000 ====================================\n",
            "{'curr_tx': {'act': 1,\n",
            "             'curr_obs': [-0.5, 0.0],\n",
            "             'done': False,\n",
            "             'next_obs': array([-5.00000018e-01, -1.76843004e-06]),\n",
            "             'rew': -1.0},\n",
            " 'next_q_val': -13852.525689427832,\n",
            " 'next_tx': {'act': 1,\n",
            "             'curr_obs': array([-5.00000018e-01, -1.76843004e-06]),\n",
            "             'done': False,\n",
            "             'next_obs': array([-5.00091033e-01, -1.78384360e-04]),\n",
            "             'rew': -1.0},\n",
            " 'param_norms': array([22932.31533872, 22403.26460818, 22827.80506606]),\n",
            " 'q_val': -11632.521539841435,\n",
            " 'target': -13952.525689427832,\n",
            " 'td_error': -2320.004149586397,\n",
            " 'update_norm': 6561.962666213883}\n",
            "Most recent 5 returns: [-19999.0, -19999.0, -19999.0, -19999.0, -19999.0]\n",
            "Sample 200000 ====================================\n",
            "{'curr_tx': {'act': 1,\n",
            "             'curr_obs': [-0.5, 0.0],\n",
            "             'done': False,\n",
            "             'next_obs': array([-5.00000018e-01, -1.76843004e-06]),\n",
            "             'rew': -1.0},\n",
            " 'next_q_val': -13852.525689427832,\n",
            " 'next_tx': {'act': 1,\n",
            "             'curr_obs': array([-5.00000018e-01, -1.76843004e-06]),\n",
            "             'done': False,\n",
            "             'next_obs': array([-5.00091033e-01, -1.78384360e-04]),\n",
            "             'rew': -1.0},\n",
            " 'param_norms': array([22932.31533872, 22403.26460818, 22827.80506606]),\n",
            " 'q_val': -11632.521539841435,\n",
            " 'target': -13952.525689427832,\n",
            " 'td_error': -2320.004149586397,\n",
            " 'update_norm': 6561.962666213883}\n",
            "Most recent 5 returns: [-19999.0, -19999.0, -19999.0, -19999.0, -19999.0]\n"
          ]
        }
      ]
    },
    {
      "cell_type": "code",
      "source": [],
      "metadata": {
        "id": "YkWbXXy4clBb"
      },
      "execution_count": 29,
      "outputs": []
    },
    {
      "cell_type": "code",
      "source": [
        "def plot_performance(tuples_of_x_and_y_and_labels, title=None):\n",
        "\n",
        "    ax = plt.gca()\n",
        "    ax.spines['top'].set_visible(False)\n",
        "    ax.spines['right'].set_visible(False)\n",
        "\n",
        "    for x, y, label in tuples_of_x_and_y_and_labels:\n",
        "        plt.plot(x, y, label=label)\n",
        "\n",
        "    # if ylim:\n",
        "    #     plt.ylim(-0.05, 0.5)\n",
        "    # ax.grid(visible=True, axis='y', alpha=0.5, linestyle='--')\n",
        "    # plt.xlim(-1000, 80_000)\n",
        "\n",
        "    plt.ylabel('Episode\\nReturn', rotation=0, labelpad=40)\n",
        "    plt.xlabel('Number of Samples')\n",
        "    plt.legend()\n",
        "\n",
        "    if title is not None:\n",
        "      plt.title(title)\n",
        "\n",
        "    plt.show()"
      ],
      "metadata": {
        "id": "4Bmz3CqlclLJ"
      },
      "execution_count": 30,
      "outputs": []
    },
    {
      "cell_type": "code",
      "source": [
        "plot_performance(\n",
        "    results,\n",
        "    title=f\"Budget: {config_dict['budget']}; uniform spacing; dt={dt_sec}\")\n"
      ],
      "metadata": {
        "id": "16slvZZZ2qCv",
        "outputId": "aea486a8-e60b-4bdb-b0ce-7b3b36908443",
        "colab": {
          "base_uri": "https://localhost:8080/",
          "height": 472
        }
      },
      "execution_count": 31,
      "outputs": [
        {
          "output_type": "display_data",
          "data": {
            "text/plain": [
              "<Figure size 640x480 with 1 Axes>"
            ],
            "image/png": "[encoded data removed]"
          },
          "metadata": {}
        }
      ]
    },
    {
      "cell_type": "code",
      "source": [
        "print(np.mean(results[0][1]))\n",
        "print(np.mean(results[1][1]))\n",
        "print(np.mean(results[2][1]))\n",
        "\n",
        "\n"
      ],
      "metadata": {
        "colab": {
          "base_uri": "https://localhost:8080/"
        },
        "id": "r4oaoASWtdkt",
        "outputId": "00a10e3b-5afd-4e54-890d-7a6e0304993b"
      },
      "execution_count": 28,
      "outputs": [
        {
          "output_type": "stream",
          "name": "stdout",
          "text": [
            "-19999.0\n",
            "-19870.43\n",
            "-18860.569\n"
          ]
        }
      ]
    },
    {
      "cell_type": "code",
      "source": [],
      "metadata": {
        "id": "4jhYFqJ12qIu"
      },
      "execution_count": null,
      "outputs": []
    },
    {
      "cell_type": "markdown",
      "source": [
        "## Path Figuring Out"
      ],
      "metadata": {
        "id": "1dZcgTA62gRX"
      }
    },
    {
      "cell_type": "code",
      "execution_count": null,
      "metadata": {
        "id": "IJm7NrWFyKz2"
      },
      "outputs": [],
      "source": [
        "import os\n",
        "import sys\n",
        "\n",
        "# Print the working directory\n",
        "print(\"Working Directory:\", os.getcwd())\n",
        "\n",
        "# Print the paths for imports\n",
        "print(\"Import Paths:\")\n",
        "for path in sys.path:\n",
        "    print(path)\n"
      ]
    },
    {
      "cell_type": "code",
      "execution_count": null,
      "metadata": {
        "id": "rTR2gCsNyKz3"
      },
      "outputs": [],
      "source": []
    }
  ],
  "metadata": {
    "kernelspec": {
      "display_name": ".venv",
      "language": "python",
      "name": "python3"
    },
    "language_info": {
      "codemirror_mode": {
        "name": "ipython",
        "version": 3
      },
      "file_extension": ".py",
      "mimetype": "text/x-python",
      "name": "python",
      "nbconvert_exporter": "python",
      "pygments_lexer": "ipython3",
      "version": "3.11.7"
    },
    "colab": {
      "provenance": [],
      "include_colab_link": true
    }
  },
  "nbformat": 4,
  "nbformat_minor": 0
}