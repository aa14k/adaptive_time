{
 "cells": [
  {
   "cell_type": "markdown",
   "metadata": {},
   "source": [
    "# Plots of Trade-offs\n",
    "\n",
    "In this notebook we compare different time discretization methods. First, we collect\n",
    "a trajectory data from the environment at a fine discretization level (this is also\n",
    "the discretization level we run the policy at -- right now, anyway). Then we compare:\n",
    "\n",
    "1. Using uniform discretization at different granularities, e.g. updating with every\n",
    "    1st, 10th, 100th, ...? interactions.\n",
    "2. Using the adaptive method with different tolarances.\n",
    "\n",
    "In order to average out randomness, we'll repeat each setting 3 times for now."
   ]
  },
  {
   "cell_type": "code",
   "execution_count": 1,
   "metadata": {},
   "outputs": [],
   "source": [
    "import gymnasium as gym\n",
    "from adaptive_time.features import Fourier_Features\n",
    "import numpy as np\n",
    "from tqdm.notebook import tqdm\n",
    "\n",
    "import matplotlib.pyplot as plt\n",
    "import random\n",
    "from joblib import Parallel, delayed\n",
    "\n",
    "import adaptive_time.utils\n",
    "from adaptive_time import environments\n",
    "from adaptive_time import mc2\n",
    "from adaptive_time import samplers\n",
    "\n",
    "import enum\n",
    "\n",
    "seed = 13"
   ]
  },
  {
   "cell_type": "code",
   "execution_count": 2,
   "metadata": {},
   "outputs": [],
   "source": [
    "gym.register(\n",
    "    id=\"CartPole-OURS-v0\",\n",
    "    entry_point=\"adaptive_time.environments.cartpole:CartPoleEnv\",\n",
    "    vector_entry_point=\"adaptive_time.environments.cartpole:CartPoleVectorEnv\",\n",
    "    max_episode_steps=500,\n",
    "    reward_threshold=475.0,\n",
    ")\n",
    "\n",
    "def reset_randomness(seed, env):\n",
    "    random.seed(seed)\n",
    "    np.random.seed(seed)\n",
    "    # env.seed(seed)\n",
    "    env.action_space.seed(seed)"
   ]
  },
  {
   "cell_type": "code",
   "execution_count": 3,
   "metadata": {},
   "outputs": [
    {
     "name": "stdout",
     "output_type": "stream",
     "text": [
      "We run the same environment and simple policy twice,\n",
      "with different time discretizations. The policy we use\n",
      "will always go left, so the time discretization does not\n",
      "make a difference to the behaviour, and the total return\n",
      "will be the same.\n",
      "\n",
      "Total undiscounted return:  10.589912009424973\n",
      "Total undiscounted return:  100.17508472458734\n",
      "\n",
      "We can expect some difference because we may get an extra\n",
      "timesteps in the more fine-grained discretization, but the\n",
      "difference should be smallish.\n"
     ]
    },
    {
     "name": "stderr",
     "output_type": "stream",
     "text": [
      "/Users/szepi1991/Code/adaptive_time/.venv/lib/python3.11/site-packages/gymnasium/core.py:311: UserWarning: \u001b[33mWARN: env.stepTime to get variables from other wrappers is deprecated and will be removed in v1.0, to get this variable you can do `env.unwrapped.stepTime` for environment variables or `env.get_wrapper_attr('stepTime')` that will search the reminding wrappers.\u001b[0m\n",
      "  logger.warn(\n"
     ]
    }
   ],
   "source": [
    "# Sample usage of the environment.\n",
    "print(\n",
    "    \"We run the same environment and simple policy twice,\\n\"\n",
    "    \"with different time discretizations. The policy we use\\n\"\n",
    "    \"will always go left, so the time discretization does not\\n\"\n",
    "    \"make a difference to the behaviour, and the total return\\n\"\n",
    "    \"will be the same.\")\n",
    "print()\n",
    "\n",
    "policy = lambda obs: 0\n",
    "\n",
    "env = gym.make('CartPole-OURS-v0')\n",
    "tau = 0.02\n",
    "env.stepTime(tau)\n",
    "\n",
    "reset_randomness(seed, env)\n",
    "traj, early_term = environments.generate_trajectory(env, seed, policy)\n",
    "total_return_1 = sum(ts[2] for ts in traj)\n",
    "print(\"Total undiscounted return: \", total_return_1)\n",
    "\n",
    "env = gym.make('CartPole-OURS-v0')\n",
    "tau = 0.002\n",
    "env.stepTime(tau)\n",
    "\n",
    "reset_randomness(seed, env)\n",
    "traj, early_term = environments.generate_trajectory(env, seed, policy)\n",
    "total_return_2 = sum(ts[2] for ts in traj)\n",
    "print(\"Total undiscounted return: \", total_return_2)\n",
    "\n",
    "#np.testing.assert_almost_equal(total_return_1, total_return_2, decimal=0)\n",
    "\n",
    "print()\n",
    "print(\n",
    "    \"We can expect some difference because we may get an extra\\n\"\n",
    "    \"timesteps in the more fine-grained discretization, but the\\n\"\n",
    "    \"difference should be smallish.\")"
   ]
  },
  {
   "cell_type": "markdown",
   "metadata": {},
   "source": [
    "**NOTE** you must adjust the discount factor if changing time-scales!"
   ]
  },
  {
   "cell_type": "code",
   "execution_count": 4,
   "metadata": {},
   "outputs": [
    {
     "data": {
      "text/plain": [
       "625"
      ]
     },
     "execution_count": 4,
     "metadata": {},
     "output_type": "execute_result"
    }
   ],
   "source": [
    "phi = Fourier_Features()\n",
    "phi.init_fourier_features(4,4)\n",
    "x_thres = 4.8\n",
    "theta_thres = 0.418\n",
    "phi.init_state_normalizers(\n",
    "    np.array([x_thres,2.0,theta_thres,1]),\n",
    "    np.array([-x_thres,-2.0,-theta_thres,-1]))\n",
    "phi.num_parameters"
   ]
  },
  {
   "cell_type": "code",
   "execution_count": 79,
   "metadata": {},
   "outputs": [],
   "source": [
    "class BudgetType(enum.Enum):\n",
    "    INTERACTIONS = 1\n",
    "    UPDATES = 2\n",
    "\n",
    "\n",
    "def run_experiment(\n",
    "        seed, env, sampler, epsilon, budget, budget_type: BudgetType,\n",
    "        termination_prob, gamma, tqdm=None, print_trajectory=False):\n",
    "    \"\"\"Keeps interacting until the budget is (approximately) used up, returns stats.\n",
    "    \n",
    "    Note that the budgets are in terms of processed interactions (or updates). We\n",
    "    will do one last episode, even if the budget is used up, so that we can evaluate\n",
    "    the final weights.\n",
    "    \"\"\"\n",
    "    if tqdm is None:\n",
    "        tqdm_use = lambda x: x\n",
    "\n",
    "    # We record:\n",
    "    total_return = [0]  # The total return at the end of each episode.\n",
    "    total_pivots = [0]\n",
    "    total_interactions = [0]\n",
    "    num_episode = [0]\n",
    "\n",
    "    # Each of the following will record the values for both actions.\n",
    "    # Each element of these will be a (2,)-np.array, so we can just stack them.\n",
    "    returns_per_episode_q = []\n",
    "    predicted_returns_q = []\n",
    "\n",
    "    reset_randomness(seed, env)\n",
    "\n",
    "    observation, _ = env.reset(seed=seed)\n",
    "    d = len(phi.get_fourier_feature(observation))\n",
    "    assert d == phi.num_parameters\n",
    "    features = np.identity(2 * d)   # An estimate of A = xx^T\n",
    "    targets = np.zeros(2 * d)  # An estimate of b = xG\n",
    "    weights = np.zeros(2 * d)   # The weights that approximate A^{-1} b\n",
    "\n",
    "    x_0 = phi.get_fourier_feature([0,0,0,0])  # the initial state\n",
    "    x_sa0 = mc2.phi_sa(x_0, 0)\n",
    "    x_sa1 = mc2.phi_sa(x_0, 1)\n",
    "\n",
    "    def remaining_steps():\n",
    "        if budget_type == BudgetType.INTERACTIONS:\n",
    "            return budget - total_interactions[-1]\n",
    "        elif budget_type == BudgetType.UPDATES:\n",
    "            return budget - total_pivots[-1]\n",
    "        else:\n",
    "            raise ValueError(\"Unknown budget type\")\n",
    "\n",
    "    def policy(state, weights):\n",
    "        if random.random() < epsilon:\n",
    "            return env.action_space.sample()\n",
    "        # Otherwise calculate the best action.\n",
    "        x = phi.get_fourier_feature(state)\n",
    "        qs = np.zeros(2)\n",
    "        for action in [0, 1]:\n",
    "            x_sa = mc2.phi_sa(x, action)\n",
    "            qs[action] = np.inner(x_sa.flatten(), weights)\n",
    "        # adaptive_time.utils.softmax(qs, 1)\n",
    "        return adaptive_time.utils.argmax(qs)\n",
    "\n",
    "    while remaining_steps() > 0:\n",
    "\n",
    "        trajectory, early_term = environments.generate_trajectory(\n",
    "                env, policy=lambda s: policy(state=s, weights=weights),\n",
    "                termination_prob=termination_prob)\n",
    "        \n",
    "        # Process and record the return.\n",
    "        return_this_episode = sum(ts[2] for ts in trajectory)\n",
    "        if total_return:\n",
    "            total_return.append(total_return[-1] + return_this_episode)\n",
    "        else:\n",
    "            total_return.append(return_this_episode)\n",
    "\n",
    "        if print_trajectory:\n",
    "            print(\"trajectory-len: \", len(trajectory), \"; trajectory:\")\n",
    "            for idx, (o, a, r, o_) in enumerate(trajectory):\n",
    "                # * ignore reward, as it is always the same here.\n",
    "                # * o_ is the same as the next o.\n",
    "                print(f\"* {idx:4d}: o: {o}\\n\\t --> action: {a}\")\n",
    "\n",
    "        assert early_term is False, \"We should not terminate early in this experiment.\"\n",
    "\n",
    "        # Do updates, record stats from the processed trajectory.\n",
    "        weights, targets, features, cur_avr_returns, num_pivots = mc2.ols_monte_carlo(\n",
    "            trajectory, sampler, tqdm_use, phi, weights, targets, features, x_0, gamma)\n",
    "        \n",
    "        # Update the stats.\n",
    "        total_pivots.append(total_pivots[-1] + num_pivots)\n",
    "        total_interactions.append(total_interactions[-1] + len(trajectory))\n",
    "        num_episode.append(num_episode[-1] + 1)\n",
    "        \n",
    "        # Store the empirical and predicted returns. For any episode, we may\n",
    "        # or may not have empirical returns for both actions. When we don't have an\n",
    "        # estimate, `nan` is returned.\n",
    "        returns_per_episode_q.append(cur_avr_returns)\n",
    "        predicted_returns_q.append(np.array(\n",
    "            [np.inner(x_sa0.flatten(), weights),\n",
    "                np.inner(x_sa1.flatten(), weights)]))\n",
    "    \n",
    "    # The following variant produces plots where we can see\n",
    "    # the effect of the last update.\n",
    "    # # Do one more evaluation run.\n",
    "    # trajectory, early_term = environments.generate_trajectory(\n",
    "    #     env, policy=lambda s: policy(state=s, weights=weights),\n",
    "    #     termination_prob=termination_prob)\n",
    "    # return_this_episode = sum(ts[2] for ts in trajectory)\n",
    "    # print(sampler, \"final return: \", return_this_episode)\n",
    "    # total_return.append(total_return[-1] + return_this_episode)\n",
    "\n",
    "    return {\n",
    "        \"total_return\": total_return,\n",
    "        \"total_pivots\": total_pivots,\n",
    "        \"total_interactions\": total_interactions,\n",
    "        \"num_episode\": num_episode,\n",
    "        \"returns_per_episode_q\": returns_per_episode_q,\n",
    "        \"predicted_returns_q\": predicted_returns_q,\n",
    "    }\n",
    "    \n",
    "    # The following variant produces plots where we\n",
    "    # ensure that the last x-points are within the budget.\n",
    "    # Do one more evaluation run.\n",
    "\n",
    "    # return {\n",
    "    #     \"total_return\": total_return,\n",
    "    #     \"total_pivots\": total_pivots[:-1],\n",
    "    #     \"total_interactions\": total_interactions[:-1],\n",
    "    #     \"num_episode\": num_episode[:-1],\n",
    "    #     \"returns_per_episode_q\": returns_per_episode_q,\n",
    "    #     \"predicted_returns_q\": predicted_returns_q,\n",
    "    # }\n",
    "        \n"
   ]
  },
  {
   "cell_type": "code",
   "execution_count": 166,
   "metadata": {},
   "outputs": [
    {
     "name": "stderr",
     "output_type": "stream",
     "text": [
      "/Users/szepi1991/Code/adaptive_time/.venv/lib/python3.11/site-packages/gymnasium/core.py:311: UserWarning: \u001b[33mWARN: env.stepTime to get variables from other wrappers is deprecated and will be removed in v1.0, to get this variable you can do `env.unwrapped.stepTime` for environment variables or `env.get_wrapper_attr('stepTime')` that will search the reminding wrappers.\u001b[0m\n",
      "  logger.warn(\n"
     ]
    },
    {
     "data": {
      "application/vnd.jupyter.widget-view+json": {
       "model_id": "5da5088ed858457aaa09c1b0908835bd",
       "version_major": 2,
       "version_minor": 0
      },
      "text/plain": [
       "  0%|          | 0/6 [00:00<?, ?it/s]"
      ]
     },
     "metadata": {},
     "output_type": "display_data"
    },
    {
     "name": "stdout",
     "output_type": "stream",
     "text": [
      "q0_10 <adaptive_time.samplers.AdaptiveQuadratureSampler2 object at 0x13f0d38d0>\n",
      "q0_5 <adaptive_time.samplers.AdaptiveQuadratureSampler2 object at 0x13fe91490>\n",
      "q0_1 <adaptive_time.samplers.AdaptiveQuadratureSampler2 object at 0x13fc06550>\n",
      "u5 <adaptive_time.samplers.UniformSampler2 object at 0x13f69da50>\n",
      "u10 <adaptive_time.samplers.UniformSampler2 object at 0x2bb9f4390>\n",
      "u20 <adaptive_time.samplers.UniformSampler2 object at 0x13fbe4050>\n",
      "\n",
      "DONE!\n"
     ]
    }
   ],
   "source": [
    "termination_prob=1.0/10000.0   # 1.0/500000.0\n",
    "epsilon = 0.05\n",
    "# budget = 10_000\n",
    "# budget_type = BudgetType.INTERACTIONS\n",
    "budget = 5_000\n",
    "budget_type = BudgetType.UPDATES\n",
    "\n",
    "num_runs = 2\n",
    "\n",
    "tau = 0.002\n",
    "# tau = 0.02\n",
    "env.stepTime(tau)\n",
    "\n",
    "# sampler = samplers.AdaptiveQuadratureSampler2(tolerance=0.1)\n",
    "# sampler = samplers.AdaptiveQuadratureSampler2(tolerance=0.0)\n",
    "\n",
    "samplers_tried = dict(\n",
    "    q0_10=samplers.AdaptiveQuadratureSampler2(tolerance=10),\n",
    "    q0_5=samplers.AdaptiveQuadratureSampler2(tolerance=5),\n",
    "    q0_1=samplers.AdaptiveQuadratureSampler2(tolerance=1),\n",
    "    u5=samplers.UniformSampler2(5),\n",
    "    u10=samplers.UniformSampler2(10),\n",
    "    u20=samplers.UniformSampler2(20),\n",
    ")\n",
    "\n",
    "results = {}\n",
    "for name, sampler in tqdm(samplers_tried.items()):\n",
    "    print(name, sampler)\n",
    "    #results[name] = []\n",
    "    results[name] = Parallel(n_jobs = num_runs)(\n",
    "        delayed(run_experiment)(\n",
    "            seed+run, env, sampler, epsilon, budget, budget_type,\n",
    "            termination_prob, gamma=0.99999, tqdm=None, print_trajectory=False)\n",
    "            for run in range(num_runs)\n",
    "        )\n",
    "\n",
    "'''\n",
    "for name, sampler in samplers_tried.items():\n",
    "    results[name] = []\n",
    "    for run in range(num_runs):\n",
    "        print()\n",
    "        print(f\"=============      Running experiment with sampler {name}, run={run}     =============\")\n",
    "        results[name].append(\n",
    "            run_experiment(seed+run, env, sampler, epsilon, num_episodes, gamma=0.999, tqdm=None))\n",
    "'''\n",
    "print()\n",
    "print(\"DONE!\")"
   ]
  },
  {
   "cell_type": "code",
   "execution_count": 173,
   "metadata": {},
   "outputs": [],
   "source": [
    "# results[\"q0_5\"][0]"
   ]
  },
  {
   "cell_type": "code",
   "execution_count": 174,
   "metadata": {},
   "outputs": [],
   "source": [
    "def plot_perf(tuples_of_x_y_labels_kwargs, title, show):\n",
    "\n",
    "    ax = plt.gca()\n",
    "    ax.spines['top'].set_visible(False)\n",
    "    ax.spines['right'].set_visible(False)\n",
    "\n",
    "    for x, y, label, kwargs in tuples_of_x_y_labels_kwargs:\n",
    "        plt.plot(x, y, label=label, **kwargs)\n",
    "\n",
    "    plt.ylabel('Cumulative\\nEpisode\\nReturn', rotation=0, labelpad=40)\n",
    "    plt.legend()\n",
    "\n",
    "    if title is not None:\n",
    "      plt.title(title)\n",
    "\n",
    "    if show:\n",
    "      plt.show()\n",
    "    return ax\n"
   ]
  },
  {
   "cell_type": "code",
   "execution_count": 175,
   "metadata": {},
   "outputs": [],
   "source": [
    "\n",
    "\n",
    "# # if len(results) > 8:\n",
    "# #    raise ValueError(\"Too many results to plot\")\n",
    "# # colors = plt.cm.get_cmap('Set2')(np.linspace(0,1,len(results)))\n",
    "# colors = ['b', 'g', 'r', 'c', 'm', 'y', 'k']\n",
    "\n",
    "# tuples_of_x_y_labels_kwargs = []\n",
    "# for i, (name, stats) in enumerate(results.items()):\n",
    "#     for run in stats:\n",
    "#         tuples_of_x_y_labels_kwargs.append((\n",
    "#             run[\"total_interactions\"],\n",
    "#             run[\"total_return\"],\n",
    "#             name,\n",
    "#             {\"color\": colors[i]}\n",
    "#         ))\n",
    "\n",
    "# ax = plot_perf(tuples_of_x_y_labels_kwargs,\n",
    "#                \"Total Return vs Interactions\", False)\n",
    "# # ax.set_yscale('log')\n",
    "# ax.set_xlabel('Number of Interactions')\n",
    "# # ax.set_ylim(24, 30)\n",
    "# plt.show()\n"
   ]
  },
  {
   "cell_type": "code",
   "execution_count": null,
   "metadata": {},
   "outputs": [],
   "source": []
  },
  {
   "cell_type": "code",
   "execution_count": 176,
   "metadata": {},
   "outputs": [
    {
     "data": {
      "image/png": "[encoded data removed]",
      "text/plain": [
       "<Figure size 640x480 with 1 Axes>"
      ]
     },
     "metadata": {},
     "output_type": "display_data"
    }
   ],
   "source": [
    "\n",
    "# ax = plt.gca()\n",
    "# ax.cla()\n",
    "\n",
    "# if len(results) > 8:\n",
    "#    raise ValueError(\"Too many results to plot\")\n",
    "# colors = plt.cm.get_cmap('Set2')(np.linspace(0,1,len(results)))\n",
    "colors = ['b', 'g', 'r', 'c', 'm', 'y', 'k']\n",
    "\n",
    "tuples_of_x_y_labels_kwargs = []\n",
    "for i, (name, stats) in enumerate(results.items()):\n",
    "    for r_idx, run in enumerate(stats):\n",
    "        tuples_of_x_y_labels_kwargs.append((\n",
    "            run[\"total_pivots\"],\n",
    "            run[\"total_return\"],\n",
    "            name if r_idx==0 else None,\n",
    "            # {\"color\": colors[i], \"marker\": \".\", \"linestyle\": \"None\", \"markersize\": 5, \"alpha\": 0.8}\n",
    "            {\"color\": colors[i], \"marker\": \".\", \"linestyle\": \"-\", \"markersize\": 5, \"alpha\": 0.8}\n",
    "        ))\n",
    "\n",
    "ax = plot_perf(tuples_of_x_y_labels_kwargs,\n",
    "               \"Total Return vs Updates\", False)\n",
    "# ax.set_yscale('log')\n",
    "ax.set_xlabel('Number of Updates')\n",
    "# if budget_type == BudgetType.UPDATES:\n",
    "#     ax.set_xlim(-100, budget)\n",
    "#     # Find the y-limits of the plot.\n",
    "#     # for stats in .values():\n",
    "#     for runs in results.values():\n",
    "#         max_total_return = -1\n",
    "#         for run in runs:\n",
    "#             cur_max = max(run[\"total_return\"][:-1])\n",
    "#             if cur_max > max_total_return:\n",
    "#                 max_total_return = cur_max\n",
    "\n",
    "#     #     max_total_return = max(max(runs[\"total_return\"][:-1]) for runs in results.values())\n",
    "#     # max_total_return = max(max(runs[\"total_return\"][:-1]) for runs in results.values())\n",
    "#     # max_total_return = max(max(run[\"total_return\"]) for run in results.values())\n",
    "#     ax.set_ylim(-max_total_return/50, max_total_return)\n",
    "\n",
    "# ax.set_ylim(24, 30)   \n",
    "plt.show()\n"
   ]
  },
  {
   "cell_type": "code",
   "execution_count": 177,
   "metadata": {},
   "outputs": [
    {
     "name": "stdout",
     "output_type": "stream",
     "text": [
      "[0, 30, 70, 90, 97, 121, 142, 163, 184, 255, 267, 279, 291, 302, 313, 324, 335, 346, 357, 368, 379, 390, 401, 413, 439, 475, 510, 521, 532, 543, 555, 567, 585, 597, 609, 645, 646, 658, 665, 677, 712, 748, 1402, 1460, 1518, 1560, 1672, 1711, 1737, 1763, 1791, 1821, 1873, 1905, 1926, 1951, 1973, 2012, 2032, 2058, 2085, 2113, 2140, 2167, 2195, 2223, 2252, 2281, 2310, 2338, 2357, 2386, 2415, 2444, 2453, 2482, 2510, 2553, 2581, 2610, 2638, 2681, 2723, 2767, 2810, 2838, 2867, 2895, 2924, 2952, 2980, 3009, 3037, 3065, 3126, 3170, 3214, 3244, 3288, 3332, 3351, 3394, 3422, 3451, 3494, 3537, 3579, 3649, 3678, 3707, 3736, 3765, 3794, 3823, 3851, 3880, 3909, 3937, 3966, 3995, 4024, 4052, 4074, 4103, 4132, 4161, 4227, 4275, 4293, 4342, 4364, 4392, 4420, 4448, 4476, 4504, 4532, 4560, 4588, 4616, 4644, 4673, 4702, 4731, 4759, 4788, 4817, 4846, 4874, 4902, 4931, 4959, 4987, 5015]\n",
      "[0, 560.6616017124973, 1290.3454935037505, 1648.6103823720161, 1759.2804150261786, 2186.769517084929, 2514.4059902860104, 2835.716899513275, 3165.120819455391, 4307.932805529313, 4510.198834529229, 4718.491113456409, 4915.178131974628, 5102.399027942139, 5295.637310567051, 5481.340444421082, 5673.170389069035, 5860.221780390826, 6049.16438097145, 6237.952210609998, 6429.715154396368, 6623.3137235854765, 6816.803008329462, 7010.905828569033, 7505.077127478664, 8131.584409392413, 8747.696574969956, 8937.027545287647, 9126.42723286241, 9320.001158130515, 9513.945306447884, 9708.04174937426, 10035.394884252675, 10231.74331937565, 10428.496720382547, 11063.629272656943, 11065.629272656943, 11261.834764759902, 11369.837627207644, 11567.850712022346, 12176.170238892788, 12811.704391337244, 25755.38222938722, 26822.16307031325, 27891.435811157782, 28681.789172212946, 30626.06942374125, 31336.31670062958, 31808.55589344715, 32284.90486953421, 32797.82739337833, 33340.4507310911, 34315.68558797007, 34898.231642331986, 35305.199435231574, 35765.21424506913, 36175.28959890461, 36906.54441919506, 37287.580541567986, 37771.45847690242, 38265.27846697428, 38776.56323466321, 39278.60935214024, 39782.51449092884, 40298.48613931151, 40804.07107855797, 41329.449127503605, 41857.799274639976, 42387.3551841234, 42910.1995057433, 43278.3165356736, 43805.32296091693, 44341.73305264961, 44877.00399868052, 45039.899534979464, 45562.72585062327, 46071.41299999064, 46868.25037151819, 47379.76867093423, 47905.98335420864, 48420.76900317051, 49215.274022287624, 50002.2673791605, 50808.865687382786, 51598.19290512557, 52118.893452085256, 52653.70215290599, 53175.50958871933, 53705.524887341, 54221.263062118625, 54735.50529909346, 55261.059009148375, 55775.40093651143, 56295.59886038926, 57319.27993869369, 58138.051430979176, 58955.62973032725, 59502.31184707579, 60321.14973349445, 61133.419892629696, 61494.47726593684, 62278.43887587121, 62784.57075918485, 63307.01291013257, 64103.69363575913, 64888.28374871165, 65665.08737261733, 66838.82211321127, 67370.20625522982, 67900.79191558962, 68430.11268026363, 68963.69922415767, 69488.67418146555, 70019.74671956517, 70540.68090004404, 71067.0669781249, 71595.10446700564, 72104.76893922967, 72636.3339088306, 73167.04670827843, 73693.55985180273, 74214.56332870413, 74637.14736897178, 75174.58439247629, 75703.66944413117, 76234.72019524364, 77333.14730566065, 78214.1367305481, 78554.53504323392, 79448.75991948076, 79863.63682530119, 80367.36322307991, 80883.41785135036, 81405.25957116083, 81916.05056920467, 82436.42283815153, 82943.81289234068, 83452.72026807281, 83962.04247871118, 84480.50212528535, 85000.72032690072, 85534.01718115572, 86055.98539279072, 86577.86721384851, 87098.02685497895, 87620.80323774007, 88147.66923760757, 88671.91135302864, 89190.58319401297, 89708.93878434184, 90235.88671153426, 90746.31357475158, 91256.93908612985, 91767.9349357177]\n"
     ]
    }
   ],
   "source": [
    "for x, y, label, kwargs in tuples_of_x_y_labels_kwargs:\n",
    "    if label == \"u20\":\n",
    "        print(x)\n",
    "        print(y)\n",
    "    "
   ]
  },
  {
   "cell_type": "code",
   "execution_count": 178,
   "metadata": {},
   "outputs": [
    {
     "data": {
      "text/plain": [
       "6"
      ]
     },
     "execution_count": 178,
     "metadata": {},
     "output_type": "execute_result"
    }
   ],
   "source": [
    "len(results['q0_10'][0])"
   ]
  },
  {
   "cell_type": "code",
   "execution_count": 179,
   "metadata": {},
   "outputs": [
    {
     "name": "stdout",
     "output_type": "stream",
     "text": [
      "6186\n"
     ]
    }
   ],
   "source": [
    "max_updates = max(\n",
    "    max(run[\"total_pivots\"][-1] for run in runs)\n",
    "    for runs in results.values())\n",
    "print(max_updates)"
   ]
  },
  {
   "cell_type": "code",
   "execution_count": 180,
   "metadata": {},
   "outputs": [
    {
     "name": "stdout",
     "output_type": "stream",
     "text": [
      "dict_keys(['q0_10', 'q0_5', 'q0_1', 'u5', 'u10', 'u20'])\n",
      "(2, 6187)\n"
     ]
    }
   ],
   "source": [
    "all_updates = np.arange(0, max_updates+1)   # x-axis for the interpolated results\n",
    "\n",
    "interpolated_results = {}  # Each element will be a numpy array\n",
    "for name, stats_for_runs in results.items():\n",
    "    interpolated_results[name] = np.zeros((len(stats_for_runs), len(all_updates)))\n",
    "    for run_idx, run in enumerate(stats_for_runs):\n",
    "        interpolated_results[name][run_idx] = np.interp(\n",
    "            all_updates, run[\"total_pivots\"], run[\"total_return\"])\n",
    "\n",
    "print(interpolated_results.keys())\n",
    "print(interpolated_results['q0_10'].shape)"
   ]
  },
  {
   "cell_type": "code",
   "execution_count": 181,
   "metadata": {},
   "outputs": [],
   "source": [
    "mean_results = {}\n",
    "for name, returns in interpolated_results.items():\n",
    "    mean_results[name] = returns.mean(axis=0)\n"
   ]
  },
  {
   "cell_type": "code",
   "execution_count": 182,
   "metadata": {},
   "outputs": [
    {
     "data": {
      "image/png": "[encoded data removed]",
      "text/plain": [
       "<Figure size 640x480 with 1 Axes>"
      ]
     },
     "metadata": {},
     "output_type": "display_data"
    }
   ],
   "source": [
    "\n",
    "colors = ['b', 'g', 'r', 'c', 'm', 'y', 'k']\n",
    "\n",
    "tuples_of_x_y_labels_kwargs = []\n",
    "for i, (name, returns) in enumerate(mean_results.items()):\n",
    "    tuples_of_x_y_labels_kwargs.append((\n",
    "        all_updates, returns, name,\n",
    "        # {\"color\": colors[i], \"marker\": \".\", \"linestyle\": \"None\", \"markersize\": 5, \"alpha\": 0.8}\n",
    "        {\"color\": colors[i], \"marker\": \"\", \"linestyle\": \"-\"}\n",
    "    ))\n",
    "\n",
    "\n",
    "# for i, (name, stats) in enumerate(results.items()):\n",
    "#     for r_idx, run in enumerate(stats):\n",
    "#         tuples_of_x_y_labels_kwargs.append((\n",
    "#             run[\"total_pivots\"],\n",
    "#             run[\"total_return\"],\n",
    "#             None,\n",
    "#             # name if r_idx==0 else None,\n",
    "#             # {\"color\": colors[i], \"marker\": \".\", \"linestyle\": \"None\", \"markersize\": 5, \"alpha\": 0.8}\n",
    "#             # {\"color\": colors[i], \"marker\": \".\", \"linestyle\": \"-\", \"markersize\": 5, \"alpha\": 0.8}\n",
    "#             {\"color\": colors[i], \"marker\": \"\", \"linestyle\": \"-\", \"alpha\": 0.2}\n",
    "#         ))\n",
    "\n",
    "\n",
    "ax = plot_perf(tuples_of_x_y_labels_kwargs,\n",
    "               \"Total Return vs Updates\", False)\n",
    "# ax.set_yscale('log')\n",
    "ax.set_xlabel('Number of Updates')\n",
    "plt.show()\n"
   ]
  },
  {
   "cell_type": "code",
   "execution_count": 183,
   "metadata": {},
   "outputs": [],
   "source": [
    "\n",
    "# print()\n",
    "# print(\"Results, a list of num_episodes, and a list of num_pivots for the different seeds:\")\n",
    "# for name, sub_results in results.items():\n",
    "#     num_episodes, num_pivots, num_interactions = zip(*sub_results)\n",
    "#     print(f\"* {name}\")\n",
    "#     if -1 in num_episodes:\n",
    "#         num_eps_stats = f\"?? +- ??\"\n",
    "#     else:\n",
    "#         mean_num_episodes = np.mean(num_episodes)\n",
    "#         std_err_episodes = np.std(num_episodes) / np.sqrt(len(num_episodes))\n",
    "#         num_eps_stats = f\"{np.mean(num_episodes):.2f} +- {std_err_episodes:.2f}\"\n",
    "\n",
    "#     std_err_pivots = np.std(num_pivots) / np.sqrt(len(num_pivots))\n",
    "#     std_err_num_interactions = np.std(num_interactions) / np.sqrt(len(num_interactions))\n",
    "#     print(f\"    * num_episodes: {num_eps_stats}                full list: {num_episodes}\")\n",
    "#     print(f\"    * num_pivots:   {np.mean(num_pivots):.2f} +- {std_err_pivots:.2f}           full list: {num_pivots}\")\n",
    "#     print(f\"    * num_interactions:   {np.mean(num_interactions):.2f} +- {std_err_num_interactions:.2f}\"\n",
    "#           f\"           full list: {num_interactions}\")\n",
    "\n"
   ]
  },
  {
   "cell_type": "code",
   "execution_count": 184,
   "metadata": {},
   "outputs": [
    {
     "name": "stdout",
     "output_type": "stream",
     "text": [
      "0.05\n"
     ]
    }
   ],
   "source": [
    "print(epsilon)"
   ]
  },
  {
   "cell_type": "code",
   "execution_count": null,
   "metadata": {},
   "outputs": [],
   "source": []
  },
  {
   "cell_type": "code",
   "execution_count": null,
   "metadata": {},
   "outputs": [],
   "source": []
  },
  {
   "cell_type": "code",
   "execution_count": null,
   "metadata": {},
   "outputs": [],
   "source": []
  }
 ],
 "metadata": {
  "kernelspec": {
   "display_name": "Python 3 (ipykernel)",
   "language": "python",
   "name": "python3"
  },
  "language_info": {
   "codemirror_mode": {
    "name": "ipython",
    "version": 3
   },
   "file_extension": ".py",
   "mimetype": "text/x-python",
   "name": "python",
   "nbconvert_exporter": "python",
   "pygments_lexer": "ipython3",
   "version": "3.11.7"
  }
 },
 "nbformat": 4,
 "nbformat_minor": 2
}
