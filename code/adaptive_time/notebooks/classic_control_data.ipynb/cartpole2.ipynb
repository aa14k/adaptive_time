{
 "cells": [
  {
   "cell_type": "markdown",
   "metadata": {},
   "source": [
    "# Generates the Reward Data for Cartpole2"
   ]
  },
  {
   "cell_type": "code",
   "execution_count": 7,
   "metadata": {},
   "outputs": [
    {
     "name": "stderr",
     "output_type": "stream",
     "text": [
      "/Users/szepi1991/Code/adaptive_time/.venv/lib/python3.11/site-packages/gymnasium/envs/registration.py:694: UserWarning: \u001b[33mWARN: Overriding environment CartPole-OURS-v2 already in registry.\u001b[0m\n",
      "  logger.warn(f\"Overriding environment {new_spec.id} already in registry.\")\n"
     ]
    }
   ],
   "source": [
    "import math\n",
    "from importlib import reload\n",
    "import os\n",
    "\n",
    "import gc\n",
    "import matplotlib.pyplot as plt\n",
    "import pickle\n",
    "import numpy as np\n",
    "\n",
    "from tqdm.notebook import tqdm\n",
    "\n",
    "from adaptive_time import plot_utils\n",
    "from adaptive_time import utils\n",
    "from adaptive_time import run_lib\n",
    "from adaptive_time.environments import cartpole2\n",
    "from adaptive_time import value_est\n",
    "from adaptive_time.value_est import approx_integrators\n",
    "\n",
    "from pprint import pprint\n",
    "\n",
    "approx_integrators = reload(approx_integrators)\n",
    "run_lib = reload(run_lib)\n",
    "cartpole2 = reload(cartpole2)\n",
    "value_est = reload(value_est)\n",
    "plot_utils = reload(plot_utils)\n",
    "utils = reload(utils)"
   ]
  },
  {
   "cell_type": "code",
   "execution_count": 8,
   "metadata": {},
   "outputs": [
    {
     "name": "stdout",
     "output_type": "stream",
     "text": [
      "Changed working directory to /Users/szepi1991/Code/adaptive_time\n"
     ]
    },
    {
     "data": {
      "text/plain": [
       "'/Users/szepi1991/Code/adaptive_time'"
      ]
     },
     "execution_count": 8,
     "metadata": {},
     "output_type": "execute_result"
    }
   ],
   "source": [
    "utils.set_directory_in_project()"
   ]
  },
  {
   "cell_type": "code",
   "execution_count": 9,
   "metadata": {},
   "outputs": [],
   "source": [
    "\n",
    "SHOULD_TERMINATE = True\n",
    "discrete_reward = True\n",
    "GRAB_DETAILED_DATA = False\n"
   ]
  },
  {
   "cell_type": "code",
   "execution_count": 10,
   "metadata": {},
   "outputs": [],
   "source": [
    "seed = 13\n",
    "dt_scaler = 200.\n",
    "new_dt = 0.02 / dt_scaler\n",
    "STEPS_MAX = 20_000\n",
    "STEPS_BREAK_FROM = 9_000\n",
    "\n",
    "# NUM_TRAJS = 2\n",
    "NUM_TRAJS = 100\n"
   ]
  },
  {
   "cell_type": "code",
   "execution_count": 11,
   "metadata": {},
   "outputs": [],
   "source": [
    "\n",
    "if discrete_reward:\n",
    "    reward_type = \"discrete\"\n",
    "else:\n",
    "    reward_type = \"continuous\"\n",
    "\n",
    "\n",
    "BASE_DIR = \"classic_control_data\"\n",
    "data_descr = f\"cartpole2_rew_{reward_type}_term{SHOULD_TERMINATE}\"\n",
    "traj_data_file = f\"{data_descr}.pkl\"\n",
    "\n"
   ]
  },
  {
   "cell_type": "code",
   "execution_count": 12,
   "metadata": {},
   "outputs": [
    {
     "name": "stdout",
     "output_type": "stream",
     "text": [
      "shape (100, 4)\n",
      "max [0.01849613 0.03401106 0.01296042 0.00477349]\n"
     ]
    },
    {
     "data": {
      "application/vnd.jupyter.widget-view+json": {
       "model_id": "16fc18f2c88345b7861ffd1eedfbe3a3",
       "version_major": 2,
       "version_minor": 0
      },
      "text/plain": [
       "  0%|          | 0/100 [00:00<?, ?it/s]"
      ]
     },
     "metadata": {},
     "output_type": "display_data"
    },
    {
     "name": "stderr",
     "output_type": "stream",
     "text": [
      "/Users/szepi1991/Code/adaptive_time/.venv/lib/python3.11/site-packages/gymnasium/utils/passive_env_checker.py:181: DeprecationWarning: \u001b[33mWARN: Current gymnasium version requires that `Env.reset` can be passed `options` to allow the environment initialisation to be passed additional information.\u001b[0m\n",
      "  logger.deprecation(\n",
      "/Users/szepi1991/Code/adaptive_time/.venv/lib/python3.11/site-packages/gymnasium/spaces/box.py:240: UserWarning: \u001b[33mWARN: Casting input x to numpy array.\u001b[0m\n",
      "  gym.logger.warn(\"Casting input x to numpy array.\")\n"
     ]
    },
    {
     "name": "stdout",
     "output_type": "stream",
     "text": [
      "Saved data to classic_control_data/cartpole2_rew_discrete_termTrue.pkl\n",
      "0.0001\n",
      "total_rewards for each traj: [10723. 10708. 10726. 10715. 10713. 10716. 10736. 10717. 10724. 10731.\n",
      " 10725. 10725. 10718. 10713. 10719. 10742. 10723. 10726. 10731. 10727.\n",
      " 10728. 10738. 10738. 10707. 10733. 10734. 10735. 10729. 10718. 10723.\n",
      " 10718. 10724. 10724. 10723. 10718. 10727. 10724. 10717. 10726. 10724.\n",
      " 10731. 10725. 10728. 10716. 10725. 10728. 10719. 10719. 10734. 10722.\n",
      " 10725. 10715. 10732. 10732. 10736. 10719. 10715. 10721. 10730. 10730.\n",
      " 10731. 10720. 10723. 10730. 10721. 10716. 10729. 10720. 10741. 10709.\n",
      " 10727. 10708. 10723. 10722. 10716. 10714. 10728. 10723. 10707. 10728.\n",
      " 10708. 10718. 10728. 10716. 10713. 10715. 10725. 10730. 10729. 10720.\n",
      " 10718. 10722. 10724. 10731. 10723. 10730. 10735. 10722. 10713. 10706.]\n"
     ]
    },
    {
     "name": "stderr",
     "output_type": "stream",
     "text": [
      "/Users/szepi1991/Code/adaptive_time/.venv/lib/python3.11/site-packages/gymnasium/core.py:311: UserWarning: \u001b[33mWARN: env.tau to get variables from other wrappers is deprecated and will be removed in v1.0, to get this variable you can do `env.unwrapped.tau` for environment variables or `env.get_wrapper_attr('tau')` that will search the reminding wrappers.\u001b[0m\n",
      "  logger.warn(\n"
     ]
    }
   ],
   "source": [
    "utils.set_directory_in_project()\n",
    "traj_data_path = os.path.join(BASE_DIR, traj_data_file)\n",
    "\n",
    "from adaptive_time import mc2\n",
    "import adaptive_time.utils\n",
    "import gymnasium as gym\n",
    "import random\n",
    "\n",
    "env = gym.make(\n",
    "    'CartPole-OURS-v2',\n",
    "    discrete_reward=discrete_reward,\n",
    "    should_terminate=SHOULD_TERMINATE,\n",
    "    step_time=new_dt)\n",
    "_NUM_ACTIONS = 2\n",
    "\n",
    "phi = run_lib.make_features()\n",
    "\n",
    "weights_good_policy = np.load(\"cartpole_weights_20240227-102913_ret92516.44719752521.npy\")\n",
    "# weights_good_policy = np.load(\"cartpole_weights_20240227-102913_ret50756.37604280466.npy\")\n",
    "\n",
    "def policy(state, num_step, weights, epsilon):\n",
    "    if num_step >= STEPS_BREAK_FROM:\n",
    "        # if random.random() < 0.95:  # spread of 60 at 100 trajs\n",
    "        # if random.random() < 0.55:  # a nice spread\n",
    "        return 0   # Alway push in one direction.\n",
    "\n",
    "    if random.random() < epsilon:\n",
    "        action = env.action_space.sample()\n",
    "        return action\n",
    "\n",
    "    # Otherwise calculate the best action.\n",
    "    x = phi.get_fourier_feature(state)\n",
    "    qs = np.zeros(_NUM_ACTIONS)\n",
    "    for action in range(_NUM_ACTIONS):\n",
    "        x_sa = mc2.phi_sa(x, action)\n",
    "        qs[action] = np.inner(x_sa.flatten(), weights)\n",
    "    # adaptive_time.utils.softmax(qs, 1)\n",
    "    \n",
    "    return adaptive_time.utils.argmax(qs)\n",
    "\n",
    "run_lib.reset_randomness(seed, env)\n",
    "\n",
    "def _random_start_state(num):\n",
    "    rand = np.random.standard_normal((num, 4))\n",
    "    # rand *= np.array([[0.01, 0.01, 0.005, 0.002]])\n",
    "    rand *= np.array([[0.01, 0.01, 0.005, 0.002]])\n",
    "    return rand\n",
    "\n",
    "start_states = _random_start_state(NUM_TRAJS)\n",
    "print(\"shape\", start_states.shape)\n",
    "print(\"max\", np.max(start_states, axis=0))\n",
    "\n",
    "total_rewards = []\n",
    "reward_sequences = []\n",
    "traj_lengths = []\n",
    "angles = []\n",
    "xs = []\n",
    "d_angles = []\n",
    "actions = []\n",
    "dxs = []\n",
    "for idx in tqdm(range(NUM_TRAJS)):\n",
    "    start_state = tuple(start_states[idx])\n",
    "    # Tuple[float, float, float, float]\n",
    "    trajectory, early_term = value_est.generate_trajectory(\n",
    "            env, start_state=start_state,\n",
    "            policy=lambda st, sn: policy(st, sn, weights_good_policy, 0.0),\n",
    "            # policy=policy,\n",
    "            termination_prob=0.0, max_steps=STEPS_MAX)\n",
    "\n",
    "    traj_lengths.append(len(trajectory))\n",
    "    rewards = [r for _, _, r, _ in trajectory]\n",
    "    if GRAB_DETAILED_DATA:\n",
    "        actions.append([a for _, a, _, _ in trajectory])\n",
    "        xs.append([s[0] for s, _, _, _ in trajectory])\n",
    "        angles.append([s[2] for s, _, _, _ in trajectory])\n",
    "        d_angles.append([s[3] for s, _, _, _ in trajectory])\n",
    "        dxs.append([s[1] for s, _, _, _ in trajectory])\n",
    "    reward_sequences.append(rewards)\n",
    "    total_rewards.append(sum(rewards))\n",
    "\n",
    "total_rewards = np.array(total_rewards)\n",
    "# Reward sequences may be different lengths in the terminating\n",
    "# case, so we can't make a 2D array.\n",
    "if not SHOULD_TERMINATE:\n",
    "    reward_sequences = np.array(reward_sequences)\n",
    "    traj_lengths = np.array(traj_lengths)\n",
    "    angles = np.array(angles)\n",
    "    xs = np.array(xs)\n",
    "    d_angles = np.array(d_angles)\n",
    "    actions = np.array(actions)\n",
    "    dxs = np.array(dxs)\n",
    "\n",
    "if GRAB_DETAILED_DATA:\n",
    "    details = (angles, xs, d_angles, actions, dxs)\n",
    "else:\n",
    "    details = None\n",
    "all_traj_data = (\n",
    "    total_rewards, reward_sequences, traj_lengths,\n",
    "    details\n",
    ")\n",
    "with open(traj_data_path, \"wb\") as f:\n",
    "    pickle.dump(all_traj_data, f)\n",
    "print(\"Saved data to\", traj_data_path)\n",
    "\n",
    "print(env.tau)\n",
    "\n",
    "\n",
    "print(\"total_rewards for each traj:\", total_rewards)\n",
    "if hasattr(reward_sequences, \"shape\"):\n",
    "    print(\"all rewards shape if array:\", reward_sequences.shape)\n",
    "num_trajs = len(total_rewards)"
   ]
  },
  {
   "cell_type": "code",
   "execution_count": 13,
   "metadata": {},
   "outputs": [
    {
     "name": "stdout",
     "output_type": "stream",
     "text": [
      "Changed working directory to /Users/szepi1991/Code/adaptive_time/classic_control_data/reward_info\n"
     ]
    },
    {
     "data": {
      "text/plain": [
       "'/Users/szepi1991/Code/adaptive_time/classic_control_data/reward_info'"
      ]
     },
     "execution_count": 13,
     "metadata": {},
     "output_type": "execute_result"
    }
   ],
   "source": [
    "support_dir = os.path.join(BASE_DIR, \"reward_info\")\n",
    "utils.set_directory_in_project(support_dir, create_dirs=True)\n",
    "# utils.set_directory_in_project(BASE_DIR, create_dirs=True)  # Just to make the dir.\n",
    "# utils.set_directory_in_project()\n"
   ]
  },
  {
   "cell_type": "code",
   "execution_count": 14,
   "metadata": {},
   "outputs": [
    {
     "data": {
      "image/png": "[encoded data removed]",
      "text/plain": [
       "<Figure size 640x480 with 1 Axes>"
      ]
     },
     "metadata": {},
     "output_type": "display_data"
    }
   ],
   "source": [
    "plt.hist(total_rewards)\n",
    "plt.savefig(f'{data_descr}_reward_total_distr.png')"
   ]
  },
  {
   "cell_type": "code",
   "execution_count": 15,
   "metadata": {},
   "outputs": [
    {
     "name": "stdout",
     "output_type": "stream",
     "text": [
      "10723.0\n"
     ]
    },
    {
     "data": {
      "image/png": "[encoded data removed]",
      "text/plain": [
       "<Figure size 640x480 with 1 Axes>"
      ]
     },
     "metadata": {},
     "output_type": "display_data"
    }
   ],
   "source": [
    "\n",
    "traj_idx = 0\n",
    "print(total_rewards[traj_idx])\n",
    "plt.plot(reward_sequences[traj_idx])\n",
    "plt.savefig(f'{data_descr}_reward_sample_curve.png')"
   ]
  },
  {
   "cell_type": "code",
   "execution_count": null,
   "metadata": {},
   "outputs": [],
   "source": []
  },
  {
   "cell_type": "code",
   "execution_count": null,
   "metadata": {},
   "outputs": [],
   "source": []
  }
 ],
 "metadata": {
  "kernelspec": {
   "display_name": ".venv",
   "language": "python",
   "name": "python3"
  },
  "language_info": {
   "codemirror_mode": {
    "name": "ipython",
    "version": 3
   },
   "file_extension": ".py",
   "mimetype": "text/x-python",
   "name": "python",
   "nbconvert_exporter": "python",
   "pygments_lexer": "ipython3",
   "version": "3.11.7"
  }
 },
 "nbformat": 4,
 "nbformat_minor": 2
}
