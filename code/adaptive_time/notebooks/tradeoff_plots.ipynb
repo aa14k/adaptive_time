{
 "cells": [
  {
   "cell_type": "markdown",
   "metadata": {},
   "source": [
    "# Plots of Trade-offs\n",
    "\n",
    "In this notebook we compare different time discretization methods. First, we collect\n",
    "a trajectory data from the environment at a fine discretization level (this is also\n",
    "the discretization level we run the policy at -- right now, anyway). Then we compare:\n",
    "\n",
    "1. Using uniform discretization at different granularities, e.g. updating with every\n",
    "    1st, 10th, 100th, ...? interactions.\n",
    "2. Using the adaptive method with different tolarances.\n",
    "\n",
    "In order to average out randomness, we'll repeat each setting 3 times for now."
   ]
  },
  {
   "cell_type": "code",
   "execution_count": 12,
   "metadata": {},
   "outputs": [],
   "source": [
    "import gymnasium as gym\n",
    "from adaptive_time.features import Fourier_Features\n",
    "import numpy as np\n",
    "from tqdm.notebook import tqdm\n",
    "\n",
    "import matplotlib.pyplot as plt\n",
    "import random\n",
    "\n",
    "import adaptive_time.utils\n",
    "from adaptive_time import environments\n",
    "from adaptive_time import mc2\n",
    "from adaptive_time import samplers\n",
    "\n",
    "seed = 13"
   ]
  },
  {
   "cell_type": "code",
   "execution_count": 2,
   "metadata": {},
   "outputs": [],
   "source": [
    "gym.register(\n",
    "    id=\"CartPole-OURS-v0\",\n",
    "    entry_point=\"adaptive_time.environments.cartpole:CartPoleEnv\",\n",
    "    vector_entry_point=\"adaptive_time.environments.cartpole:CartPoleVectorEnv\",\n",
    "    max_episode_steps=500,\n",
    "    reward_threshold=475.0,\n",
    ")\n",
    "\n",
    "def reset_randomness(seed, env):\n",
    "    random.seed(seed)\n",
    "    np.random.seed(seed)\n",
    "    # env.seed(seed)\n",
    "    env.action_space.seed(seed)"
   ]
  },
  {
   "cell_type": "code",
   "execution_count": 3,
   "metadata": {},
   "outputs": [
    {
     "name": "stdout",
     "output_type": "stream",
     "text": [
      "We run the same environment and simple policy twice,\n",
      "with different time discretizations. The policy we use\n",
      "will always go left, so the time discretization does not\n",
      "make a difference to the behaviour, and the total return\n",
      "will be the same.\n",
      "\n",
      "Total undiscounted return:  10.589912009424973\n",
      "Total undiscounted return:  10.017508472458736\n",
      "\n",
      "We can expect some difference because we may get an extra\n",
      "timesteps in the more fine-grained discretization, but the\n",
      "difference should be smallish.\n"
     ]
    },
    {
     "name": "stderr",
     "output_type": "stream",
     "text": [
      "/Users/szepi1991/Code/adaptive_time/.venv/lib/python3.11/site-packages/gymnasium/core.py:311: UserWarning: \u001b[33mWARN: env.stepTime to get variables from other wrappers is deprecated and will be removed in v1.0, to get this variable you can do `env.unwrapped.stepTime` for environment variables or `env.get_wrapper_attr('stepTime')` that will search the reminding wrappers.\u001b[0m\n",
      "  logger.warn(\n"
     ]
    }
   ],
   "source": [
    "# Sample usage of the environment.\n",
    "print(\n",
    "    \"We run the same environment and simple policy twice,\\n\"\n",
    "    \"with different time discretizations. The policy we use\\n\"\n",
    "    \"will always go left, so the time discretization does not\\n\"\n",
    "    \"make a difference to the behaviour, and the total return\\n\"\n",
    "    \"will be the same.\")\n",
    "print()\n",
    "\n",
    "policy = lambda obs: 0\n",
    "\n",
    "env = gym.make('CartPole-OURS-v0')\n",
    "tau = 0.02\n",
    "env.stepTime(tau)\n",
    "\n",
    "reset_randomness(seed, env)\n",
    "traj = environments.generate_trajectory(env, seed, policy)\n",
    "total_return_1 = sum(ts[2] for ts in traj)\n",
    "print(\"Total undiscounted return: \", total_return_1)\n",
    "\n",
    "env = gym.make('CartPole-OURS-v0')\n",
    "tau = 0.002\n",
    "env.stepTime(tau)\n",
    "\n",
    "reset_randomness(seed, env)\n",
    "traj = environments.generate_trajectory(env, seed, policy)\n",
    "total_return_2 = sum(ts[2] for ts in traj)\n",
    "print(\"Total undiscounted return: \", total_return_2)\n",
    "\n",
    "np.testing.assert_almost_equal(total_return_1, total_return_2, decimal=0)\n",
    "\n",
    "print()\n",
    "print(\n",
    "    \"We can expect some difference because we may get an extra\\n\"\n",
    "    \"timesteps in the more fine-grained discretization, but the\\n\"\n",
    "    \"difference should be smallish.\")"
   ]
  },
  {
   "cell_type": "markdown",
   "metadata": {},
   "source": [
    "**NOTE** you must adjust the discount factor if changing time-scales!"
   ]
  },
  {
   "cell_type": "code",
   "execution_count": 4,
   "metadata": {},
   "outputs": [
    {
     "data": {
      "text/plain": [
       "625"
      ]
     },
     "execution_count": 4,
     "metadata": {},
     "output_type": "execute_result"
    }
   ],
   "source": [
    "phi = Fourier_Features()\n",
    "phi.init_fourier_features(4,4)\n",
    "x_thres = 4.8\n",
    "theta_thres = 0.418\n",
    "phi.init_state_normalizers(np.array([x_thres,2.0,theta_thres,1]), np.array([-x_thres,-2.0,-theta_thres,-1]))\n",
    "phi.num_parameters"
   ]
  },
  {
   "cell_type": "code",
   "execution_count": 9,
   "metadata": {},
   "outputs": [],
   "source": [
    "\n",
    "def run_experiment(\n",
    "        seed, env, sampler, epsilon, num_episodes, gamma, print_trajectory=False):\n",
    "    \"\"\"Returns the number of episodes it took to solve the environment.\"\"\"\n",
    "\n",
    "    # We record:\n",
    "    returns_per_episode_q = np.zeros((2, num_episodes))\n",
    "    average_returns_q = np.zeros((2, num_episodes))  # the cumulative average of the above\n",
    "    predicted_returns_q = np.zeros((2, num_episodes))\n",
    "\n",
    "    reset_randomness(seed, env)\n",
    "\n",
    "    observation, _ = env.reset(seed=seed)\n",
    "    d = len(phi.get_fourier_feature(observation))\n",
    "    assert d == phi.num_parameters\n",
    "    features = np.identity(2 * d)   # An estimate of A = xx^T\n",
    "    targets = np.zeros(2 * d)  # An estimate of b = xG\n",
    "    weights = np.zeros(2 * d)   # The weights that approximate A^{-1} b\n",
    "\n",
    "    x_0 = phi.get_fourier_feature([0,0,0,0])  # the initial state\n",
    "    x_sa0 = mc2.phi_sa(x_0, 0)\n",
    "    x_sa1 = mc2.phi_sa(x_0, 1)\n",
    "\n",
    "    for episode in range(num_episodes):\n",
    "        def policy(state):\n",
    "            if random.random() < epsilon:\n",
    "                return env.action_space.sample()\n",
    "            # Otherwise calculate the best action.\n",
    "            x = phi.get_fourier_feature(state)\n",
    "            qs = np.zeros(2)\n",
    "            for action in [0, 1]:\n",
    "                x_sa = mc2.phi_sa(x, action)\n",
    "                qs[action] = np.inner(x_sa.flatten(), weights)\n",
    "            # adaptive_time.utils.softmax(qs, 1)\n",
    "            return adaptive_time.utils.argmax(qs)\n",
    "\n",
    "        trajectory = environments.generate_trajectory(env, policy=policy, max_steps=100_000)\n",
    "        if trajectory is None:\n",
    "            print(\"episode:\", episode)\n",
    "            print(\"Did not drop it for a long time, returning!\")\n",
    "            return episode\n",
    "\n",
    "        if print_trajectory:\n",
    "            print(\"trajectory-len: \", len(trajectory), \"; trajectory:\")\n",
    "            for idx, (o, a, r, o_) in enumerate(trajectory):\n",
    "                # * ignore reward, as it is always the same here.\n",
    "                # * o_ is the same as the next o.\n",
    "                print(f\"* {idx:4d}: o: {o}\\n\\t --> action: {a}\")\n",
    "\n",
    "        weights, targets, features, cur_avr_returns = mc2.ols_monte_carlo(\n",
    "            trajectory, sampler, tqdm, phi, weights, targets, features, x_0, gamma)\n",
    "        \n",
    "        # Store the empirical and predicted returns. For any episode, we may\n",
    "        # or may not have empirical returns for both actions. When we don't have an\n",
    "        # estimate, `nan` is returned.\n",
    "        returns_per_episode_q[:, episode] = cur_avr_returns\n",
    "        average_returns_q[:, episode] = np.nanmean(returns_per_episode_q[:, :episode+1], axis=1)\n",
    "\n",
    "        predicted_returns_q[0, episode] = np.inner(x_sa0.flatten(), weights)\n",
    "        predicted_returns_q[1, episode] = np.inner(x_sa1.flatten(), weights)\n",
    "        print(\n",
    "            'episode:', episode,\n",
    "            ' empirical returns:' , returns_per_episode_q[:, episode],\n",
    "            ' predicted returns:' , predicted_returns_q[:, episode])\n",
    "    \n",
    "    return -1"
   ]
  },
  {
   "cell_type": "code",
   "execution_count": 13,
   "metadata": {},
   "outputs": [
    {
     "name": "stdout",
     "output_type": "stream",
     "text": [
      "Using 29/548 samples.\n"
     ]
    },
    {
     "name": "stderr",
     "output_type": "stream",
     "text": [
      "/Users/szepi1991/Code/adaptive_time/.venv/lib/python3.11/site-packages/gymnasium/core.py:311: UserWarning: \u001b[33mWARN: env.stepTime to get variables from other wrappers is deprecated and will be removed in v1.0, to get this variable you can do `env.unwrapped.stepTime` for environment variables or `env.get_wrapper_attr('stepTime')` that will search the reminding wrappers.\u001b[0m\n",
      "  logger.warn(\n"
     ]
    },
    {
     "data": {
      "application/vnd.jupyter.widget-view+json": {
       "model_id": "02917b2eccb74390ac05a0b1742684d5",
       "version_major": 2,
       "version_minor": 0
      },
      "text/plain": [
       "  0%|          | 0/548 [00:00<?, ?it/s]"
      ]
     },
     "metadata": {},
     "output_type": "display_data"
    },
    {
     "name": "stdout",
     "output_type": "stream",
     "text": [
      "episode: 0  empirical returns: [39.07399847  0.        ]  predicted returns: [38.64580775 12.42227583]\n",
      "Did 5000 steps! 5000\n",
      "Did 5000 steps! 10000\n",
      "Did 5000 steps! 15000\n",
      "Did 5000 steps! 20000\n",
      "Did 5000 steps! 25000\n",
      "Did 5000 steps! 30000\n",
      "Did 5000 steps! 35000\n",
      "Did 5000 steps! 40000\n",
      "Did 5000 steps! 45000\n",
      "Did 5000 steps! 50000\n",
      "Did 5000 steps! 55000\n",
      "Did 5000 steps! 60000\n",
      "Did 5000 steps! 65000\n",
      "Did 5000 steps! 70000\n",
      "Did 5000 steps! 75000\n",
      "Did 5000 steps! 80000\n",
      "Did 5000 steps! 85000\n",
      "Did 5000 steps! 90000\n",
      "Did 5000 steps! 95000\n",
      "Did 5000 steps! 100000\n",
      "Max steps reached! 100001\n",
      "episode: 1\n",
      "Did not drop it for a long time, returning!\n",
      "Using 41/548 samples.\n"
     ]
    },
    {
     "data": {
      "application/vnd.jupyter.widget-view+json": {
       "model_id": "72cbbfab3c3a4bae8607c995c74c86c5",
       "version_major": 2,
       "version_minor": 0
      },
      "text/plain": [
       "  0%|          | 0/548 [00:00<?, ?it/s]"
      ]
     },
     "metadata": {},
     "output_type": "display_data"
    },
    {
     "name": "stdout",
     "output_type": "stream",
     "text": [
      "episode: 0  empirical returns: [39.07399847  0.        ]  predicted returns: [38.54726255 12.07184041]\n",
      "Using 18/123 samples.\n"
     ]
    },
    {
     "data": {
      "application/vnd.jupyter.widget-view+json": {
       "model_id": "b4305802bfba4f17a911ec09b73e09be",
       "version_major": 2,
       "version_minor": 0
      },
      "text/plain": [
       "  0%|          | 0/123 [00:00<?, ?it/s]"
      ]
     },
     "metadata": {},
     "output_type": "display_data"
    },
    {
     "name": "stdout",
     "output_type": "stream",
     "text": [
      "episode: 1  empirical returns: [9.52965598 0.        ]  predicted returns: [24.23798007 12.14794427]\n",
      "Using 19/159 samples.\n"
     ]
    },
    {
     "data": {
      "application/vnd.jupyter.widget-view+json": {
       "model_id": "e61985f0110a48ad8f54718c4a74b8ed",
       "version_major": 2,
       "version_minor": 0
      },
      "text/plain": [
       "  0%|          | 0/159 [00:00<?, ?it/s]"
      ]
     },
     "metadata": {},
     "output_type": "display_data"
    },
    {
     "name": "stdout",
     "output_type": "stream",
     "text": [
      "episode: 2  empirical returns: [10.95753037  0.        ]  predicted returns: [19.85380852 12.75762596]\n",
      "Using 23/179 samples.\n"
     ]
    },
    {
     "data": {
      "application/vnd.jupyter.widget-view+json": {
       "model_id": "9a93b8fc878148449938ced476e00b9c",
       "version_major": 2,
       "version_minor": 0
      },
      "text/plain": [
       "  0%|          | 0/179 [00:00<?, ?it/s]"
      ]
     },
     "metadata": {},
     "output_type": "display_data"
    },
    {
     "name": "stdout",
     "output_type": "stream",
     "text": [
      "episode: 3  empirical returns: [12.16771336  0.        ]  predicted returns: [17.97095232 12.70873222]\n",
      "Using 23/177 samples.\n"
     ]
    },
    {
     "data": {
      "application/vnd.jupyter.widget-view+json": {
       "model_id": "ed0a0f2ff7254587867e98dbef95e43a",
       "version_major": 2,
       "version_minor": 0
      },
      "text/plain": [
       "  0%|          | 0/177 [00:00<?, ?it/s]"
      ]
     },
     "metadata": {},
     "output_type": "display_data"
    },
    {
     "name": "stdout",
     "output_type": "stream",
     "text": [
      "episode: 4  empirical returns: [12.08726013  0.        ]  predicted returns: [16.80486932 12.95675372]\n",
      "Using 21/173 samples.\n"
     ]
    },
    {
     "data": {
      "application/vnd.jupyter.widget-view+json": {
       "model_id": "a77d2d2101d54202be0b794071799205",
       "version_major": 2,
       "version_minor": 0
      },
      "text/plain": [
       "  0%|          | 0/173 [00:00<?, ?it/s]"
      ]
     },
     "metadata": {},
     "output_type": "display_data"
    },
    {
     "name": "stdout",
     "output_type": "stream",
     "text": [
      "episode: 5  empirical returns: [11.8715752  0.       ]  predicted returns: [15.98069162 13.08495193]\n",
      "Using 23/172 samples.\n"
     ]
    },
    {
     "data": {
      "application/vnd.jupyter.widget-view+json": {
       "model_id": "06088d3143714f7f8a9dc37f6c524cab",
       "version_major": 2,
       "version_minor": 0
      },
      "text/plain": [
       "  0%|          | 0/172 [00:00<?, ?it/s]"
      ]
     },
     "metadata": {},
     "output_type": "display_data"
    },
    {
     "name": "stdout",
     "output_type": "stream",
     "text": [
      "episode: 6  empirical returns: [11.71337222  0.        ]  predicted returns: [15.37294572 13.32588551]\n",
      "Did 5000 steps! 5000\n",
      "Did 5000 steps! 10000\n",
      "Did 5000 steps! 15000\n",
      "Did 5000 steps! 20000\n",
      "Did 5000 steps! 25000\n",
      "Did 5000 steps! 30000\n",
      "Did 5000 steps! 35000\n",
      "Did 5000 steps! 40000\n",
      "Did 5000 steps! 45000\n",
      "Did 5000 steps! 50000\n",
      "Did 5000 steps! 55000\n",
      "Did 5000 steps! 60000\n",
      "Did 5000 steps! 65000\n",
      "Did 5000 steps! 70000\n",
      "Did 5000 steps! 75000\n",
      "Did 5000 steps! 80000\n",
      "Did 5000 steps! 85000\n",
      "Did 5000 steps! 90000\n",
      "Did 5000 steps! 95000\n",
      "Did 5000 steps! 100000\n",
      "Max steps reached! 100001\n",
      "episode: 7\n",
      "Did not drop it for a long time, returning!\n",
      "Using 79/548 samples.\n"
     ]
    },
    {
     "data": {
      "application/vnd.jupyter.widget-view+json": {
       "model_id": "e26a6954d62043ac88f15770b9eeb8cb",
       "version_major": 2,
       "version_minor": 0
      },
      "text/plain": [
       "  0%|          | 0/548 [00:00<?, ?it/s]"
      ]
     },
     "metadata": {},
     "output_type": "display_data"
    },
    {
     "name": "stdout",
     "output_type": "stream",
     "text": [
      "episode: 0  empirical returns: [39.07399847  0.        ]  predicted returns: [36.52305997 29.27377728]\n",
      "Using 68/459 samples.\n"
     ]
    },
    {
     "data": {
      "application/vnd.jupyter.widget-view+json": {
       "model_id": "d368102b4d4641988e92a1fab7cce3d2",
       "version_major": 2,
       "version_minor": 0
      },
      "text/plain": [
       "  0%|          | 0/459 [00:00<?, ?it/s]"
      ]
     },
     "metadata": {},
     "output_type": "display_data"
    },
    {
     "name": "stdout",
     "output_type": "stream",
     "text": [
      "episode: 1  empirical returns: [32.82077423  0.        ]  predicted returns: [34.76559224 35.31191037]\n",
      "Using 26/123 samples.\n"
     ]
    },
    {
     "data": {
      "application/vnd.jupyter.widget-view+json": {
       "model_id": "046bfd131a8c4c88a696d691de98abd0",
       "version_major": 2,
       "version_minor": 0
      },
      "text/plain": [
       "  0%|          | 0/123 [00:00<?, ?it/s]"
      ]
     },
     "metadata": {},
     "output_type": "display_data"
    },
    {
     "name": "stdout",
     "output_type": "stream",
     "text": [
      "episode: 2  empirical returns: [0.         9.51430124]  predicted returns: [34.76559224 24.23858981]\n",
      "Using 79/574 samples.\n"
     ]
    },
    {
     "data": {
      "application/vnd.jupyter.widget-view+json": {
       "model_id": "f50e9d9b38fe45b68b0b5c03c4475387",
       "version_major": 2,
       "version_minor": 0
      },
      "text/plain": [
       "  0%|          | 0/574 [00:00<?, ?it/s]"
      ]
     },
     "metadata": {},
     "output_type": "display_data"
    },
    {
     "name": "stdout",
     "output_type": "stream",
     "text": [
      "episode: 3  empirical returns: [40.19305626  0.        ]  predicted returns: [37.54254078 24.64539809]\n",
      "Using 71/568 samples.\n"
     ]
    },
    {
     "data": {
      "application/vnd.jupyter.widget-view+json": {
       "model_id": "5be86eb82698413f821c420f699515a2",
       "version_major": 2,
       "version_minor": 0
      },
      "text/plain": [
       "  0%|          | 0/568 [00:00<?, ?it/s]"
      ]
     },
     "metadata": {},
     "output_type": "display_data"
    },
    {
     "name": "stdout",
     "output_type": "stream",
     "text": [
      "episode: 4  empirical returns: [39.74854335  0.        ]  predicted returns: [37.94683352 24.49000516]\n",
      "Using 69/565 samples.\n"
     ]
    },
    {
     "data": {
      "application/vnd.jupyter.widget-view+json": {
       "model_id": "c497d945f65a4624a3c03deb9d7c3fd1",
       "version_major": 2,
       "version_minor": 0
      },
      "text/plain": [
       "  0%|          | 0/565 [00:00<?, ?it/s]"
      ]
     },
     "metadata": {},
     "output_type": "display_data"
    },
    {
     "name": "stdout",
     "output_type": "stream",
     "text": [
      "episode: 5  empirical returns: [39.59192017  0.        ]  predicted returns: [38.22479588 24.49955773]\n",
      "Using 71/569 samples.\n"
     ]
    },
    {
     "data": {
      "application/vnd.jupyter.widget-view+json": {
       "model_id": "7e4479a1c51b4e279bd5cbdff94a8937",
       "version_major": 2,
       "version_minor": 0
      },
      "text/plain": [
       "  0%|          | 0/569 [00:00<?, ?it/s]"
      ]
     },
     "metadata": {},
     "output_type": "display_data"
    },
    {
     "name": "stdout",
     "output_type": "stream",
     "text": [
      "episode: 6  empirical returns: [39.83398062  0.        ]  predicted returns: [38.44007998 24.48550829]\n",
      "Using 63/557 samples.\n"
     ]
    },
    {
     "data": {
      "application/vnd.jupyter.widget-view+json": {
       "model_id": "b7c1d02f60de4203af51486f92b207ec",
       "version_major": 2,
       "version_minor": 0
      },
      "text/plain": [
       "  0%|          | 0/557 [00:00<?, ?it/s]"
      ]
     },
     "metadata": {},
     "output_type": "display_data"
    },
    {
     "name": "stdout",
     "output_type": "stream",
     "text": [
      "episode: 7  empirical returns: [39.99506272  0.        ]  predicted returns: [38.60854994 24.68747003]\n",
      "Using 74/583 samples.\n"
     ]
    },
    {
     "data": {
      "application/vnd.jupyter.widget-view+json": {
       "model_id": "664bbe6d384e44f3991ced7f6e03d1f3",
       "version_major": 2,
       "version_minor": 0
      },
      "text/plain": [
       "  0%|          | 0/583 [00:00<?, ?it/s]"
      ]
     },
     "metadata": {},
     "output_type": "display_data"
    },
    {
     "name": "stdout",
     "output_type": "stream",
     "text": [
      "episode: 8  empirical returns: [40.62346967  0.        ]  predicted returns: [38.80446948 24.63569957]\n",
      "Using 75/590 samples.\n"
     ]
    },
    {
     "data": {
      "application/vnd.jupyter.widget-view+json": {
       "model_id": "315265161f2b4d85998f138a7303f13f",
       "version_major": 2,
       "version_minor": 0
      },
      "text/plain": [
       "  0%|          | 0/590 [00:00<?, ?it/s]"
      ]
     },
     "metadata": {},
     "output_type": "display_data"
    },
    {
     "name": "stdout",
     "output_type": "stream",
     "text": [
      "episode: 9  empirical returns: [41.00390111  0.        ]  predicted returns: [38.99855562 24.55550364]\n",
      "Using 88/597 samples.\n"
     ]
    },
    {
     "data": {
      "application/vnd.jupyter.widget-view+json": {
       "model_id": "f7c79500315f42acb688ed68512678e4",
       "version_major": 2,
       "version_minor": 0
      },
      "text/plain": [
       "  0%|          | 0/597 [00:00<?, ?it/s]"
      ]
     },
     "metadata": {},
     "output_type": "display_data"
    },
    {
     "name": "stdout",
     "output_type": "stream",
     "text": [
      "episode: 10  empirical returns: [41.4284572  0.       ]  predicted returns: [39.27344508 25.10097585]\n",
      "Using 77/605 samples.\n"
     ]
    },
    {
     "data": {
      "application/vnd.jupyter.widget-view+json": {
       "model_id": "0ae9854c72414094a32f1ee70a6fc40c",
       "version_major": 2,
       "version_minor": 0
      },
      "text/plain": [
       "  0%|          | 0/605 [00:00<?, ?it/s]"
      ]
     },
     "metadata": {},
     "output_type": "display_data"
    },
    {
     "name": "stdout",
     "output_type": "stream",
     "text": [
      "episode: 11  empirical returns: [41.85329026  0.        ]  predicted returns: [39.47843645 25.03276821]\n",
      "Using 77/598 samples.\n"
     ]
    },
    {
     "data": {
      "application/vnd.jupyter.widget-view+json": {
       "model_id": "d03e67dd1cc344fc9463af439904f969",
       "version_major": 2,
       "version_minor": 0
      },
      "text/plain": [
       "  0%|          | 0/598 [00:00<?, ?it/s]"
      ]
     },
     "metadata": {},
     "output_type": "display_data"
    },
    {
     "name": "stdout",
     "output_type": "stream",
     "text": [
      "episode: 12  empirical returns: [41.45823445  0.        ]  predicted returns: [39.62252471 25.03739022]\n",
      "Using 84/601 samples.\n"
     ]
    },
    {
     "data": {
      "application/vnd.jupyter.widget-view+json": {
       "model_id": "665e6a2e23ac420daa2241ef16a6bb46",
       "version_major": 2,
       "version_minor": 0
      },
      "text/plain": [
       "  0%|          | 0/601 [00:00<?, ?it/s]"
      ]
     },
     "metadata": {},
     "output_type": "display_data"
    },
    {
     "name": "stdout",
     "output_type": "stream",
     "text": [
      "episode: 13  empirical returns: [41.58233249  0.        ]  predicted returns: [39.80084182 25.23088053]\n",
      "Using 81/612 samples.\n"
     ]
    },
    {
     "data": {
      "application/vnd.jupyter.widget-view+json": {
       "model_id": "20fe1f957f81480c8c4e513575105c14",
       "version_major": 2,
       "version_minor": 0
      },
      "text/plain": [
       "  0%|          | 0/612 [00:00<?, ?it/s]"
      ]
     },
     "metadata": {},
     "output_type": "display_data"
    },
    {
     "name": "stdout",
     "output_type": "stream",
     "text": [
      "episode: 14  empirical returns: [42.22750387  0.        ]  predicted returns: [39.91632387 25.11781384]\n",
      "Using 84/623 samples.\n"
     ]
    },
    {
     "data": {
      "application/vnd.jupyter.widget-view+json": {
       "model_id": "1775b6c4bc2246e8b66351e2f1e4f5fd",
       "version_major": 2,
       "version_minor": 0
      },
      "text/plain": [
       "  0%|          | 0/623 [00:00<?, ?it/s]"
      ]
     },
     "metadata": {},
     "output_type": "display_data"
    },
    {
     "name": "stdout",
     "output_type": "stream",
     "text": [
      "episode: 15  empirical returns: [42.81926876  0.        ]  predicted returns: [40.00573515 25.24334909]\n",
      "Using 81/634 samples.\n"
     ]
    },
    {
     "data": {
      "application/vnd.jupyter.widget-view+json": {
       "model_id": "0aac6b1711dc4689881d7788035f2b7d",
       "version_major": 2,
       "version_minor": 0
      },
      "text/plain": [
       "  0%|          | 0/634 [00:00<?, ?it/s]"
      ]
     },
     "metadata": {},
     "output_type": "display_data"
    },
    {
     "name": "stdout",
     "output_type": "stream",
     "text": [
      "episode: 16  empirical returns: [43.42942663  0.        ]  predicted returns: [40.20322716 25.66946793]\n",
      "Using 81/641 samples.\n"
     ]
    },
    {
     "data": {
      "application/vnd.jupyter.widget-view+json": {
       "model_id": "08491eba038e4dfd95a0b4dc901118dd",
       "version_major": 2,
       "version_minor": 0
      },
      "text/plain": [
       "  0%|          | 0/641 [00:00<?, ?it/s]"
      ]
     },
     "metadata": {},
     "output_type": "display_data"
    },
    {
     "name": "stdout",
     "output_type": "stream",
     "text": [
      "episode: 17  empirical returns: [43.77805142  0.        ]  predicted returns: [40.39261955 25.61366482]\n",
      "Using 86/670 samples.\n"
     ]
    },
    {
     "data": {
      "application/vnd.jupyter.widget-view+json": {
       "model_id": "edce6cf9fa054eb2a2c24dcf7f28cca9",
       "version_major": 2,
       "version_minor": 0
      },
      "text/plain": [
       "  0%|          | 0/670 [00:00<?, ?it/s]"
      ]
     },
     "metadata": {},
     "output_type": "display_data"
    },
    {
     "name": "stdout",
     "output_type": "stream",
     "text": [
      "episode: 18  empirical returns: [45.35111703  0.        ]  predicted returns: [40.6683109  25.89699235]\n",
      "Using 80/710 samples.\n"
     ]
    },
    {
     "data": {
      "application/vnd.jupyter.widget-view+json": {
       "model_id": "cbb3314427c24f01ad4578054bd029dc",
       "version_major": 2,
       "version_minor": 0
      },
      "text/plain": [
       "  0%|          | 0/710 [00:00<?, ?it/s]"
      ]
     },
     "metadata": {},
     "output_type": "display_data"
    },
    {
     "name": "stdout",
     "output_type": "stream",
     "text": [
      "episode: 19  empirical returns: [47.37196642  0.        ]  predicted returns: [40.93867847 25.77489415]\n",
      "Using 72/692 samples.\n"
     ]
    },
    {
     "data": {
      "application/vnd.jupyter.widget-view+json": {
       "model_id": "154b8b7cd016478e8249d4b771c935a8",
       "version_major": 2,
       "version_minor": 0
      },
      "text/plain": [
       "  0%|          | 0/692 [00:00<?, ?it/s]"
      ]
     },
     "metadata": {},
     "output_type": "display_data"
    },
    {
     "name": "stdout",
     "output_type": "stream",
     "text": [
      "episode: 20  empirical returns: [47.57866836  0.        ]  predicted returns: [41.20642757 25.84432023]\n",
      "Using 72/705 samples.\n"
     ]
    },
    {
     "data": {
      "application/vnd.jupyter.widget-view+json": {
       "model_id": "376d27fd9f4849a7ab5d6690199d5edd",
       "version_major": 2,
       "version_minor": 0
      },
      "text/plain": [
       "  0%|          | 0/705 [00:00<?, ?it/s]"
      ]
     },
     "metadata": {},
     "output_type": "display_data"
    },
    {
     "name": "stdout",
     "output_type": "stream",
     "text": [
      "episode: 21  empirical returns: [48.03238036  0.        ]  predicted returns: [41.50174593 25.94011382]\n",
      "Using 75/701 samples.\n"
     ]
    },
    {
     "data": {
      "application/vnd.jupyter.widget-view+json": {
       "model_id": "69777b0c8d4f4754976b42b743c50fb1",
       "version_major": 2,
       "version_minor": 0
      },
      "text/plain": [
       "  0%|          | 0/701 [00:00<?, ?it/s]"
      ]
     },
     "metadata": {},
     "output_type": "display_data"
    },
    {
     "name": "stdout",
     "output_type": "stream",
     "text": [
      "episode: 22  empirical returns: [47.83605884  0.        ]  predicted returns: [41.840375 26.495752]\n",
      "Using 209/1283 samples.\n"
     ]
    },
    {
     "data": {
      "application/vnd.jupyter.widget-view+json": {
       "model_id": "a4e7c3c8beaf477cb786c8bc6fbbed86",
       "version_major": 2,
       "version_minor": 0
      },
      "text/plain": [
       "  0%|          | 0/1283 [00:00<?, ?it/s]"
      ]
     },
     "metadata": {},
     "output_type": "display_data"
    },
    {
     "name": "stdout",
     "output_type": "stream",
     "text": [
      "episode: 23  empirical returns: [66.51893164  0.        ]  predicted returns: [43.10398498 27.44430113]\n",
      "Did 5000 steps! 5000\n",
      "Did 5000 steps! 10000\n",
      "Did 5000 steps! 15000\n",
      "Did 5000 steps! 20000\n",
      "Did 5000 steps! 25000\n",
      "Did 5000 steps! 30000\n",
      "Did 5000 steps! 35000\n",
      "Did 5000 steps! 40000\n",
      "Did 5000 steps! 45000\n",
      "Did 5000 steps! 50000\n",
      "Did 5000 steps! 55000\n",
      "Did 5000 steps! 60000\n",
      "Did 5000 steps! 65000\n",
      "Did 5000 steps! 70000\n",
      "Did 5000 steps! 75000\n",
      "Did 5000 steps! 80000\n",
      "Did 5000 steps! 85000\n",
      "Did 5000 steps! 90000\n",
      "Did 5000 steps! 95000\n",
      "Did 5000 steps! 100000\n",
      "Max steps reached! 100001\n",
      "episode: 24\n",
      "Did not drop it for a long time, returning!\n",
      "Using 548/548 samples.\n"
     ]
    },
    {
     "data": {
      "application/vnd.jupyter.widget-view+json": {
       "model_id": "b9a602de465041628a6ee18ba52f3bea",
       "version_major": 2,
       "version_minor": 0
      },
      "text/plain": [
       "  0%|          | 0/548 [00:00<?, ?it/s]"
      ]
     },
     "metadata": {},
     "output_type": "display_data"
    },
    {
     "name": "stdout",
     "output_type": "stream",
     "text": [
      "episode: 0  empirical returns: [39.07399847  0.        ]  predicted returns: [35.91830993 30.24942918]\n",
      "Using 361/361 samples.\n"
     ]
    },
    {
     "data": {
      "application/vnd.jupyter.widget-view+json": {
       "model_id": "5e45c0830bb2465ab379c6091fd10303",
       "version_major": 2,
       "version_minor": 0
      },
      "text/plain": [
       "  0%|          | 0/361 [00:00<?, ?it/s]"
      ]
     },
     "metadata": {},
     "output_type": "display_data"
    },
    {
     "name": "stdout",
     "output_type": "stream",
     "text": [
      "episode: 1  empirical returns: [28.45849011  0.        ]  predicted returns: [35.36472805 35.71637349]\n",
      "Using 1863/1863 samples.\n"
     ]
    },
    {
     "data": {
      "application/vnd.jupyter.widget-view+json": {
       "model_id": "2a9b7ac0d23647be938c6ddd4e3dd972",
       "version_major": 2,
       "version_minor": 0
      },
      "text/plain": [
       "  0%|          | 0/1863 [00:00<?, ?it/s]"
      ]
     },
     "metadata": {},
     "output_type": "display_data"
    },
    {
     "name": "stdout",
     "output_type": "stream",
     "text": [
      "episode: 2  empirical returns: [ 0.         82.02244811]  predicted returns: [54.30500398 66.10999344]\n",
      "Using 649/649 samples.\n"
     ]
    },
    {
     "data": {
      "application/vnd.jupyter.widget-view+json": {
       "model_id": "0fc81ca11a194cd69fe55200cea5d11a",
       "version_major": 2,
       "version_minor": 0
      },
      "text/plain": [
       "  0%|          | 0/649 [00:00<?, ?it/s]"
      ]
     },
     "metadata": {},
     "output_type": "display_data"
    },
    {
     "name": "stdout",
     "output_type": "stream",
     "text": [
      "episode: 3  empirical returns: [ 0.         44.88951313]  predicted returns: [41.19728746 47.10703236]\n",
      "Using 255/255 samples.\n"
     ]
    },
    {
     "data": {
      "application/vnd.jupyter.widget-view+json": {
       "model_id": "3b92e6dc266e4eefbca00d226ea38045",
       "version_major": 2,
       "version_minor": 0
      },
      "text/plain": [
       "  0%|          | 0/255 [00:00<?, ?it/s]"
      ]
     },
     "metadata": {},
     "output_type": "display_data"
    },
    {
     "name": "stdout",
     "output_type": "stream",
     "text": [
      "episode: 4  empirical returns: [ 0.         19.43532548]  predicted returns: [46.67649866 50.50184754]\n",
      "Using 233/233 samples.\n"
     ]
    },
    {
     "data": {
      "application/vnd.jupyter.widget-view+json": {
       "model_id": "b98752f99ae84963906dfb27052b3619",
       "version_major": 2,
       "version_minor": 0
      },
      "text/plain": [
       "  0%|          | 0/233 [00:00<?, ?it/s]"
      ]
     },
     "metadata": {},
     "output_type": "display_data"
    },
    {
     "name": "stdout",
     "output_type": "stream",
     "text": [
      "episode: 5  empirical returns: [ 0.         18.79206236]  predicted returns: [32.47099161 37.37620204]\n",
      "Using 455/455 samples.\n"
     ]
    },
    {
     "data": {
      "application/vnd.jupyter.widget-view+json": {
       "model_id": "0bfe8882aadf4490a83f36398cb6629b",
       "version_major": 2,
       "version_minor": 0
      },
      "text/plain": [
       "  0%|          | 0/455 [00:00<?, ?it/s]"
      ]
     },
     "metadata": {},
     "output_type": "display_data"
    },
    {
     "name": "stdout",
     "output_type": "stream",
     "text": [
      "episode: 6  empirical returns: [ 0.         33.11931168]  predicted returns: [32.07258811 34.39966632]\n",
      "Using 340/340 samples.\n"
     ]
    },
    {
     "data": {
      "application/vnd.jupyter.widget-view+json": {
       "model_id": "197ec6e15c3946368a7afee6b84cba37",
       "version_major": 2,
       "version_minor": 0
      },
      "text/plain": [
       "  0%|          | 0/340 [00:00<?, ?it/s]"
      ]
     },
     "metadata": {},
     "output_type": "display_data"
    },
    {
     "name": "stdout",
     "output_type": "stream",
     "text": [
      "episode: 7  empirical returns: [ 0.         26.68285605]  predicted returns: [30.02010511 32.90284232]\n",
      "Using 403/403 samples.\n"
     ]
    },
    {
     "data": {
      "application/vnd.jupyter.widget-view+json": {
       "model_id": "1fbe444239bd4744a8e95f94b7fb897b",
       "version_major": 2,
       "version_minor": 0
      },
      "text/plain": [
       "  0%|          | 0/403 [00:00<?, ?it/s]"
      ]
     },
     "metadata": {},
     "output_type": "display_data"
    },
    {
     "name": "stdout",
     "output_type": "stream",
     "text": [
      "episode: 8  empirical returns: [ 0.         31.01961097]  predicted returns: [31.835958   34.61759991]\n",
      "Using 675/675 samples.\n"
     ]
    },
    {
     "data": {
      "application/vnd.jupyter.widget-view+json": {
       "model_id": "ca6e2dd34fdc472db0e685dddbc24dd7",
       "version_major": 2,
       "version_minor": 0
      },
      "text/plain": [
       "  0%|          | 0/675 [00:00<?, ?it/s]"
      ]
     },
     "metadata": {},
     "output_type": "display_data"
    },
    {
     "name": "stdout",
     "output_type": "stream",
     "text": [
      "episode: 9  empirical returns: [ 0.         46.77211508]  predicted returns: [31.60788984 35.15722459]\n",
      "Using 534/534 samples.\n"
     ]
    },
    {
     "data": {
      "application/vnd.jupyter.widget-view+json": {
       "model_id": "6bca63ce23f04523af9c8f2ae7c370f9",
       "version_major": 2,
       "version_minor": 0
      },
      "text/plain": [
       "  0%|          | 0/534 [00:00<?, ?it/s]"
      ]
     },
     "metadata": {},
     "output_type": "display_data"
    },
    {
     "name": "stdout",
     "output_type": "stream",
     "text": [
      "episode: 10  empirical returns: [ 0.        37.8610709]  predicted returns: [32.52375828 35.68179701]\n",
      "Using 611/611 samples.\n"
     ]
    },
    {
     "data": {
      "application/vnd.jupyter.widget-view+json": {
       "model_id": "782d34d44eb14ce8b59f0a8d721a714c",
       "version_major": 2,
       "version_minor": 0
      },
      "text/plain": [
       "  0%|          | 0/611 [00:00<?, ?it/s]"
      ]
     },
     "metadata": {},
     "output_type": "display_data"
    },
    {
     "name": "stdout",
     "output_type": "stream",
     "text": [
      "episode: 11  empirical returns: [ 0.         41.61848623]  predicted returns: [32.58748281 36.25691349]\n",
      "Using 611/611 samples.\n"
     ]
    },
    {
     "data": {
      "application/vnd.jupyter.widget-view+json": {
       "model_id": "79dc9112e89a45c8ac6284dd81b24daf",
       "version_major": 2,
       "version_minor": 0
      },
      "text/plain": [
       "  0%|          | 0/611 [00:00<?, ?it/s]"
      ]
     },
     "metadata": {},
     "output_type": "display_data"
    },
    {
     "name": "stdout",
     "output_type": "stream",
     "text": [
      "episode: 12  empirical returns: [ 0.         41.81897408]  predicted returns: [33.02158675 36.83651904]\n",
      "Using 609/609 samples.\n"
     ]
    },
    {
     "data": {
      "application/vnd.jupyter.widget-view+json": {
       "model_id": "8720473d8e284154a8d49d1b1e54bd39",
       "version_major": 2,
       "version_minor": 0
      },
      "text/plain": [
       "  0%|          | 0/609 [00:00<?, ?it/s]"
      ]
     },
     "metadata": {},
     "output_type": "display_data"
    },
    {
     "name": "stdout",
     "output_type": "stream",
     "text": [
      "episode: 13  empirical returns: [ 0.         41.43381738]  predicted returns: [33.18877555 37.00971386]\n",
      "Using 615/615 samples.\n"
     ]
    },
    {
     "data": {
      "application/vnd.jupyter.widget-view+json": {
       "model_id": "365b9bb8e4fb4c3bb782ce055927d4dd",
       "version_major": 2,
       "version_minor": 0
      },
      "text/plain": [
       "  0%|          | 0/615 [00:00<?, ?it/s]"
      ]
     },
     "metadata": {},
     "output_type": "display_data"
    },
    {
     "name": "stdout",
     "output_type": "stream",
     "text": [
      "episode: 14  empirical returns: [ 0.         41.70953441]  predicted returns: [33.35995812 37.10163755]\n",
      "Using 620/620 samples.\n"
     ]
    },
    {
     "data": {
      "application/vnd.jupyter.widget-view+json": {
       "model_id": "be78dc5663bb461497a84832b570a283",
       "version_major": 2,
       "version_minor": 0
      },
      "text/plain": [
       "  0%|          | 0/620 [00:00<?, ?it/s]"
      ]
     },
     "metadata": {},
     "output_type": "display_data"
    },
    {
     "name": "stdout",
     "output_type": "stream",
     "text": [
      "episode: 15  empirical returns: [ 0.         41.84819395]  predicted returns: [33.60520272 37.21336416]\n",
      "Using 627/629 samples.\n"
     ]
    },
    {
     "data": {
      "application/vnd.jupyter.widget-view+json": {
       "model_id": "6b1e5ef07a61453087c988a3165724f4",
       "version_major": 2,
       "version_minor": 0
      },
      "text/plain": [
       "  0%|          | 0/629 [00:00<?, ?it/s]"
      ]
     },
     "metadata": {},
     "output_type": "display_data"
    },
    {
     "name": "stdout",
     "output_type": "stream",
     "text": [
      "episode: 16  empirical returns: [ 0.         42.15698783]  predicted returns: [33.75531849 37.32372441]\n",
      "Using 782/782 samples.\n"
     ]
    },
    {
     "data": {
      "application/vnd.jupyter.widget-view+json": {
       "model_id": "f49ff51caffd4c47ba01c7bd8fa123ca",
       "version_major": 2,
       "version_minor": 0
      },
      "text/plain": [
       "  0%|          | 0/782 [00:00<?, ?it/s]"
      ]
     },
     "metadata": {},
     "output_type": "display_data"
    },
    {
     "name": "stdout",
     "output_type": "stream",
     "text": [
      "episode: 17  empirical returns: [ 0.         51.24447541]  predicted returns: [34.32819605 38.53884562]\n",
      "Using 738/738 samples.\n"
     ]
    },
    {
     "data": {
      "application/vnd.jupyter.widget-view+json": {
       "model_id": "47d86c292277472980d4673cfe3bec7f",
       "version_major": 2,
       "version_minor": 0
      },
      "text/plain": [
       "  0%|          | 0/738 [00:00<?, ?it/s]"
      ]
     },
     "metadata": {},
     "output_type": "display_data"
    },
    {
     "name": "stdout",
     "output_type": "stream",
     "text": [
      "episode: 18  empirical returns: [ 0.         48.89151119]  predicted returns: [35.03648163 39.41646117]\n",
      "Using 687/687 samples.\n"
     ]
    },
    {
     "data": {
      "application/vnd.jupyter.widget-view+json": {
       "model_id": "c7d54fb57074440289f9111c0144e73a",
       "version_major": 2,
       "version_minor": 0
      },
      "text/plain": [
       "  0%|          | 0/687 [00:00<?, ?it/s]"
      ]
     },
     "metadata": {},
     "output_type": "display_data"
    },
    {
     "name": "stdout",
     "output_type": "stream",
     "text": [
      "episode: 19  empirical returns: [ 0.         46.17854184]  predicted returns: [35.35472344 39.830005  ]\n",
      "Using 702/702 samples.\n"
     ]
    },
    {
     "data": {
      "application/vnd.jupyter.widget-view+json": {
       "model_id": "aafe42678773456897112737098fb5f5",
       "version_major": 2,
       "version_minor": 0
      },
      "text/plain": [
       "  0%|          | 0/702 [00:00<?, ?it/s]"
      ]
     },
     "metadata": {},
     "output_type": "display_data"
    },
    {
     "name": "stdout",
     "output_type": "stream",
     "text": [
      "episode: 20  empirical returns: [ 0.         46.83524623]  predicted returns: [35.6786645  40.20209902]\n",
      "Using 729/729 samples.\n"
     ]
    },
    {
     "data": {
      "application/vnd.jupyter.widget-view+json": {
       "model_id": "317753a0427e4d69b3090a9925d8ad4c",
       "version_major": 2,
       "version_minor": 0
      },
      "text/plain": [
       "  0%|          | 0/729 [00:00<?, ?it/s]"
      ]
     },
     "metadata": {},
     "output_type": "display_data"
    },
    {
     "name": "stdout",
     "output_type": "stream",
     "text": [
      "episode: 21  empirical returns: [48.16442451  0.        ]  predicted returns: [36.19727177 40.67224795]\n",
      "Using 750/750 samples.\n"
     ]
    },
    {
     "data": {
      "application/vnd.jupyter.widget-view+json": {
       "model_id": "abe61d691ff14e84acbea5fa4a147de6",
       "version_major": 2,
       "version_minor": 0
      },
      "text/plain": [
       "  0%|          | 0/750 [00:00<?, ?it/s]"
      ]
     },
     "metadata": {},
     "output_type": "display_data"
    },
    {
     "name": "stdout",
     "output_type": "stream",
     "text": [
      "episode: 22  empirical returns: [ 0.         49.14948636]  predicted returns: [36.60079675 41.09670042]\n",
      "Using 763/763 samples.\n"
     ]
    },
    {
     "data": {
      "application/vnd.jupyter.widget-view+json": {
       "model_id": "e4acfbfeca5849dd915e862ceaf9cd0e",
       "version_major": 2,
       "version_minor": 0
      },
      "text/plain": [
       "  0%|          | 0/763 [00:00<?, ?it/s]"
      ]
     },
     "metadata": {},
     "output_type": "display_data"
    },
    {
     "name": "stdout",
     "output_type": "stream",
     "text": [
      "episode: 23  empirical returns: [ 0.         50.06394522]  predicted returns: [37.0519421  41.56123152]\n",
      "Did 5000 steps! 5000\n",
      "Did 5000 steps! 10000\n",
      "Did 5000 steps! 15000\n",
      "Did 5000 steps! 20000\n",
      "Did 5000 steps! 25000\n",
      "Did 5000 steps! 30000\n",
      "Did 5000 steps! 35000\n",
      "Did 5000 steps! 40000\n",
      "Did 5000 steps! 45000\n",
      "Did 5000 steps! 50000\n",
      "Did 5000 steps! 55000\n",
      "Did 5000 steps! 60000\n",
      "Did 5000 steps! 65000\n",
      "Did 5000 steps! 70000\n",
      "Did 5000 steps! 75000\n",
      "Did 5000 steps! 80000\n",
      "Did 5000 steps! 85000\n",
      "Did 5000 steps! 90000\n",
      "Did 5000 steps! 95000\n",
      "Did 5000 steps! 100000\n",
      "Max steps reached! 100001\n",
      "episode: 24\n",
      "Did not drop it for a long time, returning!\n",
      "Using 548/548 samples.\n"
     ]
    },
    {
     "data": {
      "application/vnd.jupyter.widget-view+json": {
       "model_id": "275c184580ad46ac81e17f2e2e629454",
       "version_major": 2,
       "version_minor": 0
      },
      "text/plain": [
       "  0%|          | 0/548 [00:00<?, ?it/s]"
      ]
     },
     "metadata": {},
     "output_type": "display_data"
    },
    {
     "name": "stdout",
     "output_type": "stream",
     "text": [
      "episode: 0  empirical returns: [39.07399847  0.        ]  predicted returns: [35.91830993 30.24942918]\n",
      "Using 361/361 samples.\n"
     ]
    },
    {
     "data": {
      "application/vnd.jupyter.widget-view+json": {
       "model_id": "92ee24fbb97c4d1587b6c1327ca45e12",
       "version_major": 2,
       "version_minor": 0
      },
      "text/plain": [
       "  0%|          | 0/361 [00:00<?, ?it/s]"
      ]
     },
     "metadata": {},
     "output_type": "display_data"
    },
    {
     "name": "stdout",
     "output_type": "stream",
     "text": [
      "episode: 1  empirical returns: [28.45849011  0.        ]  predicted returns: [35.36472805 35.71637349]\n",
      "Using 1863/1863 samples.\n"
     ]
    },
    {
     "data": {
      "application/vnd.jupyter.widget-view+json": {
       "model_id": "51d4085d7399497d93663ee9a6874b3b",
       "version_major": 2,
       "version_minor": 0
      },
      "text/plain": [
       "  0%|          | 0/1863 [00:00<?, ?it/s]"
      ]
     },
     "metadata": {},
     "output_type": "display_data"
    },
    {
     "name": "stdout",
     "output_type": "stream",
     "text": [
      "episode: 2  empirical returns: [ 0.         82.02244811]  predicted returns: [54.30500398 66.10999344]\n",
      "Using 649/649 samples.\n"
     ]
    },
    {
     "data": {
      "application/vnd.jupyter.widget-view+json": {
       "model_id": "0bb630acf276433db24f3a47af76d6a7",
       "version_major": 2,
       "version_minor": 0
      },
      "text/plain": [
       "  0%|          | 0/649 [00:00<?, ?it/s]"
      ]
     },
     "metadata": {},
     "output_type": "display_data"
    },
    {
     "name": "stdout",
     "output_type": "stream",
     "text": [
      "episode: 3  empirical returns: [ 0.         44.88951313]  predicted returns: [41.19728746 47.10703236]\n",
      "Using 255/255 samples.\n"
     ]
    },
    {
     "data": {
      "application/vnd.jupyter.widget-view+json": {
       "model_id": "3d740c89e7034ac586d17c94de040255",
       "version_major": 2,
       "version_minor": 0
      },
      "text/plain": [
       "  0%|          | 0/255 [00:00<?, ?it/s]"
      ]
     },
     "metadata": {},
     "output_type": "display_data"
    },
    {
     "name": "stdout",
     "output_type": "stream",
     "text": [
      "episode: 4  empirical returns: [ 0.         19.43532548]  predicted returns: [46.67649866 50.50184754]\n",
      "Using 233/233 samples.\n"
     ]
    },
    {
     "data": {
      "application/vnd.jupyter.widget-view+json": {
       "model_id": "ce292cb2719b42a7a450e77738c611e4",
       "version_major": 2,
       "version_minor": 0
      },
      "text/plain": [
       "  0%|          | 0/233 [00:00<?, ?it/s]"
      ]
     },
     "metadata": {},
     "output_type": "display_data"
    },
    {
     "name": "stdout",
     "output_type": "stream",
     "text": [
      "episode: 5  empirical returns: [ 0.         18.79206236]  predicted returns: [32.47099161 37.37620204]\n",
      "Using 455/455 samples.\n"
     ]
    },
    {
     "data": {
      "application/vnd.jupyter.widget-view+json": {
       "model_id": "4e3267e8e3a74091b7d4c4314cfdcd6a",
       "version_major": 2,
       "version_minor": 0
      },
      "text/plain": [
       "  0%|          | 0/455 [00:00<?, ?it/s]"
      ]
     },
     "metadata": {},
     "output_type": "display_data"
    },
    {
     "name": "stdout",
     "output_type": "stream",
     "text": [
      "episode: 6  empirical returns: [ 0.         33.11931168]  predicted returns: [32.07258811 34.39966632]\n",
      "Using 340/340 samples.\n"
     ]
    },
    {
     "data": {
      "application/vnd.jupyter.widget-view+json": {
       "model_id": "1d6b514337f7432fb0628df4436480ea",
       "version_major": 2,
       "version_minor": 0
      },
      "text/plain": [
       "  0%|          | 0/340 [00:00<?, ?it/s]"
      ]
     },
     "metadata": {},
     "output_type": "display_data"
    },
    {
     "name": "stdout",
     "output_type": "stream",
     "text": [
      "episode: 7  empirical returns: [ 0.         26.68285605]  predicted returns: [30.02010511 32.90284232]\n",
      "Using 403/403 samples.\n"
     ]
    },
    {
     "data": {
      "application/vnd.jupyter.widget-view+json": {
       "model_id": "cd03d825b80c445b8b85a168e526321b",
       "version_major": 2,
       "version_minor": 0
      },
      "text/plain": [
       "  0%|          | 0/403 [00:00<?, ?it/s]"
      ]
     },
     "metadata": {},
     "output_type": "display_data"
    },
    {
     "name": "stdout",
     "output_type": "stream",
     "text": [
      "episode: 8  empirical returns: [ 0.         31.01961097]  predicted returns: [31.835958   34.61759991]\n",
      "Using 675/675 samples.\n"
     ]
    },
    {
     "data": {
      "application/vnd.jupyter.widget-view+json": {
       "model_id": "0fc970e0bdeb4c4ea8bd323e8957326d",
       "version_major": 2,
       "version_minor": 0
      },
      "text/plain": [
       "  0%|          | 0/675 [00:00<?, ?it/s]"
      ]
     },
     "metadata": {},
     "output_type": "display_data"
    },
    {
     "name": "stdout",
     "output_type": "stream",
     "text": [
      "episode: 9  empirical returns: [ 0.         46.77211508]  predicted returns: [31.60788984 35.15722459]\n",
      "Using 534/534 samples.\n"
     ]
    },
    {
     "data": {
      "application/vnd.jupyter.widget-view+json": {
       "model_id": "b9678bc84e294cdd865249bacdcfcca6",
       "version_major": 2,
       "version_minor": 0
      },
      "text/plain": [
       "  0%|          | 0/534 [00:00<?, ?it/s]"
      ]
     },
     "metadata": {},
     "output_type": "display_data"
    },
    {
     "name": "stdout",
     "output_type": "stream",
     "text": [
      "episode: 10  empirical returns: [ 0.        37.8610709]  predicted returns: [32.52375828 35.68179701]\n",
      "Using 611/611 samples.\n"
     ]
    },
    {
     "data": {
      "application/vnd.jupyter.widget-view+json": {
       "model_id": "30988e2ffd8f46178c56db45ab1ca50c",
       "version_major": 2,
       "version_minor": 0
      },
      "text/plain": [
       "  0%|          | 0/611 [00:00<?, ?it/s]"
      ]
     },
     "metadata": {},
     "output_type": "display_data"
    },
    {
     "name": "stdout",
     "output_type": "stream",
     "text": [
      "episode: 11  empirical returns: [ 0.         41.61848623]  predicted returns: [32.58748281 36.25691349]\n",
      "Using 611/611 samples.\n"
     ]
    },
    {
     "data": {
      "application/vnd.jupyter.widget-view+json": {
       "model_id": "00ef2ceed16f4e019e50f9f3ce90ff47",
       "version_major": 2,
       "version_minor": 0
      },
      "text/plain": [
       "  0%|          | 0/611 [00:00<?, ?it/s]"
      ]
     },
     "metadata": {},
     "output_type": "display_data"
    },
    {
     "name": "stdout",
     "output_type": "stream",
     "text": [
      "episode: 12  empirical returns: [ 0.         41.81897408]  predicted returns: [33.02158675 36.83651904]\n",
      "Using 609/609 samples.\n"
     ]
    },
    {
     "data": {
      "application/vnd.jupyter.widget-view+json": {
       "model_id": "da68238a14854da4baf31bc2b72b4e85",
       "version_major": 2,
       "version_minor": 0
      },
      "text/plain": [
       "  0%|          | 0/609 [00:00<?, ?it/s]"
      ]
     },
     "metadata": {},
     "output_type": "display_data"
    },
    {
     "name": "stdout",
     "output_type": "stream",
     "text": [
      "episode: 13  empirical returns: [ 0.         41.43381738]  predicted returns: [33.18877555 37.00971386]\n",
      "Using 615/615 samples.\n"
     ]
    },
    {
     "data": {
      "application/vnd.jupyter.widget-view+json": {
       "model_id": "baa428a8eba140688cfac4e4498bd7be",
       "version_major": 2,
       "version_minor": 0
      },
      "text/plain": [
       "  0%|          | 0/615 [00:00<?, ?it/s]"
      ]
     },
     "metadata": {},
     "output_type": "display_data"
    },
    {
     "name": "stdout",
     "output_type": "stream",
     "text": [
      "episode: 14  empirical returns: [ 0.         41.70953441]  predicted returns: [33.35995812 37.10163755]\n",
      "Using 620/620 samples.\n"
     ]
    },
    {
     "data": {
      "application/vnd.jupyter.widget-view+json": {
       "model_id": "010ff2be34b04ba69b6fc56586899efd",
       "version_major": 2,
       "version_minor": 0
      },
      "text/plain": [
       "  0%|          | 0/620 [00:00<?, ?it/s]"
      ]
     },
     "metadata": {},
     "output_type": "display_data"
    },
    {
     "name": "stdout",
     "output_type": "stream",
     "text": [
      "episode: 15  empirical returns: [ 0.         41.84819395]  predicted returns: [33.60520272 37.21336416]\n",
      "Using 629/629 samples.\n"
     ]
    },
    {
     "data": {
      "application/vnd.jupyter.widget-view+json": {
       "model_id": "d694794938e64a659328c0db097852f1",
       "version_major": 2,
       "version_minor": 0
      },
      "text/plain": [
       "  0%|          | 0/629 [00:00<?, ?it/s]"
      ]
     },
     "metadata": {},
     "output_type": "display_data"
    },
    {
     "name": "stdout",
     "output_type": "stream",
     "text": [
      "episode: 16  empirical returns: [ 0.         42.15698783]  predicted returns: [33.78158974 37.34025895]\n",
      "Using 781/781 samples.\n"
     ]
    },
    {
     "data": {
      "application/vnd.jupyter.widget-view+json": {
       "model_id": "3efd1522a93f4aa8bdcc17346e2d0cbb",
       "version_major": 2,
       "version_minor": 0
      },
      "text/plain": [
       "  0%|          | 0/781 [00:00<?, ?it/s]"
      ]
     },
     "metadata": {},
     "output_type": "display_data"
    },
    {
     "name": "stdout",
     "output_type": "stream",
     "text": [
      "episode: 17  empirical returns: [ 0.         51.17061056]  predicted returns: [34.30951272 38.51425187]\n",
      "Using 726/726 samples.\n"
     ]
    },
    {
     "data": {
      "application/vnd.jupyter.widget-view+json": {
       "model_id": "2f247fa50ce348e68e57737d6441541e",
       "version_major": 2,
       "version_minor": 0
      },
      "text/plain": [
       "  0%|          | 0/726 [00:00<?, ?it/s]"
      ]
     },
     "metadata": {},
     "output_type": "display_data"
    },
    {
     "name": "stdout",
     "output_type": "stream",
     "text": [
      "episode: 18  empirical returns: [ 0.         48.26023685]  predicted returns: [34.97897008 39.34889788]\n",
      "Using 680/680 samples.\n"
     ]
    },
    {
     "data": {
      "application/vnd.jupyter.widget-view+json": {
       "model_id": "e9a8106b1883430199c4652e9d739aec",
       "version_major": 2,
       "version_minor": 0
      },
      "text/plain": [
       "  0%|          | 0/680 [00:00<?, ?it/s]"
      ]
     },
     "metadata": {},
     "output_type": "display_data"
    },
    {
     "name": "stdout",
     "output_type": "stream",
     "text": [
      "episode: 19  empirical returns: [ 0.         45.75459854]  predicted returns: [35.26589471 39.70680677]\n",
      "Using 705/705 samples.\n"
     ]
    },
    {
     "data": {
      "application/vnd.jupyter.widget-view+json": {
       "model_id": "967f591bbe054dd2a322bac2b4cc3bd4",
       "version_major": 2,
       "version_minor": 0
      },
      "text/plain": [
       "  0%|          | 0/705 [00:00<?, ?it/s]"
      ]
     },
     "metadata": {},
     "output_type": "display_data"
    },
    {
     "name": "stdout",
     "output_type": "stream",
     "text": [
      "episode: 20  empirical returns: [ 0.         47.03055054]  predicted returns: [35.62466584 40.10769406]\n",
      "Using 728/728 samples.\n"
     ]
    },
    {
     "data": {
      "application/vnd.jupyter.widget-view+json": {
       "model_id": "d8b97765a8a749eb81adf6ba38a12ac4",
       "version_major": 2,
       "version_minor": 0
      },
      "text/plain": [
       "  0%|          | 0/728 [00:00<?, ?it/s]"
      ]
     },
     "metadata": {},
     "output_type": "display_data"
    },
    {
     "name": "stdout",
     "output_type": "stream",
     "text": [
      "episode: 21  empirical returns: [48.07806195  0.        ]  predicted returns: [36.07668387 40.56516466]\n",
      "Using 754/754 samples.\n"
     ]
    },
    {
     "data": {
      "application/vnd.jupyter.widget-view+json": {
       "model_id": "94d1da99aaf4427aa9fffb646f242cc1",
       "version_major": 2,
       "version_minor": 0
      },
      "text/plain": [
       "  0%|          | 0/754 [00:00<?, ?it/s]"
      ]
     },
     "metadata": {},
     "output_type": "display_data"
    },
    {
     "name": "stdout",
     "output_type": "stream",
     "text": [
      "episode: 22  empirical returns: [ 0.         49.30320604]  predicted returns: [36.53637443 41.01036993]\n",
      "Using 789/789 samples.\n"
     ]
    },
    {
     "data": {
      "application/vnd.jupyter.widget-view+json": {
       "model_id": "68691523b2e74651a51867b7e72c422e",
       "version_major": 2,
       "version_minor": 0
      },
      "text/plain": [
       "  0%|          | 0/789 [00:00<?, ?it/s]"
      ]
     },
     "metadata": {},
     "output_type": "display_data"
    },
    {
     "name": "stdout",
     "output_type": "stream",
     "text": [
      "episode: 23  empirical returns: [ 0.         51.29941265]  predicted returns: [37.12224109 41.55397685]\n",
      "Did 5000 steps! 5000\n",
      "Did 5000 steps! 10000\n",
      "Did 5000 steps! 15000\n",
      "Did 5000 steps! 20000\n",
      "Did 5000 steps! 25000\n",
      "Did 5000 steps! 30000\n",
      "Did 5000 steps! 35000\n",
      "Did 5000 steps! 40000\n",
      "Did 5000 steps! 45000\n",
      "Did 5000 steps! 50000\n",
      "Did 5000 steps! 55000\n",
      "Did 5000 steps! 60000\n",
      "Did 5000 steps! 65000\n",
      "Did 5000 steps! 70000\n",
      "Did 5000 steps! 75000\n",
      "Did 5000 steps! 80000\n",
      "Did 5000 steps! 85000\n",
      "Did 5000 steps! 90000\n",
      "Did 5000 steps! 95000\n",
      "Did 5000 steps! 100000\n",
      "Max steps reached! 100001\n",
      "episode: 24\n",
      "Did not drop it for a long time, returning!\n",
      "Using 110/548 samples.\n"
     ]
    },
    {
     "data": {
      "application/vnd.jupyter.widget-view+json": {
       "model_id": "b1adf9ad347141cf8b6164bf73fd32db",
       "version_major": 2,
       "version_minor": 0
      },
      "text/plain": [
       "  0%|          | 0/548 [00:00<?, ?it/s]"
      ]
     },
     "metadata": {},
     "output_type": "display_data"
    },
    {
     "name": "stdout",
     "output_type": "stream",
     "text": [
      "episode: 0  empirical returns: [39.07399847  0.        ]  predicted returns: [35.38091958 30.08489224]\n",
      "Using 149/745 samples.\n"
     ]
    },
    {
     "data": {
      "application/vnd.jupyter.widget-view+json": {
       "model_id": "6969eabbdd7f4c5dba8dcc192d2205c7",
       "version_major": 2,
       "version_minor": 0
      },
      "text/plain": [
       "  0%|          | 0/745 [00:00<?, ?it/s]"
      ]
     },
     "metadata": {},
     "output_type": "display_data"
    },
    {
     "name": "stdout",
     "output_type": "stream",
     "text": [
      "episode: 1  empirical returns: [44.34234383  0.        ]  predicted returns: [37.69094434 24.11495142]\n",
      "Using 91/451 samples.\n"
     ]
    },
    {
     "data": {
      "application/vnd.jupyter.widget-view+json": {
       "model_id": "962cec1ec3644df9a89af6352b046a90",
       "version_major": 2,
       "version_minor": 0
      },
      "text/plain": [
       "  0%|          | 0/451 [00:00<?, ?it/s]"
      ]
     },
     "metadata": {},
     "output_type": "display_data"
    },
    {
     "name": "stdout",
     "output_type": "stream",
     "text": [
      "episode: 2  empirical returns: [30.53485378  0.        ]  predicted returns: [36.63446409 10.49957174]\n",
      "Using 95/471 samples.\n"
     ]
    },
    {
     "data": {
      "application/vnd.jupyter.widget-view+json": {
       "model_id": "e7e6c441026047078c0cd1beb381ef17",
       "version_major": 2,
       "version_minor": 0
      },
      "text/plain": [
       "  0%|          | 0/471 [00:00<?, ?it/s]"
      ]
     },
     "metadata": {},
     "output_type": "display_data"
    },
    {
     "name": "stdout",
     "output_type": "stream",
     "text": [
      "episode: 3  empirical returns: [ 0.         32.06530721]  predicted returns: [35.24980375 18.59643865]\n",
      "Did 5000 steps! 5000\n",
      "Did 5000 steps! 10000\n",
      "Did 5000 steps! 15000\n",
      "Did 5000 steps! 20000\n",
      "Did 5000 steps! 25000\n",
      "Did 5000 steps! 30000\n",
      "Did 5000 steps! 35000\n",
      "Did 5000 steps! 40000\n",
      "Did 5000 steps! 45000\n",
      "Did 5000 steps! 50000\n",
      "Did 5000 steps! 55000\n",
      "Did 5000 steps! 60000\n",
      "Did 5000 steps! 65000\n",
      "Did 5000 steps! 70000\n",
      "Did 5000 steps! 75000\n",
      "Did 5000 steps! 80000\n",
      "Did 5000 steps! 85000\n",
      "Did 5000 steps! 90000\n",
      "Did 5000 steps! 95000\n",
      "Did 5000 steps! 100000\n",
      "Max steps reached! 100001\n",
      "episode: 4\n",
      "Did not drop it for a long time, returning!\n",
      "Using 55/548 samples.\n"
     ]
    },
    {
     "data": {
      "application/vnd.jupyter.widget-view+json": {
       "model_id": "c439d94dc77c45b59b7359fa9ef419c0",
       "version_major": 2,
       "version_minor": 0
      },
      "text/plain": [
       "  0%|          | 0/548 [00:00<?, ?it/s]"
      ]
     },
     "metadata": {},
     "output_type": "display_data"
    },
    {
     "name": "stdout",
     "output_type": "stream",
     "text": [
      "episode: 0  empirical returns: [39.07399847  0.        ]  predicted returns: [35.86225645 29.90625804]\n",
      "Using 30/291 samples.\n"
     ]
    },
    {
     "data": {
      "application/vnd.jupyter.widget-view+json": {
       "model_id": "12ccba65e3724abbbb5a53365c2520ce",
       "version_major": 2,
       "version_minor": 0
      },
      "text/plain": [
       "  0%|          | 0/291 [00:00<?, ?it/s]"
      ]
     },
     "metadata": {},
     "output_type": "display_data"
    },
    {
     "name": "stdout",
     "output_type": "stream",
     "text": [
      "episode: 1  empirical returns: [23.31033246  0.        ]  predicted returns: [31.52833501 48.41076766]\n",
      "Using 13/125 samples.\n"
     ]
    },
    {
     "data": {
      "application/vnd.jupyter.widget-view+json": {
       "model_id": "e829d1c17af0471da9d182a19898388a",
       "version_major": 2,
       "version_minor": 0
      },
      "text/plain": [
       "  0%|          | 0/125 [00:00<?, ?it/s]"
      ]
     },
     "metadata": {},
     "output_type": "display_data"
    },
    {
     "name": "stdout",
     "output_type": "stream",
     "text": [
      "episode: 2  empirical returns: [0.         9.56224242]  predicted returns: [31.53074612 20.51453617]\n",
      "Using 26/260 samples.\n"
     ]
    },
    {
     "data": {
      "application/vnd.jupyter.widget-view+json": {
       "model_id": "c3d531b49dd247e2a14d6c68875e3579",
       "version_major": 2,
       "version_minor": 0
      },
      "text/plain": [
       "  0%|          | 0/260 [00:00<?, ?it/s]"
      ]
     },
     "metadata": {},
     "output_type": "display_data"
    },
    {
     "name": "stdout",
     "output_type": "stream",
     "text": [
      "episode: 3  empirical returns: [20.75439178  0.        ]  predicted returns: [28.65299936 22.61754423]\n",
      "Using 13/125 samples.\n"
     ]
    },
    {
     "data": {
      "application/vnd.jupyter.widget-view+json": {
       "model_id": "c913ed81ad034ffc9c766814e9fcf9f6",
       "version_major": 2,
       "version_minor": 0
      },
      "text/plain": [
       "  0%|          | 0/125 [00:00<?, ?it/s]"
      ]
     },
     "metadata": {},
     "output_type": "display_data"
    },
    {
     "name": "stdout",
     "output_type": "stream",
     "text": [
      "episode: 4  empirical returns: [9.68746365 0.        ]  predicted returns: [25.17131345 22.61754423]\n",
      "Using 77/769 samples.\n"
     ]
    },
    {
     "data": {
      "application/vnd.jupyter.widget-view+json": {
       "model_id": "6587c09fc9774527a1692b683a1e3b37",
       "version_major": 2,
       "version_minor": 0
      },
      "text/plain": [
       "  0%|          | 0/769 [00:00<?, ?it/s]"
      ]
     },
     "metadata": {},
     "output_type": "display_data"
    },
    {
     "name": "stdout",
     "output_type": "stream",
     "text": [
      "episode: 5  empirical returns: [52.30468292  0.        ]  predicted returns: [39.41996295 33.63411998]\n",
      "Using 21/207 samples.\n"
     ]
    },
    {
     "data": {
      "application/vnd.jupyter.widget-view+json": {
       "model_id": "a7bc397c1e1f40d680928d559bd74eb5",
       "version_major": 2,
       "version_minor": 0
      },
      "text/plain": [
       "  0%|          | 0/207 [00:00<?, ?it/s]"
      ]
     },
     "metadata": {},
     "output_type": "display_data"
    },
    {
     "name": "stdout",
     "output_type": "stream",
     "text": [
      "episode: 6  empirical returns: [16.75329653  0.        ]  predicted returns: [36.46069495 31.98023989]\n",
      "Using 34/337 samples.\n"
     ]
    },
    {
     "data": {
      "application/vnd.jupyter.widget-view+json": {
       "model_id": "45be9e6ebe6341899492404c65aa6339",
       "version_major": 2,
       "version_minor": 0
      },
      "text/plain": [
       "  0%|          | 0/337 [00:00<?, ?it/s]"
      ]
     },
     "metadata": {},
     "output_type": "display_data"
    },
    {
     "name": "stdout",
     "output_type": "stream",
     "text": [
      "episode: 7  empirical returns: [26.10825333  0.        ]  predicted returns: [36.23161128 31.72077011]\n",
      "Using 37/366 samples.\n"
     ]
    },
    {
     "data": {
      "application/vnd.jupyter.widget-view+json": {
       "model_id": "510476ba1b9c49f4b3e4a87d9b335d64",
       "version_major": 2,
       "version_minor": 0
      },
      "text/plain": [
       "  0%|          | 0/366 [00:00<?, ?it/s]"
      ]
     },
     "metadata": {},
     "output_type": "display_data"
    },
    {
     "name": "stdout",
     "output_type": "stream",
     "text": [
      "episode: 8  empirical returns: [27.74415369  0.        ]  predicted returns: [35.74538511 32.12556655]\n",
      "Using 37/364 samples.\n"
     ]
    },
    {
     "data": {
      "application/vnd.jupyter.widget-view+json": {
       "model_id": "04e38de14f6f47468b879a5b43f016b5",
       "version_major": 2,
       "version_minor": 0
      },
      "text/plain": [
       "  0%|          | 0/364 [00:00<?, ?it/s]"
      ]
     },
     "metadata": {},
     "output_type": "display_data"
    },
    {
     "name": "stdout",
     "output_type": "stream",
     "text": [
      "episode: 9  empirical returns: [27.88810434  0.        ]  predicted returns: [35.35227837 32.02872365]\n",
      "Using 37/365 samples.\n"
     ]
    },
    {
     "data": {
      "application/vnd.jupyter.widget-view+json": {
       "model_id": "f1a84221ac3241ecbb8f88c99cb0d1ac",
       "version_major": 2,
       "version_minor": 0
      },
      "text/plain": [
       "  0%|          | 0/365 [00:00<?, ?it/s]"
      ]
     },
     "metadata": {},
     "output_type": "display_data"
    },
    {
     "name": "stdout",
     "output_type": "stream",
     "text": [
      "episode: 10  empirical returns: [27.93039743  0.        ]  predicted returns: [35.01881516 31.93082889]\n",
      "Using 38/374 samples.\n"
     ]
    },
    {
     "data": {
      "application/vnd.jupyter.widget-view+json": {
       "model_id": "6e5f68ecbd9e492a894278f3a5ee77b5",
       "version_major": 2,
       "version_minor": 0
      },
      "text/plain": [
       "  0%|          | 0/374 [00:00<?, ?it/s]"
      ]
     },
     "metadata": {},
     "output_type": "display_data"
    },
    {
     "name": "stdout",
     "output_type": "stream",
     "text": [
      "episode: 11  empirical returns: [28.58958082  0.        ]  predicted returns: [34.58199086 31.94562354]\n",
      "Using 39/390 samples.\n"
     ]
    },
    {
     "data": {
      "application/vnd.jupyter.widget-view+json": {
       "model_id": "22158dcff35e459faae059c5d0a4eb5e",
       "version_major": 2,
       "version_minor": 0
      },
      "text/plain": [
       "  0%|          | 0/390 [00:00<?, ?it/s]"
      ]
     },
     "metadata": {},
     "output_type": "display_data"
    },
    {
     "name": "stdout",
     "output_type": "stream",
     "text": [
      "episode: 12  empirical returns: [ 0.         29.68860535]  predicted returns: [34.48568547 31.51131514]\n",
      "Using 40/399 samples.\n"
     ]
    },
    {
     "data": {
      "application/vnd.jupyter.widget-view+json": {
       "model_id": "f0a96dec8257431c8c6221854f4f3545",
       "version_major": 2,
       "version_minor": 0
      },
      "text/plain": [
       "  0%|          | 0/399 [00:00<?, ?it/s]"
      ]
     },
     "metadata": {},
     "output_type": "display_data"
    },
    {
     "name": "stdout",
     "output_type": "stream",
     "text": [
      "episode: 13  empirical returns: [30.30156592  0.        ]  predicted returns: [34.1173461 31.5366202]\n",
      "Using 39/389 samples.\n"
     ]
    },
    {
     "data": {
      "application/vnd.jupyter.widget-view+json": {
       "model_id": "d01567e652de40f78bfb2b045ef70531",
       "version_major": 2,
       "version_minor": 0
      },
      "text/plain": [
       "  0%|          | 0/389 [00:00<?, ?it/s]"
      ]
     },
     "metadata": {},
     "output_type": "display_data"
    },
    {
     "name": "stdout",
     "output_type": "stream",
     "text": [
      "episode: 14  empirical returns: [29.59994143  0.        ]  predicted returns: [33.82553159 31.34640131]\n",
      "Using 41/402 samples.\n"
     ]
    },
    {
     "data": {
      "application/vnd.jupyter.widget-view+json": {
       "model_id": "8904d7130adc46b39c6e34423fadb499",
       "version_major": 2,
       "version_minor": 0
      },
      "text/plain": [
       "  0%|          | 0/402 [00:00<?, ?it/s]"
      ]
     },
     "metadata": {},
     "output_type": "display_data"
    },
    {
     "name": "stdout",
     "output_type": "stream",
     "text": [
      "episode: 15  empirical returns: [30.60002934  0.        ]  predicted returns: [33.6631352  31.11275155]\n",
      "Using 39/390 samples.\n"
     ]
    },
    {
     "data": {
      "application/vnd.jupyter.widget-view+json": {
       "model_id": "979378ac0d7d43b1a4f103e65b5062d1",
       "version_major": 2,
       "version_minor": 0
      },
      "text/plain": [
       "  0%|          | 0/390 [00:00<?, ?it/s]"
      ]
     },
     "metadata": {},
     "output_type": "display_data"
    },
    {
     "name": "stdout",
     "output_type": "stream",
     "text": [
      "episode: 16  empirical returns: [29.7687334  0.       ]  predicted returns: [33.41462633 31.19025215]\n",
      "Using 40/398 samples.\n"
     ]
    },
    {
     "data": {
      "application/vnd.jupyter.widget-view+json": {
       "model_id": "05022249fc654e87a28ef22b690edbb8",
       "version_major": 2,
       "version_minor": 0
      },
      "text/plain": [
       "  0%|          | 0/398 [00:00<?, ?it/s]"
      ]
     },
     "metadata": {},
     "output_type": "display_data"
    },
    {
     "name": "stdout",
     "output_type": "stream",
     "text": [
      "episode: 17  empirical returns: [30.34187015  0.        ]  predicted returns: [33.27181019 31.04014074]\n",
      "Using 40/395 samples.\n"
     ]
    },
    {
     "data": {
      "application/vnd.jupyter.widget-view+json": {
       "model_id": "3365cf650a834db09ab06e54bd72c6cd",
       "version_major": 2,
       "version_minor": 0
      },
      "text/plain": [
       "  0%|          | 0/395 [00:00<?, ?it/s]"
      ]
     },
     "metadata": {},
     "output_type": "display_data"
    },
    {
     "name": "stdout",
     "output_type": "stream",
     "text": [
      "episode: 18  empirical returns: [30.1066019  0.       ]  predicted returns: [33.08577397 31.07604688]\n",
      "Using 40/394 samples.\n"
     ]
    },
    {
     "data": {
      "application/vnd.jupyter.widget-view+json": {
       "model_id": "25303fe9490e4ae797de3b20b1f38c89",
       "version_major": 2,
       "version_minor": 0
      },
      "text/plain": [
       "  0%|          | 0/394 [00:00<?, ?it/s]"
      ]
     },
     "metadata": {},
     "output_type": "display_data"
    },
    {
     "name": "stdout",
     "output_type": "stream",
     "text": [
      "episode: 19  empirical returns: [30.06938068  0.        ]  predicted returns: [32.9126194  31.09947558]\n",
      "Using 40/399 samples.\n"
     ]
    },
    {
     "data": {
      "application/vnd.jupyter.widget-view+json": {
       "model_id": "53acf20e13994879872024d49a35ea38",
       "version_major": 2,
       "version_minor": 0
      },
      "text/plain": [
       "  0%|          | 0/399 [00:00<?, ?it/s]"
      ]
     },
     "metadata": {},
     "output_type": "display_data"
    },
    {
     "name": "stdout",
     "output_type": "stream",
     "text": [
      "episode: 20  empirical returns: [30.34762884  0.        ]  predicted returns: [32.80108986 31.06231697]\n",
      "Using 41/403 samples.\n"
     ]
    },
    {
     "data": {
      "application/vnd.jupyter.widget-view+json": {
       "model_id": "deb987fdc8c14875badeb4cab5ebb1c5",
       "version_major": 2,
       "version_minor": 0
      },
      "text/plain": [
       "  0%|          | 0/403 [00:00<?, ?it/s]"
      ]
     },
     "metadata": {},
     "output_type": "display_data"
    },
    {
     "name": "stdout",
     "output_type": "stream",
     "text": [
      "episode: 21  empirical returns: [30.65653976  0.        ]  predicted returns: [32.69104144 31.05181656]\n",
      "Using 40/397 samples.\n"
     ]
    },
    {
     "data": {
      "application/vnd.jupyter.widget-view+json": {
       "model_id": "af4f656d44fc4502808eea30d6a5383c",
       "version_major": 2,
       "version_minor": 0
      },
      "text/plain": [
       "  0%|          | 0/397 [00:00<?, ?it/s]"
      ]
     },
     "metadata": {},
     "output_type": "display_data"
    },
    {
     "name": "stdout",
     "output_type": "stream",
     "text": [
      "episode: 22  empirical returns: [30.27635189  0.        ]  predicted returns: [32.54408918 31.0610935 ]\n",
      "Using 41/410 samples.\n"
     ]
    },
    {
     "data": {
      "application/vnd.jupyter.widget-view+json": {
       "model_id": "607af093237e4545b0903bcde28dab6a",
       "version_major": 2,
       "version_minor": 0
      },
      "text/plain": [
       "  0%|          | 0/410 [00:00<?, ?it/s]"
      ]
     },
     "metadata": {},
     "output_type": "display_data"
    },
    {
     "name": "stdout",
     "output_type": "stream",
     "text": [
      "episode: 23  empirical returns: [31.14537398  0.        ]  predicted returns: [32.47945599 31.04443023]\n",
      "Using 41/405 samples.\n"
     ]
    },
    {
     "data": {
      "application/vnd.jupyter.widget-view+json": {
       "model_id": "f6fe32b2b3f949fcbd572e96cec81b36",
       "version_major": 2,
       "version_minor": 0
      },
      "text/plain": [
       "  0%|          | 0/405 [00:00<?, ?it/s]"
      ]
     },
     "metadata": {},
     "output_type": "display_data"
    },
    {
     "name": "stdout",
     "output_type": "stream",
     "text": [
      "episode: 24  empirical returns: [30.81582914  0.        ]  predicted returns: [32.40077143 31.02175778]\n",
      "Using 41/408 samples.\n"
     ]
    },
    {
     "data": {
      "application/vnd.jupyter.widget-view+json": {
       "model_id": "b99f290bad6244ea931596370687d77c",
       "version_major": 2,
       "version_minor": 0
      },
      "text/plain": [
       "  0%|          | 0/408 [00:00<?, ?it/s]"
      ]
     },
     "metadata": {},
     "output_type": "display_data"
    },
    {
     "name": "stdout",
     "output_type": "stream",
     "text": [
      "episode: 25  empirical returns: [31.03778159  0.        ]  predicted returns: [32.32821059 31.03741174]\n",
      "Using 41/410 samples.\n"
     ]
    },
    {
     "data": {
      "application/vnd.jupyter.widget-view+json": {
       "model_id": "c2382952ab8b4e38bb7d45d8f82021bc",
       "version_major": 2,
       "version_minor": 0
      },
      "text/plain": [
       "  0%|          | 0/410 [00:00<?, ?it/s]"
      ]
     },
     "metadata": {},
     "output_type": "display_data"
    },
    {
     "name": "stdout",
     "output_type": "stream",
     "text": [
      "episode: 26  empirical returns: [31.18211311  0.        ]  predicted returns: [32.2557551  31.12348686]\n",
      "Using 42/411 samples.\n"
     ]
    },
    {
     "data": {
      "application/vnd.jupyter.widget-view+json": {
       "model_id": "782f2954ea2a458aae32bd82f1e50f03",
       "version_major": 2,
       "version_minor": 0
      },
      "text/plain": [
       "  0%|          | 0/411 [00:00<?, ?it/s]"
      ]
     },
     "metadata": {},
     "output_type": "display_data"
    },
    {
     "name": "stdout",
     "output_type": "stream",
     "text": [
      "episode: 27  empirical returns: [31.29127215  0.        ]  predicted returns: [32.18700905 31.11744094]\n",
      "Using 41/409 samples.\n"
     ]
    },
    {
     "data": {
      "application/vnd.jupyter.widget-view+json": {
       "model_id": "391531e94e304acda1e382cadbddd7e6",
       "version_major": 2,
       "version_minor": 0
      },
      "text/plain": [
       "  0%|          | 0/409 [00:00<?, ?it/s]"
      ]
     },
     "metadata": {},
     "output_type": "display_data"
    },
    {
     "name": "stdout",
     "output_type": "stream",
     "text": [
      "episode: 28  empirical returns: [31.1661362  0.       ]  predicted returns: [32.11134828 31.19277637]\n",
      "Using 117/1162 samples.\n"
     ]
    },
    {
     "data": {
      "application/vnd.jupyter.widget-view+json": {
       "model_id": "7ecb944238a74a22a440b9c719952224",
       "version_major": 2,
       "version_minor": 0
      },
      "text/plain": [
       "  0%|          | 0/1162 [00:00<?, ?it/s]"
      ]
     },
     "metadata": {},
     "output_type": "display_data"
    },
    {
     "name": "stdout",
     "output_type": "stream",
     "text": [
      "episode: 29  empirical returns: [58.6453274  0.       ]  predicted returns: [33.98404803 34.50972354]\n",
      "Using 116/1160 samples.\n"
     ]
    },
    {
     "data": {
      "application/vnd.jupyter.widget-view+json": {
       "model_id": "3cddd38abce54bd89f7f1b9519196134",
       "version_major": 2,
       "version_minor": 0
      },
      "text/plain": [
       "  0%|          | 0/1160 [00:00<?, ?it/s]"
      ]
     },
     "metadata": {},
     "output_type": "display_data"
    },
    {
     "name": "stdout",
     "output_type": "stream",
     "text": [
      "episode: 30  empirical returns: [ 0.         62.19302867]  predicted returns: [36.10573214 43.65070102]\n",
      "Did 5000 steps! 5000\n",
      "Did 5000 steps! 10000\n",
      "Did 5000 steps! 15000\n",
      "Did 5000 steps! 20000\n",
      "Did 5000 steps! 25000\n",
      "Did 5000 steps! 30000\n",
      "Did 5000 steps! 35000\n",
      "Did 5000 steps! 40000\n",
      "Did 5000 steps! 45000\n",
      "Did 5000 steps! 50000\n",
      "Did 5000 steps! 55000\n",
      "Did 5000 steps! 60000\n",
      "Did 5000 steps! 65000\n",
      "Did 5000 steps! 70000\n",
      "Did 5000 steps! 75000\n",
      "Did 5000 steps! 80000\n",
      "Did 5000 steps! 85000\n",
      "Did 5000 steps! 90000\n",
      "Did 5000 steps! 95000\n",
      "Did 5000 steps! 100000\n",
      "Max steps reached! 100001\n",
      "episode: 31\n",
      "Did not drop it for a long time, returning!\n",
      "Using 28/548 samples.\n"
     ]
    },
    {
     "data": {
      "application/vnd.jupyter.widget-view+json": {
       "model_id": "119d654c28a04397b6e0f5e264a29359",
       "version_major": 2,
       "version_minor": 0
      },
      "text/plain": [
       "  0%|          | 0/548 [00:00<?, ?it/s]"
      ]
     },
     "metadata": {},
     "output_type": "display_data"
    },
    {
     "name": "stdout",
     "output_type": "stream",
     "text": [
      "episode: 0  empirical returns: [39.07399847  0.        ]  predicted returns: [36.74912534 27.6147081 ]\n",
      "Using 7/123 samples.\n"
     ]
    },
    {
     "data": {
      "application/vnd.jupyter.widget-view+json": {
       "model_id": "90f60ca2fdf84f369db912718a0d7c01",
       "version_major": 2,
       "version_minor": 0
      },
      "text/plain": [
       "  0%|          | 0/123 [00:00<?, ?it/s]"
      ]
     },
     "metadata": {},
     "output_type": "display_data"
    },
    {
     "name": "stdout",
     "output_type": "stream",
     "text": [
      "episode: 1  empirical returns: [9.53149333 0.        ]  predicted returns: [25.35204375 27.65554112]\n",
      "Using 8/147 samples.\n"
     ]
    },
    {
     "data": {
      "application/vnd.jupyter.widget-view+json": {
       "model_id": "fb706e19e2734c0394908a7f7e0ceaec",
       "version_major": 2,
       "version_minor": 0
      },
      "text/plain": [
       "  0%|          | 0/147 [00:00<?, ?it/s]"
      ]
     },
     "metadata": {},
     "output_type": "display_data"
    },
    {
     "name": "stdout",
     "output_type": "stream",
     "text": [
      "episode: 2  empirical returns: [ 0.         11.63997281]  predicted returns: [25.20749215 14.29399636]\n",
      "Using 12/234 samples.\n"
     ]
    },
    {
     "data": {
      "application/vnd.jupyter.widget-view+json": {
       "model_id": "779379b17d1c43b4b610d6a4abfb00c9",
       "version_major": 2,
       "version_minor": 0
      },
      "text/plain": [
       "  0%|          | 0/234 [00:00<?, ?it/s]"
      ]
     },
     "metadata": {},
     "output_type": "display_data"
    },
    {
     "name": "stdout",
     "output_type": "stream",
     "text": [
      "episode: 3  empirical returns: [18.86039022  0.        ]  predicted returns: [23.56246016 19.20513889]\n",
      "Using 8/154 samples.\n"
     ]
    },
    {
     "data": {
      "application/vnd.jupyter.widget-view+json": {
       "model_id": "50e7ddf18a7949b6ba20d0af346b614b",
       "version_major": 2,
       "version_minor": 0
      },
      "text/plain": [
       "  0%|          | 0/154 [00:00<?, ?it/s]"
      ]
     },
     "metadata": {},
     "output_type": "display_data"
    },
    {
     "name": "stdout",
     "output_type": "stream",
     "text": [
      "episode: 4  empirical returns: [12.18376002  0.        ]  predicted returns: [21.28701667 19.05210994]\n",
      "Using 11/205 samples.\n"
     ]
    },
    {
     "data": {
      "application/vnd.jupyter.widget-view+json": {
       "model_id": "b8fa2a91902b4dd3a8c99d6423596075",
       "version_major": 2,
       "version_minor": 0
      },
      "text/plain": [
       "  0%|          | 0/205 [00:00<?, ?it/s]"
      ]
     },
     "metadata": {},
     "output_type": "display_data"
    },
    {
     "name": "stdout",
     "output_type": "stream",
     "text": [
      "episode: 5  empirical returns: [15.71362585  0.        ]  predicted returns: [20.45318231 18.92653417]\n",
      "Using 12/221 samples.\n"
     ]
    },
    {
     "data": {
      "application/vnd.jupyter.widget-view+json": {
       "model_id": "2216f7801c9042f0802f9eb9ae76170e",
       "version_major": 2,
       "version_minor": 0
      },
      "text/plain": [
       "  0%|          | 0/221 [00:00<?, ?it/s]"
      ]
     },
     "metadata": {},
     "output_type": "display_data"
    },
    {
     "name": "stdout",
     "output_type": "stream",
     "text": [
      "episode: 6  empirical returns: [16.25117544  0.        ]  predicted returns: [19.87972283 19.10707381]\n",
      "Using 11/209 samples.\n"
     ]
    },
    {
     "data": {
      "application/vnd.jupyter.widget-view+json": {
       "model_id": "ecf3b0c7c30c4b08af9a10a3faaf353f",
       "version_major": 2,
       "version_minor": 0
      },
      "text/plain": [
       "  0%|          | 0/209 [00:00<?, ?it/s]"
      ]
     },
     "metadata": {},
     "output_type": "display_data"
    },
    {
     "name": "stdout",
     "output_type": "stream",
     "text": [
      "episode: 7  empirical returns: [15.98285649  0.        ]  predicted returns: [19.52990209 19.12444562]\n",
      "Using 11/217 samples.\n"
     ]
    },
    {
     "data": {
      "application/vnd.jupyter.widget-view+json": {
       "model_id": "05e7c1d3fe63492f98b9c50812791b24",
       "version_major": 2,
       "version_minor": 0
      },
      "text/plain": [
       "  0%|          | 0/217 [00:00<?, ?it/s]"
      ]
     },
     "metadata": {},
     "output_type": "display_data"
    },
    {
     "name": "stdout",
     "output_type": "stream",
     "text": [
      "episode: 8  empirical returns: [16.19190148  0.        ]  predicted returns: [19.23297865 19.2462129 ]\n",
      "Using 8/155 samples.\n"
     ]
    },
    {
     "data": {
      "application/vnd.jupyter.widget-view+json": {
       "model_id": "5f7d4c45900248f0ac29e66cab7eae58",
       "version_major": 2,
       "version_minor": 0
      },
      "text/plain": [
       "  0%|          | 0/155 [00:00<?, ?it/s]"
      ]
     },
     "metadata": {},
     "output_type": "display_data"
    },
    {
     "name": "stdout",
     "output_type": "stream",
     "text": [
      "episode: 9  empirical returns: [ 0.         12.34324764]  predicted returns: [19.23286653 16.66143863]\n",
      "Using 12/224 samples.\n"
     ]
    },
    {
     "data": {
      "application/vnd.jupyter.widget-view+json": {
       "model_id": "c34c5f75adf04280bd1bd8dd8d2287f1",
       "version_major": 2,
       "version_minor": 0
      },
      "text/plain": [
       "  0%|          | 0/224 [00:00<?, ?it/s]"
      ]
     },
     "metadata": {},
     "output_type": "display_data"
    },
    {
     "name": "stdout",
     "output_type": "stream",
     "text": [
      "episode: 10  empirical returns: [16.50201695  0.        ]  predicted returns: [18.99053243 16.82721556]\n",
      "Using 12/222 samples.\n"
     ]
    },
    {
     "data": {
      "application/vnd.jupyter.widget-view+json": {
       "model_id": "f6910a1c42be4eefacbcdd96ea2bd734",
       "version_major": 2,
       "version_minor": 0
      },
      "text/plain": [
       "  0%|          | 0/222 [00:00<?, ?it/s]"
      ]
     },
     "metadata": {},
     "output_type": "display_data"
    },
    {
     "name": "stdout",
     "output_type": "stream",
     "text": [
      "episode: 11  empirical returns: [16.3804122  0.       ]  predicted returns: [18.81726848 16.91198054]\n",
      "Using 11/213 samples.\n"
     ]
    },
    {
     "data": {
      "application/vnd.jupyter.widget-view+json": {
       "model_id": "22455f10619b47c98182ca3ed13ccac3",
       "version_major": 2,
       "version_minor": 0
      },
      "text/plain": [
       "  0%|          | 0/213 [00:00<?, ?it/s]"
      ]
     },
     "metadata": {},
     "output_type": "display_data"
    },
    {
     "name": "stdout",
     "output_type": "stream",
     "text": [
      "episode: 12  empirical returns: [16.21114301  0.        ]  predicted returns: [18.64938006 16.95322146]\n",
      "Using 12/227 samples.\n"
     ]
    },
    {
     "data": {
      "application/vnd.jupyter.widget-view+json": {
       "model_id": "657bb273ea274497ad78fb04c07d4cb1",
       "version_major": 2,
       "version_minor": 0
      },
      "text/plain": [
       "  0%|          | 0/227 [00:00<?, ?it/s]"
      ]
     },
     "metadata": {},
     "output_type": "display_data"
    },
    {
     "name": "stdout",
     "output_type": "stream",
     "text": [
      "episode: 13  empirical returns: [16.83635697  0.        ]  predicted returns: [18.5517028  17.02535501]\n",
      "Using 12/225 samples.\n"
     ]
    },
    {
     "data": {
      "application/vnd.jupyter.widget-view+json": {
       "model_id": "142e6f8c23ca4ad0ac158ee337931f51",
       "version_major": 2,
       "version_minor": 0
      },
      "text/plain": [
       "  0%|          | 0/225 [00:00<?, ?it/s]"
      ]
     },
     "metadata": {},
     "output_type": "display_data"
    },
    {
     "name": "stdout",
     "output_type": "stream",
     "text": [
      "episode: 14  empirical returns: [16.66964845  0.        ]  predicted returns: [18.43743728 17.07342272]\n",
      "Using 11/216 samples.\n"
     ]
    },
    {
     "data": {
      "application/vnd.jupyter.widget-view+json": {
       "model_id": "75a1b68f79ee421f905002d406975155",
       "version_major": 2,
       "version_minor": 0
      },
      "text/plain": [
       "  0%|          | 0/216 [00:00<?, ?it/s]"
      ]
     },
     "metadata": {},
     "output_type": "display_data"
    },
    {
     "name": "stdout",
     "output_type": "stream",
     "text": [
      "episode: 15  empirical returns: [16.46008725  0.        ]  predicted returns: [18.32373543 17.11695429]\n",
      "Using 12/226 samples.\n"
     ]
    },
    {
     "data": {
      "application/vnd.jupyter.widget-view+json": {
       "model_id": "d16f7af1a00c4346af9bd55de3e30055",
       "version_major": 2,
       "version_minor": 0
      },
      "text/plain": [
       "  0%|          | 0/226 [00:00<?, ?it/s]"
      ]
     },
     "metadata": {},
     "output_type": "display_data"
    },
    {
     "name": "stdout",
     "output_type": "stream",
     "text": [
      "episode: 16  empirical returns: [16.73840781  0.        ]  predicted returns: [18.23520439 17.1390869 ]\n",
      "Using 11/217 samples.\n"
     ]
    },
    {
     "data": {
      "application/vnd.jupyter.widget-view+json": {
       "model_id": "e2e4184015f64cbcbcdd905fea5627bc",
       "version_major": 2,
       "version_minor": 0
      },
      "text/plain": [
       "  0%|          | 0/217 [00:00<?, ?it/s]"
      ]
     },
     "metadata": {},
     "output_type": "display_data"
    },
    {
     "name": "stdout",
     "output_type": "stream",
     "text": [
      "episode: 17  empirical returns: [16.54219994  0.        ]  predicted returns: [18.14496122 17.16579177]\n",
      "Using 12/227 samples.\n"
     ]
    },
    {
     "data": {
      "application/vnd.jupyter.widget-view+json": {
       "model_id": "9105475b9aff487187ef338a9138e003",
       "version_major": 2,
       "version_minor": 0
      },
      "text/plain": [
       "  0%|          | 0/227 [00:00<?, ?it/s]"
      ]
     },
     "metadata": {},
     "output_type": "display_data"
    },
    {
     "name": "stdout",
     "output_type": "stream",
     "text": [
      "episode: 18  empirical returns: [16.80967397  0.        ]  predicted returns: [18.07730909 17.17870164]\n",
      "Using 11/218 samples.\n"
     ]
    },
    {
     "data": {
      "application/vnd.jupyter.widget-view+json": {
       "model_id": "d155d37fe196461a9c6e8af8347430ff",
       "version_major": 2,
       "version_minor": 0
      },
      "text/plain": [
       "  0%|          | 0/218 [00:00<?, ?it/s]"
      ]
     },
     "metadata": {},
     "output_type": "display_data"
    },
    {
     "name": "stdout",
     "output_type": "stream",
     "text": [
      "episode: 19  empirical returns: [16.57619974  0.        ]  predicted returns: [18.02113292 17.19353059]\n",
      "Using 11/219 samples.\n"
     ]
    },
    {
     "data": {
      "application/vnd.jupyter.widget-view+json": {
       "model_id": "2c2c833f07554a03aa1c9afa93f85e76",
       "version_major": 2,
       "version_minor": 0
      },
      "text/plain": [
       "  0%|          | 0/219 [00:00<?, ?it/s]"
      ]
     },
     "metadata": {},
     "output_type": "display_data"
    },
    {
     "name": "stdout",
     "output_type": "stream",
     "text": [
      "episode: 20  empirical returns: [16.65623554  0.        ]  predicted returns: [17.95675321 17.21563552]\n",
      "Using 12/231 samples.\n"
     ]
    },
    {
     "data": {
      "application/vnd.jupyter.widget-view+json": {
       "model_id": "1893ea1eab8f4daab9a270cd3e46e9af",
       "version_major": 2,
       "version_minor": 0
      },
      "text/plain": [
       "  0%|          | 0/231 [00:00<?, ?it/s]"
      ]
     },
     "metadata": {},
     "output_type": "display_data"
    },
    {
     "name": "stdout",
     "output_type": "stream",
     "text": [
      "episode: 21  empirical returns: [17.09200908  0.        ]  predicted returns: [17.93162566 17.2223628 ]\n",
      "Using 11/218 samples.\n"
     ]
    },
    {
     "data": {
      "application/vnd.jupyter.widget-view+json": {
       "model_id": "d75599e84eac4f408f9cb693f8f7fb27",
       "version_major": 2,
       "version_minor": 0
      },
      "text/plain": [
       "  0%|          | 0/218 [00:00<?, ?it/s]"
      ]
     },
     "metadata": {},
     "output_type": "display_data"
    },
    {
     "name": "stdout",
     "output_type": "stream",
     "text": [
      "episode: 22  empirical returns: [16.67243373  0.        ]  predicted returns: [17.88270746 17.28121973]\n",
      "Using 12/221 samples.\n"
     ]
    },
    {
     "data": {
      "application/vnd.jupyter.widget-view+json": {
       "model_id": "308658e8551047e3a22a965b786efa4a",
       "version_major": 2,
       "version_minor": 0
      },
      "text/plain": [
       "  0%|          | 0/221 [00:00<?, ?it/s]"
      ]
     },
     "metadata": {},
     "output_type": "display_data"
    },
    {
     "name": "stdout",
     "output_type": "stream",
     "text": [
      "episode: 23  empirical returns: [16.80823749  0.        ]  predicted returns: [17.84272088 17.32734256]\n",
      "Using 12/222 samples.\n"
     ]
    },
    {
     "data": {
      "application/vnd.jupyter.widget-view+json": {
       "model_id": "924c1e19fa814118a4b167bdb0832419",
       "version_major": 2,
       "version_minor": 0
      },
      "text/plain": [
       "  0%|          | 0/222 [00:00<?, ?it/s]"
      ]
     },
     "metadata": {},
     "output_type": "display_data"
    },
    {
     "name": "stdout",
     "output_type": "stream",
     "text": [
      "episode: 24  empirical returns: [16.89879446  0.        ]  predicted returns: [17.81149314 17.34122168]\n",
      "Using 11/220 samples.\n"
     ]
    },
    {
     "data": {
      "application/vnd.jupyter.widget-view+json": {
       "model_id": "f511aed52b274776a0b4bc79630c413f",
       "version_major": 2,
       "version_minor": 0
      },
      "text/plain": [
       "  0%|          | 0/220 [00:00<?, ?it/s]"
      ]
     },
     "metadata": {},
     "output_type": "display_data"
    },
    {
     "name": "stdout",
     "output_type": "stream",
     "text": [
      "episode: 25  empirical returns: [16.80464428  0.        ]  predicted returns: [17.77512782 17.37906137]\n",
      "Using 12/234 samples.\n"
     ]
    },
    {
     "data": {
      "application/vnd.jupyter.widget-view+json": {
       "model_id": "84efce2f48814393be27b4a348d1bf59",
       "version_major": 2,
       "version_minor": 0
      },
      "text/plain": [
       "  0%|          | 0/234 [00:00<?, ?it/s]"
      ]
     },
     "metadata": {},
     "output_type": "display_data"
    },
    {
     "name": "stdout",
     "output_type": "stream",
     "text": [
      "episode: 26  empirical returns: [17.22912613  0.        ]  predicted returns: [17.76072795 17.4033113 ]\n",
      "Using 12/223 samples.\n"
     ]
    },
    {
     "data": {
      "application/vnd.jupyter.widget-view+json": {
       "model_id": "e6fe98cff28e4067af8e3655b375aa22",
       "version_major": 2,
       "version_minor": 0
      },
      "text/plain": [
       "  0%|          | 0/223 [00:00<?, ?it/s]"
      ]
     },
     "metadata": {},
     "output_type": "display_data"
    },
    {
     "name": "stdout",
     "output_type": "stream",
     "text": [
      "episode: 27  empirical returns: [16.94482749  0.        ]  predicted returns: [17.73611908 17.42982527]\n",
      "Using 12/224 samples.\n"
     ]
    },
    {
     "data": {
      "application/vnd.jupyter.widget-view+json": {
       "model_id": "ad81ba078aad444dacd5f4fee91d7b51",
       "version_major": 2,
       "version_minor": 0
      },
      "text/plain": [
       "  0%|          | 0/224 [00:00<?, ?it/s]"
      ]
     },
     "metadata": {},
     "output_type": "display_data"
    },
    {
     "name": "stdout",
     "output_type": "stream",
     "text": [
      "episode: 28  empirical returns: [17.06628427  0.        ]  predicted returns: [17.71795776 17.45751285]\n",
      "Using 12/237 samples.\n"
     ]
    },
    {
     "data": {
      "application/vnd.jupyter.widget-view+json": {
       "model_id": "b7adbd67c1a04c27902e601542efc5ad",
       "version_major": 2,
       "version_minor": 0
      },
      "text/plain": [
       "  0%|          | 0/237 [00:00<?, ?it/s]"
      ]
     },
     "metadata": {},
     "output_type": "display_data"
    },
    {
     "name": "stdout",
     "output_type": "stream",
     "text": [
      "episode: 29  empirical returns: [17.42428212  0.        ]  predicted returns: [17.71149618 17.47639305]\n",
      "Using 12/238 samples.\n"
     ]
    },
    {
     "data": {
      "application/vnd.jupyter.widget-view+json": {
       "model_id": "310f3ca601904c67958f6a6729fbc293",
       "version_major": 2,
       "version_minor": 0
      },
      "text/plain": [
       "  0%|          | 0/238 [00:00<?, ?it/s]"
      ]
     },
     "metadata": {},
     "output_type": "display_data"
    },
    {
     "name": "stdout",
     "output_type": "stream",
     "text": [
      "episode: 30  empirical returns: [17.50551716  0.        ]  predicted returns: [17.70715078 17.49632501]\n",
      "Using 12/238 samples.\n"
     ]
    },
    {
     "data": {
      "application/vnd.jupyter.widget-view+json": {
       "model_id": "09d7816b92554be9bfb50ba39ce163a7",
       "version_major": 2,
       "version_minor": 0
      },
      "text/plain": [
       "  0%|          | 0/238 [00:00<?, ?it/s]"
      ]
     },
     "metadata": {},
     "output_type": "display_data"
    },
    {
     "name": "stdout",
     "output_type": "stream",
     "text": [
      "episode: 31  empirical returns: [17.46175554  0.        ]  predicted returns: [17.70006161 17.52668635]\n",
      "Using 13/241 samples.\n"
     ]
    },
    {
     "data": {
      "application/vnd.jupyter.widget-view+json": {
       "model_id": "84411d0af62845a09e9bd8f3774f27e9",
       "version_major": 2,
       "version_minor": 0
      },
      "text/plain": [
       "  0%|          | 0/241 [00:00<?, ?it/s]"
      ]
     },
     "metadata": {},
     "output_type": "display_data"
    },
    {
     "name": "stdout",
     "output_type": "stream",
     "text": [
      "episode: 32  empirical returns: [17.67020996  0.        ]  predicted returns: [17.7002488  17.58547767]\n",
      "Using 12/240 samples.\n"
     ]
    },
    {
     "data": {
      "application/vnd.jupyter.widget-view+json": {
       "model_id": "4b186580cfaa414293fbf1b661fb6bba",
       "version_major": 2,
       "version_minor": 0
      },
      "text/plain": [
       "  0%|          | 0/240 [00:00<?, ?it/s]"
      ]
     },
     "metadata": {},
     "output_type": "display_data"
    },
    {
     "name": "stdout",
     "output_type": "stream",
     "text": [
      "episode: 33  empirical returns: [17.54352008  0.        ]  predicted returns: [17.69612169 17.61098129]\n",
      "Using 13/243 samples.\n"
     ]
    },
    {
     "data": {
      "application/vnd.jupyter.widget-view+json": {
       "model_id": "0b852193728d46f78000068708eae417",
       "version_major": 2,
       "version_minor": 0
      },
      "text/plain": [
       "  0%|          | 0/243 [00:00<?, ?it/s]"
      ]
     },
     "metadata": {},
     "output_type": "display_data"
    },
    {
     "name": "stdout",
     "output_type": "stream",
     "text": [
      "episode: 34  empirical returns: [17.80837198  0.        ]  predicted returns: [17.69891219 17.6328465 ]\n",
      "Using 13/242 samples.\n"
     ]
    },
    {
     "data": {
      "application/vnd.jupyter.widget-view+json": {
       "model_id": "3ef912afe41340a5b5014ca8c4c6b932",
       "version_major": 2,
       "version_minor": 0
      },
      "text/plain": [
       "  0%|          | 0/242 [00:00<?, ?it/s]"
      ]
     },
     "metadata": {},
     "output_type": "display_data"
    },
    {
     "name": "stdout",
     "output_type": "stream",
     "text": [
      "episode: 35  empirical returns: [17.66803576  0.        ]  predicted returns: [17.70007679 17.66078595]\n",
      "Using 13/243 samples.\n"
     ]
    },
    {
     "data": {
      "application/vnd.jupyter.widget-view+json": {
       "model_id": "0bf6558c03d244a394f8a28a5e2d4635",
       "version_major": 2,
       "version_minor": 0
      },
      "text/plain": [
       "  0%|          | 0/243 [00:00<?, ?it/s]"
      ]
     },
     "metadata": {},
     "output_type": "display_data"
    },
    {
     "name": "stdout",
     "output_type": "stream",
     "text": [
      "episode: 36  empirical returns: [17.72441869  0.        ]  predicted returns: [17.70094207 17.67919292]\n",
      "Using 13/244 samples.\n"
     ]
    },
    {
     "data": {
      "application/vnd.jupyter.widget-view+json": {
       "model_id": "9df5420d07d64754bb3e6b0449e2581d",
       "version_major": 2,
       "version_minor": 0
      },
      "text/plain": [
       "  0%|          | 0/244 [00:00<?, ?it/s]"
      ]
     },
     "metadata": {},
     "output_type": "display_data"
    },
    {
     "name": "stdout",
     "output_type": "stream",
     "text": [
      "episode: 37  empirical returns: [17.77186885  0.        ]  predicted returns: [17.70295111 17.68813393]\n",
      "Using 13/244 samples.\n"
     ]
    },
    {
     "data": {
      "application/vnd.jupyter.widget-view+json": {
       "model_id": "9edc569657c0423582a06d572b3d6172",
       "version_major": 2,
       "version_minor": 0
      },
      "text/plain": [
       "  0%|          | 0/244 [00:00<?, ?it/s]"
      ]
     },
     "metadata": {},
     "output_type": "display_data"
    },
    {
     "name": "stdout",
     "output_type": "stream",
     "text": [
      "episode: 38  empirical returns: [17.75041939  0.        ]  predicted returns: [17.70410777 17.6958187 ]\n",
      "Using 13/245 samples.\n"
     ]
    },
    {
     "data": {
      "application/vnd.jupyter.widget-view+json": {
       "model_id": "f96aadf201204119a9597c1efbf88cf1",
       "version_major": 2,
       "version_minor": 0
      },
      "text/plain": [
       "  0%|          | 0/245 [00:00<?, ?it/s]"
      ]
     },
     "metadata": {},
     "output_type": "display_data"
    },
    {
     "name": "stdout",
     "output_type": "stream",
     "text": [
      "episode: 39  empirical returns: [17.90087584  0.        ]  predicted returns: [17.7097592  17.72105593]\n",
      "Using 7/140 samples.\n"
     ]
    },
    {
     "data": {
      "application/vnd.jupyter.widget-view+json": {
       "model_id": "72ed789af66b4f6a8a2e423f0562ec39",
       "version_major": 2,
       "version_minor": 0
      },
      "text/plain": [
       "  0%|          | 0/140 [00:00<?, ?it/s]"
      ]
     },
     "metadata": {},
     "output_type": "display_data"
    },
    {
     "name": "stdout",
     "output_type": "stream",
     "text": [
      "episode: 40  empirical returns: [ 0.         11.07803233]  predicted returns: [17.7097592  16.05632938]\n",
      "Using 13/244 samples.\n"
     ]
    },
    {
     "data": {
      "application/vnd.jupyter.widget-view+json": {
       "model_id": "32851e45bc2c46b1ab180b01bedddad5",
       "version_major": 2,
       "version_minor": 0
      },
      "text/plain": [
       "  0%|          | 0/244 [00:00<?, ?it/s]"
      ]
     },
     "metadata": {},
     "output_type": "display_data"
    },
    {
     "name": "stdout",
     "output_type": "stream",
     "text": [
      "episode: 41  empirical returns: [17.76399  0.     ]  predicted returns: [17.70977941 16.06373428]\n",
      "Using 13/242 samples.\n"
     ]
    },
    {
     "data": {
      "application/vnd.jupyter.widget-view+json": {
       "model_id": "0768d20fcf2d41acb677a1f32e3d520b",
       "version_major": 2,
       "version_minor": 0
      },
      "text/plain": [
       "  0%|          | 0/242 [00:00<?, ?it/s]"
      ]
     },
     "metadata": {},
     "output_type": "display_data"
    },
    {
     "name": "stdout",
     "output_type": "stream",
     "text": [
      "episode: 42  empirical returns: [17.66079013  0.        ]  predicted returns: [17.708438  16.0642474]\n",
      "Using 13/246 samples.\n"
     ]
    },
    {
     "data": {
      "application/vnd.jupyter.widget-view+json": {
       "model_id": "db85b4ab85784b76a272b260e050e842",
       "version_major": 2,
       "version_minor": 0
      },
      "text/plain": [
       "  0%|          | 0/246 [00:00<?, ?it/s]"
      ]
     },
     "metadata": {},
     "output_type": "display_data"
    },
    {
     "name": "stdout",
     "output_type": "stream",
     "text": [
      "episode: 43  empirical returns: [17.90310945  0.        ]  predicted returns: [17.71307699 16.07208806]\n",
      "Using 13/244 samples.\n"
     ]
    },
    {
     "data": {
      "application/vnd.jupyter.widget-view+json": {
       "model_id": "3ca3231516314d95bebc7c25e6925a2a",
       "version_major": 2,
       "version_minor": 0
      },
      "text/plain": [
       "  0%|          | 0/244 [00:00<?, ?it/s]"
      ]
     },
     "metadata": {},
     "output_type": "display_data"
    },
    {
     "name": "stdout",
     "output_type": "stream",
     "text": [
      "episode: 44  empirical returns: [17.7784614  0.       ]  predicted returns: [17.71447528 16.07949094]\n",
      "Using 13/245 samples.\n"
     ]
    },
    {
     "data": {
      "application/vnd.jupyter.widget-view+json": {
       "model_id": "db5dba54b3c14a30a0c762620245f813",
       "version_major": 2,
       "version_minor": 0
      },
      "text/plain": [
       "  0%|          | 0/245 [00:00<?, ?it/s]"
      ]
     },
     "metadata": {},
     "output_type": "display_data"
    },
    {
     "name": "stdout",
     "output_type": "stream",
     "text": [
      "episode: 45  empirical returns: [17.84338259  0.        ]  predicted returns: [17.71751706 16.08509098]\n",
      "Using 13/248 samples.\n"
     ]
    },
    {
     "data": {
      "application/vnd.jupyter.widget-view+json": {
       "model_id": "dec1a36c41124e8bb00e3013bbbd8622",
       "version_major": 2,
       "version_minor": 0
      },
      "text/plain": [
       "  0%|          | 0/248 [00:00<?, ?it/s]"
      ]
     },
     "metadata": {},
     "output_type": "display_data"
    },
    {
     "name": "stdout",
     "output_type": "stream",
     "text": [
      "episode: 46  empirical returns: [18.08293091  0.        ]  predicted returns: [17.72631032 16.09951984]\n",
      "Using 13/244 samples.\n"
     ]
    },
    {
     "data": {
      "application/vnd.jupyter.widget-view+json": {
       "model_id": "56a964fc0c334d3bbb4c8f5debde96d1",
       "version_major": 2,
       "version_minor": 0
      },
      "text/plain": [
       "  0%|          | 0/244 [00:00<?, ?it/s]"
      ]
     },
     "metadata": {},
     "output_type": "display_data"
    },
    {
     "name": "stdout",
     "output_type": "stream",
     "text": [
      "episode: 47  empirical returns: [17.80236603  0.        ]  predicted returns: [17.72787976 16.10579653]\n",
      "Using 13/245 samples.\n"
     ]
    },
    {
     "data": {
      "application/vnd.jupyter.widget-view+json": {
       "model_id": "a93dc8c38bac4c40a3a192d214553eff",
       "version_major": 2,
       "version_minor": 0
      },
      "text/plain": [
       "  0%|          | 0/245 [00:00<?, ?it/s]"
      ]
     },
     "metadata": {},
     "output_type": "display_data"
    },
    {
     "name": "stdout",
     "output_type": "stream",
     "text": [
      "episode: 48  empirical returns: [17.86113021  0.        ]  predicted returns: [17.73060258 16.11374351]\n",
      "Using 13/249 samples.\n"
     ]
    },
    {
     "data": {
      "application/vnd.jupyter.widget-view+json": {
       "model_id": "caa237b2a79e44ca94188771315656dd",
       "version_major": 2,
       "version_minor": 0
      },
      "text/plain": [
       "  0%|          | 0/249 [00:00<?, ?it/s]"
      ]
     },
     "metadata": {},
     "output_type": "display_data"
    },
    {
     "name": "stdout",
     "output_type": "stream",
     "text": [
      "episode: 49  empirical returns: [18.18586632  0.        ]  predicted returns: [17.73902502 16.12101765]\n",
      "Using 13/245 samples.\n"
     ]
    },
    {
     "data": {
      "application/vnd.jupyter.widget-view+json": {
       "model_id": "3c465dfba65e403b938e4fc8a774b659",
       "version_major": 2,
       "version_minor": 0
      },
      "text/plain": [
       "  0%|          | 0/245 [00:00<?, ?it/s]"
      ]
     },
     "metadata": {},
     "output_type": "display_data"
    },
    {
     "name": "stdout",
     "output_type": "stream",
     "text": [
      "episode: 50  empirical returns: [17.86950339  0.        ]  predicted returns: [17.74321031 16.12323489]\n",
      "Using 13/246 samples.\n"
     ]
    },
    {
     "data": {
      "application/vnd.jupyter.widget-view+json": {
       "model_id": "01fbcaedd6f542c299842a35ba1192c3",
       "version_major": 2,
       "version_minor": 0
      },
      "text/plain": [
       "  0%|          | 0/246 [00:00<?, ?it/s]"
      ]
     },
     "metadata": {},
     "output_type": "display_data"
    },
    {
     "name": "stdout",
     "output_type": "stream",
     "text": [
      "episode: 51  empirical returns: [17.93085312  0.        ]  predicted returns: [17.7467799  16.13324444]\n",
      "Using 13/246 samples.\n"
     ]
    },
    {
     "data": {
      "application/vnd.jupyter.widget-view+json": {
       "model_id": "b5d9eba29f7b42e6b993941891c3f27e",
       "version_major": 2,
       "version_minor": 0
      },
      "text/plain": [
       "  0%|          | 0/246 [00:00<?, ?it/s]"
      ]
     },
     "metadata": {},
     "output_type": "display_data"
    },
    {
     "name": "stdout",
     "output_type": "stream",
     "text": [
      "episode: 52  empirical returns: [18.00482095  0.        ]  predicted returns: [17.75198422 16.14386973]\n",
      "Using 13/246 samples.\n"
     ]
    },
    {
     "data": {
      "application/vnd.jupyter.widget-view+json": {
       "model_id": "01b711a1c3d04bd5bc69e4906f9f2ffb",
       "version_major": 2,
       "version_minor": 0
      },
      "text/plain": [
       "  0%|          | 0/246 [00:00<?, ?it/s]"
      ]
     },
     "metadata": {},
     "output_type": "display_data"
    },
    {
     "name": "stdout",
     "output_type": "stream",
     "text": [
      "episode: 53  empirical returns: [17.98756888  0.        ]  predicted returns: [17.7567085  16.15085139]\n",
      "Using 13/246 samples.\n"
     ]
    },
    {
     "data": {
      "application/vnd.jupyter.widget-view+json": {
       "model_id": "6b63a962f91d4f03b191bc306c6a1e2d",
       "version_major": 2,
       "version_minor": 0
      },
      "text/plain": [
       "  0%|          | 0/246 [00:00<?, ?it/s]"
      ]
     },
     "metadata": {},
     "output_type": "display_data"
    },
    {
     "name": "stdout",
     "output_type": "stream",
     "text": [
      "episode: 54  empirical returns: [17.93569963  0.        ]  predicted returns: [17.75996965 16.15628231]\n",
      "Using 13/245 samples.\n"
     ]
    },
    {
     "data": {
      "application/vnd.jupyter.widget-view+json": {
       "model_id": "6495413992644b6485cdc5236804011a",
       "version_major": 2,
       "version_minor": 0
      },
      "text/plain": [
       "  0%|          | 0/245 [00:00<?, ?it/s]"
      ]
     },
     "metadata": {},
     "output_type": "display_data"
    },
    {
     "name": "stdout",
     "output_type": "stream",
     "text": [
      "episode: 55  empirical returns: [17.94725662  0.        ]  predicted returns: [17.76357679 16.16661312]\n",
      "Using 13/247 samples.\n"
     ]
    },
    {
     "data": {
      "application/vnd.jupyter.widget-view+json": {
       "model_id": "227f67117e4b48318f83de0ce1f9b70d",
       "version_major": 2,
       "version_minor": 0
      },
      "text/plain": [
       "  0%|          | 0/247 [00:00<?, ?it/s]"
      ]
     },
     "metadata": {},
     "output_type": "display_data"
    },
    {
     "name": "stdout",
     "output_type": "stream",
     "text": [
      "episode: 56  empirical returns: [18.03862829  0.        ]  predicted returns: [17.76875565 16.18024193]\n",
      "Using 13/253 samples.\n"
     ]
    },
    {
     "data": {
      "application/vnd.jupyter.widget-view+json": {
       "model_id": "c88129cf40e84d6da72566b736604df6",
       "version_major": 2,
       "version_minor": 0
      },
      "text/plain": [
       "  0%|          | 0/253 [00:00<?, ?it/s]"
      ]
     },
     "metadata": {},
     "output_type": "display_data"
    },
    {
     "name": "stdout",
     "output_type": "stream",
     "text": [
      "episode: 57  empirical returns: [ 0.         18.51129361]  predicted returns: [17.7670731  16.65830688]\n",
      "Using 13/249 samples.\n"
     ]
    },
    {
     "data": {
      "application/vnd.jupyter.widget-view+json": {
       "model_id": "5fa4ab243a614c8fb6add8f9afe00ab0",
       "version_major": 2,
       "version_minor": 0
      },
      "text/plain": [
       "  0%|          | 0/249 [00:00<?, ?it/s]"
      ]
     },
     "metadata": {},
     "output_type": "display_data"
    },
    {
     "name": "stdout",
     "output_type": "stream",
     "text": [
      "episode: 58  empirical returns: [18.12564858  0.        ]  predicted returns: [17.77341742 16.66853601]\n",
      "Using 13/249 samples.\n"
     ]
    },
    {
     "data": {
      "application/vnd.jupyter.widget-view+json": {
       "model_id": "f15a193a030c4f9ca66ae07dedae342d",
       "version_major": 2,
       "version_minor": 0
      },
      "text/plain": [
       "  0%|          | 0/249 [00:00<?, ?it/s]"
      ]
     },
     "metadata": {},
     "output_type": "display_data"
    },
    {
     "name": "stdout",
     "output_type": "stream",
     "text": [
      "episode: 59  empirical returns: [18.15332654  0.        ]  predicted returns: [17.77995035 16.68345959]\n",
      "Using 13/249 samples.\n"
     ]
    },
    {
     "data": {
      "application/vnd.jupyter.widget-view+json": {
       "model_id": "d7b65f13536641beb7df0edabdeadb32",
       "version_major": 2,
       "version_minor": 0
      },
      "text/plain": [
       "  0%|          | 0/249 [00:00<?, ?it/s]"
      ]
     },
     "metadata": {},
     "output_type": "display_data"
    },
    {
     "name": "stdout",
     "output_type": "stream",
     "text": [
      "episode: 60  empirical returns: [18.17658212  0.        ]  predicted returns: [17.78681638 16.69193809]\n",
      "Using 13/251 samples.\n"
     ]
    },
    {
     "data": {
      "application/vnd.jupyter.widget-view+json": {
       "model_id": "da17e707ea534d0c8ee142613f0b5c6e",
       "version_major": 2,
       "version_minor": 0
      },
      "text/plain": [
       "  0%|          | 0/251 [00:00<?, ?it/s]"
      ]
     },
     "metadata": {},
     "output_type": "display_data"
    },
    {
     "name": "stdout",
     "output_type": "stream",
     "text": [
      "episode: 61  empirical returns: [18.28067561  0.        ]  predicted returns: [17.79508125 16.70596303]\n",
      "Using 13/250 samples.\n"
     ]
    },
    {
     "data": {
      "application/vnd.jupyter.widget-view+json": {
       "model_id": "b9250b71fb9344debd59c33a9bdf6dac",
       "version_major": 2,
       "version_minor": 0
      },
      "text/plain": [
       "  0%|          | 0/250 [00:00<?, ?it/s]"
      ]
     },
     "metadata": {},
     "output_type": "display_data"
    },
    {
     "name": "stdout",
     "output_type": "stream",
     "text": [
      "episode: 62  empirical returns: [18.23843377  0.        ]  predicted returns: [17.80314975 16.71483076]\n",
      "Using 13/253 samples.\n"
     ]
    },
    {
     "data": {
      "application/vnd.jupyter.widget-view+json": {
       "model_id": "3f5a4497881c4680918306ce03313004",
       "version_major": 2,
       "version_minor": 0
      },
      "text/plain": [
       "  0%|          | 0/253 [00:00<?, ?it/s]"
      ]
     },
     "metadata": {},
     "output_type": "display_data"
    },
    {
     "name": "stdout",
     "output_type": "stream",
     "text": [
      "episode: 63  empirical returns: [18.47281975  0.        ]  predicted returns: [17.81406088 16.72096901]\n",
      "Using 13/254 samples.\n"
     ]
    },
    {
     "data": {
      "application/vnd.jupyter.widget-view+json": {
       "model_id": "272efc2b54894a7ab8052550d8273de6",
       "version_major": 2,
       "version_minor": 0
      },
      "text/plain": [
       "  0%|          | 0/254 [00:00<?, ?it/s]"
      ]
     },
     "metadata": {},
     "output_type": "display_data"
    },
    {
     "name": "stdout",
     "output_type": "stream",
     "text": [
      "episode: 64  empirical returns: [18.53809636  0.        ]  predicted returns: [17.82634199 16.73325497]\n",
      "Using 14/264 samples.\n"
     ]
    },
    {
     "data": {
      "application/vnd.jupyter.widget-view+json": {
       "model_id": "ae97485ba448453d83f2d13bd4dfb381",
       "version_major": 2,
       "version_minor": 0
      },
      "text/plain": [
       "  0%|          | 0/264 [00:00<?, ?it/s]"
      ]
     },
     "metadata": {},
     "output_type": "display_data"
    },
    {
     "name": "stdout",
     "output_type": "stream",
     "text": [
      "episode: 65  empirical returns: [19.16944421  0.        ]  predicted returns: [17.84823634 16.75543465]\n",
      "Did 5000 steps! 5000\n",
      "Did 5000 steps! 10000\n",
      "Did 5000 steps! 15000\n",
      "Did 5000 steps! 20000\n",
      "Did 5000 steps! 25000\n",
      "Did 5000 steps! 30000\n",
      "Did 5000 steps! 35000\n",
      "Did 5000 steps! 40000\n",
      "Did 5000 steps! 45000\n",
      "Did 5000 steps! 50000\n",
      "Did 5000 steps! 55000\n",
      "Did 5000 steps! 60000\n",
      "Did 5000 steps! 65000\n",
      "Did 5000 steps! 70000\n",
      "Did 5000 steps! 75000\n",
      "Did 5000 steps! 80000\n",
      "Did 5000 steps! 85000\n",
      "Did 5000 steps! 90000\n",
      "Did 5000 steps! 95000\n",
      "Did 5000 steps! 100000\n",
      "Max steps reached! 100001\n",
      "episode: 66\n",
      "Did not drop it for a long time, returning!\n",
      "\n",
      "Results:\n",
      "q0_3: 1\n",
      "q0_1: 7\n",
      "q0_03: 24\n",
      "q0_0: 24\n",
      "u1: 24\n",
      "u5: 4\n",
      "u10: 31\n",
      "u20: 66\n"
     ]
    }
   ],
   "source": [
    "num_episodes = 100\n",
    "epsilon = 0.1\n",
    "\n",
    "tau = 0.002\n",
    "env.stepTime(tau)\n",
    "\n",
    "# sampler = samplers.AdaptiveQuadratureSampler2(tolerance=0.1)\n",
    "# sampler = samplers.AdaptiveQuadratureSampler2(tolerance=0.0)\n",
    "\n",
    "samplers_tried = dict(\n",
    "    q0_3=samplers.AdaptiveQuadratureSampler2(tolerance=0.3),\n",
    "    q0_1=samplers.AdaptiveQuadratureSampler2(tolerance=0.1),\n",
    "    q0_03=samplers.AdaptiveQuadratureSampler2(tolerance=0.03),\n",
    "    q0_0=samplers.AdaptiveQuadratureSampler2(tolerance=0.0),\n",
    "    u1=samplers.UniformSampler2(1),\n",
    "    u5=samplers.UniformSampler2(5),\n",
    "    u10=samplers.UniformSampler2(10),\n",
    "    u20=samplers.UniformSampler2(20),\n",
    ")\n",
    "\n",
    "results = {}\n",
    "for name, sampler in samplers_tried.items():\n",
    "    results[name] = run_experiment(seed, env, sampler, epsilon, num_episodes, gamma=0.999)\n",
    "\n",
    "print()\n",
    "print(\"Results:\")\n",
    "for name, num_episodes in results.items():\n",
    "    print(f\"{name}: {num_episodes}\")\n",
    "\n"
   ]
  },
  {
   "cell_type": "code",
   "execution_count": 14,
   "metadata": {},
   "outputs": [
    {
     "name": "stdout",
     "output_type": "stream",
     "text": [
      "\n",
      "Results:\n",
      "q0_3: 1\n",
      "q0_1: 7\n",
      "q0_03: 24\n",
      "q0_0: 24\n",
      "u1: 24\n",
      "u5: 4\n",
      "u10: 31\n",
      "u20: 66\n"
     ]
    }
   ],
   "source": [
    "print()\n",
    "print(\"Results:\")\n",
    "for name, num_episodes in results.items():\n",
    "    print(f\"{name}: {num_episodes}\")\n"
   ]
  },
  {
   "cell_type": "code",
   "execution_count": null,
   "metadata": {},
   "outputs": [],
   "source": []
  },
  {
   "cell_type": "code",
   "execution_count": null,
   "metadata": {},
   "outputs": [],
   "source": []
  }
 ],
 "metadata": {
  "kernelspec": {
   "display_name": ".venv",
   "language": "python",
   "name": "python3"
  },
  "language_info": {
   "codemirror_mode": {
    "name": "ipython",
    "version": 3
   },
   "file_extension": ".py",
   "mimetype": "text/x-python",
   "name": "python",
   "nbconvert_exporter": "python",
   "pygments_lexer": "ipython3",
   "version": "3.11.7"
  }
 },
 "nbformat": 4,
 "nbformat_minor": 2
}
