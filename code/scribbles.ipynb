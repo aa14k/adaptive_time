{
 "cells": [
  {
   "cell_type": "markdown",
   "id": "1303e64e-8d7c-4e21-bee2-6022b6f4d782",
   "metadata": {},
   "source": [
    "# The purpose of this notebook is for experimenting with code snippets"
   ]
  },
  {
   "cell_type": "markdown",
   "id": "063b1453-ada6-4ba1-8df0-fe06ab973745",
   "metadata": {},
   "source": [
    "# Quadrature"
   ]
  },
  {
   "cell_type": "code",
   "execution_count": 160,
   "id": "ab1c2c87-e592-4d09-9211-e2d5fade7718",
   "metadata": {},
   "outputs": [],
   "source": [
    "import numpy as np\n",
    "import scipy as sc"
   ]
  },
  {
   "cell_type": "code",
   "execution_count": 173,
   "id": "251436c2-f2bb-4921-a99f-9db216d73394",
   "metadata": {},
   "outputs": [],
   "source": [
    "def trapeziod_rule(a,b):\n",
    "    return (b-a) * (function(a) + function(b)) / 2.0\n",
    "\n",
    "def integral_rule(a,b):\n",
    "    return trapeziod_rule(a,b)\n",
    "\n",
    "def function(x):\n",
    "    return x**5\n",
    "\n",
    "def adaptive_quadrature(a0, b0, tol0):\n",
    "    sums = 0.0\n",
    "    n = 1\n",
    "    a = np.zeros(100000)\n",
    "    b = np.zeros(100000)\n",
    "    tol = np.zeros(100000)\n",
    "    app = np.zeros(100000)\n",
    "    iters = 0\n",
    "    \n",
    "    a[1] = a0\n",
    "    b[1] = b0\n",
    "    tol[1] = tol0\n",
    "    app[1] = integral_rule(a0,b0)\n",
    "    \n",
    "    while n > 0:\n",
    "        iters += 1\n",
    "        c = (a[n] + b[n]) / 2\n",
    "        oldapp = app[n]\n",
    "        app[n] = integral_rule(a[n], c)\n",
    "        app[n+1] = integral_rule(c, b[n])\n",
    "        \n",
    "        if np.abs(oldapp - (app[n]+app[n+1])) < 3 * tol[n]:\n",
    "            sums = sums + app[n] + app[n+1] #success\n",
    "            n = n - 1 #done with interval\n",
    "            \n",
    "        else:    #divide into two intervals\n",
    "            b[n+1] = b[n] #setup new intervals\n",
    "            b[n] = c  #setup new intervals\n",
    "            a[n+1] = c #setup new intervals\n",
    "            tol[n] = tol[n] / 2\n",
    "            tol[n+1] = tol[n]\n",
    "            n = n + 1\n",
    "    return sums,iters\n",
    "        \n",
    "        "
   ]
  },
  {
   "cell_type": "code",
   "execution_count": 174,
   "id": "c5b90e8b-21ab-4f81-8f19-ce1397ea9d42",
   "metadata": {},
   "outputs": [
    {
     "ename": "AxisError",
     "evalue": "axis 10 is out of bounds for array of dimension 0",
     "output_type": "error",
     "traceback": [
      "\u001b[0;31m---------------------------------------------------------------------------\u001b[0m",
      "\u001b[0;31mAxisError\u001b[0m                                 Traceback (most recent call last)",
      "Cell \u001b[0;32mIn[174], line 4\u001b[0m\n\u001b[1;32m      1\u001b[0m b \u001b[38;5;241m=\u001b[39m \u001b[38;5;241m15\u001b[39m\n\u001b[1;32m      2\u001b[0m truth \u001b[38;5;241m=\u001b[39m b\u001b[38;5;241m*\u001b[39m\u001b[38;5;241m*\u001b[39m\u001b[38;5;241m5\u001b[39m\u001b[38;5;241m/\u001b[39m\u001b[38;5;241m5\u001b[39m\n\u001b[0;32m----> 4\u001b[0m quad,iters \u001b[38;5;241m=\u001b[39m \u001b[43madaptive_quadrature\u001b[49m\u001b[43m(\u001b[49m\u001b[38;5;241;43m0\u001b[39;49m\u001b[43m,\u001b[49m\u001b[43m \u001b[49m\u001b[43mb\u001b[49m\u001b[43m,\u001b[49m\u001b[43m \u001b[49m\u001b[38;5;241;43m0.00005\u001b[39;49m\u001b[43m)\u001b[49m\n\u001b[1;32m      6\u001b[0m h \u001b[38;5;241m=\u001b[39m iters\n\u001b[1;32m      7\u001b[0m x \u001b[38;5;241m=\u001b[39m np\u001b[38;5;241m.\u001b[39mlinspace(\u001b[38;5;241m0\u001b[39m, b, num\u001b[38;5;241m=\u001b[39mh)\n",
      "Cell \u001b[0;32mIn[173], line 22\u001b[0m, in \u001b[0;36madaptive_quadrature\u001b[0;34m(a0, b0, tol0)\u001b[0m\n\u001b[1;32m     20\u001b[0m b[\u001b[38;5;241m1\u001b[39m] \u001b[38;5;241m=\u001b[39m b0\n\u001b[1;32m     21\u001b[0m tol[\u001b[38;5;241m1\u001b[39m] \u001b[38;5;241m=\u001b[39m tol0\n\u001b[0;32m---> 22\u001b[0m app[\u001b[38;5;241m1\u001b[39m] \u001b[38;5;241m=\u001b[39m \u001b[43mintegral_rule\u001b[49m\u001b[43m(\u001b[49m\u001b[43ma0\u001b[49m\u001b[43m,\u001b[49m\u001b[43mb0\u001b[49m\u001b[43m)\u001b[49m\n\u001b[1;32m     24\u001b[0m \u001b[38;5;28;01mwhile\u001b[39;00m n \u001b[38;5;241m>\u001b[39m \u001b[38;5;241m0\u001b[39m:\n\u001b[1;32m     25\u001b[0m     iters \u001b[38;5;241m+\u001b[39m\u001b[38;5;241m=\u001b[39m \u001b[38;5;241m1\u001b[39m\n",
      "Cell \u001b[0;32mIn[173], line 5\u001b[0m, in \u001b[0;36mintegral_rule\u001b[0;34m(a, b)\u001b[0m\n\u001b[1;32m      4\u001b[0m \u001b[38;5;28;01mdef\u001b[39;00m \u001b[38;5;21mintegral_rule\u001b[39m(a,b):\n\u001b[0;32m----> 5\u001b[0m     \u001b[38;5;28;01mreturn\u001b[39;00m \u001b[43mtrapeziod_rule\u001b[49m\u001b[43m(\u001b[49m\u001b[43ma\u001b[49m\u001b[43m,\u001b[49m\u001b[43mb\u001b[49m\u001b[43m)\u001b[49m\n",
      "Cell \u001b[0;32mIn[173], line 2\u001b[0m, in \u001b[0;36mtrapeziod_rule\u001b[0;34m(a, b)\u001b[0m\n\u001b[1;32m      1\u001b[0m \u001b[38;5;28;01mdef\u001b[39;00m \u001b[38;5;21mtrapeziod_rule\u001b[39m(a,b):\n\u001b[0;32m----> 2\u001b[0m     \u001b[38;5;28;01mreturn\u001b[39;00m (b\u001b[38;5;241m-\u001b[39ma) \u001b[38;5;241m*\u001b[39m (\u001b[43mfunction\u001b[49m\u001b[43m(\u001b[49m\u001b[43ma\u001b[49m\u001b[43m)\u001b[49m \u001b[38;5;241m+\u001b[39m function(b)) \u001b[38;5;241m/\u001b[39m \u001b[38;5;241m2.0\u001b[39m\n",
      "Cell \u001b[0;32mIn[173], line 8\u001b[0m, in \u001b[0;36mfunction\u001b[0;34m(x)\u001b[0m\n\u001b[1;32m      7\u001b[0m \u001b[38;5;28;01mdef\u001b[39;00m \u001b[38;5;21mfunction\u001b[39m(x):\n\u001b[0;32m----> 8\u001b[0m     \u001b[38;5;28;01mreturn\u001b[39;00m \u001b[43mnp\u001b[49m\u001b[38;5;241;43m.\u001b[39;49m\u001b[43mmin\u001b[49m\u001b[43m(\u001b[49m\u001b[43mx\u001b[49m\u001b[38;5;241;43m*\u001b[39;49m\u001b[38;5;241;43m*\u001b[39;49m\u001b[38;5;241;43m5\u001b[39;49m\u001b[43m,\u001b[49m\u001b[38;5;241;43m10\u001b[39;49m\u001b[43m)\u001b[49m\n",
      "File \u001b[0;32m~/envs/adaptive-time-env/lib/python3.9/site-packages/numpy/core/fromnumeric.py:2953\u001b[0m, in \u001b[0;36mmin\u001b[0;34m(a, axis, out, keepdims, initial, where)\u001b[0m\n\u001b[1;32m   2836\u001b[0m \u001b[38;5;129m@array_function_dispatch\u001b[39m(_min_dispatcher)\n\u001b[1;32m   2837\u001b[0m \u001b[38;5;28;01mdef\u001b[39;00m \u001b[38;5;21mmin\u001b[39m(a, axis\u001b[38;5;241m=\u001b[39m\u001b[38;5;28;01mNone\u001b[39;00m, out\u001b[38;5;241m=\u001b[39m\u001b[38;5;28;01mNone\u001b[39;00m, keepdims\u001b[38;5;241m=\u001b[39mnp\u001b[38;5;241m.\u001b[39m_NoValue, initial\u001b[38;5;241m=\u001b[39mnp\u001b[38;5;241m.\u001b[39m_NoValue,\n\u001b[1;32m   2838\u001b[0m         where\u001b[38;5;241m=\u001b[39mnp\u001b[38;5;241m.\u001b[39m_NoValue):\n\u001b[1;32m   2839\u001b[0m \u001b[38;5;250m    \u001b[39m\u001b[38;5;124;03m\"\"\"\u001b[39;00m\n\u001b[1;32m   2840\u001b[0m \u001b[38;5;124;03m    Return the minimum of an array or minimum along an axis.\u001b[39;00m\n\u001b[1;32m   2841\u001b[0m \n\u001b[0;32m   (...)\u001b[0m\n\u001b[1;32m   2951\u001b[0m \u001b[38;5;124;03m    6\u001b[39;00m\n\u001b[1;32m   2952\u001b[0m \u001b[38;5;124;03m    \"\"\"\u001b[39;00m\n\u001b[0;32m-> 2953\u001b[0m     \u001b[38;5;28;01mreturn\u001b[39;00m \u001b[43m_wrapreduction\u001b[49m\u001b[43m(\u001b[49m\u001b[43ma\u001b[49m\u001b[43m,\u001b[49m\u001b[43m \u001b[49m\u001b[43mnp\u001b[49m\u001b[38;5;241;43m.\u001b[39;49m\u001b[43mminimum\u001b[49m\u001b[43m,\u001b[49m\u001b[43m \u001b[49m\u001b[38;5;124;43m'\u001b[39;49m\u001b[38;5;124;43mmin\u001b[39;49m\u001b[38;5;124;43m'\u001b[39;49m\u001b[43m,\u001b[49m\u001b[43m \u001b[49m\u001b[43maxis\u001b[49m\u001b[43m,\u001b[49m\u001b[43m \u001b[49m\u001b[38;5;28;43;01mNone\u001b[39;49;00m\u001b[43m,\u001b[49m\u001b[43m \u001b[49m\u001b[43mout\u001b[49m\u001b[43m,\u001b[49m\n\u001b[1;32m   2954\u001b[0m \u001b[43m                          \u001b[49m\u001b[43mkeepdims\u001b[49m\u001b[38;5;241;43m=\u001b[39;49m\u001b[43mkeepdims\u001b[49m\u001b[43m,\u001b[49m\u001b[43m \u001b[49m\u001b[43minitial\u001b[49m\u001b[38;5;241;43m=\u001b[39;49m\u001b[43minitial\u001b[49m\u001b[43m,\u001b[49m\u001b[43m \u001b[49m\u001b[43mwhere\u001b[49m\u001b[38;5;241;43m=\u001b[39;49m\u001b[43mwhere\u001b[49m\u001b[43m)\u001b[49m\n",
      "File \u001b[0;32m~/envs/adaptive-time-env/lib/python3.9/site-packages/numpy/core/fromnumeric.py:88\u001b[0m, in \u001b[0;36m_wrapreduction\u001b[0;34m(obj, ufunc, method, axis, dtype, out, **kwargs)\u001b[0m\n\u001b[1;32m     85\u001b[0m         \u001b[38;5;28;01melse\u001b[39;00m:\n\u001b[1;32m     86\u001b[0m             \u001b[38;5;28;01mreturn\u001b[39;00m reduction(axis\u001b[38;5;241m=\u001b[39maxis, out\u001b[38;5;241m=\u001b[39mout, \u001b[38;5;241m*\u001b[39m\u001b[38;5;241m*\u001b[39mpasskwargs)\n\u001b[0;32m---> 88\u001b[0m \u001b[38;5;28;01mreturn\u001b[39;00m \u001b[43mufunc\u001b[49m\u001b[38;5;241;43m.\u001b[39;49m\u001b[43mreduce\u001b[49m\u001b[43m(\u001b[49m\u001b[43mobj\u001b[49m\u001b[43m,\u001b[49m\u001b[43m \u001b[49m\u001b[43maxis\u001b[49m\u001b[43m,\u001b[49m\u001b[43m \u001b[49m\u001b[43mdtype\u001b[49m\u001b[43m,\u001b[49m\u001b[43m \u001b[49m\u001b[43mout\u001b[49m\u001b[43m,\u001b[49m\u001b[43m \u001b[49m\u001b[38;5;241;43m*\u001b[39;49m\u001b[38;5;241;43m*\u001b[39;49m\u001b[43mpasskwargs\u001b[49m\u001b[43m)\u001b[49m\n",
      "\u001b[0;31mAxisError\u001b[0m: axis 10 is out of bounds for array of dimension 0"
     ]
    }
   ],
   "source": [
    "b = 15\n",
    "truth = b**5/5\n",
    "\n",
    "quad,iters = adaptive_quadrature(0, b, 0.00005)\n",
    "\n",
    "h = iters\n",
    "x = np.linspace(0, b, num=h)\n",
    "y = function(x)\n",
    "trap = np.trapz(y,x)"
   ]
  },
  {
   "cell_type": "code",
   "execution_count": 172,
   "id": "e47a610c-d7d2-49b5-a223-6845a99d94d6",
   "metadata": {},
   "outputs": [
    {
     "name": "stdout",
     "output_type": "stream",
     "text": [
      "151738.20744045908\n",
      "3.5363336792215705e-05\n",
      "0\n"
     ]
    }
   ],
   "source": [
    "print(np.abs(truth - quad))\n",
    "print(np.abs(truth - trap))\n",
    "\n",
    "print(iters - h)"
   ]
  },
  {
   "cell_type": "code",
   "execution_count": 168,
   "id": "fd80460b-0e1b-450d-a201-3180938beb85",
   "metadata": {},
   "outputs": [
    {
     "data": {
      "text/plain": [
       "84605"
      ]
     },
     "execution_count": 168,
     "metadata": {},
     "output_type": "execute_result"
    }
   ],
   "source": [
    "h"
   ]
  },
  {
   "cell_type": "code",
   "execution_count": 169,
   "id": "312cfe86-336d-4630-998f-04f042df7f71",
   "metadata": {},
   "outputs": [
    {
     "data": {
      "text/plain": [
       "84605"
      ]
     },
     "execution_count": 169,
     "metadata": {},
     "output_type": "execute_result"
    }
   ],
   "source": [
    "iters"
   ]
  },
  {
   "cell_type": "code",
   "execution_count": null,
   "id": "1a0269dd-6bda-475d-b06c-4b4b3d1359fe",
   "metadata": {},
   "outputs": [],
   "source": []
  }
 ],
 "metadata": {
  "kernelspec": {
   "display_name": "Python 3 (ipykernel)",
   "language": "python",
   "name": "python3"
  },
  "language_info": {
   "codemirror_mode": {
    "name": "ipython",
    "version": 3
   },
   "file_extension": ".py",
   "mimetype": "text/x-python",
   "name": "python",
   "nbconvert_exporter": "python",
   "pygments_lexer": "ipython3",
   "version": "3.9.1"
  }
 },
 "nbformat": 4,
 "nbformat_minor": 5
}
